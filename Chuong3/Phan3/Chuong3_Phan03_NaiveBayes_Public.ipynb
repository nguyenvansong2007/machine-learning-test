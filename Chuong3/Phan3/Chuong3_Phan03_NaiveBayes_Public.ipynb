{
 "cells": [
  {
   "cell_type": "markdown",
   "metadata": {},
   "source": [
    "<center>\n",
    "    <h2> CHƯƠNG 3 - PHẦN 03: NAIVE BAYES VÀ BÀI TOÁN NLP</h2>\n",
    "</center>\n",
    "\n",
    "---\n",
    "**NỘI DUNG BÀI HỌC:**\n",
    "1. NLP và bài toán phân lớp văn bản\n",
    "2. Thuật toán Naïve bayes\n",
    "3. Phân loại comment trên twitter\n",
    "4. Bài tập Thực hành\n",
    "---\n",
    "Copyright @dangvannam - FIT.HUMG @2024"
   ]
  },
  {
   "cell_type": "markdown",
   "metadata": {},
   "source": [
    "## 1. NLP và bài toán phân lớp văn bản\n",
    "---\n",
    "* Xử lý ngôn ngữ tự nhiên – NLP (Natural Language Processing) là một trong những lĩnh vực quan trọng của trí tuệ nhân tạo. Rất nhiều ứng dụng của NLP đã, đang và ngày càng có ảnh hưởng sâu rộng tới mọi mặt của đời sống con người\n",
    "* NLP là một lĩnh vực khoa học máy tính, kỹ thuật thông tin và trí tuệ nhân tạo tập trung vào nghiên cứu các tương tác về mặt ngôn ngữ giữa máy tính và con người, cụ thể hơn là làm thế nào để lập trình cho máy tính xử lý và phân tích một lượng lớn dữ liệu ngôn ngữ tự nhiên.\n",
    "* Một số ứng dụng quan trọng của NLP:\n",
    "    1. Các hệ thống máy dịch; \n",
    "    2. Ứng dụng trong xử lý văn bản và ngôn ngữ; \n",
    "    3. Ứng dụng trong tóm tắt và phân loại văn bản, \n",
    "    4. Hệ thống chatbot; trợ lý ảo.\n",
    "    5. Tổng đài tự động (ACC)…. \n",
    "* Trong các ứng dụng của NLP, bài toán phân lớp văn bản là một trong những bài toán quan trọng và kinh điển nhất. \n",
    "* Mục tiêu của một hệ thống phân lớp văn bản là nó có thể tự động phân lớp một văn bản cho trước, để xác định xem văn bản đó thuộc lớp nào. \n",
    "* Các ứng dụng của phân lớp văn bản rất đa dạng như: Hiểu được ý nghĩa, đánh giá, bình luận của người dùng; Lọc email rác; Phân tích cảm xúc; Phân lớp tin tức các bài báo điện tử…\n"
   ]
  },
  {
   "cell_type": "markdown",
   "metadata": {},
   "source": [
    "## 2.THUẬT TOÁN NAIVE BAYES\n",
    "---\n",
    "* Naive Bayes Classifiers (NBC)  là một trong những thuật toán tiêu biểu cho bài toán phân lớp dựa trên lý thuyết xác suất áp dụng định lý Bayes. \n",
    "\n",
    "* Định lý Bayes cho phép chúng ta có thể tính toán một xác suất chưa biết dựa vào các xác suất có điều kiện khác. Với công thức tổng quát tính xác suất của biến cố A với điều kiện biến cố Bk xảy ra trước (hay được gọi là xác suất hậu nghiệm):\n",
    "\n",
    "<img src='pic/naivebayes.png'>\n",
    "\n",
    "Trong công thức Naïve Bayes, Giả thiết các chiều dữ liệu là độc lập với nhau\n",
    "\n",
    "Có 3 loại phân bố xác suất phổ biến là: \n",
    "1. Gausian naïve bayes: sử dụng chủ yếu trong loại dữ liệu mà các thành phần là các biến liên tục. Với mỗi chiều dữ liệu I và một nhãn c, xi tuân theo một phân phối chuẩn có kỳ vọng  μ và phương sai σ\n",
    "\n",
    "2. multinomial naïve bayes: Mô hình này được sử dụng chủ yếu bài toán phân loại văn bản và vector đặc trưng được xây dựng dựa trên ý tưởng Bag of Words (BoW)!\n",
    "\n",
    "3. Bernoulli naïve bayes: Mô hình này được áp dụng cho các loại dữ liệu mà mỗi thành phần là một giá trị nhị phân (0|1).\n",
    "\n",
    "<img src='Pic/type.jpg' width='600px'>\n"
   ]
  },
  {
   "cell_type": "code",
   "execution_count": null,
   "metadata": {},
   "outputs": [],
   "source": []
  },
  {
   "cell_type": "markdown",
   "metadata": {
    "colab_type": "text",
    "id": "Y2OUp3hR29W9"
   },
   "source": [
    "## 3. Phân loại Comment độc (TOXIC)  - không độc (NON TOXIC) sử dụng thuật toán Naive Bayes\n",
    "\n",
    "---\n",
    "Xử lý ngôn ngữ tự nhiên (natural language processing - NLP) là một nhánh của trí tuệ nhân tạo tập trung vào các ứng dụng trên ngôn ngữ của con người. Trong trí tuệ nhân tạo thì xử lý ngôn ngữ tự nhiên là một trong những phần khó nhất vì nó liên quan đến việc phải hiểu ý nghĩa ngôn ngữ-công cụ hoàn hảo nhất của tư duy và giao tiếp. (wikipedia)\n",
    "\n",
    "<img src='Pic/Picture1.jpg'>\n",
    "\n",
    "Tập dữ liệu bao gồm 56700 comment với 2 thuộc tính (class, tweet),\n",
    "\n",
    "\n",
    "1.   Class cho biết comment này thuộc lớp nào:\n",
    "    *   0 : Không độc - Non Toxic\n",
    "    *   1 : Độc - Toxic \n",
    "2. Tweet tập hợp các commnet, dữ liệu này chưa được xử lý.\n",
    "\n",
    "\n",
    "**CÁC VẤN ĐỀ GIẢI QUYẾT TRONG PROJECT:**\n",
    "* Nghiên cứu các phương pháp tiền xử lý dữ liệu văn bản\n",
    "* Nghiên cứu các phương pháp trích chọn đặc trưng của dữ liệu văn bản\n",
    "* Nghiên cứu sử dụng các thuật toán học máy phân lớp văn bản (Toxic - Non Toxic)\n",
    "\n",
    "<img src='Pic/Picture2.png'>"
   ]
  },
  {
   "cell_type": "markdown",
   "metadata": {
    "colab_type": "text",
    "id": "lKK4HIas7F4w"
   },
   "source": [
    "### 3.1. TẢI TẬP DỮ LIỆU DATA_NLP VÀ QUAN SÁT TẬP DỮ LIỆU\n",
    "---\n"
   ]
  },
  {
   "cell_type": "code",
   "execution_count": 1,
   "metadata": {},
   "outputs": [],
   "source": [
    "#Gọi các thư viện:\n",
    "import pandas as pd\n",
    "import numpy as np\n",
    "import matplotlib.pyplot as plt\n",
    "#-----------------------------------------\n",
    "import warnings\n",
    "warnings.filterwarnings('ignore')"
   ]
  },
  {
   "cell_type": "code",
   "execution_count": 2,
   "metadata": {
    "colab": {
     "base_uri": "https://localhost:8080/",
     "height": 202
    },
    "colab_type": "code",
    "id": "KUwc65m76cUI",
    "outputId": "0bc5bbbe-7096-4b12-f992-abd2e8db6289"
   },
   "outputs": [
    {
     "name": "stdout",
     "output_type": "stream",
     "text": [
      "<class 'pandas.core.frame.DataFrame'>\n",
      "RangeIndex: 56700 entries, 0 to 56699\n",
      "Data columns (total 2 columns):\n",
      " #   Column  Non-Null Count  Dtype \n",
      "---  ------  --------------  ----- \n",
      " 0   class   56700 non-null  int64 \n",
      " 1   tweet   56700 non-null  object\n",
      "dtypes: int64(1), object(1)\n",
      "memory usage: 886.1+ KB\n"
     ]
    }
   ],
   "source": [
    "#Đọc file dữ liệu Data_NLP.csv vào biến data\n",
    "data = pd.read_csv('Data/Data_NLP.csv')\n",
    "data.info()"
   ]
  },
  {
   "cell_type": "code",
   "execution_count": 3,
   "metadata": {},
   "outputs": [
    {
     "data": {
      "text/html": [
       "<div>\n",
       "<style scoped>\n",
       "    .dataframe tbody tr th:only-of-type {\n",
       "        vertical-align: middle;\n",
       "    }\n",
       "\n",
       "    .dataframe tbody tr th {\n",
       "        vertical-align: top;\n",
       "    }\n",
       "\n",
       "    .dataframe thead th {\n",
       "        text-align: right;\n",
       "    }\n",
       "</style>\n",
       "<table border=\"1\" class=\"dataframe\">\n",
       "  <thead>\n",
       "    <tr style=\"text-align: right;\">\n",
       "      <th></th>\n",
       "      <th>class</th>\n",
       "      <th>tweet</th>\n",
       "    </tr>\n",
       "  </thead>\n",
       "  <tbody>\n",
       "    <tr>\n",
       "      <th>0</th>\n",
       "      <td>0</td>\n",
       "      <td>!!! RT @mayasolovely: As a woman you shouldn't...</td>\n",
       "    </tr>\n",
       "    <tr>\n",
       "      <th>1</th>\n",
       "      <td>1</td>\n",
       "      <td>!!!!! RT @mleew17: boy dats cold...tyga dwn ba...</td>\n",
       "    </tr>\n",
       "    <tr>\n",
       "      <th>2</th>\n",
       "      <td>1</td>\n",
       "      <td>!!!!!!! RT @UrKindOfBrand Dawg!!!! RT @80sbaby...</td>\n",
       "    </tr>\n",
       "    <tr>\n",
       "      <th>3</th>\n",
       "      <td>1</td>\n",
       "      <td>!!!!!!!!! RT @C_G_Anderson: @viva_based she lo...</td>\n",
       "    </tr>\n",
       "    <tr>\n",
       "      <th>4</th>\n",
       "      <td>1</td>\n",
       "      <td>!!!!!!!!!!!!! RT @ShenikaRoberts: The shit you...</td>\n",
       "    </tr>\n",
       "  </tbody>\n",
       "</table>\n",
       "</div>"
      ],
      "text/plain": [
       "   class                                              tweet\n",
       "0      0  !!! RT @mayasolovely: As a woman you shouldn't...\n",
       "1      1  !!!!! RT @mleew17: boy dats cold...tyga dwn ba...\n",
       "2      1  !!!!!!! RT @UrKindOfBrand Dawg!!!! RT @80sbaby...\n",
       "3      1  !!!!!!!!! RT @C_G_Anderson: @viva_based she lo...\n",
       "4      1  !!!!!!!!!!!!! RT @ShenikaRoberts: The shit you..."
      ]
     },
     "execution_count": 3,
     "metadata": {},
     "output_type": "execute_result"
    }
   ],
   "source": [
    "#Hiển thị 5 dòng đầu tiên\n",
    "data.head()"
   ]
  },
  {
   "cell_type": "code",
   "execution_count": 4,
   "metadata": {
    "colab": {
     "base_uri": "https://localhost:8080/",
     "height": 343
    },
    "colab_type": "code",
    "id": "fDT8NVvmiiLC",
    "outputId": "a1008912-b77d-4d22-c885-aac8ab35cbfc"
   },
   "outputs": [
    {
     "data": {
      "text/html": [
       "<div>\n",
       "<style scoped>\n",
       "    .dataframe tbody tr th:only-of-type {\n",
       "        vertical-align: middle;\n",
       "    }\n",
       "\n",
       "    .dataframe tbody tr th {\n",
       "        vertical-align: top;\n",
       "    }\n",
       "\n",
       "    .dataframe thead th {\n",
       "        text-align: right;\n",
       "    }\n",
       "</style>\n",
       "<table border=\"1\" class=\"dataframe\">\n",
       "  <thead>\n",
       "    <tr style=\"text-align: right;\">\n",
       "      <th></th>\n",
       "      <th>class</th>\n",
       "      <th>tweet</th>\n",
       "    </tr>\n",
       "  </thead>\n",
       "  <tbody>\n",
       "    <tr>\n",
       "      <th>56695</th>\n",
       "      <td>1</td>\n",
       "      <td>i couldn't end #2016 without mentioning #trump...</td>\n",
       "    </tr>\n",
       "    <tr>\n",
       "      <th>56696</th>\n",
       "      <td>0</td>\n",
       "      <td>#chateaubriand #stovells absolutely lovely #fo...</td>\n",
       "    </tr>\n",
       "    <tr>\n",
       "      <th>56697</th>\n",
       "      <td>0</td>\n",
       "      <td>@user #frarou woohoo! #euro2016 kicks off..!</td>\n",
       "    </tr>\n",
       "    <tr>\n",
       "      <th>56698</th>\n",
       "      <td>0</td>\n",
       "      <td>and here i thought @user  and i were having a ...</td>\n",
       "    </tr>\n",
       "    <tr>\n",
       "      <th>56699</th>\n",
       "      <td>0</td>\n",
       "      <td>happy tuesday!! feeling fantastic today. looki...</td>\n",
       "    </tr>\n",
       "  </tbody>\n",
       "</table>\n",
       "</div>"
      ],
      "text/plain": [
       "       class                                              tweet\n",
       "56695      1  i couldn't end #2016 without mentioning #trump...\n",
       "56696      0  #chateaubriand #stovells absolutely lovely #fo...\n",
       "56697      0     @user #frarou woohoo! #euro2016 kicks off..!  \n",
       "56698      0  and here i thought @user  and i were having a ...\n",
       "56699      0  happy tuesday!! feeling fantastic today. looki..."
      ]
     },
     "execution_count": 4,
     "metadata": {},
     "output_type": "execute_result"
    }
   ],
   "source": [
    "#Hiển thị 5 dòng cuối cùng\n",
    "data.tail()"
   ]
  },
  {
   "cell_type": "code",
   "execution_count": 5,
   "metadata": {
    "colab": {
     "base_uri": "https://localhost:8080/",
     "height": 50
    },
    "colab_type": "code",
    "id": "GWEMPKiQiqxY",
    "outputId": "2f555f53-9d68-46fe-ac78-a23669391431"
   },
   "outputs": [
    {
     "name": "stdout",
     "output_type": "stream",
     "text": [
      "[[\"@user 'an unappetizing scam' :-) | women, we need to throw off the  shackles of #salad | #food #foodie |â\\x80¦ \"]]\n"
     ]
    }
   ],
   "source": [
    "#Hiển thị nội dung một comment bất kỳ\n",
    "print(data.loc[[56600],['tweet']].values)"
   ]
  },
  {
   "cell_type": "markdown",
   "metadata": {},
   "source": [
    "**Kiểm tra dữ liệu thiếu, dữ liệu trùng lặp:**\n",
    "---"
   ]
  },
  {
   "cell_type": "code",
   "execution_count": 6,
   "metadata": {
    "colab": {
     "base_uri": "https://localhost:8080/",
     "height": 165
    },
    "colab_type": "code",
    "id": "9BZj5GlxhDR_",
    "outputId": "7efee8f9-9623-4078-c132-d460b67e0d41"
   },
   "outputs": [
    {
     "data": {
      "text/plain": [
       "class    0\n",
       "tweet    0\n",
       "dtype: int64"
      ]
     },
     "execution_count": 6,
     "metadata": {},
     "output_type": "execute_result"
    }
   ],
   "source": [
    "#Kiểm tra dữ liệu missing trong tập: \n",
    "data.isnull().sum()# KHông có dữ liệu missing"
   ]
  },
  {
   "cell_type": "code",
   "execution_count": 7,
   "metadata": {},
   "outputs": [
    {
     "data": {
      "text/plain": [
       "2429"
      ]
     },
     "execution_count": 7,
     "metadata": {},
     "output_type": "execute_result"
    }
   ],
   "source": [
    "#Kiểm tra dữ liệu trùng lặp:\n",
    "data.duplicated().sum() # Trong tập dữ liệu có 2429 câu comment bị lặp lại "
   ]
  },
  {
   "cell_type": "code",
   "execution_count": 8,
   "metadata": {},
   "outputs": [
    {
     "data": {
      "text/html": [
       "<div>\n",
       "<style scoped>\n",
       "    .dataframe tbody tr th:only-of-type {\n",
       "        vertical-align: middle;\n",
       "    }\n",
       "\n",
       "    .dataframe tbody tr th {\n",
       "        vertical-align: top;\n",
       "    }\n",
       "\n",
       "    .dataframe thead th {\n",
       "        text-align: right;\n",
       "    }\n",
       "</style>\n",
       "<table border=\"1\" class=\"dataframe\">\n",
       "  <thead>\n",
       "    <tr style=\"text-align: right;\">\n",
       "      <th></th>\n",
       "      <th>class</th>\n",
       "      <th>tweet</th>\n",
       "    </tr>\n",
       "  </thead>\n",
       "  <tbody>\n",
       "    <tr>\n",
       "      <th>37332</th>\n",
       "      <td>0</td>\n",
       "      <td>#fathersday ! looking for something to do? s...</td>\n",
       "    </tr>\n",
       "    <tr>\n",
       "      <th>56547</th>\n",
       "      <td>0</td>\n",
       "      <td>#fathersday ! looking for something to do? s...</td>\n",
       "    </tr>\n",
       "    <tr>\n",
       "      <th>52183</th>\n",
       "      <td>0</td>\n",
       "      <td>#fathersday ! looking for something to do? s...</td>\n",
       "    </tr>\n",
       "    <tr>\n",
       "      <th>47075</th>\n",
       "      <td>0</td>\n",
       "      <td>#fathersday ! looking for something to do? s...</td>\n",
       "    </tr>\n",
       "    <tr>\n",
       "      <th>55171</th>\n",
       "      <td>0</td>\n",
       "      <td>#friday! we look forward to a wonderful week...</td>\n",
       "    </tr>\n",
       "    <tr>\n",
       "      <th>...</th>\n",
       "      <td>...</td>\n",
       "      <td>...</td>\n",
       "    </tr>\n",
       "    <tr>\n",
       "      <th>48366</th>\n",
       "      <td>0</td>\n",
       "      <td>ð   #tech 10 symptoms of having a paner obs...</td>\n",
       "    </tr>\n",
       "    <tr>\n",
       "      <th>50083</th>\n",
       "      <td>0</td>\n",
       "      <td>ð   #tech how bitcoin will revolutionise ga...</td>\n",
       "    </tr>\n",
       "    <tr>\n",
       "      <th>34745</th>\n",
       "      <td>0</td>\n",
       "      <td>ðquote of the day ð  #bless #thankful #o...</td>\n",
       "    </tr>\n",
       "    <tr>\n",
       "      <th>28937</th>\n",
       "      <td>0</td>\n",
       "      <td>ðquote of the day ð  #bless #thankful #o...</td>\n",
       "    </tr>\n",
       "    <tr>\n",
       "      <th>26768</th>\n",
       "      <td>0</td>\n",
       "      <td>ðquote of the day ð  #bless #thankful #o...</td>\n",
       "    </tr>\n",
       "  </tbody>\n",
       "</table>\n",
       "<p>2429 rows × 2 columns</p>\n",
       "</div>"
      ],
      "text/plain": [
       "       class                                              tweet\n",
       "37332      0    #fathersday ! looking for something to do? s...\n",
       "56547      0    #fathersday ! looking for something to do? s...\n",
       "52183      0    #fathersday ! looking for something to do? s...\n",
       "47075      0    #fathersday ! looking for something to do? s...\n",
       "55171      0    #friday! we look forward to a wonderful week...\n",
       "...      ...                                                ...\n",
       "48366      0  ð   #tech 10 symptoms of having a paner obs...\n",
       "50083      0  ð   #tech how bitcoin will revolutionise ga...\n",
       "34745      0  ðquote of the day ð  #bless #thankful #o...\n",
       "28937      0  ðquote of the day ð  #bless #thankful #o...\n",
       "26768      0  ðquote of the day ð  #bless #thankful #o...\n",
       "\n",
       "[2429 rows x 2 columns]"
      ]
     },
     "execution_count": 8,
     "metadata": {},
     "output_type": "execute_result"
    }
   ],
   "source": [
    "#Liệt kê các bản ghi trùng lặp\n",
    "data[data.duplicated()==True].sort_values(by='tweet')"
   ]
  },
  {
   "cell_type": "code",
   "execution_count": 9,
   "metadata": {},
   "outputs": [
    {
     "name": "stdout",
     "output_type": "stream",
     "text": [
      "<class 'pandas.core.frame.DataFrame'>\n",
      "Int64Index: 54271 entries, 0 to 56699\n",
      "Data columns (total 2 columns):\n",
      " #   Column  Non-Null Count  Dtype \n",
      "---  ------  --------------  ----- \n",
      " 0   class   54271 non-null  int64 \n",
      " 1   tweet   54271 non-null  object\n",
      "dtypes: int64(1), object(1)\n",
      "memory usage: 1.2+ MB\n"
     ]
    }
   ],
   "source": [
    "#Xóa các dữ liệu trùng lặp giữ lại bản ghi đầu tiên:\n",
    "data.drop_duplicates(keep='first',inplace=True)\n",
    "data.info()"
   ]
  },
  {
   "cell_type": "markdown",
   "metadata": {
    "colab_type": "text",
    "id": "UGmKfPWf8yRu"
   },
   "source": [
    "### 3.2.TIỀN XỬ LÝ DỮ LIỆU VĂN BẢN\n",
    "---\n",
    "\n",
    "Sử dụng thư viện Natural Language Tool Kit (NLTK) thực hiện xử lý các comment\n",
    "\n",
    "NLTK là một bộ công cụ dành riêng cho Natural Language Processing và được tích hợp vào Python. Nó đang ngày càng hoàn thiện và tích hợp các công cụ mới bởi hàng nghìn lập trình viên và cộng tác viên trên khắp thế giới. NLTK bao gồm những thư viện hàm, các công cụ phân tích, các corpus, wordnet, …giúp đơn giản hóa, tiết kiệm thời gian và công sức cho các lập trình viên. Python kết hợp với NLTK là bộ công cụ hữu hiệu và mạnh mẽ nhất dành cho Natural Language Processing.\n",
    "\n",
    "http://www.nltk.org/\n"
   ]
  },
  {
   "cell_type": "code",
   "execution_count": 10,
   "metadata": {
    "colab": {
     "base_uri": "https://localhost:8080/",
     "height": 151
    },
    "colab_type": "code",
    "id": "QA_5uA_K88yQ",
    "outputId": "13193c55-844c-4e1d-d0e9-5bb90b5be8ab"
   },
   "outputs": [
    {
     "name": "stdout",
     "output_type": "stream",
     "text": [
      "3.7\n"
     ]
    },
    {
     "name": "stderr",
     "output_type": "stream",
     "text": [
      "[nltk_data] Downloading package punkt to\n",
      "[nltk_data]     C:\\Users\\songn\\AppData\\Roaming\\nltk_data...\n",
      "[nltk_data]   Package punkt is already up-to-date!\n",
      "[nltk_data] Downloading package wordnet to\n",
      "[nltk_data]     C:\\Users\\songn\\AppData\\Roaming\\nltk_data...\n",
      "[nltk_data]   Package wordnet is already up-to-date!\n",
      "[nltk_data] Downloading package averaged_perceptron_tagger to\n",
      "[nltk_data]     C:\\Users\\songn\\AppData\\Roaming\\nltk_data...\n",
      "[nltk_data]   Package averaged_perceptron_tagger is already up-to-\n",
      "[nltk_data]       date!\n"
     ]
    }
   ],
   "source": [
    "#Khai báo sử dụng thư viện NLTK\n",
    "import nltk\n",
    "nltk.download('punkt')\n",
    "nltk.download('wordnet')\n",
    "nltk.download('averaged_perceptron_tagger')\n",
    "\n",
    "print(nltk.__version__)"
   ]
  },
  {
   "cell_type": "markdown",
   "metadata": {
    "colab_type": "text",
    "id": "I2f4esC0zAce"
   },
   "source": [
    "### 3.3.1) Làm sạch dữ liệu\n",
    "----\n",
    "Mục đích bước này là loại bỏ noise trong data của bạn. Đa phần noise là các thẻ HTML, JavaScript, và đương nhiên nếu cứ để noise để tiến hành xử lý sẽ dẫn đến kết quả xử lý không tốt.\n",
    "\n",
    "Thư viện re — Regular expression operations: thao tác với biểu thức chính quy\n",
    "\n",
    "https://regex101.com/"
   ]
  },
  {
   "cell_type": "code",
   "execution_count": 11,
   "metadata": {
    "colab": {},
    "colab_type": "code",
    "id": "wdZSsvTX_-K8"
   },
   "outputs": [],
   "source": [
    "#Thư viện re — Regular expression operations: thao tác với biểu thức chính quy\n",
    "import re\n",
    "\n",
    "#hàm decontracted thực hiện chuyển đổi các phần viết tắt thành câu đầy đủ\n",
    "def decontracted(st):\n",
    "    # specific\n",
    "    st = re.sub(r\"won\\'t\", \"will not\", st)\n",
    "    st = re.sub(r\"can\\'t\", \"can not\", st)\n",
    "    # general\n",
    "    st = re.sub(r\"n\\'t\", \" not\", st)\n",
    "    st = re.sub(r\"\\'re\", \" are\", st)\n",
    "    st = re.sub(r\"\\'s\", \" is\", st)\n",
    "    st = re.sub(r\"\\'d\", \" would\", st)\n",
    "    st = re.sub(r\"\\'ll\", \" will\", st)\n",
    "    st = re.sub(r\"\\'ve\", \" have\", st)\n",
    "    st = re.sub(r\"\\'m\", \" am\", st)\n",
    "    return st"
   ]
  },
  {
   "cell_type": "code",
   "execution_count": 12,
   "metadata": {},
   "outputs": [
    {
     "name": "stdout",
     "output_type": "stream",
     "text": [
      "Dữ liệu ban đầu: \n",
      " \"SORRY JB FAN &#65292;REALLY JUSTIN COME BACK\". \n",
      "That's the top comment on a Justin Timberlake video with 10 million views. \n",
      "Son of a fucking bitch! I'm looking forward this video. Have you been seen it yet. \n",
      "fanjustin@gmail.com; https://allflim.com\n",
      "-----------------------------------------------\n",
      "Dữ liệu sau khi xử lý: \n",
      " \"SORRY JB FAN &#65292;REALLY JUSTIN COME BACK\". \n",
      "That is the top comment on a Justin Timberlake video with 10 million views. \n",
      "Son of a fucking bitch! I am looking forward this video. Have you been seen it yet. \n",
      "fanjustin@gmail.com; https://allflim.com\n"
     ]
    }
   ],
   "source": [
    "#Kiểm tra decontracted:\n",
    "text=\"\"\"\"SORRY JB FAN &#65292;REALLY JUSTIN COME BACK\". \n",
    "That's the top comment on a Justin Timberlake video with 10 million views. \n",
    "Son of a fucking bitch! I'm looking forward this video. Have you been seen it yet. \n",
    "fanjustin@gmail.com; https://allflim.com\"\"\"\n",
    "\n",
    "print(\"Dữ liệu ban đầu: \\n\", text)\n",
    "print('-----------------------------------------------')\n",
    "\n",
    "text1 = decontracted(text)\n",
    "print(\"Dữ liệu sau khi xử lý: \\n\", text1)"
   ]
  },
  {
   "cell_type": "code",
   "execution_count": null,
   "metadata": {},
   "outputs": [],
   "source": []
  },
  {
   "cell_type": "code",
   "execution_count": 13,
   "metadata": {
    "colab": {},
    "colab_type": "code",
    "id": "0GoT4TzvUzP1"
   },
   "outputs": [],
   "source": [
    " #hàm clear_link thực hiện loại bỏ liên kết (link), địa chỉ email trong câu\n",
    "def clear_link(st):\n",
    "    #Remove links/email\n",
    "    word = re.sub(r'((http|https)\\:\\/\\/)?[a-zA-Z0-9\\.\\/\\?\\:@\\-_=#]+\\.([a-zA-Z]){2,6}([a-zA-Z0-9\\.\\&\\/\\?\\:@\\-_=#])*', \n",
    "                '', st, flags=re.MULTILINE)\n",
    "    word = re.sub(r'(@[^\\s]*)', \"\", word)\n",
    "    #word = re.sub('[\\W]', ' ', st)\n",
    "    return word"
   ]
  },
  {
   "cell_type": "code",
   "execution_count": 14,
   "metadata": {},
   "outputs": [
    {
     "name": "stdout",
     "output_type": "stream",
     "text": [
      "Dữ liệu ban đầu: \n",
      " \"SORRY JB FAN &#65292;REALLY JUSTIN COME BACK\". \n",
      "That's the top comment on a Justin Timberlake video with 10 million views. \n",
      "Son of a fucking bitch! I'm looking forward this video. Have you been seen it yet. \n",
      "fanjustin@gmail.com; https://allflim.com\n",
      "-----------------------------------------------\n",
      "Dữ liệu sau khi xử lý: \n",
      " \"SORRY JB FAN &#65292;REALLY JUSTIN COME BACK\". \n",
      "That's the top comment on a Justin Timberlake video with 10 million views. \n",
      "Son of a fucking bitch! I'm looking forward this video. Have you been seen it yet. \n",
      "; \n"
     ]
    }
   ],
   "source": [
    "#Kiểm tra clear_link:\n",
    "print(\"Dữ liệu ban đầu: \\n\", text)\n",
    "print('-----------------------------------------------')\n",
    "\n",
    "text1 = clear_link(text)\n",
    "print(\"Dữ liệu sau khi xử lý: \\n\", text1)"
   ]
  },
  {
   "cell_type": "code",
   "execution_count": null,
   "metadata": {},
   "outputs": [],
   "source": []
  },
  {
   "cell_type": "code",
   "execution_count": 15,
   "metadata": {
    "colab": {},
    "colab_type": "code",
    "id": "2tdlyIHJWXOJ"
   },
   "outputs": [],
   "source": [
    "#Hàm clear_punctuation thực hiện loai bỏ các dấu câu, ký tự đặc biệt trong chuỗi\n",
    "def clear_punctuation(st):\n",
    "    word = re.sub(r'[^\\w\\s]', '',st)\n",
    "    return word"
   ]
  },
  {
   "cell_type": "code",
   "execution_count": 16,
   "metadata": {},
   "outputs": [
    {
     "name": "stdout",
     "output_type": "stream",
     "text": [
      "Dữ liệu ban đầu: \n",
      " \"SORRY JB FAN &#65292;REALLY JUSTIN COME BACK\". \n",
      "That's the top comment on a Justin Timberlake video with 10 million views. \n",
      "Son of a fucking bitch! I'm looking forward this video. Have you been seen it yet. \n",
      "fanjustin@gmail.com; https://allflim.com\n",
      "-----------------------------------------------\n",
      "Dữ liệu sau khi xử lý: \n",
      " SORRY JB FAN 65292REALLY JUSTIN COME BACK \n",
      "Thats the top comment on a Justin Timberlake video with 10 million views \n",
      "Son of a fucking bitch Im looking forward this video Have you been seen it yet \n",
      "fanjustingmailcom httpsallflimcom\n"
     ]
    }
   ],
   "source": [
    "#Kiểm tra clear_punctuation:\n",
    "print(\"Dữ liệu ban đầu: \\n\", text)\n",
    "print('-----------------------------------------------')\n",
    "\n",
    "text1 = clear_punctuation(text)\n",
    "print(\"Dữ liệu sau khi xử lý: \\n\", text1)"
   ]
  },
  {
   "cell_type": "code",
   "execution_count": null,
   "metadata": {},
   "outputs": [],
   "source": []
  },
  {
   "cell_type": "code",
   "execution_count": 17,
   "metadata": {
    "colab": {},
    "colab_type": "code",
    "id": "0QqSC2daXV41"
   },
   "outputs": [],
   "source": [
    "#Hàm clear_special loại bỏ các ký tự chỉ để lại các ký tự chữ a-z, A-Z\n",
    "def clear_special(st):\n",
    "    word = re.sub('[^a-zA-Z]', ' ', st)\n",
    "    return word"
   ]
  },
  {
   "cell_type": "code",
   "execution_count": 18,
   "metadata": {},
   "outputs": [
    {
     "name": "stdout",
     "output_type": "stream",
     "text": [
      "Dữ liệu ban đầu: \n",
      " \"SORRY JB FAN &#65292;REALLY JUSTIN COME BACK\". \n",
      "That's the top comment on a Justin Timberlake video with 10 million views. \n",
      "Son of a fucking bitch! I'm looking forward this video. Have you been seen it yet. \n",
      "fanjustin@gmail.com; https://allflim.com\n",
      "-----------------------------------------------\n",
      "Dữ liệu sau khi xử lý: \n",
      "  SORRY JB FAN         REALLY JUSTIN COME BACK    That s the top comment on a Justin Timberlake video with    million views   Son of a fucking bitch  I m looking forward this video  Have you been seen it yet   fanjustin gmail com  https   allflim com\n"
     ]
    }
   ],
   "source": [
    "#Kiểm tra clear_special:\n",
    "print(\"Dữ liệu ban đầu: \\n\", text)\n",
    "print('-----------------------------------------------')\n",
    "\n",
    "text1 = clear_special(text)\n",
    "print(\"Dữ liệu sau khi xử lý: \\n\", text1)"
   ]
  },
  {
   "cell_type": "code",
   "execution_count": null,
   "metadata": {},
   "outputs": [],
   "source": []
  },
  {
   "cell_type": "code",
   "execution_count": 19,
   "metadata": {
    "colab": {},
    "colab_type": "code",
    "id": "Hp_haEeNXbn8"
   },
   "outputs": [],
   "source": [
    "#Hàm clear_noise kết hợp sử dụng các hàm ở trên để xử lý chuỗi\n",
    "def clear_noise(word):\n",
    "    word = word.lower()         # chuyển toàn bộ sang chữ thường để xử lý\n",
    "    word = decontracted(word)\n",
    "    word = clear_link(word)\n",
    "    word = clear_punctuation(word)\n",
    "    word = clear_special(word)\n",
    "    return word"
   ]
  },
  {
   "cell_type": "code",
   "execution_count": 20,
   "metadata": {
    "colab": {
     "base_uri": "https://localhost:8080/",
     "height": 50
    },
    "colab_type": "code",
    "id": "FN33R8CIDWvO",
    "outputId": "19876ac0-999e-4133-a362-7559bf474f43"
   },
   "outputs": [
    {
     "name": "stdout",
     "output_type": "stream",
     "text": [
      "Dữ liệu ban đầu: \n",
      " \"SORRY JB FAN &#65292;REALLY JUSTIN COME BACK\". \n",
      "That is the top comment on a Justin Timberlake video with 10 million views. \n",
      "Son of a fucking bitch! I'm looking forward this video. Have you been seen it yet. \n",
      "fanjustin@gmail.com; https://allflim.com\n",
      "-----------------------------------------------\n",
      "Dữ liệu sau khi làm sạch: \n",
      " sorry jb fan      really justin come back  that is the top comment on a justin timberlake video with    million views  son of a fucking bitch i am looking forward this video have you been seen it yet   \n"
     ]
    }
   ],
   "source": [
    "#Kiểm tra clear_noise:\n",
    "text=\"\"\"\"SORRY JB FAN &#65292;REALLY JUSTIN COME BACK\". \n",
    "That is the top comment on a Justin Timberlake video with 10 million views. \n",
    "Son of a fucking bitch! I'm looking forward this video. Have you been seen it yet. \n",
    "fanjustin@gmail.com; https://allflim.com\"\"\"\n",
    "\n",
    "print(\"Dữ liệu ban đầu: \\n\", text)\n",
    "print('-----------------------------------------------')\n",
    "text1 = clear_noise(text)\n",
    "print(\"Dữ liệu sau khi làm sạch: \\n\", clear_noise(text1))"
   ]
  },
  {
   "cell_type": "code",
   "execution_count": null,
   "metadata": {},
   "outputs": [],
   "source": []
  },
  {
   "cell_type": "markdown",
   "metadata": {
    "colab_type": "text",
    "id": "SDwf8ElpbloG"
   },
   "source": [
    "### 3.3.2) Loại bỏ stopword\n",
    "---\n",
    "\n",
    "StopWords là những từ xuất hiện nhiều trong ngôn ngữ tự nhiên, tuy nhiên lại không mang nhiều ý nghĩa. Ở tiếng việt StopWords là những từ như: để, này, kia... Tiếng anh là những từ như: is, that, this... Tham khảo thêm tại danh sách stopwords trong tiếng việt\n",
    "\n",
    "Có rất nhiều cách để loại bỏ StopWords nhưng có 2 cách chính là:\n",
    "\n",
    "* Dùng từ điển\n",
    "\n",
    "* Dựa theo tần suất xuất hiện của từ"
   ]
  },
  {
   "cell_type": "code",
   "execution_count": 21,
   "metadata": {
    "colab": {
     "base_uri": "https://localhost:8080/",
     "height": 50
    },
    "colab_type": "code",
    "id": "Ji4XxzOipK1a",
    "outputId": "47b305ea-f1f1-4693-b146-4766b92c29d5"
   },
   "outputs": [
    {
     "name": "stderr",
     "output_type": "stream",
     "text": [
      "[nltk_data] Downloading package stopwords to\n",
      "[nltk_data]     C:\\Users\\songn\\AppData\\Roaming\\nltk_data...\n",
      "[nltk_data]   Package stopwords is already up-to-date!\n"
     ]
    }
   ],
   "source": [
    "#stopwords là những từ xuất hiện nhiều trong văn bản, nhưng ko có ý nghĩa \n",
    "#Load danh sách Stopword trong tiếng anh\n",
    "\n",
    "nltk.download('stopwords')\n",
    "from nltk.corpus import stopwords\n",
    "stop = stopwords.words('english')"
   ]
  },
  {
   "cell_type": "code",
   "execution_count": 22,
   "metadata": {
    "colab": {
     "base_uri": "https://localhost:8080/",
     "height": 54
    },
    "colab_type": "code",
    "id": "vMavhhICna57",
    "outputId": "9c066ae6-a12e-4ccf-fd6a-af08188fcada",
    "scrolled": true
   },
   "outputs": [
    {
     "name": "stdout",
     "output_type": "stream",
     "text": [
      "Hiển thị danh sách các stopwords trong tiếng anh:\n",
      " ['i', 'me', 'my', 'myself', 'we', 'our', 'ours', 'ourselves', 'you', \"you're\", \"you've\", \"you'll\", \"you'd\", 'your', 'yours', 'yourself', 'yourselves', 'he', 'him', 'his', 'himself', 'she', \"she's\", 'her', 'hers', 'herself', 'it', \"it's\", 'its', 'itself', 'they', 'them', 'their', 'theirs', 'themselves', 'what', 'which', 'who', 'whom', 'this', 'that', \"that'll\", 'these', 'those', 'am', 'is', 'are', 'was', 'were', 'be', 'been', 'being', 'have', 'has', 'had', 'having', 'do', 'does', 'did', 'doing', 'a', 'an', 'the', 'and', 'but', 'if', 'or', 'because', 'as', 'until', 'while', 'of', 'at', 'by', 'for', 'with', 'about', 'against', 'between', 'into', 'through', 'during', 'before', 'after', 'above', 'below', 'to', 'from', 'up', 'down', 'in', 'out', 'on', 'off', 'over', 'under', 'again', 'further', 'then', 'once', 'here', 'there', 'when', 'where', 'why', 'how', 'all', 'any', 'both', 'each', 'few', 'more', 'most', 'other', 'some', 'such', 'no', 'nor', 'not', 'only', 'own', 'same', 'so', 'than', 'too', 'very', 's', 't', 'can', 'will', 'just', 'don', \"don't\", 'should', \"should've\", 'now', 'd', 'll', 'm', 'o', 're', 've', 'y', 'ain', 'aren', \"aren't\", 'couldn', \"couldn't\", 'didn', \"didn't\", 'doesn', \"doesn't\", 'hadn', \"hadn't\", 'hasn', \"hasn't\", 'haven', \"haven't\", 'isn', \"isn't\", 'ma', 'mightn', \"mightn't\", 'mustn', \"mustn't\", 'needn', \"needn't\", 'shan', \"shan't\", 'shouldn', \"shouldn't\", 'wasn', \"wasn't\", 'weren', \"weren't\", 'won', \"won't\", 'wouldn', \"wouldn't\"]\n"
     ]
    }
   ],
   "source": [
    "#Hiển thị danh sách các stopwords trong tiếng anh\n",
    "print('Hiển thị danh sách các stopwords trong tiếng anh:\\n',stop)"
   ]
  },
  {
   "cell_type": "code",
   "execution_count": 23,
   "metadata": {
    "colab": {},
    "colab_type": "code",
    "id": "427fDeFnnqMI"
   },
   "outputs": [],
   "source": [
    "#hàm clear_stopwords lọai bỏ các từ stopword trong câu\n",
    "def clear_stopwords(st):\n",
    "    word = \" \".join(st for st in st.split() if st not in stop)\n",
    "    return word"
   ]
  },
  {
   "cell_type": "code",
   "execution_count": 24,
   "metadata": {
    "colab": {
     "base_uri": "https://localhost:8080/",
     "height": 50
    },
    "colab_type": "code",
    "id": "SWJrRRWMoUCl",
    "outputId": "05e57fad-2d3c-4bf3-c919-5da320731084"
   },
   "outputs": [
    {
     "name": "stdout",
     "output_type": "stream",
     "text": [
      "Dữ liệu ban đầu: \n",
      " sorry jb fan      really justin come back  that is the top comment on a justin timberlake video with    million views  son of a fucking bitch i am looking forward this video have you been seen it yet   \n",
      "-------------------------------------\n",
      "Dữ liệu loại bỏ stopwords:\n",
      " sorry jb fan really justin come back top comment justin timberlake video million views son fucking bitch looking forward video seen yet\n"
     ]
    }
   ],
   "source": [
    "print('Dữ liệu ban đầu: \\n',text1)\n",
    "print('-------------------------------------')\n",
    "text2 = clear_stopwords(text1)\n",
    "print('Dữ liệu loại bỏ stopwords:\\n',text2)"
   ]
  },
  {
   "cell_type": "code",
   "execution_count": null,
   "metadata": {},
   "outputs": [],
   "source": []
  },
  {
   "cell_type": "markdown",
   "metadata": {
    "colab_type": "text",
    "id": "y_ue2I8nh1VH"
   },
   "source": [
    "### 3.3.3) Chuẩn hóa từ (Stemming và Lemmatization)\n",
    "---\n",
    "Trong quá trình xử lý ngôn ngữ tự nhiên, chúng ta sẽ có nhu cầu so sánh các từ (token) với nhau. Việc so sánh này tưởng chừng như đơn giản là lấy 2 chuỗi ký tự và dùng phép “==” để kiểm tra, nhưng thực tế thì không phải là như vậy. Đối với một số ngôn ngữ, tiêu biểu là tiếng Anh, mỗi từ có thể có nhiều biến thể khác nhau. Điều này làm cho việc so sánh giữa các từ là không thể mặc dù về mặc ý nghĩa cơ bản là như nhau. Ví dụ các từ “walks“, “walking“, “walked” đều là các biến thể của từ “walk” và đều mang ý nghĩa là “đi bộ”. Vậy làm sao để so sánh các từ như thế với nhau? Lemmatization và Stemming chính là 2 kỹ thuật thường được dùng cho việc này.\n",
    "\n",
    "Stemming là kỹ thuật dùng để biến đổi 1 từ về dạng gốc (được gọi là stem hoặc root form) bằng cách cực kỳ đơn giản là loại bỏ 1 số ký tự nằm ở cuối từ mà nó nghĩ rằng là biến thể của từ. Ví dụ như chúng ta thấy các từ như walked, walking, walks chỉ khác nhau là ở những ký tự cuối cùng, bằng cách bỏ đi các hậu tố –ed, –ing hoặc –s, chúng ta sẽ được từ nguyên gốc là walk. Người ta gọi các bộ xử lý stemming là Stemmer.\n",
    "\n",
    "Bởi vì nguyên tắc hoạt động của stemmer rất là đơn giản như vậy cho nên tốc độ xử lý của nó rất là nhanh, và kết quả stem đôi khi không được như chúng ta mong muốn. Chẳng hạn như từ goes sẽ được stem thành từ goe (bỏ chữ s cuối từ) trong khi đó stem của từ go vẫn là go, kết quả là 2 từ “goes” và “go” sau khi được stem thì vẫn không giống nhau. Một nhược điểm khác là nếu các từ dạng bất quy tắt như went hay spoke thì stemmer sẽ không thể đưa các từ này về dạng gốc là go hay speak.\n",
    "\n",
    "Tuy có các nhược điểm như trên nhưng trong thực tế Stemming vẫn được sử dụng khá phổ biến trong NLP vì nó có tốc độ xử lý nhanh và kết quả cuối cùng nhìn chung không hề tệ khi so với Lemmatization."
   ]
  },
  {
   "cell_type": "code",
   "execution_count": 25,
   "metadata": {
    "colab": {},
    "colab_type": "code",
    "id": "4a7qdK1KjHpA"
   },
   "outputs": [],
   "source": [
    "from nltk.stem import WordNetLemmatizer\n",
    "wn = WordNetLemmatizer()\n",
    "import string\n",
    "my_sw = ['rt', 'ht', 'fb', 'amp', 'gt']\n",
    "\n",
    "def black_txt(token):\n",
    "    if token == 'u':\n",
    "        token = 'you'\n",
    "    return  token not in stop and token not in list(string.punctuation) and token not in my_sw\n",
    "\n",
    "\n",
    "def fun_stemlem(word):\n",
    "    list_word_clean = []\n",
    "    for w1 in word.split(\" \"):\n",
    "        if  black_txt(w1.lower()):\n",
    "            word_lemma =  wn.lemmatize(w1,  pos=\"v\")\n",
    "            list_word_clean.append(word_lemma)\n",
    "\n",
    "  #Cleaning, lowering and remove whitespaces\n",
    "    word = \" \".join(list_word_clean)\n",
    "    return word "
   ]
  },
  {
   "cell_type": "code",
   "execution_count": 26,
   "metadata": {},
   "outputs": [],
   "source": [
    "# nltk.download('wordnet')"
   ]
  },
  {
   "cell_type": "code",
   "execution_count": 27,
   "metadata": {},
   "outputs": [],
   "source": [
    "# nltk.download('omw-1.4')"
   ]
  },
  {
   "cell_type": "code",
   "execution_count": 28,
   "metadata": {},
   "outputs": [
    {
     "name": "stdout",
     "output_type": "stream",
     "text": [
      "Dữ liệu ban đầu: \n",
      " sorry jb fan really justin come back top comment justin timberlake video million views son fucking bitch looking forward video seen yet\n",
      "-------------------------------------\n",
      "Dữ liệu sau khi đã chuẩn hóa:\n",
      " sorry jb fan really justin come back top comment justin timberlake video million view son fuck bitch look forward video see yet\n"
     ]
    }
   ],
   "source": [
    "print('Dữ liệu ban đầu: \\n',text2)\n",
    "print('-------------------------------------')\n",
    "text3 = fun_stemlem(text2)\n",
    "print('Dữ liệu sau khi đã chuẩn hóa:\\n',text3)"
   ]
  },
  {
   "cell_type": "code",
   "execution_count": 29,
   "metadata": {
    "colab": {
     "base_uri": "https://localhost:8080/",
     "height": 54
    },
    "colab_type": "code",
    "id": "f3spT140lfz-",
    "outputId": "843bef10-30b0-4f66-a4fa-3cd1c3d1bab8"
   },
   "outputs": [
    {
     "data": {
      "text/plain": [
       "'&amp; my sister is really going to fucken deny it but yet sprays the room with febreeze , like really bitch why are you going to deny it'"
      ]
     },
     "execution_count": 29,
     "metadata": {},
     "output_type": "execute_result"
    }
   ],
   "source": [
    "#Ví dụ một comment trong data:\n",
    "st1 = data.iloc[2000]['tweet']\n",
    "st1"
   ]
  },
  {
   "cell_type": "code",
   "execution_count": 30,
   "metadata": {
    "colab": {
     "base_uri": "https://localhost:8080/",
     "height": 54
    },
    "colab_type": "code",
    "id": "ozS-E8nojxD2",
    "outputId": "433896df-e455-4519-d4b8-2e04d624635a"
   },
   "outputs": [
    {
     "name": "stdout",
     "output_type": "stream",
     "text": [
      "1.----------Chuỗi ban đầu------------------------:\n",
      "  &amp; my sister is really going to fucken deny it but yet sprays the room with febreeze , like really bitch why are you going to deny it\n",
      "\n",
      " 2.----------Chuỗi loại bỏ nhiễu:-----------------:\n",
      " amp my sister is really going to fucken deny it but yet sprays the room with febreeze  like really bitch why are you going to deny it\n",
      "\n",
      " 3.----------Chuỗi loại bỏ stopwords--------------:\n",
      " amp sister really going fucken deny yet sprays room febreeze like really bitch going deny\n",
      "\n",
      " 4.--Chuỗi loại xử lý Stemming và Lemmatization---:\n",
      " sister really go fucken deny yet spray room febreeze like really bitch go deny\n"
     ]
    }
   ],
   "source": [
    "print('1.----------Chuỗi ban đầu------------------------:\\n ', st1)\n",
    "sta = clear_noise(st1)\n",
    "print('\\n 2.----------Chuỗi loại bỏ nhiễu:-----------------:\\n',sta)\n",
    "stb = clear_stopwords(sta)\n",
    "print('\\n 3.----------Chuỗi loại bỏ stopwords--------------:\\n',stb)\n",
    "stc = fun_stemlem(stb)\n",
    "print('\\n 4.--Chuỗi loại xử lý Stemming và Lemmatization---:\\n',stc)   "
   ]
  },
  {
   "cell_type": "markdown",
   "metadata": {
    "colab_type": "text",
    "id": "0emrSyAVnRXL"
   },
   "source": [
    "### 3.3.4) Tiền Xử lý toàn bộ tập dữ liệu với các hàm đã xây dựng\n",
    "---\n"
   ]
  },
  {
   "cell_type": "code",
   "execution_count": 31,
   "metadata": {
    "colab": {},
    "colab_type": "code",
    "id": "suNXjcecnYuY"
   },
   "outputs": [],
   "source": [
    "#Xây dựng hàm prepare_data: để thực hiện tiền xử lý dữ liệu\n",
    "def prepare_data(word):\n",
    "    word = clear_noise(word)        #Loại bỏ nhiễu trong các comment\n",
    "    word = clear_stopwords(word)    #Loại bỏ stopword trong các comment\n",
    "    word = fun_stemlem(word)        #Chuẩn hóa comment\n",
    "    return word"
   ]
  },
  {
   "cell_type": "code",
   "execution_count": 32,
   "metadata": {
    "colab": {
     "base_uri": "https://localhost:8080/",
     "height": 306
    },
    "colab_type": "code",
    "id": "V5GNdQJXnw9u",
    "outputId": "5b963ed3-3d6d-4b97-8a7b-3011b8b3f3b0"
   },
   "outputs": [
    {
     "name": "stdout",
     "output_type": "stream",
     "text": [
      "6095 \n",
      " a.Dữ liệu gốc          : @hidalgoparadise lol its #hoe bitch ass \n",
      " b.Dữ liệu sau chuẩn hóa: lol hoe bitch ass\n",
      "************\n",
      "6096 \n",
      " a.Dữ liệu gốc          : @hiyathanda_alps \"that hoe over there\" \n",
      " b.Dữ liệu sau chuẩn hóa: hoe\n",
      "************\n",
      "6097 \n",
      " a.Dữ liệu gốc          : @hmianturner boooooi that's TMI for these hoes \n",
      " b.Dữ liệu sau chuẩn hóa: boooooi tmi hoe\n",
      "************\n",
      "6098 \n",
      " a.Dữ liệu gốc          : @hoes &#9829; \n",
      " b.Dữ liệu sau chuẩn hóa: \n",
      "************\n",
      "6099 \n",
      " a.Dữ liệu gốc          : @holmes0786 only if its yellow cake &amp; chocolate frosting \n",
      " b.Dữ liệu sau chuẩn hóa: yellow cake chocolate frost\n",
      "************\n"
     ]
    }
   ],
   "source": [
    "#Hiển thị danh sách các từ trước và sau khi tiền xử lý để test\n",
    "for idx in data[6095:6100].index:\n",
    "    print(idx, \n",
    "        '\\n a.Dữ liệu gốc          :', data.iloc[idx]['tweet'],\n",
    "        '\\n b.Dữ liệu sau chuẩn hóa:',prepare_data(data.iloc[idx]['tweet']))\n",
    "    print(\"************\")"
   ]
  },
  {
   "cell_type": "code",
   "execution_count": 33,
   "metadata": {
    "colab": {},
    "colab_type": "code",
    "id": "d8fCL6WuCRKE"
   },
   "outputs": [],
   "source": [
    "#Tạo dataframe data_new, bổ sung thêm field: tweet_ok là comment đã được tiền xử lý dữ liệu tương ứng\n",
    "data_new = data.copy()\n",
    "data_new['tweet_ok'] = data['tweet'].apply(lambda x: prepare_data(x))"
   ]
  },
  {
   "cell_type": "code",
   "execution_count": 34,
   "metadata": {
    "colab": {
     "base_uri": "https://localhost:8080/",
     "height": 343
    },
    "colab_type": "code",
    "id": "NMM8hRwyCWjd",
    "outputId": "e58f59fa-31ca-4c14-e197-c644518227ed"
   },
   "outputs": [
    {
     "data": {
      "text/html": [
       "<div>\n",
       "<style scoped>\n",
       "    .dataframe tbody tr th:only-of-type {\n",
       "        vertical-align: middle;\n",
       "    }\n",
       "\n",
       "    .dataframe tbody tr th {\n",
       "        vertical-align: top;\n",
       "    }\n",
       "\n",
       "    .dataframe thead th {\n",
       "        text-align: right;\n",
       "    }\n",
       "</style>\n",
       "<table border=\"1\" class=\"dataframe\">\n",
       "  <thead>\n",
       "    <tr style=\"text-align: right;\">\n",
       "      <th></th>\n",
       "      <th>class</th>\n",
       "      <th>tweet</th>\n",
       "      <th>tweet_ok</th>\n",
       "    </tr>\n",
       "  </thead>\n",
       "  <tbody>\n",
       "    <tr>\n",
       "      <th>0</th>\n",
       "      <td>0</td>\n",
       "      <td>!!! RT @mayasolovely: As a woman you shouldn't...</td>\n",
       "      <td>woman complain clean house man always take trash</td>\n",
       "    </tr>\n",
       "    <tr>\n",
       "      <th>1</th>\n",
       "      <td>1</td>\n",
       "      <td>!!!!! RT @mleew17: boy dats cold...tyga dwn ba...</td>\n",
       "      <td>boy dats dwn bad cuffin dat hoe st place</td>\n",
       "    </tr>\n",
       "    <tr>\n",
       "      <th>2</th>\n",
       "      <td>1</td>\n",
       "      <td>!!!!!!! RT @UrKindOfBrand Dawg!!!! RT @80sbaby...</td>\n",
       "      <td>dawg ever fuck bitch start cry confuse shit</td>\n",
       "    </tr>\n",
       "    <tr>\n",
       "      <th>3</th>\n",
       "      <td>1</td>\n",
       "      <td>!!!!!!!!! RT @C_G_Anderson: @viva_based she lo...</td>\n",
       "      <td>look like tranny</td>\n",
       "    </tr>\n",
       "    <tr>\n",
       "      <th>4</th>\n",
       "      <td>1</td>\n",
       "      <td>!!!!!!!!!!!!! RT @ShenikaRoberts: The shit you...</td>\n",
       "      <td>shit hear might true might faker bitch tell ya</td>\n",
       "    </tr>\n",
       "    <tr>\n",
       "      <th>5</th>\n",
       "      <td>1</td>\n",
       "      <td>!!!!!!!!!!!!!!!!!!\"@T_Madison_x: The shit just...</td>\n",
       "      <td>shit blow faithful somebody still fuck hoe</td>\n",
       "    </tr>\n",
       "    <tr>\n",
       "      <th>6</th>\n",
       "      <td>1</td>\n",
       "      <td>!!!!!!\"@__BrighterDays: I can not just sit up ...</td>\n",
       "      <td>sit hate another bitch get much shit go</td>\n",
       "    </tr>\n",
       "    <tr>\n",
       "      <th>7</th>\n",
       "      <td>1</td>\n",
       "      <td>!!!!&amp;#8220;@selfiequeenbri: cause I'm tired of...</td>\n",
       "      <td>cause tire big bitch come us skinny girls</td>\n",
       "    </tr>\n",
       "    <tr>\n",
       "      <th>8</th>\n",
       "      <td>1</td>\n",
       "      <td>\" &amp;amp; you might not get ya bitch back &amp;amp; ...</td>\n",
       "      <td>might get ya bitch back thats</td>\n",
       "    </tr>\n",
       "    <tr>\n",
       "      <th>9</th>\n",
       "      <td>1</td>\n",
       "      <td>\" @rhythmixx_ :hobbies include: fighting Maria...</td>\n",
       "      <td>hobbies include fight mariam bitch</td>\n",
       "    </tr>\n",
       "  </tbody>\n",
       "</table>\n",
       "</div>"
      ],
      "text/plain": [
       "   class                                              tweet  \\\n",
       "0      0  !!! RT @mayasolovely: As a woman you shouldn't...   \n",
       "1      1  !!!!! RT @mleew17: boy dats cold...tyga dwn ba...   \n",
       "2      1  !!!!!!! RT @UrKindOfBrand Dawg!!!! RT @80sbaby...   \n",
       "3      1  !!!!!!!!! RT @C_G_Anderson: @viva_based she lo...   \n",
       "4      1  !!!!!!!!!!!!! RT @ShenikaRoberts: The shit you...   \n",
       "5      1  !!!!!!!!!!!!!!!!!!\"@T_Madison_x: The shit just...   \n",
       "6      1  !!!!!!\"@__BrighterDays: I can not just sit up ...   \n",
       "7      1  !!!!&#8220;@selfiequeenbri: cause I'm tired of...   \n",
       "8      1  \" &amp; you might not get ya bitch back &amp; ...   \n",
       "9      1  \" @rhythmixx_ :hobbies include: fighting Maria...   \n",
       "\n",
       "                                           tweet_ok  \n",
       "0  woman complain clean house man always take trash  \n",
       "1          boy dats dwn bad cuffin dat hoe st place  \n",
       "2       dawg ever fuck bitch start cry confuse shit  \n",
       "3                                  look like tranny  \n",
       "4    shit hear might true might faker bitch tell ya  \n",
       "5        shit blow faithful somebody still fuck hoe  \n",
       "6           sit hate another bitch get much shit go  \n",
       "7         cause tire big bitch come us skinny girls  \n",
       "8                     might get ya bitch back thats  \n",
       "9                hobbies include fight mariam bitch  "
      ]
     },
     "execution_count": 34,
     "metadata": {},
     "output_type": "execute_result"
    }
   ],
   "source": [
    "data_new.head(10)"
   ]
  },
  {
   "cell_type": "markdown",
   "metadata": {
    "colab_type": "text",
    "id": "M-pcUag9oDwE"
   },
   "source": [
    "### lọc và loại bỏ một số comment rỗng sau chuẩn hóa:\n",
    "---\n",
    "Sau khi thực hiện tiền xử lý, một số comment chỉ còn lại xâu rỗng, cần loại bỏ những xâu này\n"
   ]
  },
  {
   "cell_type": "code",
   "execution_count": 35,
   "metadata": {},
   "outputs": [
    {
     "name": "stdout",
     "output_type": "stream",
     "text": [
      "<class 'pandas.core.frame.DataFrame'>\n",
      "Int64Index: 54271 entries, 0 to 56699\n",
      "Data columns (total 3 columns):\n",
      " #   Column    Non-Null Count  Dtype \n",
      "---  ------    --------------  ----- \n",
      " 0   class     54271 non-null  int64 \n",
      " 1   tweet     54271 non-null  object\n",
      " 2   tweet_ok  54271 non-null  object\n",
      "dtypes: int64(1), object(2)\n",
      "memory usage: 1.7+ MB\n"
     ]
    }
   ],
   "source": [
    "data_new.info()"
   ]
  },
  {
   "cell_type": "code",
   "execution_count": 36,
   "metadata": {},
   "outputs": [
    {
     "name": "stdout",
     "output_type": "stream",
     "text": [
      "Tổng số: 43\n"
     ]
    },
    {
     "data": {
      "text/html": [
       "<div>\n",
       "<style scoped>\n",
       "    .dataframe tbody tr th:only-of-type {\n",
       "        vertical-align: middle;\n",
       "    }\n",
       "\n",
       "    .dataframe tbody tr th {\n",
       "        vertical-align: top;\n",
       "    }\n",
       "\n",
       "    .dataframe thead th {\n",
       "        text-align: right;\n",
       "    }\n",
       "</style>\n",
       "<table border=\"1\" class=\"dataframe\">\n",
       "  <thead>\n",
       "    <tr style=\"text-align: right;\">\n",
       "      <th></th>\n",
       "      <th>class</th>\n",
       "      <th>tweet</th>\n",
       "      <th>tweet_ok</th>\n",
       "    </tr>\n",
       "  </thead>\n",
       "  <tbody>\n",
       "    <tr>\n",
       "      <th>2637</th>\n",
       "      <td>1</td>\n",
       "      <td>@BloodOfJupiter yeah...bitch!</td>\n",
       "      <td></td>\n",
       "    </tr>\n",
       "    <tr>\n",
       "      <th>4828</th>\n",
       "      <td>0</td>\n",
       "      <td>@TNKidsFoodPorn @Oreo ..............&amp;#128530;</td>\n",
       "      <td></td>\n",
       "    </tr>\n",
       "    <tr>\n",
       "      <th>6098</th>\n",
       "      <td>1</td>\n",
       "      <td>@hoes &amp;#9829;</td>\n",
       "      <td></td>\n",
       "    </tr>\n",
       "    <tr>\n",
       "      <th>6613</th>\n",
       "      <td>1</td>\n",
       "      <td>@maccabeez thanks...bitch.</td>\n",
       "      <td></td>\n",
       "    </tr>\n",
       "    <tr>\n",
       "      <th>25441</th>\n",
       "      <td>0</td>\n",
       "      <td>..feeling so #lonely..and  ..</td>\n",
       "      <td></td>\n",
       "    </tr>\n",
       "    <tr>\n",
       "      <th>26744</th>\n",
       "      <td>0</td>\n",
       "      <td>@user same ððð</td>\n",
       "      <td></td>\n",
       "    </tr>\n",
       "    <tr>\n",
       "      <th>28134</th>\n",
       "      <td>0</td>\n",
       "      <td>what i doð</td>\n",
       "      <td></td>\n",
       "    </tr>\n",
       "    <tr>\n",
       "      <th>28765</th>\n",
       "      <td>0</td>\n",
       "      <td>@user then why are you</td>\n",
       "      <td></td>\n",
       "    </tr>\n",
       "    <tr>\n",
       "      <th>29194</th>\n",
       "      <td>0</td>\n",
       "      <td>no 1 is up</td>\n",
       "      <td></td>\n",
       "    </tr>\n",
       "    <tr>\n",
       "      <th>29582</th>\n",
       "      <td>0</td>\n",
       "      <td>@user @user @user @user @user @user @user @us...</td>\n",
       "      <td></td>\n",
       "    </tr>\n",
       "    <tr>\n",
       "      <th>29811</th>\n",
       "      <td>0</td>\n",
       "      <td>@user as you should.</td>\n",
       "      <td></td>\n",
       "    </tr>\n",
       "    <tr>\n",
       "      <th>30018</th>\n",
       "      <td>0</td>\n",
       "      <td>@user @user @user @user @user @user @user @us...</td>\n",
       "      <td></td>\n",
       "    </tr>\n",
       "    <tr>\n",
       "      <th>30092</th>\n",
       "      <td>0</td>\n",
       "      <td>beð ð@user @user @user @user @user @user...</td>\n",
       "      <td></td>\n",
       "    </tr>\n",
       "    <tr>\n",
       "      <th>32005</th>\n",
       "      <td>0</td>\n",
       "      <td>be   with who you are!</td>\n",
       "      <td></td>\n",
       "    </tr>\n",
       "    <tr>\n",
       "      <th>32722</th>\n",
       "      <td>0</td>\n",
       "      <td>@user why you so   ðð</td>\n",
       "      <td></td>\n",
       "    </tr>\n",
       "    <tr>\n",
       "      <th>33817</th>\n",
       "      <td>0</td>\n",
       "      <td>@user very   ...</td>\n",
       "      <td></td>\n",
       "    </tr>\n",
       "    <tr>\n",
       "      <th>35244</th>\n",
       "      <td>0</td>\n",
       "      <td>out and about   ðâ¤ï¸</td>\n",
       "      <td></td>\n",
       "    </tr>\n",
       "    <tr>\n",
       "      <th>35585</th>\n",
       "      <td>0</td>\n",
       "      <td>@user   that you're</td>\n",
       "      <td></td>\n",
       "    </tr>\n",
       "    <tr>\n",
       "      <th>36369</th>\n",
       "      <td>0</td>\n",
       "      <td>@user and me?....</td>\n",
       "      <td></td>\n",
       "    </tr>\n",
       "    <tr>\n",
       "      <th>36432</th>\n",
       "      <td>0</td>\n",
       "      <td>this.legitimately made.me  ...</td>\n",
       "      <td></td>\n",
       "    </tr>\n",
       "    <tr>\n",
       "      <th>36635</th>\n",
       "      <td>1</td>\n",
       "      <td>@user no, we're not</td>\n",
       "      <td></td>\n",
       "    </tr>\n",
       "    <tr>\n",
       "      <th>36665</th>\n",
       "      <td>0</td>\n",
       "      <td>@user it's at $7.25</td>\n",
       "      <td></td>\n",
       "    </tr>\n",
       "    <tr>\n",
       "      <th>37821</th>\n",
       "      <td>0</td>\n",
       "      <td>why so   : d</td>\n",
       "      <td></td>\n",
       "    </tr>\n",
       "    <tr>\n",
       "      <th>38070</th>\n",
       "      <td>0</td>\n",
       "      <td>@user this is me</td>\n",
       "      <td></td>\n",
       "    </tr>\n",
       "    <tr>\n",
       "      <th>38631</th>\n",
       "      <td>0</td>\n",
       "      <td>@user beð ð@user @user @user @user @use...</td>\n",
       "      <td></td>\n",
       "    </tr>\n",
       "    <tr>\n",
       "      <th>38645</th>\n",
       "      <td>0</td>\n",
       "      <td>@user so   just</td>\n",
       "      <td></td>\n",
       "    </tr>\n",
       "    <tr>\n",
       "      <th>40217</th>\n",
       "      <td>0</td>\n",
       "      <td>ðð» that is all....</td>\n",
       "      <td></td>\n",
       "    </tr>\n",
       "    <tr>\n",
       "      <th>40277</th>\n",
       "      <td>0</td>\n",
       "      <td>@user @user me to!</td>\n",
       "      <td></td>\n",
       "    </tr>\n",
       "    <tr>\n",
       "      <th>40865</th>\n",
       "      <td>1</td>\n",
       "      <td>@user then what is it?</td>\n",
       "      <td></td>\n",
       "    </tr>\n",
       "    <tr>\n",
       "      <th>41033</th>\n",
       "      <td>0</td>\n",
       "      <td>as you should.</td>\n",
       "      <td></td>\n",
       "    </tr>\n",
       "    <tr>\n",
       "      <th>41103</th>\n",
       "      <td>0</td>\n",
       "      <td>@user @user ð very</td>\n",
       "      <td></td>\n",
       "    </tr>\n",
       "    <tr>\n",
       "      <th>42815</th>\n",
       "      <td>0</td>\n",
       "      <td>@user 1d won</td>\n",
       "      <td></td>\n",
       "    </tr>\n",
       "    <tr>\n",
       "      <th>42963</th>\n",
       "      <td>0</td>\n",
       "      <td>@user #be   with what u have !!</td>\n",
       "      <td></td>\n",
       "    </tr>\n",
       "    <tr>\n",
       "      <th>43868</th>\n",
       "      <td>0</td>\n",
       "      <td>@user @user  only 4 in 10?</td>\n",
       "      <td></td>\n",
       "    </tr>\n",
       "    <tr>\n",
       "      <th>45044</th>\n",
       "      <td>0</td>\n",
       "      <td>very very very</td>\n",
       "      <td></td>\n",
       "    </tr>\n",
       "    <tr>\n",
       "      <th>46753</th>\n",
       "      <td>0</td>\n",
       "      <td>@user not to me.</td>\n",
       "      <td></td>\n",
       "    </tr>\n",
       "    <tr>\n",
       "      <th>47492</th>\n",
       "      <td>0</td>\n",
       "      <td>i'm with you!</td>\n",
       "      <td></td>\n",
       "    </tr>\n",
       "    <tr>\n",
       "      <th>48297</th>\n",
       "      <td>0</td>\n",
       "      <td>it was in 2008</td>\n",
       "      <td></td>\n",
       "    </tr>\n",
       "    <tr>\n",
       "      <th>49450</th>\n",
       "      <td>0</td>\n",
       "      <td>@user that's  â¹ï¸</td>\n",
       "      <td></td>\n",
       "    </tr>\n",
       "    <tr>\n",
       "      <th>50412</th>\n",
       "      <td>1</td>\n",
       "      <td>you me too ððððð ð¹</td>\n",
       "      <td></td>\n",
       "    </tr>\n",
       "    <tr>\n",
       "      <th>53296</th>\n",
       "      <td>0</td>\n",
       "      <td>@user @user @user   to be here</td>\n",
       "      <td></td>\n",
       "    </tr>\n",
       "    <tr>\n",
       "      <th>54586</th>\n",
       "      <td>1</td>\n",
       "      <td>that's why ð</td>\n",
       "      <td></td>\n",
       "    </tr>\n",
       "    <tr>\n",
       "      <th>56564</th>\n",
       "      <td>0</td>\n",
       "      <td>we are too!</td>\n",
       "      <td></td>\n",
       "    </tr>\n",
       "  </tbody>\n",
       "</table>\n",
       "</div>"
      ],
      "text/plain": [
       "       class                                              tweet tweet_ok\n",
       "2637       1                      @BloodOfJupiter yeah...bitch!         \n",
       "4828       0      @TNKidsFoodPorn @Oreo ..............&#128530;         \n",
       "6098       1                                      @hoes &#9829;         \n",
       "6613       1                         @maccabeez thanks...bitch.         \n",
       "25441      0                      ..feeling so #lonely..and  ..         \n",
       "26744      0                           @user same ððð          \n",
       "28134      0                                     what i doð          \n",
       "28765      0                           @user then why are you           \n",
       "29194      0                                       no 1 is up           \n",
       "29582      0   @user @user @user @user @user @user @user @us...         \n",
       "29811      0                              @user as you should.          \n",
       "30018      0   @user @user @user @user @user @user @user @us...         \n",
       "30092      0  beð ð@user @user @user @user @user @user...         \n",
       "32005      0                            be   with who you are!          \n",
       "32722      0                        @user why you so   ðð         \n",
       "33817      0                                   @user very   ...         \n",
       "35244      0                        out and about   ðâ¤ï¸          \n",
       "35585      0                               @user   that you're          \n",
       "36369      0                                 @user and me?....          \n",
       "36432      0                    this.legitimately made.me  ...          \n",
       "36635      1                               @user no, we're not          \n",
       "36665      0                              @user it's at $7.25           \n",
       "37821      0                                      why so   : d          \n",
       "38070      0                                @user this is me            \n",
       "38631      0   @user beð ð@user @user @user @user @use...         \n",
       "38645      0                                   @user so   just          \n",
       "40217      0                          ðð» that is all....          \n",
       "40277      0                               @user @user me to!           \n",
       "40865      1                            @user then what is it?          \n",
       "41033      0                                    as you should.          \n",
       "41103      0                            @user @user ð very           \n",
       "42815      0                                    @user 1d won            \n",
       "42963      0                   @user #be   with what u have !!          \n",
       "43868      0                       @user @user  only 4 in 10?           \n",
       "45044      0                                  very very very            \n",
       "46753      0                                 @user not to me.           \n",
       "47492      0                                     i'm with you!          \n",
       "48297      0                                    it was in 2008          \n",
       "49450      0                               @user that's  â¹ï¸         \n",
       "50412      1               you me too ððððð ð¹          \n",
       "53296      0                     @user @user @user   to be here         \n",
       "54586      1                                   that's why ð          \n",
       "56564      0                                       we are too!          "
      ]
     },
     "execution_count": 36,
     "metadata": {},
     "output_type": "execute_result"
    }
   ],
   "source": [
    "#Lọc những comment sau khi xử lý chỉ còn là khoảng trắng\n",
    "print('Tổng số:',data_new['tweet_ok'].loc[data_new.tweet_ok==r''].count())\n",
    "data_new.loc[data_new.tweet_ok==r'']"
   ]
  },
  {
   "cell_type": "code",
   "execution_count": 37,
   "metadata": {},
   "outputs": [
    {
     "name": "stdout",
     "output_type": "stream",
     "text": [
      "<class 'pandas.core.frame.DataFrame'>\n",
      "Int64Index: 54228 entries, 0 to 56699\n",
      "Data columns (total 3 columns):\n",
      " #   Column    Non-Null Count  Dtype \n",
      "---  ------    --------------  ----- \n",
      " 0   class     54228 non-null  int64 \n",
      " 1   tweet     54228 non-null  object\n",
      " 2   tweet_ok  54228 non-null  object\n",
      "dtypes: int64(1), object(2)\n",
      "memory usage: 1.7+ MB\n"
     ]
    }
   ],
   "source": [
    "#Chỉ lấy các bản ghi có dữ liệu:\n",
    "data_ok = data_new.loc[data_new.tweet_ok!=r'']\n",
    "data_ok.info()"
   ]
  },
  {
   "cell_type": "markdown",
   "metadata": {},
   "source": [
    "### 3.3.5 Kiểm tra mức độ cân bằng của tập dữ liệu:\n",
    "---"
   ]
  },
  {
   "cell_type": "code",
   "execution_count": 38,
   "metadata": {
    "colab": {
     "base_uri": "https://localhost:8080/",
     "height": 168
    },
    "colab_type": "code",
    "id": "Dr_oamhB7lKg",
    "outputId": "36119260-018b-43b9-c0ce-dea3c9300c18"
   },
   "outputs": [
    {
     "name": "stdout",
     "output_type": "stream",
     "text": [
      "Thông kê tập dữ liệu:\n",
      "class       54228\n",
      "tweet       54228\n",
      "tweet_ok    54228\n",
      "dtype: int64\n",
      "-----------------------------------\n",
      "Thông kê số lượng comment theo lớp:\n",
      "0    31609\n",
      "1    22619\n",
      "Name: class, dtype: int64\n"
     ]
    }
   ],
   "source": [
    "#Kiểm tra mức độ cân bằng của tập dữ liệu\n",
    "print('Thông kê tập dữ liệu:')\n",
    "print(data_ok.count())\n",
    "print('-----------------------------------')\n",
    "print('Thông kê số lượng comment theo lớp:')\n",
    "x = data_ok['class'].value_counts()\n",
    "print(x)"
   ]
  },
  {
   "cell_type": "code",
   "execution_count": 39,
   "metadata": {
    "colab": {
     "base_uri": "https://localhost:8080/",
     "height": 298
    },
    "colab_type": "code",
    "id": "Fr3-HYPC7xpf",
    "outputId": "c2617795-0d71-47aa-d154-4acf4f7c8269"
   },
   "outputs": [
    {
     "data": {
      "image/png": "[encoded data removed]",
      "text/plain": [
       "<Figure size 1200x400 with 2 Axes>"
      ]
     },
     "metadata": {},
     "output_type": "display_data"
    }
   ],
   "source": [
    "#Trực quan hóa số liệu\n",
    "import matplotlib.pyplot as plt\n",
    "label = ['0: Non Toxic', '1: Toxic']\n",
    "\n",
    "plt.figure(figsize=(12,4))\n",
    "plt.subplot(1,2,1)\n",
    "plt.suptitle('THÔNG KÊ SỐ LƯỢNG COMMENT ĐỘC (1) - KHÔNG ĐỘC (0)')\n",
    "plt.pie(x, labels=label, \n",
    "        autopct='%.2f%%', colors=['#1E77B4','#FF7F0F'])\n",
    "\n",
    "plt.subplot(1,2,2)\n",
    "plt.bar(label,x, color=['#1E77B4','#FF7F0F'])\n",
    "plt.grid(True)\n",
    "plt.show()"
   ]
  },
  {
   "cell_type": "markdown",
   "metadata": {
    "colab_type": "text",
    "id": "V755mg30h9OM"
   },
   "source": [
    "### 3.3.6) Lưu kết quả đã xử lý ra file\n",
    "---\n",
    "\n",
    "Lưu dữ liệu đã xử lý ra file:\n",
    "* File: data_all.csv (class - tweet - tweet_ok)\n",
    "* File: data_finish.csv (class - tweet)"
   ]
  },
  {
   "cell_type": "code",
   "execution_count": 40,
   "metadata": {
    "colab": {
     "base_uri": "https://localhost:8080/",
     "height": 134
    },
    "colab_type": "code",
    "id": "YRzweHXRePBz",
    "outputId": "1ffc0bb1-1c75-4c7d-cecf-6a4fb7e3fa7d",
    "scrolled": true
   },
   "outputs": [
    {
     "data": {
      "text/html": [
       "<div>\n",
       "<style scoped>\n",
       "    .dataframe tbody tr th:only-of-type {\n",
       "        vertical-align: middle;\n",
       "    }\n",
       "\n",
       "    .dataframe tbody tr th {\n",
       "        vertical-align: top;\n",
       "    }\n",
       "\n",
       "    .dataframe thead th {\n",
       "        text-align: right;\n",
       "    }\n",
       "</style>\n",
       "<table border=\"1\" class=\"dataframe\">\n",
       "  <thead>\n",
       "    <tr style=\"text-align: right;\">\n",
       "      <th></th>\n",
       "      <th>class</th>\n",
       "      <th>tweet</th>\n",
       "      <th>tweet_ok</th>\n",
       "    </tr>\n",
       "  </thead>\n",
       "  <tbody>\n",
       "    <tr>\n",
       "      <th>0</th>\n",
       "      <td>0</td>\n",
       "      <td>!!! RT @mayasolovely: As a woman you shouldn't...</td>\n",
       "      <td>woman complain clean house man always take trash</td>\n",
       "    </tr>\n",
       "    <tr>\n",
       "      <th>1</th>\n",
       "      <td>1</td>\n",
       "      <td>!!!!! RT @mleew17: boy dats cold...tyga dwn ba...</td>\n",
       "      <td>boy dats dwn bad cuffin dat hoe st place</td>\n",
       "    </tr>\n",
       "    <tr>\n",
       "      <th>2</th>\n",
       "      <td>1</td>\n",
       "      <td>!!!!!!! RT @UrKindOfBrand Dawg!!!! RT @80sbaby...</td>\n",
       "      <td>dawg ever fuck bitch start cry confuse shit</td>\n",
       "    </tr>\n",
       "    <tr>\n",
       "      <th>3</th>\n",
       "      <td>1</td>\n",
       "      <td>!!!!!!!!! RT @C_G_Anderson: @viva_based she lo...</td>\n",
       "      <td>look like tranny</td>\n",
       "    </tr>\n",
       "    <tr>\n",
       "      <th>4</th>\n",
       "      <td>1</td>\n",
       "      <td>!!!!!!!!!!!!! RT @ShenikaRoberts: The shit you...</td>\n",
       "      <td>shit hear might true might faker bitch tell ya</td>\n",
       "    </tr>\n",
       "  </tbody>\n",
       "</table>\n",
       "</div>"
      ],
      "text/plain": [
       "   class                                              tweet  \\\n",
       "0      0  !!! RT @mayasolovely: As a woman you shouldn't...   \n",
       "1      1  !!!!! RT @mleew17: boy dats cold...tyga dwn ba...   \n",
       "2      1  !!!!!!! RT @UrKindOfBrand Dawg!!!! RT @80sbaby...   \n",
       "3      1  !!!!!!!!! RT @C_G_Anderson: @viva_based she lo...   \n",
       "4      1  !!!!!!!!!!!!! RT @ShenikaRoberts: The shit you...   \n",
       "\n",
       "                                           tweet_ok  \n",
       "0  woman complain clean house man always take trash  \n",
       "1          boy dats dwn bad cuffin dat hoe st place  \n",
       "2       dawg ever fuck bitch start cry confuse shit  \n",
       "3                                  look like tranny  \n",
       "4    shit hear might true might faker bitch tell ya  "
      ]
     },
     "execution_count": 40,
     "metadata": {},
     "output_type": "execute_result"
    }
   ],
   "source": [
    "data_ok.head()"
   ]
  },
  {
   "cell_type": "code",
   "execution_count": 41,
   "metadata": {
    "colab": {},
    "colab_type": "code",
    "id": "4qxgrm3JFqiz"
   },
   "outputs": [],
   "source": [
    "#Lưu kết quả sau khi đã xử lý ra file .csv\n",
    "#File Data_all.csv Lưu trữ 3 thuộc tính: class - tweet (gốc) - tweet_ok (đã xử lý)\n",
    "data_ok.to_csv('Data/Data_all.csv',index=None, header=True)\n",
    "\n",
    "#File Data_finish.csv chỉ lưu trữ 2 thuộc tính: class - tweet_ok (đã xử lý)\n",
    "data_ok[['class','tweet_ok']].to_csv('Data/Data_finish.csv',index=None, header=True)"
   ]
  },
  {
   "cell_type": "markdown",
   "metadata": {
    "colab_type": "text",
    "id": "gW6npz32n7Xj"
   },
   "source": [
    "### 3.3.7) Phân tách Biến độc - Biến phụ thuộc\n",
    "---\n",
    "* Biến độc lập X: Thuộc tính tweet_ok (nội dung comment sau khi đã được xử lý)\n",
    "* Biến phụ thuộc y: class (cho biết comment đó là Toxic - Non toxic)"
   ]
  },
  {
   "cell_type": "code",
   "execution_count": 42,
   "metadata": {
    "colab": {},
    "colab_type": "code",
    "id": "hnqhVSMYQYxf"
   },
   "outputs": [
    {
     "data": {
      "text/html": [
       "<div>\n",
       "<style scoped>\n",
       "    .dataframe tbody tr th:only-of-type {\n",
       "        vertical-align: middle;\n",
       "    }\n",
       "\n",
       "    .dataframe tbody tr th {\n",
       "        vertical-align: top;\n",
       "    }\n",
       "\n",
       "    .dataframe thead th {\n",
       "        text-align: right;\n",
       "    }\n",
       "</style>\n",
       "<table border=\"1\" class=\"dataframe\">\n",
       "  <thead>\n",
       "    <tr style=\"text-align: right;\">\n",
       "      <th></th>\n",
       "      <th>class</th>\n",
       "      <th>tweet_ok</th>\n",
       "    </tr>\n",
       "  </thead>\n",
       "  <tbody>\n",
       "    <tr>\n",
       "      <th>0</th>\n",
       "      <td>0</td>\n",
       "      <td>woman complain clean house man always take trash</td>\n",
       "    </tr>\n",
       "    <tr>\n",
       "      <th>1</th>\n",
       "      <td>1</td>\n",
       "      <td>boy dats dwn bad cuffin dat hoe st place</td>\n",
       "    </tr>\n",
       "    <tr>\n",
       "      <th>2</th>\n",
       "      <td>1</td>\n",
       "      <td>dawg ever fuck bitch start cry confuse shit</td>\n",
       "    </tr>\n",
       "    <tr>\n",
       "      <th>3</th>\n",
       "      <td>1</td>\n",
       "      <td>look like tranny</td>\n",
       "    </tr>\n",
       "    <tr>\n",
       "      <th>4</th>\n",
       "      <td>1</td>\n",
       "      <td>shit hear might true might faker bitch tell ya</td>\n",
       "    </tr>\n",
       "    <tr>\n",
       "      <th>5</th>\n",
       "      <td>1</td>\n",
       "      <td>shit blow faithful somebody still fuck hoe</td>\n",
       "    </tr>\n",
       "    <tr>\n",
       "      <th>6</th>\n",
       "      <td>1</td>\n",
       "      <td>sit hate another bitch get much shit go</td>\n",
       "    </tr>\n",
       "    <tr>\n",
       "      <th>7</th>\n",
       "      <td>1</td>\n",
       "      <td>cause tire big bitch come us skinny girls</td>\n",
       "    </tr>\n",
       "    <tr>\n",
       "      <th>8</th>\n",
       "      <td>1</td>\n",
       "      <td>might get ya bitch back thats</td>\n",
       "    </tr>\n",
       "    <tr>\n",
       "      <th>9</th>\n",
       "      <td>1</td>\n",
       "      <td>hobbies include fight mariam bitch</td>\n",
       "    </tr>\n",
       "  </tbody>\n",
       "</table>\n",
       "</div>"
      ],
      "text/plain": [
       "   class                                          tweet_ok\n",
       "0      0  woman complain clean house man always take trash\n",
       "1      1          boy dats dwn bad cuffin dat hoe st place\n",
       "2      1       dawg ever fuck bitch start cry confuse shit\n",
       "3      1                                  look like tranny\n",
       "4      1    shit hear might true might faker bitch tell ya\n",
       "5      1        shit blow faithful somebody still fuck hoe\n",
       "6      1           sit hate another bitch get much shit go\n",
       "7      1         cause tire big bitch come us skinny girls\n",
       "8      1                     might get ya bitch back thats\n",
       "9      1                hobbies include fight mariam bitch"
      ]
     },
     "execution_count": 42,
     "metadata": {},
     "output_type": "execute_result"
    }
   ],
   "source": [
    "#Tải file dữ liệu sau khi đã tiền xử lý\n",
    "import pandas as pd\n",
    "data_finish = pd.read_csv('Data/data_finish.csv')\n",
    "data_finish.head(10)"
   ]
  },
  {
   "cell_type": "code",
   "execution_count": 43,
   "metadata": {},
   "outputs": [
    {
     "data": {
      "text/plain": [
       "0         woman complain clean house man always take trash\n",
       "1                 boy dats dwn bad cuffin dat hoe st place\n",
       "2              dawg ever fuck bitch start cry confuse shit\n",
       "3                                         look like tranny\n",
       "4           shit hear might true might faker bitch tell ya\n",
       "                               ...                        \n",
       "54223    could end without mention trump feminism photo...\n",
       "54224    chateaubriand stovells absolutely lovely food yum\n",
       "54225                              frarou woohoo euro kick\n",
       "54226    think lovely conversation guess debate people ...\n",
       "54227    happy tuesday feel fantastic today look forwar...\n",
       "Name: tweet_ok, Length: 54228, dtype: object"
      ]
     },
     "execution_count": 43,
     "metadata": {},
     "output_type": "execute_result"
    }
   ],
   "source": [
    "#Biến độc lập X:\n",
    "X = data_finish.loc[:,'tweet_ok']\n",
    "X"
   ]
  },
  {
   "cell_type": "code",
   "execution_count": 44,
   "metadata": {},
   "outputs": [
    {
     "data": {
      "text/plain": [
       "0        0\n",
       "1        1\n",
       "2        1\n",
       "3        1\n",
       "4        1\n",
       "        ..\n",
       "54223    1\n",
       "54224    0\n",
       "54225    0\n",
       "54226    0\n",
       "54227    0\n",
       "Name: class, Length: 54228, dtype: int64"
      ]
     },
     "execution_count": 44,
     "metadata": {},
     "output_type": "execute_result"
    }
   ],
   "source": [
    "#Biến phụ thuộc y:\n",
    "y = data_finish.loc[:,'class']\n",
    "y"
   ]
  },
  {
   "cell_type": "markdown",
   "metadata": {
    "colab_type": "text",
    "id": "ueATfcXLno68"
   },
   "source": [
    "### 3.3.8) Tách dữ liệu thành tập Train - Test\n",
    "---\n",
    "* Tập Train (80%) sử dụng để huấn luyện model\n",
    "* Tập Test (20%) sử dụng để kiểm thử độ chính xác của modoe\n"
   ]
  },
  {
   "cell_type": "code",
   "execution_count": 45,
   "metadata": {
    "colab": {
     "base_uri": "https://localhost:8080/",
     "height": 50
    },
    "colab_type": "code",
    "id": "CDhCUeXUJO7C",
    "outputId": "8611a9fd-f90a-44e7-9b8f-d97e96ff959b"
   },
   "outputs": [
    {
     "name": "stdout",
     "output_type": "stream",
     "text": [
      "1.Tập ban đầu: (54228, 2)\n",
      "-------------------------------\n",
      "a.Tập Train:  (43382,)\n",
      "b.Tập Test:  (10846,)\n"
     ]
    }
   ],
   "source": [
    "from sklearn.model_selection import train_test_split\n",
    "#Tách tập dữ liệu thành Train - Test (tỷ lệ: 0.8 - 0.2)\n",
    "X_train,X_test,y_train,y_test = train_test_split(X,y,\n",
    "                                                 test_size=0.2,\n",
    "                                                 shuffle=True, #  đảo lẫn các dòng\n",
    "                                                 random_state=42)\n",
    "print('1.Tập ban đầu:',data_finish.shape)\n",
    "print('-------------------------------')\n",
    "print('a.Tập Train: ', X_train.shape)\n",
    "print('b.Tập Test: ', y_test.shape)"
   ]
  },
  {
   "cell_type": "code",
   "execution_count": 46,
   "metadata": {},
   "outputs": [
    {
     "data": {
      "text/plain": [
       "29343    today society guy think reason girls friends d...\n",
       "38442                          ask sta like transpoed back\n",
       "49655                wonder next book series bestbooksever\n",
       "13040    hair one kind dont ever fix mouth say hair ali...\n",
       "21488    guy get excite saw oreo cookie crust think mak...\n",
       "                               ...                        \n",
       "11284                             gonna hoe shit meet wait\n",
       "44732    udtapunjab today paper bjp one defamingpunjab ...\n",
       "38158    chick fil hear boy say let pretend terrorist a...\n",
       "860      pornandroidiphoneipadsexxxx anal hardcore brit...\n",
       "15795    media matter executive behind stoprush campaig...\n",
       "Name: tweet_ok, Length: 43382, dtype: object"
      ]
     },
     "execution_count": 46,
     "metadata": {},
     "output_type": "execute_result"
    }
   ],
   "source": [
    "X_train"
   ]
  },
  {
   "cell_type": "markdown",
   "metadata": {
    "colab_type": "text",
    "id": "fZVO8i-IPmT3"
   },
   "source": [
    "## 4) Embedding TẬP DỮ LIỆU ĐÃ XỬ LÝ\n",
    "---\n",
    "Khi huấn luyện mô hình máy học để xử lý ngôn ngữ tự nhiên, thì chắc chắn dữ liệu bạn có ở dạng chữ viết, sự thật là bạn không thể đem trực tiếp dữ liệu chữ viết thô vào để huấn luyện mô hình máy học ngay được, bởi vì các mô hình máy học chỉ làm việc được trên những con số, hay chính xác hơn là tính toán trên các ma trận, véc-tơ số.\n",
    "\n",
    "Điều này dẫn đến việc bạn phải nghĩ cách làm thế nào đó để chuyển dữ liệu chữ viết thô thành dữ liệu số thực, sau đó mới có thể đưa dữ liệu số thực này vào các mô hình học được, có rất nhiều kĩ thuật để làm việc này và gọi chung chúng là kĩ thuật Embedding.\n",
    "\n",
    "Đó chỉ mới là ý tưởng của kĩ thuật Embedding, còn việc chuyển từ không gian này sang một không gian vec-tơ khác bạn không thể làm tùy tiện được mà phải đảm bảo:\n",
    "\n",
    "* Không gian véc-tơ mới (hay véc-tơ số thực) phải thể hiện được bản chất của tập dữ liệu ban đầu (dữ liệu chữ viết).\n",
    "* Cực tiểu hóa lượng mất mát thông tin xảy ra khi bạn chuyển sang không gian mới.\n",
    "\n",
    "Một số kĩ thuật Embedding được sử dụng phổ biến như mạng Neural Network, PCA (Principal Component Analysis) gọi là kĩ thuật phân tích thành phần chính, TF-IDF, Bag of Word, Encoder-Decoder sử dụng trong RNN (Recurrent Neural Network) hoặc LSTM (Long-Short Term Memory), ...v.v.\n",
    "\n",
    "Một số thư viện sử dụng kĩ thuật Embedding như sklearn, Word2vec, FastText, ...v.v."
   ]
  },
  {
   "cell_type": "markdown",
   "metadata": {
    "colab_type": "text",
    "id": "uvuIS6qQJVRZ"
   },
   "source": [
    "### 4.1) TF-IDF\n",
    "----\n",
    "Viết tắt của thuật ngữ tiếng Anh term frequency – inverse document frequency,tf-idf là trọng số của một từ trong văn bản thu được qua thống kê thể hiện mức độ quan trọng của từ này trong một văn bản, mà bản thân văn bản đang xét nằm trong một tập hợp các văn bản.\n",
    "\n",
    "**Các tính trọng số TF-IDF:**\n",
    "* Tf- term frequency : dùng để ước lượng tần xuất xuất hiện của từ trong văn bản. Tuy nhiên với mỗi văn bản thì có độ dài khác nhau, vì thế số lần xuất hiện của từ có thể nhiều hơn . Vì vậy số lần xuất hiện của từ sẽ được chia độ dài của văn bản (tổng số từ trong văn bản đó)\n",
    "\n",
    "    * TF(t, d) = (số lần từ t xuất hiện trong văn bản d) / (tổng số từ trong văn bản d)\n",
    "\n",
    "* IDF- Inverse Document Frequency: dùng để ước lượng mức độ quan trọng của từ đó như thế nào . Khi tính tần số xuất hiện tf thì các từ đều được coi là quan trọng như nhau. Tuy nhiên có một số từ thường được được sử dụng nhiều nhưng không quan trọng để thể hiện ý nghĩa của đoạn văn. Vì vậy ta cần giảm đi mức độ quan trọng của những từ đó bằng cách sử dụng IDF :\n",
    "\n",
    "    * IDF(t, D) = log_e( Tổng số văn bản trong tập mẫu D/ Số văn bản có chứa từ t )\n"
   ]
  },
  {
   "cell_type": "code",
   "execution_count": 47,
   "metadata": {},
   "outputs": [],
   "source": [
    "#Ví dụ chuyển đổi \n",
    "'''st = ['Công cha như núi thái sơn',\n",
    "     'Nghĩa mẹ như nước trong nguồn chảy ra',\n",
    "     'Một lòng thờ mẹ kính cha',\n",
    "     'Cho tròn chữ hiếu mới là đạo con']'''\n",
    "\n",
    "st = ['Cục ta cục tác',\n",
    "      'Gà mẹ tìm mồi',\n",
    "      'Sáng sớm tinh mơ',\n",
    "      'Đến khi choạng tối']"
   ]
  },
  {
   "cell_type": "code",
   "execution_count": 48,
   "metadata": {},
   "outputs": [
    {
     "name": "stdout",
     "output_type": "stream",
     "text": [
      "(4, 15)\n"
     ]
    }
   ],
   "source": [
    "# Tính TF-IDF cho tập dữ liệu\n",
    "from sklearn.feature_extraction.text import TfidfVectorizer\n",
    "import sklearn.feature_extraction.text as text\n",
    "\n",
    "vec = TfidfVectorizer(lowercase=True)\n",
    "st_tfidf = vec.fit_transform(st)\n",
    "\n",
    "print(st_tfidf.shape)"
   ]
  },
  {
   "cell_type": "code",
   "execution_count": 49,
   "metadata": {},
   "outputs": [
    {
     "data": {
      "text/plain": [
       "<4x15 sparse matrix of type '<class 'numpy.float64'>'\n",
       "\twith 15 stored elements in Compressed Sparse Row format>"
      ]
     },
     "execution_count": 49,
     "metadata": {},
     "output_type": "execute_result"
    }
   ],
   "source": [
    "#Dữ liệu sau khi chuyển đổi ở dạng ma trận thưa, \n",
    "#mỗi hàng tương ứng với 1 câu\n",
    "#Mỗi cột tương ứng với trọng số của một từ trong câu, \n",
    "#từ nào không có trong câu đó, trọng số = 0\n",
    "st_tfidf"
   ]
  },
  {
   "cell_type": "code",
   "execution_count": 50,
   "metadata": {},
   "outputs": [
    {
     "name": "stdout",
     "output_type": "stream",
     "text": [
      "  (0, 11)\t0.408248290463863\n",
      "  (0, 9)\t0.408248290463863\n",
      "  (0, 1)\t0.816496580927726\n",
      "  (1, 6)\t0.5\n",
      "  (1, 12)\t0.5\n",
      "  (1, 5)\t0.5\n",
      "  (1, 2)\t0.5\n",
      "  (2, 4)\t0.5\n",
      "  (2, 10)\t0.5\n",
      "  (2, 8)\t0.5\n",
      "  (2, 7)\t0.5\n",
      "  (3, 13)\t0.5\n",
      "  (3, 0)\t0.5\n",
      "  (3, 3)\t0.5\n",
      "  (3, 14)\t0.5\n"
     ]
    }
   ],
   "source": [
    "print(st_tfidf)"
   ]
  },
  {
   "cell_type": "code",
   "execution_count": 51,
   "metadata": {},
   "outputs": [
    {
     "data": {
      "text/plain": [
       "{'cục': 1,\n",
       " 'ta': 9,\n",
       " 'tác': 11,\n",
       " 'gà': 2,\n",
       " 'mẹ': 5,\n",
       " 'tìm': 12,\n",
       " 'mồi': 6,\n",
       " 'sáng': 7,\n",
       " 'sớm': 8,\n",
       " 'tinh': 10,\n",
       " 'mơ': 4,\n",
       " 'đến': 14,\n",
       " 'khi': 3,\n",
       " 'choạng': 0,\n",
       " 'tối': 13}"
      ]
     },
     "execution_count": 51,
     "metadata": {},
     "output_type": "execute_result"
    }
   ],
   "source": [
    "#Liệt kê danh sách các từ khác nhau, vị trí trong cột\n",
    "vec.vocabulary_"
   ]
  },
  {
   "cell_type": "code",
   "execution_count": null,
   "metadata": {},
   "outputs": [],
   "source": []
  },
  {
   "cell_type": "code",
   "execution_count": null,
   "metadata": {},
   "outputs": [],
   "source": []
  },
  {
   "cell_type": "code",
   "execution_count": 52,
   "metadata": {
    "colab": {},
    "colab_type": "code",
    "id": "Xu-08BJvKDn5"
   },
   "outputs": [],
   "source": [
    "#Áp dụng cho tập dữ liệu comment:\n",
    "vector = TfidfVectorizer()\n",
    "\n",
    "vector.fit(data_finish['tweet_ok'])\n",
    "\n",
    "#Chuyển đổi tập Train - Test ra số:\n",
    "X_train_tfidf = vector.transform(X_train)\n",
    "X_test_tfidf = vector.transform(X_test)"
   ]
  },
  {
   "cell_type": "code",
   "execution_count": 53,
   "metadata": {},
   "outputs": [
    {
     "name": "stdout",
     "output_type": "stream",
     "text": [
      "1.Train: (43382, 45260)\n",
      "2.Test: (10846, 45260)\n"
     ]
    }
   ],
   "source": [
    "#Dữ liệu sau khi chuyển sang số với TF-IDF:\n",
    "print('1.Train:',X_train_tfidf.shape)\n",
    "print('2.Test:',X_test_tfidf.shape)"
   ]
  },
  {
   "cell_type": "code",
   "execution_count": 54,
   "metadata": {
    "colab": {
     "base_uri": "https://localhost:8080/",
     "height": 50
    },
    "colab_type": "code",
    "id": "lFXbvNWJKEmO",
    "outputId": "2380edfd-c2f4-46bd-8e14-48a342a92bde"
   },
   "outputs": [
    {
     "name": "stdout",
     "output_type": "stream",
     "text": [
      "gbpusd strong resistance lie around commerzbank blog silver gold forex\n",
      "[0.29020133 0.26214936 0.40105741 0.27564524 0.25925614 0.39449168\n",
      " 0.26907952 0.43058055 0.25278133 0.25630906]\n",
      "(10,)\n"
     ]
    }
   ],
   "source": [
    "#(train_x[1])\n",
    "print(X_train.iloc[20])\n",
    "print(X_train_tfidf[20].data)\n",
    "print(X_train_tfidf[20].data.shape)"
   ]
  },
  {
   "cell_type": "code",
   "execution_count": null,
   "metadata": {},
   "outputs": [],
   "source": []
  },
  {
   "cell_type": "markdown",
   "metadata": {
    "colab_type": "text",
    "id": "hZmzynBFI1Z5"
   },
   "source": [
    "## 4.2. MACHINE LEARNING CHO PHÂN LỚP VĂN BẢN\n",
    "---\n"
   ]
  },
  {
   "cell_type": "markdown",
   "metadata": {},
   "source": [
    "### Thuật toán Naive Bayes\n",
    "---\n",
    "* Naive Bayes Classifiers (NBC) thường được sử dụng trong các bài toán Text Classification\n",
    "* NBC có thời gian training và test rất nhanh. Điều này có được là do giả sử về tính độc lập giữa các thành phần, nếu biết class.\n",
    "\n",
    "* Nếu giả sử về tính độc lập được thoả mãn (dựa vào bản chất của dữ liệu), NBC được cho là cho kết quả tốt hơn so với SVM và logistic regression khi có ít dữ liệu training.\n",
    "\n",
    "* NBC có thể hoạt động với các feature vector mà một phần là liên tục (sử dụng Gaussian Naive Bayes), phần còn lại ở dạng rời rạc (sử dụng Multinomial hoặc Bernoulli).\n",
    "\n",
    "* Khi sử dụng Multinomial Naive Bayes, Laplace smoothing thường được sử dụng để tránh trường hợp 1 thành phần trong test data chưa xuất hiện ở training data.\n",
    "\n",
    "\n",
    "#### Sử dụng MultinomialNB\n"
   ]
  },
  {
   "cell_type": "code",
   "execution_count": 55,
   "metadata": {},
   "outputs": [
    {
     "data": {
      "text/plain": [
       "{'alpha': 0.75, 'class_prior': None, 'fit_prior': True, 'force_alpha': 'warn'}"
      ]
     },
     "execution_count": 55,
     "metadata": {},
     "output_type": "execute_result"
    }
   ],
   "source": [
    "#Sử dụng mô hình Naive Bayes với TF-IDF\n",
    "from sklearn import naive_bayes\n",
    "\n",
    "#Khai báo sử dụng model Multinomial Naive bayes:\n",
    "MultiNB = naive_bayes.MultinomialNB(alpha=0.75)\n",
    "\n",
    "#huấn luyện mô hình với tập huấn luyện Train\n",
    "MultiNB.fit(X_train_tfidf,y_train)\n",
    "\n",
    "#Danh sách các tham số của model:\n",
    "MultiNB.get_params()"
   ]
  },
  {
   "cell_type": "markdown",
   "metadata": {},
   "source": [
    "**Các tham số của thuật toán Naive Bayes:**\n",
    "1. Naive Bayes trong Sklearn: https://scikit-learn.org/stable/modules/naive_bayes.html#\n",
    "2. Các tham số cho Multinomial Naive Bayes: https://scikit-learn.org/stable/modules/generated/sklearn.naive_bayes.MultinomialNB.html#sklearn.naive_bayes.MultinomialNB\n",
    "\n",
    "* **alpha:** float, default=1.0;\n",
    "Additive (Laplace/Lidstone) smoothing parameter (0 for no smoothing).\n",
    "\n",
    "* **fit_prior:** bool, default=True;\n",
    "Whether to learn class prior probabilities or not. If false, a uniform prior will be used.\n",
    "\n",
    "* **class_prior:** array-like of shape (n_classes,), default=None;\n",
    "Prior probabilities of the classes. If specified the priors are not adjusted according to the data."
   ]
  },
  {
   "cell_type": "code",
   "execution_count": 56,
   "metadata": {},
   "outputs": [
    {
     "name": "stdout",
     "output_type": "stream",
     "text": [
      "Độ chính xác của mô hình trên tập huấn luyện:  94.62 %\n"
     ]
    }
   ],
   "source": [
    "#Đánh giá độ chính xác của mô hình trên tập huấn luyện\n",
    "acc_MultiNB = round(MultiNB.score(X_train_tfidf, y_train) * 100, 2)\n",
    "\n",
    "print('Độ chính xác của mô hình trên tập huấn luyện: ', acc_MultiNB, '%')"
   ]
  },
  {
   "cell_type": "markdown",
   "metadata": {},
   "source": [
    "**Đánh giá trên tập kiểm thử:**\n",
    "\n",
    "---"
   ]
  },
  {
   "cell_type": "code",
   "execution_count": 57,
   "metadata": {},
   "outputs": [
    {
     "name": "stdout",
     "output_type": "stream",
     "text": [
      "1.Độ chính xác của mô hình trên tập Test:  90.33 %\n",
      "2.Tổng số mẫu dự đoán đúng: 9797  / 10846\n",
      "3.Tổng số mẫu dự đoán sai: 1049  / 10846\n"
     ]
    }
   ],
   "source": [
    "from sklearn.metrics import accuracy_score\n",
    "#Dự đoán và tính đoán độ chính xác của model trên tập Test:\n",
    "y_pred = MultiNB.predict(X_test_tfidf)\n",
    "\n",
    "acc1 = round(accuracy_score(y_test, y_pred)*100, 2)\n",
    "print('1.Độ chính xác của mô hình trên tập Test: ', acc1, '%')\n",
    "\n",
    "acc2 = accuracy_score(y_test, y_pred, normalize=False)\n",
    "print('2.Tổng số mẫu dự đoán đúng:', acc2, ' /', len(y_test))\n",
    "print('3.Tổng số mẫu dự đoán sai:', len(y_test) - acc2, ' /', len(y_test))"
   ]
  },
  {
   "cell_type": "code",
   "execution_count": 58,
   "metadata": {},
   "outputs": [
    {
     "data": {
      "image/png": "[encoded data removed]",
      "text/plain": [
       "<Figure size 640x480 with 2 Axes>"
      ]
     },
     "metadata": {},
     "output_type": "display_data"
    }
   ],
   "source": [
    "#Hiển thị confusion matrix:\n",
    "from sklearn.metrics import confusion_matrix, ConfusionMatrixDisplay\n",
    "\n",
    "#Hiển thị dạng số:\n",
    "cm = confusion_matrix(y_test, y_pred, labels=MultiNB.classes_)\n",
    "disp = ConfusionMatrixDisplay(confusion_matrix=cm, display_labels=MultiNB.classes_)\n",
    "disp.plot()\n",
    "plt.show()"
   ]
  },
  {
   "cell_type": "code",
   "execution_count": 59,
   "metadata": {},
   "outputs": [
    {
     "data": {
      "image/png": "[encoded data removed]",
      "text/plain": [
       "<Figure size 640x480 with 2 Axes>"
      ]
     },
     "metadata": {},
     "output_type": "display_data"
    }
   ],
   "source": [
    "#Hiển thị dạng tỷ lệ %:\n",
    "cm1 = confusion_matrix(y_test, y_pred, labels=MultiNB.classes_, normalize='true')\n",
    "disp1 = ConfusionMatrixDisplay(confusion_matrix=cm1, display_labels=MultiNB.classes_)\n",
    "disp1.plot()\n",
    "plt.show()"
   ]
  },
  {
   "cell_type": "code",
   "execution_count": null,
   "metadata": {},
   "outputs": [],
   "source": []
  },
  {
   "cell_type": "markdown",
   "metadata": {},
   "source": [
    "### Áp dụng model:\n",
    "---\n",
    "Ví dụ với một comment mới --> Sử dụng model đã huấn luyện để cho biết comment này là độc (1) hay không độc (0)\n",
    "giả sử model đúng với trạng thái bestfit"
   ]
  },
  {
   "cell_type": "code",
   "execution_count": 60,
   "metadata": {},
   "outputs": [
    {
     "name": "stdout",
     "output_type": "stream",
     "text": [
      "Câu Comment: @thanhhoa you are very handsome, i love you so much! DangVanNam@gmail.com\n"
     ]
    }
   ],
   "source": [
    "#Khai báo 1 comment mới:\n",
    "st_new = '@thanhhoa you are very handsome, i love you so much! DangVanNam@gmail.com'\n",
    "print('Câu Comment:',st_new)"
   ]
  },
  {
   "cell_type": "code",
   "execution_count": 61,
   "metadata": {},
   "outputs": [],
   "source": [
    "st_new1 = 'you look like a dog, i hate you'\n"
   ]
  },
  {
   "cell_type": "code",
   "execution_count": 62,
   "metadata": {},
   "outputs": [
    {
     "name": "stdout",
     "output_type": "stream",
     "text": [
      "Dữ liệu sau khi xử lý:  handsome love much\n"
     ]
    }
   ],
   "source": [
    "#Tiền xử lý và chuẩn hóa comment:\n",
    "st_new_process = prepare_data(st_new)\n",
    "print('Dữ liệu sau khi xử lý: ', st_new_process)"
   ]
  },
  {
   "cell_type": "code",
   "execution_count": 63,
   "metadata": {},
   "outputs": [
    {
     "name": "stdout",
     "output_type": "stream",
     "text": [
      "  (0, 26239)\t0.5086256152237204\n",
      "  (0, 23394)\t0.3563880255958183\n",
      "  (0, 16957)\t0.7837649894899658\n",
      "(1, 45260)\n"
     ]
    }
   ],
   "source": [
    "#Chuyển về số với TFIDF:\n",
    "st_new_tfidf = vector.transform([st_new_process])\n",
    "print(st_new_tfidf)\n",
    "print(st_new_tfidf.shape)"
   ]
  },
  {
   "cell_type": "code",
   "execution_count": 64,
   "metadata": {},
   "outputs": [
    {
     "name": "stdout",
     "output_type": "stream",
     "text": [
      "[0]\n",
      "ML said: this comment is non toxic!\n"
     ]
    }
   ],
   "source": [
    "#Dự đoán với model Naive Bayes:\n",
    "st_pred = MultiNB.predict(st_new_tfidf)\n",
    "print(st_pred)\n",
    "if(st_pred == 0):\n",
    "    print('ML said: this comment is non toxic!')\n",
    "else:\n",
    "    print('ML said: this comment is toxic')"
   ]
  },
  {
   "cell_type": "code",
   "execution_count": 65,
   "metadata": {},
   "outputs": [
    {
     "name": "stdout",
     "output_type": "stream",
     "text": [
      "[0]\n",
      "ML said: this comment is non toxic!\n"
     ]
    }
   ],
   "source": [
    "st_pred = MultiNB.predict(st_new_tfidf)\n",
    "print(st_pred)\n",
    "if(st_pred == 0):\n",
    "    print('ML said: this comment is non toxic!')\n",
    "else:\n",
    "    print('ML said: this comment is toxic')"
   ]
  },
  {
   "cell_type": "markdown",
   "metadata": {},
   "source": [
    "### THỰC HÀNH1: Áp dụng với thuật toán KNN\n",
    "---\n",
    "Sinh viên áp dụng thuật toán KNN đã học cho Bài toán phần lớp văn bản. Đánh giá độ chính xác"
   ]
  },
  {
   "cell_type": "code",
   "execution_count": 66,
   "metadata": {},
   "outputs": [],
   "source": [
    "#Sử dụng KNN:\n"
   ]
  },
  {
   "cell_type": "code",
   "execution_count": null,
   "metadata": {},
   "outputs": [],
   "source": []
  },
  {
   "cell_type": "code",
   "execution_count": null,
   "metadata": {},
   "outputs": [],
   "source": []
  },
  {
   "cell_type": "code",
   "execution_count": null,
   "metadata": {},
   "outputs": [],
   "source": []
  },
  {
   "cell_type": "code",
   "execution_count": null,
   "metadata": {},
   "outputs": [],
   "source": []
  },
  {
   "cell_type": "code",
   "execution_count": null,
   "metadata": {},
   "outputs": [],
   "source": []
  },
  {
   "cell_type": "markdown",
   "metadata": {},
   "source": [
    "### THỰC HÀNH 2: Áp dụng với thuật toán Cây quyết định\n",
    "---\n",
    "\n",
    "Sinh viên áp dụng thuật toán Cây quyết định cho bài toán phân lớp văn bản và đánh giá độ chính xác"
   ]
  },
  {
   "cell_type": "code",
   "execution_count": 67,
   "metadata": {},
   "outputs": [
    {
     "ename": "SyntaxError",
     "evalue": "invalid syntax (3999488757.py, line 1)",
     "output_type": "error",
     "traceback": [
      "\u001b[1;36m  Cell \u001b[1;32mIn[67], line 1\u001b[1;36m\u001b[0m\n\u001b[1;33m    df_comment =\u001b[0m\n\u001b[1;37m                 ^\u001b[0m\n\u001b[1;31mSyntaxError\u001b[0m\u001b[1;31m:\u001b[0m invalid syntax\n"
     ]
    }
   ],
   "source": [
    "df_comment = "
   ]
  },
  {
   "cell_type": "code",
   "execution_count": null,
   "metadata": {},
   "outputs": [],
   "source": []
  },
  {
   "cell_type": "code",
   "execution_count": null,
   "metadata": {},
   "outputs": [],
   "source": []
  },
  {
   "cell_type": "code",
   "execution_count": null,
   "metadata": {},
   "outputs": [],
   "source": []
  },
  {
   "cell_type": "code",
   "execution_count": null,
   "metadata": {},
   "outputs": [],
   "source": []
  },
  {
   "cell_type": "code",
   "execution_count": null,
   "metadata": {},
   "outputs": [],
   "source": []
  },
  {
   "cell_type": "code",
   "execution_count": null,
   "metadata": {},
   "outputs": [],
   "source": []
  }
 ],
 "metadata": {
  "colab": {
   "collapsed_sections": [],
   "name": "NLP_Detection_Toxic.ipynb",
   "provenance": [],
   "version": "0.3.2"
  },
  "kernelspec": {
   "display_name": "Python 3 (ipykernel)",
   "language": "python",
   "name": "python3"
  },
  "language_info": {
   "codemirror_mode": {
    "name": "ipython",
    "version": 3
   },
   "file_extension": ".py",
   "mimetype": "text/x-python",
   "name": "python",
   "nbconvert_exporter": "python",
   "pygments_lexer": "ipython3",
   "version": "3.10.9"
  }
 },
 "nbformat": 4,
 "nbformat_minor": 1
}
