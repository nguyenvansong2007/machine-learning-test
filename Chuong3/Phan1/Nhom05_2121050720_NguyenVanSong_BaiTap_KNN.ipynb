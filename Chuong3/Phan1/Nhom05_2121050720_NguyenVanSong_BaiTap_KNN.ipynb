{
 "cells": [
  {
   "cell_type": "markdown",
   "metadata": {},
   "source": [
    "<center>\n",
    "    \n",
    "<h2>BÀI TẬP MÔN HỌC </h2>\n",
    "    \n",
    "</center>\n",
    " \n",
    "---\n",
    "**Thông tin sinh viên:**\n",
    "1. Họ tên SV: Nguyễn Văn Sông\n",
    "2. Mã Sinh viên: 2121050720\n",
    "3. Lớp: DCCTCT66-07A\n",
    "4. Nhóm môn học: 05\n",
    "\n",
    "\n",
    "---\n",
    "\n",
    "**Mô tả tập dữ liệu:**\n",
    "\n",
    "Tập dữ liệu Data_Practice_ML.xlsx chứa dữ liệu của các bệnh nhân bị u vú. (chi tiết trong slide bài giảng)\n",
    "\n",
    "<img src='Pic/Practice.jpg' width='800px'>\n",
    "\n",
    "Mỗi bản ghi tương ứng với một bệnh nhân, Bao gồm 8 thuộc tính:\n",
    "1. PatienID: Thuộc tính cho biết mã số của bệnh nhân\n",
    "2. Sex: Thuộc tính cho biết giới tính bệnh nhân\n",
    "3. Age: Thuộc tính cho biết tuổi của bệnh nhân, dữ liệu số\n",
    "4. Weight: Thuộc tính cho biết cân nặng của bệnh nhân (Kg)\n",
    "5. Shape: Thuộc tính cho biết hình dạng của khối u, bao gồm 4 giá trị: Round, Oval, Lobular, Irregular\n",
    "6. Margin: Thuộc tính cho biết dạng đường biên của khối u, bao gồm 5 giá trị: Circumscribed, Microlobulated, Obscured, ill-defined, Spiculated\n",
    "7. Density: Thuộc tính cho biết mật độ của khối u, bao gồm 4 giá trị: High, Iso, Low, Fat-containing\n",
    "8. Target: Thuộc tính cho biết khối u là lành tính (0) - hay ác tính (1)\n",
    "\n",
    " "
   ]
  },
  {
   "cell_type": "markdown",
   "metadata": {},
   "source": [
    "## PHẦN I: CHUẨN BỊ DỮ LIỆU\n",
    "---"
   ]
  },
  {
   "cell_type": "markdown",
   "metadata": {},
   "source": [
    "**Yêu cầu 1:**\n",
    "Đọc tập dữ liệu Data_Practice_ML.xlsx vào biến DataFrame,\n",
    "- Hiển thị thông tin của biến,\n",
    "- Hiển thị dữ liệu 5 bản ghi đầu tiên; 5 bản ghi cuối cùng, 5 bản ghi ngẫu nhiên\n",
    "- Thống kê dữ liệu các thuộc tính số, các thuộc tính Object; đưa ra các nhận xét về dữ liệu; Có thể sử dụng các biểu đồ để thể hiện trực quan"
   ]
  },
  {
   "cell_type": "code",
   "execution_count": 1,
   "metadata": {},
   "outputs": [],
   "source": [
    "#{HỌC VIÊN VIẾT CODE VÀO ĐÂY!}\n",
    "#Gọi các thư viện sử dụng cho Project:\n",
    "# Data analysis and wrangling:\n",
    "import pandas as pd\n",
    "import numpy as np\n",
    "\n",
    "# visualization:\n",
    "import matplotlib.pyplot as plt\n",
    "import seaborn as sns\n",
    "%matplotlib inline\n",
    "#---------------------------------------\n",
    "import warnings\n",
    "warnings.filterwarnings('ignore')"
   ]
  },
  {
   "cell_type": "code",
   "execution_count": 2,
   "metadata": {},
   "outputs": [
    {
     "ename": "FileNotFoundError",
     "evalue": "[Errno 2] No such file or directory: 'Data/Data_Practice_ML.xlsx'",
     "output_type": "error",
     "traceback": [
      "\u001b[1;31m---------------------------------------------------------------------------\u001b[0m",
      "\u001b[1;31mFileNotFoundError\u001b[0m                         Traceback (most recent call last)",
      "Cell \u001b[1;32mIn[2], line 2\u001b[0m\n\u001b[0;32m      1\u001b[0m \u001b[38;5;66;03m# Đọc dữ liệu từ file Data_Practice_ML.xlsx\u001b[39;00m\n\u001b[1;32m----> 2\u001b[0m df_practice \u001b[38;5;241m=\u001b[39m \u001b[43mpd\u001b[49m\u001b[38;5;241;43m.\u001b[39;49m\u001b[43mread_excel\u001b[49m\u001b[43m(\u001b[49m\u001b[38;5;124;43m'\u001b[39;49m\u001b[38;5;124;43mData/Data_Practice_ML.xlsx\u001b[39;49m\u001b[38;5;124;43m'\u001b[39;49m\u001b[43m)\u001b[49m\n\u001b[0;32m      3\u001b[0m df_practice\n",
      "File \u001b[1;32m~\\anaconda3\\lib\\site-packages\\pandas\\util\\_decorators.py:211\u001b[0m, in \u001b[0;36mdeprecate_kwarg.<locals>._deprecate_kwarg.<locals>.wrapper\u001b[1;34m(*args, **kwargs)\u001b[0m\n\u001b[0;32m    209\u001b[0m     \u001b[38;5;28;01melse\u001b[39;00m:\n\u001b[0;32m    210\u001b[0m         kwargs[new_arg_name] \u001b[38;5;241m=\u001b[39m new_arg_value\n\u001b[1;32m--> 211\u001b[0m \u001b[38;5;28;01mreturn\u001b[39;00m func(\u001b[38;5;241m*\u001b[39margs, \u001b[38;5;241m*\u001b[39m\u001b[38;5;241m*\u001b[39mkwargs)\n",
      "File \u001b[1;32m~\\anaconda3\\lib\\site-packages\\pandas\\util\\_decorators.py:331\u001b[0m, in \u001b[0;36mdeprecate_nonkeyword_arguments.<locals>.decorate.<locals>.wrapper\u001b[1;34m(*args, **kwargs)\u001b[0m\n\u001b[0;32m    325\u001b[0m \u001b[38;5;28;01mif\u001b[39;00m \u001b[38;5;28mlen\u001b[39m(args) \u001b[38;5;241m>\u001b[39m num_allow_args:\n\u001b[0;32m    326\u001b[0m     warnings\u001b[38;5;241m.\u001b[39mwarn(\n\u001b[0;32m    327\u001b[0m         msg\u001b[38;5;241m.\u001b[39mformat(arguments\u001b[38;5;241m=\u001b[39m_format_argument_list(allow_args)),\n\u001b[0;32m    328\u001b[0m         \u001b[38;5;167;01mFutureWarning\u001b[39;00m,\n\u001b[0;32m    329\u001b[0m         stacklevel\u001b[38;5;241m=\u001b[39mfind_stack_level(),\n\u001b[0;32m    330\u001b[0m     )\n\u001b[1;32m--> 331\u001b[0m \u001b[38;5;28;01mreturn\u001b[39;00m func(\u001b[38;5;241m*\u001b[39margs, \u001b[38;5;241m*\u001b[39m\u001b[38;5;241m*\u001b[39mkwargs)\n",
      "File \u001b[1;32m~\\anaconda3\\lib\\site-packages\\pandas\\io\\excel\\_base.py:482\u001b[0m, in \u001b[0;36mread_excel\u001b[1;34m(io, sheet_name, header, names, index_col, usecols, squeeze, dtype, engine, converters, true_values, false_values, skiprows, nrows, na_values, keep_default_na, na_filter, verbose, parse_dates, date_parser, thousands, decimal, comment, skipfooter, convert_float, mangle_dupe_cols, storage_options)\u001b[0m\n\u001b[0;32m    480\u001b[0m \u001b[38;5;28;01mif\u001b[39;00m \u001b[38;5;129;01mnot\u001b[39;00m \u001b[38;5;28misinstance\u001b[39m(io, ExcelFile):\n\u001b[0;32m    481\u001b[0m     should_close \u001b[38;5;241m=\u001b[39m \u001b[38;5;28;01mTrue\u001b[39;00m\n\u001b[1;32m--> 482\u001b[0m     io \u001b[38;5;241m=\u001b[39m \u001b[43mExcelFile\u001b[49m\u001b[43m(\u001b[49m\u001b[43mio\u001b[49m\u001b[43m,\u001b[49m\u001b[43m \u001b[49m\u001b[43mstorage_options\u001b[49m\u001b[38;5;241;43m=\u001b[39;49m\u001b[43mstorage_options\u001b[49m\u001b[43m,\u001b[49m\u001b[43m \u001b[49m\u001b[43mengine\u001b[49m\u001b[38;5;241;43m=\u001b[39;49m\u001b[43mengine\u001b[49m\u001b[43m)\u001b[49m\n\u001b[0;32m    483\u001b[0m \u001b[38;5;28;01melif\u001b[39;00m engine \u001b[38;5;129;01mand\u001b[39;00m engine \u001b[38;5;241m!=\u001b[39m io\u001b[38;5;241m.\u001b[39mengine:\n\u001b[0;32m    484\u001b[0m     \u001b[38;5;28;01mraise\u001b[39;00m \u001b[38;5;167;01mValueError\u001b[39;00m(\n\u001b[0;32m    485\u001b[0m         \u001b[38;5;124m\"\u001b[39m\u001b[38;5;124mEngine should not be specified when passing \u001b[39m\u001b[38;5;124m\"\u001b[39m\n\u001b[0;32m    486\u001b[0m         \u001b[38;5;124m\"\u001b[39m\u001b[38;5;124man ExcelFile - ExcelFile already has the engine set\u001b[39m\u001b[38;5;124m\"\u001b[39m\n\u001b[0;32m    487\u001b[0m     )\n",
      "File \u001b[1;32m~\\anaconda3\\lib\\site-packages\\pandas\\io\\excel\\_base.py:1652\u001b[0m, in \u001b[0;36mExcelFile.__init__\u001b[1;34m(self, path_or_buffer, engine, storage_options)\u001b[0m\n\u001b[0;32m   1650\u001b[0m     ext \u001b[38;5;241m=\u001b[39m \u001b[38;5;124m\"\u001b[39m\u001b[38;5;124mxls\u001b[39m\u001b[38;5;124m\"\u001b[39m\n\u001b[0;32m   1651\u001b[0m \u001b[38;5;28;01melse\u001b[39;00m:\n\u001b[1;32m-> 1652\u001b[0m     ext \u001b[38;5;241m=\u001b[39m \u001b[43minspect_excel_format\u001b[49m\u001b[43m(\u001b[49m\n\u001b[0;32m   1653\u001b[0m \u001b[43m        \u001b[49m\u001b[43mcontent_or_path\u001b[49m\u001b[38;5;241;43m=\u001b[39;49m\u001b[43mpath_or_buffer\u001b[49m\u001b[43m,\u001b[49m\u001b[43m \u001b[49m\u001b[43mstorage_options\u001b[49m\u001b[38;5;241;43m=\u001b[39;49m\u001b[43mstorage_options\u001b[49m\n\u001b[0;32m   1654\u001b[0m \u001b[43m    \u001b[49m\u001b[43m)\u001b[49m\n\u001b[0;32m   1655\u001b[0m     \u001b[38;5;28;01mif\u001b[39;00m ext \u001b[38;5;129;01mis\u001b[39;00m \u001b[38;5;28;01mNone\u001b[39;00m:\n\u001b[0;32m   1656\u001b[0m         \u001b[38;5;28;01mraise\u001b[39;00m \u001b[38;5;167;01mValueError\u001b[39;00m(\n\u001b[0;32m   1657\u001b[0m             \u001b[38;5;124m\"\u001b[39m\u001b[38;5;124mExcel file format cannot be determined, you must specify \u001b[39m\u001b[38;5;124m\"\u001b[39m\n\u001b[0;32m   1658\u001b[0m             \u001b[38;5;124m\"\u001b[39m\u001b[38;5;124man engine manually.\u001b[39m\u001b[38;5;124m\"\u001b[39m\n\u001b[0;32m   1659\u001b[0m         )\n",
      "File \u001b[1;32m~\\anaconda3\\lib\\site-packages\\pandas\\io\\excel\\_base.py:1525\u001b[0m, in \u001b[0;36minspect_excel_format\u001b[1;34m(content_or_path, storage_options)\u001b[0m\n\u001b[0;32m   1522\u001b[0m \u001b[38;5;28;01mif\u001b[39;00m \u001b[38;5;28misinstance\u001b[39m(content_or_path, \u001b[38;5;28mbytes\u001b[39m):\n\u001b[0;32m   1523\u001b[0m     content_or_path \u001b[38;5;241m=\u001b[39m BytesIO(content_or_path)\n\u001b[1;32m-> 1525\u001b[0m \u001b[38;5;28;01mwith\u001b[39;00m \u001b[43mget_handle\u001b[49m\u001b[43m(\u001b[49m\n\u001b[0;32m   1526\u001b[0m \u001b[43m    \u001b[49m\u001b[43mcontent_or_path\u001b[49m\u001b[43m,\u001b[49m\u001b[43m \u001b[49m\u001b[38;5;124;43m\"\u001b[39;49m\u001b[38;5;124;43mrb\u001b[39;49m\u001b[38;5;124;43m\"\u001b[39;49m\u001b[43m,\u001b[49m\u001b[43m \u001b[49m\u001b[43mstorage_options\u001b[49m\u001b[38;5;241;43m=\u001b[39;49m\u001b[43mstorage_options\u001b[49m\u001b[43m,\u001b[49m\u001b[43m \u001b[49m\u001b[43mis_text\u001b[49m\u001b[38;5;241;43m=\u001b[39;49m\u001b[38;5;28;43;01mFalse\u001b[39;49;00m\n\u001b[0;32m   1527\u001b[0m \u001b[43m\u001b[49m\u001b[43m)\u001b[49m \u001b[38;5;28;01mas\u001b[39;00m handle:\n\u001b[0;32m   1528\u001b[0m     stream \u001b[38;5;241m=\u001b[39m handle\u001b[38;5;241m.\u001b[39mhandle\n\u001b[0;32m   1529\u001b[0m     stream\u001b[38;5;241m.\u001b[39mseek(\u001b[38;5;241m0\u001b[39m)\n",
      "File \u001b[1;32m~\\anaconda3\\lib\\site-packages\\pandas\\io\\common.py:865\u001b[0m, in \u001b[0;36mget_handle\u001b[1;34m(path_or_buf, mode, encoding, compression, memory_map, is_text, errors, storage_options)\u001b[0m\n\u001b[0;32m    856\u001b[0m         handle \u001b[38;5;241m=\u001b[39m \u001b[38;5;28mopen\u001b[39m(\n\u001b[0;32m    857\u001b[0m             handle,\n\u001b[0;32m    858\u001b[0m             ioargs\u001b[38;5;241m.\u001b[39mmode,\n\u001b[1;32m   (...)\u001b[0m\n\u001b[0;32m    861\u001b[0m             newline\u001b[38;5;241m=\u001b[39m\u001b[38;5;124m\"\u001b[39m\u001b[38;5;124m\"\u001b[39m,\n\u001b[0;32m    862\u001b[0m         )\n\u001b[0;32m    863\u001b[0m     \u001b[38;5;28;01melse\u001b[39;00m:\n\u001b[0;32m    864\u001b[0m         \u001b[38;5;66;03m# Binary mode\u001b[39;00m\n\u001b[1;32m--> 865\u001b[0m         handle \u001b[38;5;241m=\u001b[39m \u001b[38;5;28;43mopen\u001b[39;49m\u001b[43m(\u001b[49m\u001b[43mhandle\u001b[49m\u001b[43m,\u001b[49m\u001b[43m \u001b[49m\u001b[43mioargs\u001b[49m\u001b[38;5;241;43m.\u001b[39;49m\u001b[43mmode\u001b[49m\u001b[43m)\u001b[49m\n\u001b[0;32m    866\u001b[0m     handles\u001b[38;5;241m.\u001b[39mappend(handle)\n\u001b[0;32m    868\u001b[0m \u001b[38;5;66;03m# Convert BytesIO or file objects passed with an encoding\u001b[39;00m\n",
      "\u001b[1;31mFileNotFoundError\u001b[0m: [Errno 2] No such file or directory: 'Data/Data_Practice_ML.xlsx'"
     ]
    }
   ],
   "source": [
    "# Đọc dữ liệu từ file Data_Practice_ML.xlsx\n",
    "df_practice = pd.read_excel('Data/Data_Practice_ML.xlsx')\n",
    "df_practice"
   ]
  },
  {
   "cell_type": "code",
   "execution_count": null,
   "metadata": {},
   "outputs": [],
   "source": [
    "# hiển thị 5 bản ghi đầu tiên\n",
    "df_practice.head(5)"
   ]
  },
  {
   "cell_type": "code",
   "execution_count": null,
   "metadata": {},
   "outputs": [],
   "source": [
    "# Hiển thị 5 bản ghi cuối cùng\n",
    "df_practice.tail(5)"
   ]
  },
  {
   "cell_type": "code",
   "execution_count": null,
   "metadata": {},
   "outputs": [],
   "source": [
    "# Hiển thị 5 bản ghi ngẫu nhiên\n",
    "df_practice.sample(5)"
   ]
  },
  {
   "cell_type": "code",
   "execution_count": null,
   "metadata": {},
   "outputs": [],
   "source": [
    "# Hiển thị thông tin cơ bản về các dữ liệu\n",
    "df_practice.info()"
   ]
  },
  {
   "cell_type": "code",
   "execution_count": null,
   "metadata": {},
   "outputs": [],
   "source": [
    "df_practice.isnull().sum()"
   ]
  },
  {
   "cell_type": "code",
   "execution_count": null,
   "metadata": {},
   "outputs": [],
   "source": [
    "#Thông kê tập dữ liệu Train các thuộc tính có dtype: Object\n",
    "df_practice.describe(include=['O'])"
   ]
  },
  {
   "cell_type": "code",
   "execution_count": null,
   "metadata": {},
   "outputs": [],
   "source": [
    "df_practice.describe()"
   ]
  },
  {
   "cell_type": "code",
   "execution_count": null,
   "metadata": {},
   "outputs": [],
   "source": [
    "df_practice['Weight'].plot(kind='hist', rwidth=0.9)\n",
    "\n",
    "plt.title('Biểu đồ phân bố cân nặng')\n",
    "plt.xlabel('Cân nặng')\n",
    "plt.ylabel('Số lượng')\n",
    "\n",
    "plt.show()\n",
    "\n"
   ]
  },
  {
   "cell_type": "code",
   "execution_count": null,
   "metadata": {},
   "outputs": [],
   "source": []
  },
  {
   "cell_type": "code",
   "execution_count": null,
   "metadata": {},
   "outputs": [],
   "source": []
  },
  {
   "cell_type": "code",
   "execution_count": null,
   "metadata": {},
   "outputs": [],
   "source": []
  },
  {
   "cell_type": "code",
   "execution_count": null,
   "metadata": {},
   "outputs": [],
   "source": []
  },
  {
   "cell_type": "markdown",
   "metadata": {},
   "source": [
    "**Yêu cầu 2:**\n",
    "\n",
    "- Kiểm tra các bản ghi trùng lặp, các thông số bất thường trong tập dữ liệu nếu có\n",
    "- Thống kê dữ liệu thiếu (missing) cho từng thuộc tính, và liệt kê ra các bản ghi bị missing tương ứng với thuộc tính đó."
   ]
  },
  {
   "cell_type": "code",
   "execution_count": null,
   "metadata": {},
   "outputs": [],
   "source": [
    "#{HỌC VIÊN VIẾT CODE VÀO ĐÂY!}\n",
    "# hiển thị thông tin tổng quan của dữ liệu\n",
    "df_practice.info()"
   ]
  },
  {
   "cell_type": "markdown",
   "metadata": {},
   "source": [
    "### Trực quan hóa các dữ liệu missing trong data"
   ]
  },
  {
   "cell_type": "code",
   "execution_count": null,
   "metadata": {},
   "outputs": [],
   "source": [
    "# tổng các dữ liệu null\n",
    "df_practice.isnull().sum()"
   ]
  },
  {
   "cell_type": "code",
   "execution_count": null,
   "metadata": {},
   "outputs": [],
   "source": [
    "#Xây dựng hàm thống kê dữ liệu missing trong dataframe:\n",
    "#-----------------------------------------------------\n",
    "#Đầu vào của hàm là 1 biến Dataframe\n",
    "#Đầu ra bao gồm các thông số:\n",
    "#Tổng số cột của file dữ liệu\n",
    "#Tổng số cột có chứa dữ liệu missing\n",
    "#Danh sách các cột chứa dữ liệu missing với 2 thống số:\n",
    "#Tổng số giá trị missing tương ứng với cột đó\n",
    "#Tỷ lệ % dữ liệu missing trên tổng số dữ liệu của cột\n",
    "def missing_values(df):\n",
    "        mis_val = df.isnull().sum()\n",
    "        mis_val_percent = 100 * df.isnull().sum() / len(df)\n",
    "        mis_val_table = pd.concat([mis_val, mis_val_percent], axis=1)\n",
    "        mis_val_table_ren_columns = mis_val_table.rename(\n",
    "        columns = {0 : 'Số giá trị Missing', 1 : 'Tỷ lệ % missing'})\n",
    "        mis_val_table_ren_columns = mis_val_table_ren_columns[\n",
    "            mis_val_table_ren_columns.iloc[:,1] != 0].sort_values(\n",
    "        'Tỷ lệ % missing', ascending=False).round(2)\n",
    "        print (\"File dữ liệu bao gồm có: \" + str(df.shape[1]) + \" cột.\\n\"      \n",
    "            \"Có \" + str(mis_val_table_ren_columns.shape[0]) +\n",
    "              \" cột chứa missing values.\")\n",
    "        return mis_val_table_ren_columns"
   ]
  },
  {
   "cell_type": "code",
   "execution_count": null,
   "metadata": {},
   "outputs": [],
   "source": [
    "print('Số lượng missing data trong tập Train: \\n')\n",
    "missing_values(df_practice)"
   ]
  },
  {
   "cell_type": "markdown",
   "metadata": {},
   "source": [
    "**Nhận xét:**\n",
    "Do tỷ lệ giá trị missing không cao nên ta có thể thực hiện thao thay thế các bản ghi missing bằng cách lấy giá trị có tần suất xuất hiện cao nhất để thực hiện thay thế các bản ghi bị missing mà không ảnh hưởng quá nhiều đến độ chính xác của mô hình dự đoán"
   ]
  },
  {
   "cell_type": "code",
   "execution_count": null,
   "metadata": {},
   "outputs": [],
   "source": [
    "#Trực quan hóa missing:\n",
    "import missingno as mn\n",
    "mn.matrix(df_practice)"
   ]
  },
  {
   "cell_type": "markdown",
   "metadata": {},
   "source": [
    "#### Xử lý thuộc tính Age"
   ]
  },
  {
   "cell_type": "code",
   "execution_count": null,
   "metadata": {},
   "outputs": [],
   "source": [
    "# Hiển thị các bản ghi bị thiếu dữ liệu tuổi\n",
    "df_practice[df_practice['Age'].isnull()]"
   ]
  },
  {
   "cell_type": "code",
   "execution_count": null,
   "metadata": {},
   "outputs": [],
   "source": [
    "# Xác định giá trị tuổi xuất hiện nhiều nhất\n",
    "most_common_age = df_practice['Age'].mode()[0]\n",
    "most_common_age"
   ]
  },
  {
   "cell_type": "code",
   "execution_count": null,
   "metadata": {},
   "outputs": [],
   "source": [
    "# Thay thế các bản ghi bị thiếu dữ liệu tuổi bằng giá trị tuổi xuất hiện nhiều nhất\n",
    "df_practice['Age'].fillna(df_practice['Age'].mode()[0], inplace=True)"
   ]
  },
  {
   "cell_type": "code",
   "execution_count": null,
   "metadata": {},
   "outputs": [],
   "source": [
    "# Kiểm tra lại các bản ghi còn thiếu dữ liệu tuổi không\n",
    "df_practice[df_practice['Age'].isnull()]"
   ]
  },
  {
   "cell_type": "code",
   "execution_count": null,
   "metadata": {},
   "outputs": [],
   "source": [
    "# kiểm tra bệnh nhân có độ tuổi cao >= 200\n",
    "df_practice[df_practice['Age'] >= 200]"
   ]
  },
  {
   "cell_type": "code",
   "execution_count": null,
   "metadata": {},
   "outputs": [],
   "source": [
    "# thay thế dữ liệu tuổi bị sai sang dữ liệu tuổi có tần suất xuất hiện nhiều nhất\n",
    "df_practice.loc[df_practice['Age'] > 200, 'Age'] = most_common_age"
   ]
  },
  {
   "cell_type": "code",
   "execution_count": null,
   "metadata": {},
   "outputs": [],
   "source": [
    "df_practice['Age'].fillna(df_practice['Age'].mode()[0], inplace=True)"
   ]
  },
  {
   "cell_type": "code",
   "execution_count": null,
   "metadata": {},
   "outputs": [],
   "source": [
    "df_practice.describe()"
   ]
  },
  {
   "cell_type": "code",
   "execution_count": null,
   "metadata": {},
   "outputs": [],
   "source": [
    "# kiểm tra bệnh nhân có độ tuổi cao >=140\n",
    "df_practice[df_practice['Age'] >=140]"
   ]
  },
  {
   "cell_type": "code",
   "execution_count": null,
   "metadata": {},
   "outputs": [],
   "source": [
    "df_practice['Age'].plot(kind='hist', rwidth=0.9)\n",
    "plt.title('Biểu đồ phân bố độ tuổi')\n",
    "plt.xlabel('Độ tuổi')\n",
    "plt.ylabel('Số lượng')\n",
    "plt.show()"
   ]
  },
  {
   "cell_type": "markdown",
   "metadata": {},
   "source": [
    "#### Nhận xét: \n",
    "Độ tuổi phân bố của bệnh nhân chủ yếu tập trung ở độ tuổi từ 40-80"
   ]
  },
  {
   "cell_type": "code",
   "execution_count": null,
   "metadata": {},
   "outputs": [],
   "source": [
    "df_practice['Age'].isnull().sum()"
   ]
  },
  {
   "cell_type": "markdown",
   "metadata": {},
   "source": [
    "### Thuộc tính "
   ]
  },
  {
   "cell_type": "code",
   "execution_count": null,
   "metadata": {},
   "outputs": [],
   "source": [
    "# thay đổi \n",
    "df_practice['Shape'] = df_practice['Shape'].replace('IRREGULAR', 'Irregular')"
   ]
  },
  {
   "cell_type": "code",
   "execution_count": null,
   "metadata": {},
   "outputs": [],
   "source": [
    "# Thực hiện kiểm tra tính thiếu sót của dữ liệu thuộc tính Shape\n",
    "# thống kê tỷ lệ phần trăm (%) của hình dạng khối u\n",
    "#Thống kê số lượng bệnh nhân bị bệnh và không bị bệnh đau tim\n",
    "kq_shape = df_practice['Shape'].value_counts()\n",
    "print(kq_shape)\n"
   ]
  },
  {
   "cell_type": "code",
   "execution_count": null,
   "metadata": {},
   "outputs": [],
   "source": [
    "# Trực quan hóa kết quả:\n",
    "import matplotlib.pyplot as plt\n",
    "plt.figure(figsize=(10,5))\n",
    "plt.subplot(1,2,1)\n",
    "plt.bar(['Irregular','Round', 'Oval', 'Lobular'],kq_shape.values)\n",
    "plt.grid(ls='--')\n",
    "\n",
    "plt.subplot(1,2,2)\n",
    "plt.pie(kq_shape.values, labels=['Irregular','Round', 'Oval', 'Lobular'],\n",
    "       autopct='%.2f%%')\n",
    "plt.show()"
   ]
  },
  {
   "cell_type": "code",
   "execution_count": null,
   "metadata": {},
   "outputs": [],
   "source": [
    "# kiểm tra số liệu sai lệch trong thuộc tính shape\n",
    "df_practice['Shape'].isnull().sum()"
   ]
  },
  {
   "cell_type": "code",
   "execution_count": null,
   "metadata": {},
   "outputs": [],
   "source": [
    "# Hiển thị các bản ghi của thuộc tính Shape bị null\n",
    "df_practice.loc[df_practice['Shape'].isnull()]"
   ]
  },
  {
   "cell_type": "code",
   "execution_count": null,
   "metadata": {},
   "outputs": [],
   "source": [
    "# thay thế các bản ghi bị lỗi bằng cách thay thế giá trị null bằng giá trị có tần suất xuất hiện nhiều nhất \n",
    "# --> giá trị: Irregular\n",
    "df_practice['Shape'].fillna(df_practice['Shape'].mode()[0], inplace=True)"
   ]
  },
  {
   "cell_type": "code",
   "execution_count": null,
   "metadata": {},
   "outputs": [],
   "source": [
    "# kiểm tra thuộc tính margin \n",
    "df_practice.loc[df_practice['Margin'].isnull()]"
   ]
  },
  {
   "cell_type": "code",
   "execution_count": null,
   "metadata": {},
   "outputs": [],
   "source": [
    "kq_margin = df_practice['Margin'].value_counts()\n",
    "print(kq_margin)"
   ]
  },
  {
   "cell_type": "code",
   "execution_count": null,
   "metadata": {},
   "outputs": [],
   "source": [
    "df_practice['Margin'] = df_practice['Margin'].replace('SPICULATED', 'Spiculated')"
   ]
  },
  {
   "cell_type": "code",
   "execution_count": null,
   "metadata": {},
   "outputs": [],
   "source": [
    "# # Trực quan hóa kết quả:\n",
    "# import matplotlib.pyplot as plt\n",
    "# plt.figure(figsize=(5, 10))\n",
    "# # plt.subplot(1,2,1)\n",
    "# plt.bar(['Circumscribed','ill-defined', 'Spiculated', 'Obscured', 'Microlobulated'],kq_margin.values)\n",
    "# plt.grid(ls='--')\n",
    "# plt.title('Biểu đồ mô tả dữ liệu thuộc tính Margin của tập data practice')\n",
    "\n",
    "\n",
    "# # plt.subplot(1,2,2)\n",
    "# # plt.pie(kq_margin.values, labels=['Circumscribed','ill-defined', 'Spiculated', 'Obscured', 'Microlobulated'],\n",
    "# #        autopct='%.2f%%')\n",
    "# plt.show()"
   ]
  },
  {
   "cell_type": "code",
   "execution_count": null,
   "metadata": {},
   "outputs": [],
   "source": [
    "# plt.pie(kq_margin.values, labels=['Circumscribed','ill-defined', 'Spiculated', 'Obscured', 'Microlobulated'],\n",
    "#        autopct='%.2f%%')\n",
    "# plt.show()\n"
   ]
  },
  {
   "cell_type": "code",
   "execution_count": null,
   "metadata": {},
   "outputs": [],
   "source": [
    "# thay thế các bản ghi bị lỗi bằng cách thay thế giá trị null bằng giá trị có tần suất xuất hiện nhiều nhất \n",
    "# --> giá trị: Irregular\n",
    "df_practice['Margin'].fillna(df_practice['Margin'].mode()[0], inplace=True)"
   ]
  },
  {
   "cell_type": "markdown",
   "metadata": {},
   "source": [
    "### Kiểm tra thuộc tính Density \n",
    "\n",
    "Thuộc tính cho biết mật độ của khối u, bao gồm 4 giá trị: High, Iso, Low, Fat-containing"
   ]
  },
  {
   "cell_type": "code",
   "execution_count": null,
   "metadata": {},
   "outputs": [],
   "source": [
    "# KIỂM TRA THUỘC TÍNH DENSITY\n",
    "# Hiển thị các bản ghi của thuộc tính Shape bị null\n",
    "df_practice.loc[df_practice['Density'].isnull()]"
   ]
  },
  {
   "cell_type": "code",
   "execution_count": null,
   "metadata": {},
   "outputs": [],
   "source": [
    "# Kiểm tra các thuộc tính của Density\n",
    "df_practice['Density'].value_counts()"
   ]
  },
  {
   "cell_type": "markdown",
   "metadata": {},
   "source": [
    "Ta nhận thấy có một thuộc tính LOW có số lượng là 01 cần phải thay đổi\n",
    "-> đổi LOW thành low"
   ]
  },
  {
   "cell_type": "code",
   "execution_count": null,
   "metadata": {},
   "outputs": [],
   "source": [
    "# lọc các thành phần của Density là 'LOW'\n",
    "df_practice.loc[df_practice['Density'] == 'LOW'] "
   ]
  },
  {
   "cell_type": "code",
   "execution_count": null,
   "metadata": {},
   "outputs": [],
   "source": [
    "# Đổi LOW thành low\n",
    "df_practice['Density'] = df_practice['Density'].replace('LOW', 'Low')"
   ]
  },
  {
   "cell_type": "code",
   "execution_count": null,
   "metadata": {},
   "outputs": [],
   "source": [
    "# Kiểm tra lại\n",
    "kq_density = df_practice['Density'].value_counts()\n",
    "print(kq_density)"
   ]
  },
  {
   "cell_type": "code",
   "execution_count": null,
   "metadata": {},
   "outputs": [],
   "source": [
    "# Trực quan hóa kết quả:\n",
    "import matplotlib.pyplot as plt\n",
    "plt.figure(figsize=(20,10))\n",
    "plt.bar(['Low','Iso', 'High', 'Fat-containing'],kq_density.values)\n",
    "plt.grid(ls='--')\n",
    "plt.show()"
   ]
  },
  {
   "cell_type": "code",
   "execution_count": null,
   "metadata": {},
   "outputs": [],
   "source": [
    "# Kiểm tra các số lượng giá trị null của Density\n",
    "df_practice['Density'].isnull().sum()"
   ]
  },
  {
   "cell_type": "code",
   "execution_count": null,
   "metadata": {},
   "outputs": [],
   "source": [
    "# Thay thế các giá trị null bằng giá trị có tần suất xuất hiện nhiều nhất\n",
    "df_practice['Density'].fillna(df_practice['Density'].mode()[0], inplace=True)"
   ]
  },
  {
   "cell_type": "code",
   "execution_count": null,
   "metadata": {},
   "outputs": [],
   "source": [
    "# kiểm tra lại xem còn giá trị null không \n",
    "df_practice.isnull().sum()"
   ]
  },
  {
   "cell_type": "markdown",
   "metadata": {},
   "source": [
    "**Yêu cầu 3:** \n",
    "\n",
    "- Phân tích, thống kê - xác định mức độ ảnh hưởng của các thuộc tính độc lập [Age, Shape, Margin, Density] tới thuộc tính phụ thuộc [Target]\n",
    "- Xác định thuộc tính quan trọng, không quan trọng ảnh hưởng việc u lành tính hay ác tính của bệnh nhân"
   ]
  },
  {
   "cell_type": "code",
   "execution_count": null,
   "metadata": {},
   "outputs": [],
   "source": [
    "#{HỌC VIÊN VIẾT CODE VÀO ĐÂY!}\n",
    "\n",
    "\n",
    "\n",
    "\n",
    "\n",
    "\n"
   ]
  },
  {
   "cell_type": "markdown",
   "metadata": {},
   "source": [
    "### 1. Phân tích mức độ ảnh hưởng của thuộc tính độc lập đến thuộc tính Target\n",
    "------\n",
    "#### a. Thuộc tính Age"
   ]
  },
  {
   "cell_type": "code",
   "execution_count": null,
   "metadata": {},
   "outputs": [],
   "source": [
    "plt.hist(df_practice.Age,bins=20)\n",
    "plt.grid(True)\n",
    "plt.show()"
   ]
  },
  {
   "cell_type": "code",
   "execution_count": null,
   "metadata": {},
   "outputs": [],
   "source": [
    "#Thống kê liệu tuổi bệnh nhân bị mắc bệnh theo độ tuổi\n",
    "import seaborn as sns\n",
    "%matplotlib inline\n",
    "g = sns.FacetGrid(df_practice, col='Target')\n",
    "g.map(plt.hist, 'Age', bins=40)\n",
    "plt.show()"
   ]
  },
  {
   "cell_type": "markdown",
   "metadata": {},
   "source": [
    "Quan sát biểu đồ dữ liệu tuổi ảnh hưởng đến kết quả của các bênh nhân ta thấy\n",
    "- Phần lớn các bệnh nhân bị mắc bệnh nằm trong khoảng độ tuổi từ 40 - 80 tuổi, và nhiều nhất là từ 50 -70 tuổi\n",
    "- ĐỘ tuổi từ 0 - 40 tuổi có tỷ lệ mắc bệnh thấp hơn \n",
    "------\n",
    "\n",
    "***NHẬN XÉT***\n",
    "*  Thuộc tính Age ảnh hưởng tới khả năng mắc bệnh của bệnh nhân --> đưa vào mô hình huấn luyện\n",
    "*  Xử lý một số dữ liệu missing của thuộc tính age\n",
    "*  Nhóm các độ tuổi theo từng group"
   ]
  },
  {
   "cell_type": "code",
   "execution_count": null,
   "metadata": {},
   "outputs": [],
   "source": [
    "# Đặc tính độ tuổi - Age\n",
    "df_practice[['Age', 'Target']].groupby(['Age'], as_index=False).mean().sort_values(by='Target', ascending=False)"
   ]
  },
  {
   "cell_type": "markdown",
   "metadata": {},
   "source": [
    "#### b.  Thuộc tính Shape\n",
    "Shape: Thuộc tính cho biết hình dạng của khối u, bao gồm 4 giá trị: Round, Oval, Lobular, Irregular"
   ]
  },
  {
   "cell_type": "code",
   "execution_count": null,
   "metadata": {},
   "outputs": [],
   "source": [
    "plt.hist(df_practice.Shape)\n",
    "plt.grid(True)\n",
    "plt.show()"
   ]
  },
  {
   "cell_type": "code",
   "execution_count": null,
   "metadata": {},
   "outputs": [],
   "source": [
    "#Thống kê liệu hình dáng khối u\n",
    "import seaborn as sns\n",
    "%matplotlib inline\n",
    "g = sns.FacetGrid(df_practice, col='Target')\n",
    "g.map(plt.hist, 'Shape')\n",
    "plt.show()"
   ]
  },
  {
   "cell_type": "code",
   "execution_count": null,
   "metadata": {},
   "outputs": [],
   "source": [
    "df_practice[['Shape', 'Target']].groupby(['Shape'], as_index=False).mean().sort_values(by='Target', ascending=False)"
   ]
  },
  {
   "cell_type": "markdown",
   "metadata": {},
   "source": [
    "Quan sát biểu đồ ta nhận thấy:\n",
    "- Với hình dạng khối u có hình Irregular thì tỷ lệ mắc bệnh cao nhất xấp xỉ 75.87%\n",
    "- Đối với hình dạng khối u Oval và Round thì tỷ lệ mắc ung thư là thấp hơn cả \n",
    "- Còn với hình dạng khối u hình Lobular thì tỷ lệ mắc và không mắc là tương đương nhau\n",
    "-----\n",
    "\n",
    "\n",
    "***NHẬN XÉT:***\n",
    "- Đây là thuộc tính quan trọng cần phải đưa vào mô hình để phân tích\n"
   ]
  },
  {
   "cell_type": "markdown",
   "metadata": {},
   "source": [
    "#### c. Margin\n",
    "Margin: Thuộc tính cho biết dạng đường biên của khối u, bao gồm 5 giá trị: Circumscribed, Microlobulated, Obscured, ill-defined, Spiculated\n"
   ]
  },
  {
   "cell_type": "code",
   "execution_count": null,
   "metadata": {},
   "outputs": [],
   "source": [
    "plt.hist(df_practice.Margin)\n",
    "plt.grid(True)\n",
    "plt.show()"
   ]
  },
  {
   "cell_type": "code",
   "execution_count": null,
   "metadata": {},
   "outputs": [],
   "source": [
    "g = sns.FacetGrid(df_practice, col='Target', height=6, aspect=1.5)\n",
    "g.map(plt.hist, 'Margin')\n",
    "plt.show()"
   ]
  },
  {
   "cell_type": "code",
   "execution_count": null,
   "metadata": {},
   "outputs": [],
   "source": [
    "df_practice[['Margin', 'Target']].groupby(['Margin'], as_index=False).mean().sort_values(by='Target', ascending=False)"
   ]
  },
  {
   "cell_type": "code",
   "execution_count": null,
   "metadata": {},
   "outputs": [],
   "source": [
    "df_practice['Margin'].value_counts()"
   ]
  },
  {
   "cell_type": "markdown",
   "metadata": {},
   "source": [
    "### **Nhận xét:**\n",
    "---\n",
    "- Ta thấy thuộc tính Margin ảnh hưởng khá nhiều đến kết quả của các bệnh nhân \n",
    "- Trong đó giá trị Circumscribed có xu hướng cao hơn với các bệnh nhân có u lành tính và thấp ở u ác tính\n",
    "- ill-defined, Spiculated và Obscured thì có xu hướng cao hơn ở các bệnh nhân u ác tính và thấp hơn ở các bệnh nhân u lành tính\n",
    "- Còn Microlobulated thì có tỷ lệ thấp ở cả bệnh nhân u lành và u ác"
   ]
  },
  {
   "cell_type": "code",
   "execution_count": null,
   "metadata": {},
   "outputs": [],
   "source": []
  },
  {
   "cell_type": "markdown",
   "metadata": {},
   "source": [
    "#### d. Density\n",
    "Density: Thuộc tính cho biết mật độ của khối u, bao gồm 4 giá trị: High, Iso, Low, Fat-containing"
   ]
  },
  {
   "cell_type": "code",
   "execution_count": null,
   "metadata": {},
   "outputs": [],
   "source": [
    "plt.hist(df_practice.Density)\n",
    "plt.grid(True)\n",
    "plt.show()"
   ]
  },
  {
   "cell_type": "code",
   "execution_count": null,
   "metadata": {},
   "outputs": [],
   "source": [
    "#Thống kê liệu mật độ khối u\n",
    "g = sns.FacetGrid(df_practice, col='Target')\n",
    "g.map(plt.hist, 'Density')\n",
    "plt.show()"
   ]
  },
  {
   "cell_type": "code",
   "execution_count": null,
   "metadata": {},
   "outputs": [],
   "source": [
    "df_practice[['Density', 'Target']].groupby(['Density'], as_index=False).mean().sort_values(by='Density', ascending=False)"
   ]
  },
  {
   "cell_type": "markdown",
   "metadata": {},
   "source": [
    "***Nhận xét***\n",
    "- Ta thấy dù mật độ khối u ở giá trị nào thì tỷ lệ mắc ung thư cũng không quá ảnh hưởng.\n",
    "- Giá trị Low luôn cao ở cả bệnh nhân mắc bệnh và không mắc bệnh\n",
    "- Giá trị Iso, High và Fat-containing luôn thấp ở cả người mắc và không mắc\n",
    "-  từ biểu đồ thống kê ta thấy thuộc tính Density không có quá nhiều ảnh hưởng đến tỷ lệ target.\n",
    "-----\n",
    "=> Không lấy thuộc tính Density đưa vào mô hình học máy"
   ]
  },
  {
   "cell_type": "markdown",
   "metadata": {},
   "source": [
    "### 2.Làm sạch dữ liệu\n",
    "#### 2.1. Loại bỏ các dữ liệu không cần thiết\n",
    "----\n",
    "* Loại bỏ các thuộc tính không cần thiết và ít ảnh hưởng tới kết quả của  bài toán\n",
    "\n",
    "----\n",
    "   1. **PatienID:** Thuộc tính này chỉ mà id, đánh số thứ tự của bệnh nhân (Bỏ)\n",
    "   2. **Sex:** Thuộc tính này 100% là female (bỏ)\n"
   ]
  },
  {
   "cell_type": "code",
   "execution_count": null,
   "metadata": {},
   "outputs": [],
   "source": [
    "df_practice"
   ]
  },
  {
   "cell_type": "code",
   "execution_count": null,
   "metadata": {},
   "outputs": [],
   "source": [
    "#Tạo một DataFrame mới df_data loại bỏ đi 2 thuộc tính ko quan trọng\n",
    "df_data = df_practice.drop(['PatientID','Sex'], axis=1)\n",
    "df_data.info()"
   ]
  },
  {
   "cell_type": "code",
   "execution_count": null,
   "metadata": {},
   "outputs": [],
   "source": [
    "# dữ liệu mới sau khi đã bỏ các thuộc tính không cần thiết\n",
    "df_data.head(5)"
   ]
  },
  {
   "cell_type": "code",
   "execution_count": null,
   "metadata": {},
   "outputs": [],
   "source": []
  },
  {
   "cell_type": "markdown",
   "metadata": {},
   "source": [
    "#### Ta thấy có sự tương quan giữa hai thuộc tính Margin và Shape đối với Target"
   ]
  },
  {
   "cell_type": "code",
   "execution_count": null,
   "metadata": {},
   "outputs": [],
   "source": [
    "grid = sns.FacetGrid(df_data, row='Margin', col='Shape')\n",
    "grid.map(plt.hist, 'Target', alpha=.5, bins=20)\n",
    "grid.add_legend()\n",
    "plt.show()"
   ]
  },
  {
   "cell_type": "markdown",
   "metadata": {},
   "source": [
    "**NHẬN XÉT:** các cặp giá trị margin - shape\n",
    "\n",
    "- ta thấy ở các cặp: (Spiculated-Irregular), (ill-defined-Irregular), (Obscured--Irregular) thì tỷ lệ mắc u lành tính cao ở các bệnh nhân \n",
    "- Còn các cặp (Circumscribed-Round) và (Circumscribed-Oval) thì có tỷ lệ người bệnh u lành tính cao hơn"
   ]
  },
  {
   "cell_type": "code",
   "execution_count": null,
   "metadata": {},
   "outputs": [],
   "source": [
    "grid = sns.FacetGrid(df_data, row='Density', col='Shape')\n",
    "grid.map(plt.hist, 'Target', alpha=.5, bins=20)\n",
    "grid.add_legend()\n",
    "plt.show()"
   ]
  },
  {
   "cell_type": "code",
   "execution_count": null,
   "metadata": {},
   "outputs": [],
   "source": []
  },
  {
   "cell_type": "markdown",
   "metadata": {},
   "source": [
    "**Yêu cầu 4:** \n",
    "- Đề xuất và Áp dụng các kỹ chuẩn hóa, tiền xử lý dữ liệu phù hợp cho tập dữ liệu này để có thể đưa vào các mô hình học máy\n",
    "- Lưu kết quả dữ liệu sau xử lý ra file Data_Practice_ML_OK.csv"
   ]
  },
  {
   "cell_type": "code",
   "execution_count": null,
   "metadata": {},
   "outputs": [],
   "source": [
    "#{HỌC VIÊN VIẾT CODE VÀO ĐÂY!}\n",
    "missing_values(df_data)"
   ]
  },
  {
   "cell_type": "markdown",
   "metadata": {},
   "source": [
    "#### Xử lý thuộc tính Age"
   ]
  },
  {
   "cell_type": "code",
   "execution_count": null,
   "metadata": {},
   "outputs": [],
   "source": [
    "#Tính tỷ lệ bệnh nhân theo từng khoảng tuổi:\n",
    "n=5\n",
    "df_temp = df_data.copy()\n",
    "df_temp['AgeBand'] = pd.cut(df_temp['Age'], n)\n",
    "df_temp[['AgeBand', 'Target']].groupby(['AgeBand'], as_index=False).mean().sort_values(by='AgeBand', ascending=True)"
   ]
  },
  {
   "cell_type": "markdown",
   "metadata": {},
   "source": [
    "\n",
    "* Từ 80 --> 96 tuổi:   có tỷ lệ cao nhất (88.88%)\n",
    "* Từ 65 --> 80 tuổi:   có tỷ lệ cao thứ nhì (72.69%)\n",
    "* Từ 50 --> 65 tuổi:   có tỷ lệ cao thứ ba (46.17%)\n",
    "* Từ 34 --> 50 tuổi:   có tỷ lệ cao thứ tư (26.9%)\n",
    "* từ 18 --> 34 tuổi:   có tỷ lệ thấp nhất (5.7%)"
   ]
  },
  {
   "cell_type": "code",
   "execution_count": null,
   "metadata": {},
   "outputs": [],
   "source": [
    "df_temp.head()"
   ]
  },
  {
   "cell_type": "markdown",
   "metadata": {},
   "source": [
    "**Thay thế tuổi tuyệt đối của các bệnh nhân bằng khoảng mà tuổi thuộc vào:**\n",
    "* Từ 80 --> 96 tuổi:   --> Age = 0\n",
    "* Từ 65 --> 80 tuổi:   --> Age = 1\n",
    "* Từ 49 --> 65 tuổi:   --> Age = 2\n",
    "* Từ 34 --> 49 tuổi:   --> Age = 3\n",
    "* Từ 18 --> 34 tuổi:   --> Age = 4"
   ]
  },
  {
   "cell_type": "code",
   "execution_count": null,
   "metadata": {},
   "outputs": [],
   "source": [
    "df_data.loc[(df_data['Age'] > 80) & (df_data['Age'] <= 96), 'Age'] = 0\n",
    "df_data.loc[(df_data['Age'] > 65) & (df_data['Age'] <= 80), 'Age'] = 1\n",
    "df_data.loc[(df_data['Age'] > 49) & (df_data['Age'] <= 65), 'Age'] = 2\n",
    "df_data.loc[(df_data['Age'] > 34) & (df_data['Age'] <= 49), 'Age'] = 3\n",
    "df_data.loc[(df_data['Age'] > 18) & (df_data['Age'] <= 34), 'Age'] = 4"
   ]
  },
  {
   "cell_type": "code",
   "execution_count": null,
   "metadata": {},
   "outputs": [],
   "source": [
    "df_data"
   ]
  },
  {
   "cell_type": "code",
   "execution_count": null,
   "metadata": {},
   "outputs": [],
   "source": [
    "#Ép Age sang kiểu dữ liệu số nguyên\n",
    "df_data['Age'] = df_data['Age'].astype(int)\n",
    "df_data.head()"
   ]
  },
  {
   "cell_type": "markdown",
   "metadata": {},
   "source": [
    "#### Xử lý thuộc tính Margin"
   ]
  },
  {
   "cell_type": "code",
   "execution_count": null,
   "metadata": {},
   "outputs": [],
   "source": []
  },
  {
   "cell_type": "code",
   "execution_count": null,
   "metadata": {},
   "outputs": [],
   "source": [
    "# Số liệu của các hình dạng khối u\n",
    "df_data['Margin'].value_counts()"
   ]
  },
  {
   "cell_type": "code",
   "execution_count": null,
   "metadata": {},
   "outputs": [],
   "source": [
    "# Tỷ lệ phần trăm của các hình dạng khối u\n",
    "df_data['Margin'].value_counts(normalize=True)"
   ]
  },
  {
   "cell_type": "markdown",
   "metadata": {},
   "source": [
    "**Thay thế các dạng đường biên của khối u thành các con số**\n",
    "- Hình Circumscribed: 0\n",
    "- ill-defined       : 1\n",
    "- Spiculated        : 2\n",
    "- Obscured          : 3\n",
    "- Microlobulated    : 4"
   ]
  },
  {
   "cell_type": "code",
   "execution_count": null,
   "metadata": {},
   "outputs": [],
   "source": [
    "df_data.loc[(df_data['Margin'] == 'Circumscribed'), 'Margin'] = 0\n",
    "df_data.loc[(df_data['Margin'] == 'ill-defined'), 'Margin'] = 1\n",
    "df_data.loc[(df_data['Margin'] == 'Spiculated'), 'Margin'] = 2\n",
    "df_data.loc[(df_data['Margin'] == 'Obscured'), 'Margin'] = 3\n",
    "df_data.loc[(df_data['Margin'] == 'Microlobulated'), 'Margin'] = 4\n"
   ]
  },
  {
   "cell_type": "code",
   "execution_count": null,
   "metadata": {},
   "outputs": [],
   "source": [
    "df_data"
   ]
  },
  {
   "cell_type": "code",
   "execution_count": null,
   "metadata": {},
   "outputs": [],
   "source": []
  },
  {
   "cell_type": "code",
   "execution_count": null,
   "metadata": {},
   "outputs": [],
   "source": []
  },
  {
   "cell_type": "markdown",
   "metadata": {},
   "source": [
    "#### Xử lý thuộc tính Shape"
   ]
  },
  {
   "cell_type": "code",
   "execution_count": null,
   "metadata": {},
   "outputs": [],
   "source": [
    "df_data['Shape'].value_counts()"
   ]
  },
  {
   "cell_type": "code",
   "execution_count": null,
   "metadata": {},
   "outputs": [],
   "source": [
    "df_data['Shape'].value_counts(normalize=True)"
   ]
  },
  {
   "cell_type": "markdown",
   "metadata": {},
   "source": [
    "**Thay thế các hình dạng của khối u thành các con số**\n",
    "- Hình Irregular: 0\n",
    "- Round       : 1\n",
    "- Oval        : 2\n",
    "- Lobular     : 3\n"
   ]
  },
  {
   "cell_type": "code",
   "execution_count": null,
   "metadata": {},
   "outputs": [],
   "source": [
    "df_data.loc[(df_data['Shape'] == 'Irregular'), 'Shape'] = 0\n",
    "df_data.loc[(df_data['Shape'] == 'Round'), 'Shape'] = 1\n",
    "df_data.loc[(df_data['Shape'] == 'Oval'), 'Shape'] = 2\n",
    "df_data.loc[(df_data['Shape'] == 'Lobular'), 'Shape'] = 3"
   ]
  },
  {
   "cell_type": "code",
   "execution_count": null,
   "metadata": {},
   "outputs": [],
   "source": [
    "df_data"
   ]
  },
  {
   "cell_type": "markdown",
   "metadata": {},
   "source": [
    "#### Xử lý thuộc tính Density"
   ]
  },
  {
   "cell_type": "code",
   "execution_count": null,
   "metadata": {
    "scrolled": true
   },
   "outputs": [],
   "source": [
    "# Các giá trị của thuộc tính Density\n",
    "df_data['Density'].value_counts()"
   ]
  },
  {
   "cell_type": "code",
   "execution_count": null,
   "metadata": {},
   "outputs": [],
   "source": [
    "# tỷ lệ % của các giá trị của thuộc tính Density\n",
    "df_data['Density'].value_counts(normalize=True)"
   ]
  },
  {
   "cell_type": "markdown",
   "metadata": {},
   "source": [
    "**Nhận xét**\n",
    "\n",
    "- ta thấy giá trị Low chiếm tỷ lệ cao nhất với 90.95%\n",
    "- giá trị Iso là 6.14% và \n",
    "- cuối cùng là Fat-containing và High chiếm tỷ lệ thấp nhất là 1.25% và 1.66%"
   ]
  },
  {
   "cell_type": "markdown",
   "metadata": {},
   "source": [
    "**Quy đổi các giá trị sang dạng số**\n",
    "\n",
    "- Low -> 0\n",
    "- Iso -> 1\n",
    "- High -> 2\n",
    "- Fat-containing -> 3"
   ]
  },
  {
   "cell_type": "code",
   "execution_count": null,
   "metadata": {},
   "outputs": [],
   "source": [
    "df_data.loc[(df_data['Density'] == 'Low'), 'Density'] = 0\n",
    "df_data.loc[(df_data['Density'] == 'Iso'), 'Density'] = 1\n",
    "df_data.loc[(df_data['Density'] == 'High'), 'Density'] = 2\n",
    "df_data.loc[(df_data['Density'] == 'Fat-containing'), 'Density'] = 3"
   ]
  },
  {
   "cell_type": "code",
   "execution_count": null,
   "metadata": {},
   "outputs": [],
   "source": [
    "df_data.head()"
   ]
  },
  {
   "cell_type": "code",
   "execution_count": null,
   "metadata": {},
   "outputs": [],
   "source": []
  },
  {
   "cell_type": "markdown",
   "metadata": {},
   "source": [
    "#### Xử lý thuộc tính weight"
   ]
  },
  {
   "cell_type": "code",
   "execution_count": null,
   "metadata": {},
   "outputs": [],
   "source": [
    "#Tính tỷ lệ bệnh nhân theo từng khoảng tuổi:\n",
    "n=5\n",
    "df_temp = df_data.copy()\n",
    "df_temp['WeightBand'] = pd.cut(df_temp['Weight'], n)\n",
    "df_temp[['WeightBand', 'Target']].groupby(['WeightBand'], as_index=False).mean().sort_values(by='WeightBand', ascending=True)"
   ]
  },
  {
   "cell_type": "markdown",
   "metadata": {},
   "source": [
    "**Thay thế cân nặng của bệnh nhân bằng khoảng mà cân nặng thuộc vào:**\n",
    "* Từ 45 --> 52 kg:   --> Weight = 0\n",
    "* Từ 52 --> 59 kg:   --> Weight = 1\n",
    "* Từ 59 --> 66 kg:   --> Weight = 2\n",
    "* Từ 66 --> 73 kg:   --> Weight = 3\n",
    "* Từ 73kg trở lên:   --> Weight = 4"
   ]
  },
  {
   "cell_type": "code",
   "execution_count": null,
   "metadata": {},
   "outputs": [],
   "source": [
    "df_data.loc[(df_data['Weight'] > 45) & (df_data['Weight'] <= 52), 'Weight'] = 0\n",
    "df_data.loc[(df_data['Weight'] > 52) & (df_data['Weight'] <= 59), 'Weight'] = 1\n",
    "df_data.loc[(df_data['Weight'] > 59) & (df_data['Weight'] <= 66), 'Weight'] = 2\n",
    "df_data.loc[(df_data['Weight'] > 66) & (df_data['Weight'] <= 73), 'Weight'] = 3\n",
    "df_data.loc[(df_data['Weight'] > 73), 'Weight'] = 4"
   ]
  },
  {
   "cell_type": "code",
   "execution_count": null,
   "metadata": {},
   "outputs": [],
   "source": [
    "df_data"
   ]
  },
  {
   "cell_type": "code",
   "execution_count": null,
   "metadata": {},
   "outputs": [],
   "source": [
    "# nhiệm vụ là: xây dựng một mô hình học máy dự đoán ung thư vú"
   ]
  },
  {
   "cell_type": "code",
   "execution_count": null,
   "metadata": {},
   "outputs": [],
   "source": [
    "# Ghi bản phân tích ra một file csv\n",
    "df_data.to_csv('Data_Practice4_ok.csv',index=None)\n"
   ]
  },
  {
   "cell_type": "code",
   "execution_count": null,
   "metadata": {},
   "outputs": [],
   "source": [
    "#Gọi các thư viện sử dụng cho Project:\n",
    "# Data analysis and wrangling:\n",
    "import pandas as pd\n",
    "import numpy as np\n",
    "\n",
    "# visualization:\n",
    "import matplotlib.pyplot as plt\n",
    "%matplotlib inline\n",
    "#---------------------------------------\n",
    "import warnings\n",
    "warnings.filterwarnings('ignore')"
   ]
  },
  {
   "cell_type": "code",
   "execution_count": null,
   "metadata": {},
   "outputs": [],
   "source": [
    "# Kiểm tra độ cân bằng của dữ liệu\n",
    "df_data.value_counts()"
   ]
  },
  {
   "cell_type": "code",
   "execution_count": null,
   "metadata": {},
   "outputs": [],
   "source": [
    "#Kiểm tra cân bằng dữ liệu\n",
    "check = df_data['Target'].value_counts()\n",
    "print(check)\n",
    "\n",
    "\n",
    "# trực quan hóa dữ liệu\n",
    "plt.figure(figsize=(10,5))\n",
    "plt.subplot(1,2,1)\n",
    "plt.bar(['0: U lành tính', '1: U ác tính'],\n",
    "       check.values)\n",
    "plt.grid('--')\n",
    "\n",
    "plt.subplot(1,2,2)\n",
    "plt.pie(check.values,\n",
    "       labels=['0: U lành tính', '1: U ác tính'],\n",
    "       autopct='%.1f%%')\n",
    "\n",
    "plt.show()"
   ]
  },
  {
   "cell_type": "markdown",
   "metadata": {},
   "source": [
    "**Nhận xét**\n",
    "\n",
    "- Tập dữ liệu khá cân bằng va lớp 0 (u lành tính) chiếm ưu thế hơn"
   ]
  },
  {
   "cell_type": "markdown",
   "metadata": {},
   "source": [
    "**Phân tách dữ liệu**\n",
    "- ta chia tập dữ liệu thành hai phần : Biến đầu vào X và nhãn dán y\n",
    "- ta có 6 thuộc tính trong đó: \n",
    "    - Biến đầu ra X có 5 thuộc tính độc lập là: Age, Weight, Shape, Margin, Density\n",
    "    - Nhãn dán y có 1 thuộc tính phụ thuộc target"
   ]
  },
  {
   "cell_type": "code",
   "execution_count": null,
   "metadata": {},
   "outputs": [],
   "source": [
    "df_data.head()"
   ]
  },
  {
   "cell_type": "code",
   "execution_count": null,
   "metadata": {},
   "outputs": [],
   "source": [
    "# tách biến độc lập hay đầu vào của mô hình\n",
    "X = df_data.loc[:,['Age', 'Weight', 'Shape', 'Margin', 'Density']].values\n",
    "X"
   ]
  },
  {
   "cell_type": "code",
   "execution_count": null,
   "metadata": {},
   "outputs": [],
   "source": [
    "# kiểm tra biến có kích thước bao nhiêu\n",
    "X.shape"
   ]
  },
  {
   "cell_type": "code",
   "execution_count": null,
   "metadata": {},
   "outputs": [],
   "source": [
    "# lấy biến phụ thuôc - đầu ra của mô hình\n",
    "y = df_data.loc[:, 'Target'].values\n",
    "y"
   ]
  },
  {
   "cell_type": "code",
   "execution_count": null,
   "metadata": {},
   "outputs": [],
   "source": [
    "# kích thước của biến phụ thuộc y\n",
    "y.shape"
   ]
  },
  {
   "cell_type": "markdown",
   "metadata": {},
   "source": [
    "###  Tách tập dữ liệu ra tập Training - Test: \n",
    "---\n",
    "1. Biến độc lập X --> X_train, X_test\n",
    "2. Biến phụ thuộc y --> y_train, y_test\n",
    "\n",
    "* Tập Training set (X_train, y_train): dùng để huấn luyện mô hình (80%)\n",
    "* Tập Test set (X_test, y_test): dùng để kiểm thử mô hình (20%)"
   ]
  },
  {
   "cell_type": "code",
   "execution_count": null,
   "metadata": {},
   "outputs": [],
   "source": [
    "#Gọi hàm tách dữ liệu train_test_split trong thư viện sklearn.model_selection:\n",
    "from sklearn.model_selection import train_test_split\n",
    "# thực hiện chia tỷ lệ  80:20\n",
    "X_train, X_test, y_train, y_test = train_test_split(X,y,\n",
    "                                                    # test_size=0.2 # kích thước tập test khai báo là 20%\n",
    "                                                   train_size=0.8, # kích thước tập train\n",
    "                                                   test_size=0.2,# kích thược tập test\n",
    "                                                   shuffle=True) \n",
    "\n",
    "print('Tổng số mấu trong dữ liệu: ', len(y))\n",
    "print('Số mẫu trong tập Train: ', len(y_train))\n",
    "print('Số mẫu trong tập Test: ', len(y_test))"
   ]
  },
  {
   "cell_type": "code",
   "execution_count": null,
   "metadata": {},
   "outputs": [],
   "source": [
    "# Dữ liệu tập Train\n",
    "print(X_train)\n",
    "print('Kích thước X_train: ', X_train.shape)\n"
   ]
  },
  {
   "cell_type": "code",
   "execution_count": null,
   "metadata": {},
   "outputs": [],
   "source": [
    "print('Kích thước y_train: ', y_train.shape)\n",
    "print(y_train)\n",
    "\n"
   ]
  },
  {
   "cell_type": "code",
   "execution_count": null,
   "metadata": {},
   "outputs": [],
   "source": [
    "# Dữ liệu tập Test\n",
    "print(X_train)\n",
    "print('Kích thước X_test: ', X_test.shape)\n"
   ]
  },
  {
   "cell_type": "code",
   "execution_count": null,
   "metadata": {},
   "outputs": [],
   "source": [
    "print('Kích thước y_test: ', y_test.shape)\n",
    "print(y_test)\n",
    "\n"
   ]
  },
  {
   "cell_type": "markdown",
   "metadata": {},
   "source": [
    "### Xây dựng bài toán KNN cho bài toán phân lớp\n",
    "\n",
    "---\n",
    "\n",
    "Khai báo model KNN sử dụng thư viện sklearn"
   ]
  },
  {
   "cell_type": "code",
   "execution_count": null,
   "metadata": {},
   "outputs": [],
   "source": [
    "#Gọi thư viện sklearn với thuật toán phân lớp KNN\n",
    "from sklearn.neighbors import KNeighborsClassifier \n",
    "\n",
    "#Khai báo model KNN sử dụng các tham số mặc định\n",
    "KNN_practice1 = KNeighborsClassifier(n_neighbors=5) #lấy ra 5 bệnh nhân gần nhất\n",
    "\n",
    "#Hiển thị danh sách tham số: Model.get_params()\n",
    "KNN_practice1.get_params()\n"
   ]
  },
  {
   "cell_type": "markdown",
   "metadata": {},
   "source": [
    "### Huấn luyện mô hình\n"
   ]
  },
  {
   "cell_type": "code",
   "execution_count": null,
   "metadata": {},
   "outputs": [],
   "source": [
    "#Thực hiện huấn luyện với dữ liệu tập train: Model.fit(X_train,y_train)\n",
    "KNN_practice1.fit(X_train, y_train)\n",
    "\n"
   ]
  },
  {
   "cell_type": "code",
   "execution_count": null,
   "metadata": {},
   "outputs": [],
   "source": [
    "#Độ chính xác của Model trên tập Huấn luyện: Model.score(X_train,y_train)\n",
    "# kiểm tra trong tập train\n",
    "acc1_train = KNN_practice1.score(X_train, y_train)\n",
    "print('Độ chính xác trên tập Train: ', acc1_train)\n",
    "print('Độ chính xác trên tập Train(%): ',round(acc1_train*100,2),'(%)')"
   ]
  },
  {
   "cell_type": "markdown",
   "metadata": {},
   "source": [
    "### Đánh giá độ chính xác của mô hình trên tập test"
   ]
  },
  {
   "cell_type": "code",
   "execution_count": null,
   "metadata": {},
   "outputs": [],
   "source": [
    "#Sử dụng mô hình huấn luyện dự đoán trên tập dữ liệu Test: Model.predict(X_test)\n",
    "y_pred1 = KNN_practice1.predict(X_test)"
   ]
  },
  {
   "cell_type": "code",
   "execution_count": null,
   "metadata": {},
   "outputs": [],
   "source": [
    "#Kết quả dự đoán của mô hình trên tập test:\n",
    "print('Số đáp án dự đoán: ',len(y_pred1))\n",
    "y_pred1"
   ]
  },
  {
   "cell_type": "code",
   "execution_count": null,
   "metadata": {},
   "outputs": [],
   "source": [
    "# Hiển thị dữ liệu thật của hành khách trong tập test\n",
    "print('Hiển thị dữ liệu thật trong tập test: ',len(y_test))\n",
    "y_test"
   ]
  },
  {
   "cell_type": "code",
   "execution_count": null,
   "metadata": {},
   "outputs": [],
   "source": [
    "#So sánh kết quả dự đoán với kết quả thật với 20 hành khách đầu tiên:\n",
    "print('Giá trị thật (Ground Truth): ',y_test[:20])\n",
    "print('Giá trị dự đoán:             ',y_pred1[:20])\n"
   ]
  },
  {
   "cell_type": "code",
   "execution_count": null,
   "metadata": {},
   "outputs": [],
   "source": [
    "#Import module accuracy_score trong thư viện sklearn.metrics để đánh giá độ chính xác:\n",
    "from sklearn.metrics import accuracy_score\n",
    "\n",
    "#1. Đếm tổng số mẫu dự đoán đúng trên tập Test: normalize=False\n",
    "acc1_test1 = accuracy_score(y_test, y_pred1,\n",
    "                           normalize=False)\n",
    "print('Tổng số mẫu trong tập test: ', len(y_test))\n",
    "print('Số mẫu dữ đoán đúng:        ', acc1_test1)\n",
    "print('Số mẫu dự đoán sai:         ', len(y_test)- acc1_test1)"
   ]
  },
  {
   "cell_type": "code",
   "execution_count": null,
   "metadata": {},
   "outputs": [],
   "source": [
    "#2.Độ chính xác (Accuracy) theo tỷ lệ % \n",
    "#(số mẫu dự đoán đúng/tổng số mẫu của tập test): normalize=True\n",
    "acc1_test2 = accuracy_score(y_test, y_pred1,\n",
    "                           normalize=True)\n",
    "print('Độ chính xác trên tập train:     ', acc1_test2)\n",
    "print('Độ chính xác trên tập train (%): ', round(acc1_test2*100,2))"
   ]
  },
  {
   "cell_type": "markdown",
   "metadata": {},
   "source": [
    "### Sử dụng Confusion matrix kiểm tra độ chính xác của model\n"
   ]
  },
  {
   "cell_type": "code",
   "execution_count": null,
   "metadata": {},
   "outputs": [],
   "source": [
    "#3.Sử dụng ma trận confussion matrix kiểm tra kết quả:\n",
    "from sklearn.metrics import confusion_matrix, ConfusionMatrixDisplay\n",
    "\n",
    "#Tính ma trận confusion matrix:\n",
    "cnf_matrix_titanic = confusion_matrix(y_test,y_pred1)\n",
    "\n",
    "#Hiển thị ma trận:\n",
    "ConfusionMatrixDisplay.from_predictions(y_test, y_pred1)\n",
    "plt.title('Confusion matrix Test Set - Titanic:')\n",
    "plt.show()"
   ]
  },
  {
   "cell_type": "markdown",
   "metadata": {},
   "source": [
    "**NHẬN XÉT:**\n",
    "\n",
    "---\n",
    "- Mô hình rơi vào trạng thai underfitting (Độ chính xác thấp và nghiêng về lớp 0 cao hơn)\n",
    "- Sử dụng các biện pháp để nâng cao độ chính xác: \n",
    "    *\n"
   ]
  },
  {
   "cell_type": "code",
   "execution_count": null,
   "metadata": {},
   "outputs": [],
   "source": [
    "# Khai bảo mô hình mới bằng cách Thay đổi tham số n_neighbors, weights:\n",
    "KNN_practice2 = KNeighborsClassifier(n_neighbors=11, \n",
    "                                   weights='distance',\n",
    "                                   p=2)\n",
    "\n",
    "#Các tham số mới của Model:\n",
    "KNN_practice2.get_params()"
   ]
  },
  {
   "cell_type": "code",
   "execution_count": null,
   "metadata": {},
   "outputs": [],
   "source": [
    "#Thực hiện huấn luyện với dữ liệu tập train\n",
    "KNN_practice2.fit(X_train, y_train)"
   ]
  },
  {
   "cell_type": "code",
   "execution_count": null,
   "metadata": {},
   "outputs": [],
   "source": [
    "#Độ chính xác của Model trên tập Huấn luyện\n",
    "acc_train = KNN_practice2.score(X_train,y_train)\n",
    "\n",
    "print('Độ chính xác trên tập huấn luyện:', round(acc_train*100,2))"
   ]
  },
  {
   "cell_type": "code",
   "execution_count": null,
   "metadata": {},
   "outputs": [],
   "source": [
    "#Sử dụng mô hình huấn luyện dự đoán trên tập dữ liệu Test\n",
    "y_pred2 = KNN_practice2.predict(X_test)\n",
    "\n",
    "print(\"Kết quả dự đoán các bệnh nhân có u ác tính không trên tập dữ liệu TEST:\")\n",
    "print(\"Kết quả cho 20 bệnh nhân đầu tiên:\")\n",
    "print(\"Predicted labels: \", y_pred2[:20])\n",
    "print(\"Ground truth    : \", y_test[:20])"
   ]
  },
  {
   "cell_type": "code",
   "execution_count": null,
   "metadata": {},
   "outputs": [],
   "source": [
    "#1.Đếm số mẫu dự đoán đúng:\n",
    "acc21 = accuracy_score(y_test, y_pred2, \n",
    "                       normalize=False)\n",
    "print('Tổng số mẫu dự đoán đúng:', acc21, ' /', len(y_test))"
   ]
  },
  {
   "cell_type": "code",
   "execution_count": null,
   "metadata": {},
   "outputs": [],
   "source": [
    "#2.Tính độ chính xác %:\n",
    "acc22 = accuracy_score(y_test, y_pred2,\n",
    "                       normalize=True)\n",
    "\n",
    "print('Độ chính xác của mô hình(k=11, weights=distance):', acc22)\n",
    "print('Độ chính xác theo %:', round(acc22*100,2))"
   ]
  },
  {
   "cell_type": "code",
   "execution_count": null,
   "metadata": {},
   "outputs": [],
   "source": [
    "#3.Sử dụng ma trận confussion matrix kiểm tra kết quả:\n",
    "from sklearn.metrics import confusion_matrix, ConfusionMatrixDisplay\n",
    "#Tính toán ma trận\n",
    "cnf_matrix_titanic = confusion_matrix(y_test,y_pred2)\n",
    "\n",
    "#Hiển thị ma trân:\n",
    "print('Confusion matrix - Titanic:')\n",
    "print(cnf_matrix_titanic)\n",
    "ConfusionMatrixDisplay.from_predictions(y_test, y_pred2)\n",
    "plt.show()"
   ]
  },
  {
   "cell_type": "markdown",
   "metadata": {},
   "source": [
    "### Sử dụng mô hình "
   ]
  },
  {
   "cell_type": "markdown",
   "metadata": {},
   "source": [
    "**Thuộc tính Age**\n",
    "* Từ 80 --> 96 tuổi:   --> Age = 0\n",
    "* Từ 65 --> 80 tuổi:   --> Age = 1\n",
    "* Từ 49 --> 65 tuổi:   --> Age = 2\n",
    "* Từ 34 --> 49 tuổi:   --> Age = 3\n",
    "* Từ 18 --> 34 tuổi:   --> Age = 4\n",
    "---\n",
    "**Thuộc tính Weight**\n",
    "* Từ 45 --> 52 kg:   --> Weight = 0\n",
    "* Từ 52 --> 59 kg:   --> Weight = 1\n",
    "* Từ 59 --> 66 kg:   --> Weight = 2\n",
    "* Từ 66 --> 73 kg:   --> Weight = 3\n",
    "* Từ 73kg trở lên:   --> Weight = 4\n",
    "---\n",
    "**Thuộc tính Margin**\n",
    "- Hình Circumscribed: 0\n",
    "- ill-defined       : 1\n",
    "- Spiculated        : 2\n",
    "- Obscured          : 3\n",
    "- Microlobulated    : 4\n",
    "---\n",
    "**Thuộc tính Shape**\n",
    "- Hình Irregular: 0\n",
    "- Round: 1\n",
    "- Oval : 2\n",
    "- Lobular : 3\n",
    "\n",
    "---\n",
    "**Thuộc tính Density**\n",
    "- Low -> 0\n",
    "- Iso -> 1\n",
    "- High -> 2\n",
    "- Fat-containing -> 3\n",
    "---\n"
   ]
  },
  {
   "cell_type": "code",
   "execution_count": null,
   "metadata": {},
   "outputs": [],
   "source": []
  },
  {
   "cell_type": "code",
   "execution_count": null,
   "metadata": {},
   "outputs": [],
   "source": []
  },
  {
   "cell_type": "code",
   "execution_count": null,
   "metadata": {},
   "outputs": [],
   "source": []
  },
  {
   "cell_type": "markdown",
   "metadata": {},
   "source": [
    "**Xample 1**\n",
    "- bệnh nhân số 1:\n",
    "    - Age : 20 tuổi\n",
    "    - Weight: 65kg\n",
    "    - Shape: Round\n",
    "    - Margin: Circumscribed\n",
    "    - Density: Low"
   ]
  },
  {
   "cell_type": "code",
   "execution_count": null,
   "metadata": {},
   "outputs": [],
   "source": [
    "#Khai báo Dữ liệu bệnh nhân số 1:\n",
    "age = 4\n",
    "weight = 2\n",
    "shape = 1 \n",
    "margin = 0\n",
    "density = 0\n",
    "patient1 = np.array([[age,weight,shape, margin, density]])\n",
    "print('Thông tin bệnh nhân số 1 ',  patient1)"
   ]
  },
  {
   "cell_type": "code",
   "execution_count": null,
   "metadata": {},
   "outputs": [],
   "source": [
    "#Sử dụng mô hình để dự đoán cho hành khách 1:\n",
    "pred_patient1 = KNN_practice2.predict(patient1)\n",
    "print(pred_patient1)\n",
    "if (pred_patient1==0):\n",
    "    print('MLsaid: Bạn chỉ mắc khối u lành tính')\n",
    "else:\n",
    "    print('ML said: Bạn đã mắc khối u ác tính')\n"
   ]
  },
  {
   "cell_type": "markdown",
   "metadata": {},
   "source": [
    "**Xample 2:**\n",
    "- Bệnh nhân 2 :\n",
    "     * Age: 64 tuổi;\n",
    "     * Weight: 75 kg\n",
    "     * Shape: Round;\n",
    "     * Margin: Circumscribed\n",
    "     * Density: High"
   ]
  },
  {
   "cell_type": "code",
   "execution_count": null,
   "metadata": {},
   "outputs": [],
   "source": [
    "#Khai báo Dữ liệu bệnh nhân số 1:\n",
    "age = 2\n",
    "weight = 5\n",
    "shape = 1 \n",
    "margin = 0\n",
    "density = 2\n",
    "patient2 = np.array([[age,weight,shape, margin, density]])\n",
    "print('Thông tin bệnh nhân số 2 ',  patient2)"
   ]
  },
  {
   "cell_type": "code",
   "execution_count": null,
   "metadata": {},
   "outputs": [],
   "source": [
    "#Sử dụng mô hình để dự đoán cho hành khách 1:\n",
    "pred_patient2 = KNN_practice2.predict(patient2)\n",
    "print(pred_patient2)\n",
    "if (pred_patient2==0):\n",
    "    print('MLsaid: Bạn chỉ mắc khối u lành tính')\n",
    "else:\n",
    "    print('ML said: Bạn đã mắc khối u ác tính')\n"
   ]
  },
  {
   "cell_type": "code",
   "execution_count": null,
   "metadata": {},
   "outputs": [],
   "source": []
  },
  {
   "cell_type": "code",
   "execution_count": null,
   "metadata": {},
   "outputs": [],
   "source": []
  }
 ],
 "metadata": {
  "colab": {
   "collapsed_sections": [
    "tv__XfRLHtBf",
    "Wx9ciaKgyTW5",
    "M7iLGnc4WMs3",
    "Mw03rdzH9GnV",
    "Q3teCO6P_PFX",
    "xuLa3WmifOb0",
    "5dVTHDxJv5JW"
   ],
   "name": "Project2_TitanicDisaster",
   "provenance": [],
   "toc_visible": true
  },
  "kernelspec": {
   "display_name": "Python 3 (ipykernel)",
   "language": "python",
   "name": "python3"
  },
  "language_info": {
   "codemirror_mode": {
    "name": "ipython",
    "version": 3
   },
   "file_extension": ".py",
   "mimetype": "text/x-python",
   "name": "python",
   "nbconvert_exporter": "python",
   "pygments_lexer": "ipython3",
   "version": "3.10.9"
  }
 },
 "nbformat": 4,
 "nbformat_minor": 1
}
