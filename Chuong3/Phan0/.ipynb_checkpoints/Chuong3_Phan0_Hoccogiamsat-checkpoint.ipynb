{
 "cells": [
  {
   "cell_type": "markdown",
   "id": "5f7ba5ac",
   "metadata": {},
   "source": [
    "<center>\n",
    "    <h2>\n",
    "        CHƯƠNG 3: HỌC CÓ GIÁM SÁT\n",
    "    </h2>\n",
    "    <h3>Phần 0: Phân loại dữ liệu và bài toán</h3>\n",
    "</center>\n",
    "\n",
    "\n",
    "---\n",
    "***Nội dung bài học***\n",
    "1. Tìm hiểu cac tập dữ liệu mẫu; xac định biến độc lập X và biến phụ thuộc y\n",
    "2. Xác định thuật toán học có giám sát và ứng với tập dữ liệu"
   ]
  },
  {
   "cell_type": "markdown",
   "id": "1a87c328",
   "metadata": {},
   "source": [
    "## Bài toán 1: Tập dữ liệu titanic\n",
    "---\n",
    "xây dựng một mô hình học máy dự đoán khả năng một hành khách đi tàu có được cứu hay không nếu xảy ra sự cố dựa vào các thông tin liên quan đến hành khách"
   ]
  },
  {
   "cell_type": "code",
   "execution_count": 2,
   "id": "0319bdec",
   "metadata": {},
   "outputs": [],
   "source": [
    "# import thư viện\n",
    "import pandas as pd\n",
    "import numpy as np\n",
    "import matplotlib.pyplot as plt"
   ]
  },
  {
   "cell_type": "code",
   "execution_count": 3,
   "id": "aa41fed4",
   "metadata": {},
   "outputs": [
    {
     "name": "stdout",
     "output_type": "stream",
     "text": [
      "<class 'pandas.core.frame.DataFrame'>\n",
      "RangeIndex: 1309 entries, 0 to 1308\n",
      "Data columns (total 7 columns):\n",
      " #   Column    Non-Null Count  Dtype  \n",
      "---  ------    --------------  -----  \n",
      " 0   Survived  1309 non-null   int64  \n",
      " 1   Pclass    1309 non-null   int64  \n",
      " 2   Sex       1309 non-null   object \n",
      " 3   Age       1046 non-null   float64\n",
      " 4   SibSp     1309 non-null   int64  \n",
      " 5   Parch     1309 non-null   int64  \n",
      " 6   Embarked  1307 non-null   object \n",
      "dtypes: float64(1), int64(4), object(2)\n",
      "memory usage: 71.7+ KB\n"
     ]
    }
   ],
   "source": [
    "# Đọc dữ liệu titanic\n",
    "data_titanic = pd.read_csv('Data/Data_Titanic.csv')\n",
    "data_titanic.info()"
   ]
  },
  {
   "cell_type": "code",
   "execution_count": 4,
   "id": "12c7b21e",
   "metadata": {},
   "outputs": [
    {
     "data": {
      "text/html": [
       "<div>\n",
       "<style scoped>\n",
       "    .dataframe tbody tr th:only-of-type {\n",
       "        vertical-align: middle;\n",
       "    }\n",
       "\n",
       "    .dataframe tbody tr th {\n",
       "        vertical-align: top;\n",
       "    }\n",
       "\n",
       "    .dataframe thead th {\n",
       "        text-align: right;\n",
       "    }\n",
       "</style>\n",
       "<table border=\"1\" class=\"dataframe\">\n",
       "  <thead>\n",
       "    <tr style=\"text-align: right;\">\n",
       "      <th></th>\n",
       "      <th>Survived</th>\n",
       "      <th>Pclass</th>\n",
       "      <th>Sex</th>\n",
       "      <th>Age</th>\n",
       "      <th>SibSp</th>\n",
       "      <th>Parch</th>\n",
       "      <th>Embarked</th>\n",
       "    </tr>\n",
       "  </thead>\n",
       "  <tbody>\n",
       "    <tr>\n",
       "      <th>0</th>\n",
       "      <td>0</td>\n",
       "      <td>3</td>\n",
       "      <td>male</td>\n",
       "      <td>22.0</td>\n",
       "      <td>1</td>\n",
       "      <td>0</td>\n",
       "      <td>S</td>\n",
       "    </tr>\n",
       "    <tr>\n",
       "      <th>1</th>\n",
       "      <td>1</td>\n",
       "      <td>1</td>\n",
       "      <td>female</td>\n",
       "      <td>38.0</td>\n",
       "      <td>1</td>\n",
       "      <td>0</td>\n",
       "      <td>C</td>\n",
       "    </tr>\n",
       "    <tr>\n",
       "      <th>2</th>\n",
       "      <td>1</td>\n",
       "      <td>3</td>\n",
       "      <td>female</td>\n",
       "      <td>26.0</td>\n",
       "      <td>0</td>\n",
       "      <td>0</td>\n",
       "      <td>S</td>\n",
       "    </tr>\n",
       "    <tr>\n",
       "      <th>3</th>\n",
       "      <td>1</td>\n",
       "      <td>1</td>\n",
       "      <td>female</td>\n",
       "      <td>35.0</td>\n",
       "      <td>1</td>\n",
       "      <td>0</td>\n",
       "      <td>S</td>\n",
       "    </tr>\n",
       "    <tr>\n",
       "      <th>4</th>\n",
       "      <td>0</td>\n",
       "      <td>3</td>\n",
       "      <td>male</td>\n",
       "      <td>35.0</td>\n",
       "      <td>0</td>\n",
       "      <td>0</td>\n",
       "      <td>S</td>\n",
       "    </tr>\n",
       "  </tbody>\n",
       "</table>\n",
       "</div>"
      ],
      "text/plain": [
       "   Survived  Pclass     Sex   Age  SibSp  Parch Embarked\n",
       "0         0       3    male  22.0      1      0        S\n",
       "1         1       1  female  38.0      1      0        C\n",
       "2         1       3  female  26.0      0      0        S\n",
       "3         1       1  female  35.0      1      0        S\n",
       "4         0       3    male  35.0      0      0        S"
      ]
     },
     "execution_count": 4,
     "metadata": {},
     "output_type": "execute_result"
    }
   ],
   "source": [
    "data_titanic.head()"
   ]
  },
  {
   "cell_type": "markdown",
   "id": "e91ab945",
   "metadata": {},
   "source": [
    "## **Xác đinh biến đầu vào X và biến đầu ra y**\n",
    "\n",
    "---\n",
    "- Biến đầu vào (X - biến độc lập):\n",
    "     * Pclass: Hạng vé\n",
    "     * Sex: Giới tính\n",
    "     * Age: Độ tuổi\n",
    "     * SibSp: Số lượng anh/chị/em/vợ/chồng đi cùng\n",
    "  * Parch: Số lượng con cái đi cùng\n",
    "  * Embarked: Cảng lên tàu\n",
    "- Biến đầu ra  (y - biến phụ thuộc):\n",
    "   * Survived: hành khách được cứu (1) | hay không được cứu (0)\n",
    "   \n",
    " \n",
    " ----\n",
    " -> Tập dữ liệu titanic là tập dữ liệu có gán nhãn (Nhãn y - Thuộc tính Survived)\n"
   ]
  },
  {
   "cell_type": "code",
   "execution_count": 5,
   "id": "bbca4aca",
   "metadata": {},
   "outputs": [
    {
     "data": {
      "text/plain": [
       "0    815\n",
       "1    494\n",
       "Name: Survived, dtype: int64"
      ]
     },
     "execution_count": 5,
     "metadata": {},
     "output_type": "execute_result"
    }
   ],
   "source": [
    "# Khảo sát biến phụ thuộc:\n",
    "data_titanic['Survived'].value_counts()"
   ]
  },
  {
   "cell_type": "markdown",
   "id": "3fd377bf",
   "metadata": {},
   "source": [
    "**Nhận xét**\n",
    "---\n",
    "- Biến phụ thuộc y là rời rạc và hữu hạn\n",
    "- y chỉ nhận tối đa hai giá trị khác nhau (chỉ nhận 0 hoặc 1)\n",
    "\n"
   ]
  },
  {
   "cell_type": "markdown",
   "id": "52d34baf",
   "metadata": {},
   "source": [
    "## ***KẾT LUẬN***\n",
    "===> BÀI TOÁN TITANIC: THUỘC LỚP HỌC CÓ GIÁM SÁT ---> Phân loại (Nhị phân)"
   ]
  },
  {
   "cell_type": "code",
   "execution_count": null,
   "id": "2b57814c",
   "metadata": {},
   "outputs": [],
   "source": []
  },
  {
   "cell_type": "markdown",
   "id": "3f703acd",
   "metadata": {},
   "source": [
    "## Bài toán số 2: tập dữ liệu Iris\n",
    "---\n",
    "Xây dựng một mô hình học máy có khả năng dự đoán một bông học lan thuộc loại hoa lan nào dựa vào thông tin chiều dài và chiều rộng của cánh hoa và đài hoa"
   ]
  },
  {
   "cell_type": "code",
   "execution_count": 6,
   "id": "aad41566",
   "metadata": {},
   "outputs": [
    {
     "data": {
      "text/html": [
       "<div>\n",
       "<style scoped>\n",
       "    .dataframe tbody tr th:only-of-type {\n",
       "        vertical-align: middle;\n",
       "    }\n",
       "\n",
       "    .dataframe tbody tr th {\n",
       "        vertical-align: top;\n",
       "    }\n",
       "\n",
       "    .dataframe thead th {\n",
       "        text-align: right;\n",
       "    }\n",
       "</style>\n",
       "<table border=\"1\" class=\"dataframe\">\n",
       "  <thead>\n",
       "    <tr style=\"text-align: right;\">\n",
       "      <th></th>\n",
       "      <th>sepal_length</th>\n",
       "      <th>sepal_width</th>\n",
       "      <th>petal_length</th>\n",
       "      <th>petal_width</th>\n",
       "      <th>species</th>\n",
       "    </tr>\n",
       "  </thead>\n",
       "  <tbody>\n",
       "    <tr>\n",
       "      <th>0</th>\n",
       "      <td>5.1</td>\n",
       "      <td>3.5</td>\n",
       "      <td>1.4</td>\n",
       "      <td>0.2</td>\n",
       "      <td>Iris-setosa</td>\n",
       "    </tr>\n",
       "    <tr>\n",
       "      <th>1</th>\n",
       "      <td>4.9</td>\n",
       "      <td>3.0</td>\n",
       "      <td>1.4</td>\n",
       "      <td>0.2</td>\n",
       "      <td>Iris-setosa</td>\n",
       "    </tr>\n",
       "    <tr>\n",
       "      <th>2</th>\n",
       "      <td>4.7</td>\n",
       "      <td>3.2</td>\n",
       "      <td>1.3</td>\n",
       "      <td>0.2</td>\n",
       "      <td>Iris-setosa</td>\n",
       "    </tr>\n",
       "    <tr>\n",
       "      <th>3</th>\n",
       "      <td>4.6</td>\n",
       "      <td>3.1</td>\n",
       "      <td>1.5</td>\n",
       "      <td>0.2</td>\n",
       "      <td>Iris-setosa</td>\n",
       "    </tr>\n",
       "    <tr>\n",
       "      <th>4</th>\n",
       "      <td>5.0</td>\n",
       "      <td>3.6</td>\n",
       "      <td>1.4</td>\n",
       "      <td>0.2</td>\n",
       "      <td>Iris-setosa</td>\n",
       "    </tr>\n",
       "    <tr>\n",
       "      <th>...</th>\n",
       "      <td>...</td>\n",
       "      <td>...</td>\n",
       "      <td>...</td>\n",
       "      <td>...</td>\n",
       "      <td>...</td>\n",
       "    </tr>\n",
       "    <tr>\n",
       "      <th>145</th>\n",
       "      <td>6.7</td>\n",
       "      <td>3.0</td>\n",
       "      <td>5.2</td>\n",
       "      <td>2.3</td>\n",
       "      <td>Iris-virginica</td>\n",
       "    </tr>\n",
       "    <tr>\n",
       "      <th>146</th>\n",
       "      <td>6.3</td>\n",
       "      <td>2.5</td>\n",
       "      <td>5.0</td>\n",
       "      <td>1.9</td>\n",
       "      <td>Iris-virginica</td>\n",
       "    </tr>\n",
       "    <tr>\n",
       "      <th>147</th>\n",
       "      <td>6.5</td>\n",
       "      <td>3.0</td>\n",
       "      <td>5.2</td>\n",
       "      <td>2.0</td>\n",
       "      <td>Iris-virginica</td>\n",
       "    </tr>\n",
       "    <tr>\n",
       "      <th>148</th>\n",
       "      <td>6.2</td>\n",
       "      <td>3.4</td>\n",
       "      <td>5.4</td>\n",
       "      <td>2.3</td>\n",
       "      <td>Iris-virginica</td>\n",
       "    </tr>\n",
       "    <tr>\n",
       "      <th>149</th>\n",
       "      <td>5.9</td>\n",
       "      <td>3.0</td>\n",
       "      <td>5.1</td>\n",
       "      <td>1.8</td>\n",
       "      <td>Iris-virginica</td>\n",
       "    </tr>\n",
       "  </tbody>\n",
       "</table>\n",
       "<p>150 rows × 5 columns</p>\n",
       "</div>"
      ],
      "text/plain": [
       "     sepal_length  sepal_width  petal_length  petal_width         species\n",
       "0             5.1          3.5           1.4          0.2     Iris-setosa\n",
       "1             4.9          3.0           1.4          0.2     Iris-setosa\n",
       "2             4.7          3.2           1.3          0.2     Iris-setosa\n",
       "3             4.6          3.1           1.5          0.2     Iris-setosa\n",
       "4             5.0          3.6           1.4          0.2     Iris-setosa\n",
       "..            ...          ...           ...          ...             ...\n",
       "145           6.7          3.0           5.2          2.3  Iris-virginica\n",
       "146           6.3          2.5           5.0          1.9  Iris-virginica\n",
       "147           6.5          3.0           5.2          2.0  Iris-virginica\n",
       "148           6.2          3.4           5.4          2.3  Iris-virginica\n",
       "149           5.9          3.0           5.1          1.8  Iris-virginica\n",
       "\n",
       "[150 rows x 5 columns]"
      ]
     },
     "execution_count": 6,
     "metadata": {},
     "output_type": "execute_result"
    }
   ],
   "source": [
    "# Đọc dữ liệu Data_Iris.csv\n",
    "data_iris = pd.read_csv('Data/Data_Iris.csv')\n",
    "data_iris"
   ]
  },
  {
   "cell_type": "code",
   "execution_count": 7,
   "id": "23a7919d",
   "metadata": {},
   "outputs": [
    {
     "name": "stdout",
     "output_type": "stream",
     "text": [
      "<class 'pandas.core.frame.DataFrame'>\n",
      "RangeIndex: 150 entries, 0 to 149\n",
      "Data columns (total 5 columns):\n",
      " #   Column        Non-Null Count  Dtype  \n",
      "---  ------        --------------  -----  \n",
      " 0   sepal_length  150 non-null    float64\n",
      " 1   sepal_width   150 non-null    float64\n",
      " 2   petal_length  150 non-null    float64\n",
      " 3   petal_width   150 non-null    float64\n",
      " 4   species       150 non-null    object \n",
      "dtypes: float64(4), object(1)\n",
      "memory usage: 6.0+ KB\n"
     ]
    }
   ],
   "source": [
    "data_iris.info()"
   ]
  },
  {
   "cell_type": "code",
   "execution_count": 8,
   "id": "e23aecf5",
   "metadata": {},
   "outputs": [
    {
     "data": {
      "text/html": [
       "<div>\n",
       "<style scoped>\n",
       "    .dataframe tbody tr th:only-of-type {\n",
       "        vertical-align: middle;\n",
       "    }\n",
       "\n",
       "    .dataframe tbody tr th {\n",
       "        vertical-align: top;\n",
       "    }\n",
       "\n",
       "    .dataframe thead th {\n",
       "        text-align: right;\n",
       "    }\n",
       "</style>\n",
       "<table border=\"1\" class=\"dataframe\">\n",
       "  <thead>\n",
       "    <tr style=\"text-align: right;\">\n",
       "      <th></th>\n",
       "      <th>sepal_length</th>\n",
       "      <th>sepal_width</th>\n",
       "      <th>petal_length</th>\n",
       "      <th>petal_width</th>\n",
       "      <th>species</th>\n",
       "    </tr>\n",
       "  </thead>\n",
       "  <tbody>\n",
       "    <tr>\n",
       "      <th>16</th>\n",
       "      <td>5.4</td>\n",
       "      <td>3.9</td>\n",
       "      <td>1.3</td>\n",
       "      <td>0.4</td>\n",
       "      <td>Iris-setosa</td>\n",
       "    </tr>\n",
       "    <tr>\n",
       "      <th>95</th>\n",
       "      <td>5.7</td>\n",
       "      <td>3.0</td>\n",
       "      <td>4.2</td>\n",
       "      <td>1.2</td>\n",
       "      <td>Iris-versicolor</td>\n",
       "    </tr>\n",
       "    <tr>\n",
       "      <th>134</th>\n",
       "      <td>6.1</td>\n",
       "      <td>2.6</td>\n",
       "      <td>5.6</td>\n",
       "      <td>1.4</td>\n",
       "      <td>Iris-virginica</td>\n",
       "    </tr>\n",
       "    <tr>\n",
       "      <th>75</th>\n",
       "      <td>6.6</td>\n",
       "      <td>3.0</td>\n",
       "      <td>4.4</td>\n",
       "      <td>1.4</td>\n",
       "      <td>Iris-versicolor</td>\n",
       "    </tr>\n",
       "    <tr>\n",
       "      <th>58</th>\n",
       "      <td>6.6</td>\n",
       "      <td>2.9</td>\n",
       "      <td>4.6</td>\n",
       "      <td>1.3</td>\n",
       "      <td>Iris-versicolor</td>\n",
       "    </tr>\n",
       "  </tbody>\n",
       "</table>\n",
       "</div>"
      ],
      "text/plain": [
       "     sepal_length  sepal_width  petal_length  petal_width          species\n",
       "16            5.4          3.9           1.3          0.4      Iris-setosa\n",
       "95            5.7          3.0           4.2          1.2  Iris-versicolor\n",
       "134           6.1          2.6           5.6          1.4   Iris-virginica\n",
       "75            6.6          3.0           4.4          1.4  Iris-versicolor\n",
       "58            6.6          2.9           4.6          1.3  Iris-versicolor"
      ]
     },
     "execution_count": 8,
     "metadata": {},
     "output_type": "execute_result"
    }
   ],
   "source": [
    "data_iris.sample(5)"
   ]
  },
  {
   "cell_type": "markdown",
   "id": "a30361ce",
   "metadata": {},
   "source": [
    "**XÁC ĐỊNH BIẾN ĐẦU VÀO X VÀ BIẾN ĐẦU RA y**\n",
    "\n",
    "---\n",
    "- Biến đầu vào X (Biến độc lập): gồm 4 thuộc tính\n",
    "  * sepal_length: Chiều dài cánh hoa\n",
    "  * sepal_width: Chiều rộng cánh hoa\n",
    "  * petal_length: Chiều dài đài hoa\n",
    "  * petal_width\t: Chiều rộng đài hoa\n",
    " - Biến đầu ra y (Biến phụ thuộc): Gồm 1 thuộc tính\n",
    "  * species: Hoa lan thuộc loài hoa nào\n",
    " --> Tập dữ liệu là tập dữ liệu có gán nhãn (Nhãn y - Thuộc tính species)"
   ]
  },
  {
   "cell_type": "code",
   "execution_count": 9,
   "id": "c8003fe4",
   "metadata": {},
   "outputs": [
    {
     "data": {
      "text/plain": [
       "Iris-setosa        50\n",
       "Iris-versicolor    50\n",
       "Iris-virginica     50\n",
       "Name: species, dtype: int64"
      ]
     },
     "execution_count": 9,
     "metadata": {},
     "output_type": "execute_result"
    }
   ],
   "source": [
    "# Tìm hiểu biến phụ thuộc y\n",
    "data_iris['species'].value_counts()"
   ]
  },
  {
   "cell_type": "markdown",
   "id": "ebdc5296",
   "metadata": {},
   "source": [
    "**NHẬN XÉT:**\n",
    "\n",
    "- Biến phụ thuộc y là biến hữu hạn và rời rạc\n",
    "- Biến y có 3 giá trị khác nhau: Iris-setosa | Iris-versicolor | Iris-virginica\n"
   ]
  },
  {
   "cell_type": "markdown",
   "id": "60465f36",
   "metadata": {},
   "source": [
    "### KẾT LUẬN:\n",
    "LÀ BÀI TOÁN HỌC CÓ GIÁM SÁT: PHÂN LOẠI (phân loại đa lớp)"
   ]
  },
  {
   "cell_type": "markdown",
   "id": "1ddf8c92",
   "metadata": {},
   "source": [
    "## Bài toán số 3: Tập dữ liệu kim cương\n",
    "---\n",
    "Xây dựng một mô hình học máy có thể dự đoán giá một viên kim cương khi ta biết trọng lượng của nó"
   ]
  },
  {
   "cell_type": "code",
   "execution_count": 20,
   "id": "869df2c6",
   "metadata": {},
   "outputs": [
    {
     "data": {
      "text/html": [
       "<div>\n",
       "<style scoped>\n",
       "    .dataframe tbody tr th:only-of-type {\n",
       "        vertical-align: middle;\n",
       "    }\n",
       "\n",
       "    .dataframe tbody tr th {\n",
       "        vertical-align: top;\n",
       "    }\n",
       "\n",
       "    .dataframe thead th {\n",
       "        text-align: right;\n",
       "    }\n",
       "</style>\n",
       "<table border=\"1\" class=\"dataframe\">\n",
       "  <thead>\n",
       "    <tr style=\"text-align: right;\">\n",
       "      <th></th>\n",
       "      <th>Weight(Carat)</th>\n",
       "      <th>Price(USD)</th>\n",
       "    </tr>\n",
       "  </thead>\n",
       "  <tbody>\n",
       "    <tr>\n",
       "      <th>0</th>\n",
       "      <td>0.23</td>\n",
       "      <td>484</td>\n",
       "    </tr>\n",
       "    <tr>\n",
       "      <th>1</th>\n",
       "      <td>0.31</td>\n",
       "      <td>942</td>\n",
       "    </tr>\n",
       "    <tr>\n",
       "      <th>2</th>\n",
       "      <td>0.20</td>\n",
       "      <td>345</td>\n",
       "    </tr>\n",
       "    <tr>\n",
       "      <th>3</th>\n",
       "      <td>1.02</td>\n",
       "      <td>4459</td>\n",
       "    </tr>\n",
       "    <tr>\n",
       "      <th>4</th>\n",
       "      <td>1.63</td>\n",
       "      <td>14022</td>\n",
       "    </tr>\n",
       "  </tbody>\n",
       "</table>\n",
       "</div>"
      ],
      "text/plain": [
       "   Weight(Carat)  Price(USD)\n",
       "0           0.23         484\n",
       "1           0.31         942\n",
       "2           0.20         345\n",
       "3           1.02        4459\n",
       "4           1.63       14022"
      ]
     },
     "execution_count": 20,
     "metadata": {},
     "output_type": "execute_result"
    }
   ],
   "source": [
    "# Đọc dữ liệu \n",
    "data_diamond = pd.read_csv('Data/Data_Diamond.csv')\n",
    "data_diamond.head(5)"
   ]
  },
  {
   "cell_type": "code",
   "execution_count": 11,
   "id": "bfff26a9",
   "metadata": {},
   "outputs": [
    {
     "name": "stdout",
     "output_type": "stream",
     "text": [
      "<class 'pandas.core.frame.DataFrame'>\n",
      "RangeIndex: 50 entries, 0 to 49\n",
      "Data columns (total 2 columns):\n",
      " #   Column         Non-Null Count  Dtype  \n",
      "---  ------         --------------  -----  \n",
      " 0   Weight(Carat)  50 non-null     float64\n",
      " 1   Price(USD)     50 non-null     int64  \n",
      "dtypes: float64(1), int64(1)\n",
      "memory usage: 928.0 bytes\n"
     ]
    }
   ],
   "source": [
    "data_diamond.info()"
   ]
  },
  {
   "cell_type": "code",
   "execution_count": 12,
   "id": "3101f518",
   "metadata": {},
   "outputs": [
    {
     "data": {
      "text/html": [
       "<div>\n",
       "<style scoped>\n",
       "    .dataframe tbody tr th:only-of-type {\n",
       "        vertical-align: middle;\n",
       "    }\n",
       "\n",
       "    .dataframe tbody tr th {\n",
       "        vertical-align: top;\n",
       "    }\n",
       "\n",
       "    .dataframe thead th {\n",
       "        text-align: right;\n",
       "    }\n",
       "</style>\n",
       "<table border=\"1\" class=\"dataframe\">\n",
       "  <thead>\n",
       "    <tr style=\"text-align: right;\">\n",
       "      <th></th>\n",
       "      <th>Weight(Carat)</th>\n",
       "      <th>Price(USD)</th>\n",
       "    </tr>\n",
       "  </thead>\n",
       "  <tbody>\n",
       "    <tr>\n",
       "      <th>36</th>\n",
       "      <td>2.05</td>\n",
       "      <td>12654</td>\n",
       "    </tr>\n",
       "    <tr>\n",
       "      <th>46</th>\n",
       "      <td>0.75</td>\n",
       "      <td>3120</td>\n",
       "    </tr>\n",
       "    <tr>\n",
       "      <th>26</th>\n",
       "      <td>0.55</td>\n",
       "      <td>1319</td>\n",
       "    </tr>\n",
       "    <tr>\n",
       "      <th>47</th>\n",
       "      <td>1.07</td>\n",
       "      <td>5220</td>\n",
       "    </tr>\n",
       "    <tr>\n",
       "      <th>30</th>\n",
       "      <td>1.52</td>\n",
       "      <td>10640</td>\n",
       "    </tr>\n",
       "  </tbody>\n",
       "</table>\n",
       "</div>"
      ],
      "text/plain": [
       "    Weight(Carat)  Price(USD)\n",
       "36           2.05       12654\n",
       "46           0.75        3120\n",
       "26           0.55        1319\n",
       "47           1.07        5220\n",
       "30           1.52       10640"
      ]
     },
     "execution_count": 12,
     "metadata": {},
     "output_type": "execute_result"
    }
   ],
   "source": [
    "data_diamond.sample(5)"
   ]
  },
  {
   "cell_type": "markdown",
   "id": "f1159e8e",
   "metadata": {},
   "source": [
    "**XÁC ĐỊNH BIẾN ĐẦU VÀO X VÀ BIẾN ĐẦU RA y**\n",
    "\n",
    "- Biến đầu vào X: 01 thuộc tính\n",
    "    * Weight(Carat): Trọng lượng viên kim cương\n",
    "- Biến đầu ra y: 01 thuộc tính\n",
    "    * Price(USD): giá bán viên kim cương\n",
    "\n",
    "--> Tập dữ liệu có gán nhãn (Nhãn y - thuộc tính price)"
   ]
  },
  {
   "cell_type": "code",
   "execution_count": 13,
   "id": "b31dcb71",
   "metadata": {},
   "outputs": [
    {
     "data": {
      "text/plain": [
       "count       50.000000\n",
       "mean      7550.780000\n",
       "std       5038.766934\n",
       "min        345.000000\n",
       "25%       3560.750000\n",
       "50%       6796.000000\n",
       "75%      11452.500000\n",
       "max      18531.000000\n",
       "Name: Price(USD), dtype: float64"
      ]
     },
     "execution_count": 13,
     "metadata": {},
     "output_type": "execute_result"
    }
   ],
   "source": [
    "# Quan sát biến phụ thuộc y\n",
    "data_diamond['Price(USD)'].describe()"
   ]
  },
  {
   "cell_type": "markdown",
   "id": "045a36c5",
   "metadata": {},
   "source": [
    "**NHẬN XÉT**\n",
    "\n",
    "- Biến phụ thuộc y là vô hạn các giá trị\n"
   ]
  },
  {
   "cell_type": "markdown",
   "id": "6bd8cb6c",
   "metadata": {},
   "source": [
    "### KẾT LUẬN:\n",
    "bài toán học có giám sát : thuộc hồi quy"
   ]
  },
  {
   "cell_type": "markdown",
   "id": "54f3217d",
   "metadata": {},
   "source": [
    "## Bài tập về nhà: \n",
    "\n",
    "*sinh viên thực hiện tương tự cho hai tập dữ liệu còn lại*\n",
    "\n",
    "- data_Comment.csv\n",
    "- data_Housing.csv"
   ]
  },
  {
   "cell_type": "markdown",
   "id": "8d7a3cc5",
   "metadata": {},
   "source": [
    "## Bài toán số 4: Tập dữ liệu Data_Comment.csv"
   ]
  },
  {
   "cell_type": "code",
   "execution_count": 14,
   "id": "25e35f27",
   "metadata": {},
   "outputs": [
    {
     "name": "stdout",
     "output_type": "stream",
     "text": [
      "<class 'pandas.core.frame.DataFrame'>\n",
      "RangeIndex: 14477 entries, 0 to 14476\n",
      "Data columns (total 2 columns):\n",
      " #   Column     Non-Null Count  Dtype \n",
      "---  ------     --------------  ----- \n",
      " 0   Comment    14477 non-null  object\n",
      " 1   Sentiment  14477 non-null  object\n",
      "dtypes: object(2)\n",
      "memory usage: 226.3+ KB\n"
     ]
    }
   ],
   "source": [
    "data_comment = pd.read_csv('Data/Data_Comment.csv')\n",
    "data_comment.info()"
   ]
  },
  {
   "cell_type": "code",
   "execution_count": 15,
   "id": "ccad7b6b",
   "metadata": {},
   "outputs": [
    {
     "data": {
      "text/html": [
       "<div>\n",
       "<style scoped>\n",
       "    .dataframe tbody tr th:only-of-type {\n",
       "        vertical-align: middle;\n",
       "    }\n",
       "\n",
       "    .dataframe tbody tr th {\n",
       "        vertical-align: top;\n",
       "    }\n",
       "\n",
       "    .dataframe thead th {\n",
       "        text-align: right;\n",
       "    }\n",
       "</style>\n",
       "<table border=\"1\" class=\"dataframe\">\n",
       "  <thead>\n",
       "    <tr style=\"text-align: right;\">\n",
       "      <th></th>\n",
       "      <th>Comment</th>\n",
       "      <th>Sentiment</th>\n",
       "    </tr>\n",
       "  </thead>\n",
       "  <tbody>\n",
       "    <tr>\n",
       "      <th>0</th>\n",
       "      <td>@VirginAmerica What @dhepburn said.</td>\n",
       "      <td>neutral</td>\n",
       "    </tr>\n",
       "    <tr>\n",
       "      <th>1</th>\n",
       "      <td>@VirginAmerica plus you've added commercials t...</td>\n",
       "      <td>positive</td>\n",
       "    </tr>\n",
       "    <tr>\n",
       "      <th>2</th>\n",
       "      <td>@VirginAmerica I didn't today... Must mean I n...</td>\n",
       "      <td>neutral</td>\n",
       "    </tr>\n",
       "    <tr>\n",
       "      <th>3</th>\n",
       "      <td>@VirginAmerica it's really aggressive to blast...</td>\n",
       "      <td>negative</td>\n",
       "    </tr>\n",
       "    <tr>\n",
       "      <th>4</th>\n",
       "      <td>@VirginAmerica and it's a really big bad thing...</td>\n",
       "      <td>negative</td>\n",
       "    </tr>\n",
       "  </tbody>\n",
       "</table>\n",
       "</div>"
      ],
      "text/plain": [
       "                                             Comment Sentiment\n",
       "0                @VirginAmerica What @dhepburn said.   neutral\n",
       "1  @VirginAmerica plus you've added commercials t...  positive\n",
       "2  @VirginAmerica I didn't today... Must mean I n...   neutral\n",
       "3  @VirginAmerica it's really aggressive to blast...  negative\n",
       "4  @VirginAmerica and it's a really big bad thing...  negative"
      ]
     },
     "execution_count": 15,
     "metadata": {},
     "output_type": "execute_result"
    }
   ],
   "source": [
    "data_comment.head()"
   ]
  },
  {
   "cell_type": "code",
   "execution_count": 16,
   "id": "91bcfe4f",
   "metadata": {},
   "outputs": [
    {
     "data": {
      "text/html": [
       "<div>\n",
       "<style scoped>\n",
       "    .dataframe tbody tr th:only-of-type {\n",
       "        vertical-align: middle;\n",
       "    }\n",
       "\n",
       "    .dataframe tbody tr th {\n",
       "        vertical-align: top;\n",
       "    }\n",
       "\n",
       "    .dataframe thead th {\n",
       "        text-align: right;\n",
       "    }\n",
       "</style>\n",
       "<table border=\"1\" class=\"dataframe\">\n",
       "  <thead>\n",
       "    <tr style=\"text-align: right;\">\n",
       "      <th></th>\n",
       "      <th>Comment</th>\n",
       "      <th>Sentiment</th>\n",
       "    </tr>\n",
       "  </thead>\n",
       "  <tbody>\n",
       "    <tr>\n",
       "      <th>6774</th>\n",
       "      <td>@JetBlue I did see that! Working on picking up...</td>\n",
       "      <td>positive</td>\n",
       "    </tr>\n",
       "    <tr>\n",
       "      <th>4694</th>\n",
       "      <td>@SouthwestAir Awesome. Thanks! You guys rock!</td>\n",
       "      <td>positive</td>\n",
       "    </tr>\n",
       "    <tr>\n",
       "      <th>4111</th>\n",
       "      <td>@united A 3rd party service you use to sell yo...</td>\n",
       "      <td>negative</td>\n",
       "    </tr>\n",
       "    <tr>\n",
       "      <th>7733</th>\n",
       "      <td>@JetBlue no, we are at a hotel.  Also, Jetblue...</td>\n",
       "      <td>negative</td>\n",
       "    </tr>\n",
       "    <tr>\n",
       "      <th>13429</th>\n",
       "      <td>@AmericanAir a school trip of 38 including mys...</td>\n",
       "      <td>negative</td>\n",
       "    </tr>\n",
       "  </tbody>\n",
       "</table>\n",
       "</div>"
      ],
      "text/plain": [
       "                                                 Comment Sentiment\n",
       "6774   @JetBlue I did see that! Working on picking up...  positive\n",
       "4694       @SouthwestAir Awesome. Thanks! You guys rock!  positive\n",
       "4111   @united A 3rd party service you use to sell yo...  negative\n",
       "7733   @JetBlue no, we are at a hotel.  Also, Jetblue...  negative\n",
       "13429  @AmericanAir a school trip of 38 including mys...  negative"
      ]
     },
     "execution_count": 16,
     "metadata": {},
     "output_type": "execute_result"
    }
   ],
   "source": [
    "data_comment.sample(5)"
   ]
  },
  {
   "cell_type": "code",
   "execution_count": 17,
   "id": "19ca20e8",
   "metadata": {},
   "outputs": [
    {
     "data": {
      "text/html": [
       "<div>\n",
       "<style scoped>\n",
       "    .dataframe tbody tr th:only-of-type {\n",
       "        vertical-align: middle;\n",
       "    }\n",
       "\n",
       "    .dataframe tbody tr th {\n",
       "        vertical-align: top;\n",
       "    }\n",
       "\n",
       "    .dataframe thead th {\n",
       "        text-align: right;\n",
       "    }\n",
       "</style>\n",
       "<table border=\"1\" class=\"dataframe\">\n",
       "  <thead>\n",
       "    <tr style=\"text-align: right;\">\n",
       "      <th></th>\n",
       "      <th>Comment</th>\n",
       "      <th>Sentiment</th>\n",
       "    </tr>\n",
       "  </thead>\n",
       "  <tbody>\n",
       "    <tr>\n",
       "      <th>count</th>\n",
       "      <td>14477</td>\n",
       "      <td>14477</td>\n",
       "    </tr>\n",
       "    <tr>\n",
       "      <th>unique</th>\n",
       "      <td>14401</td>\n",
       "      <td>3</td>\n",
       "    </tr>\n",
       "    <tr>\n",
       "      <th>top</th>\n",
       "      <td>@united thanks</td>\n",
       "      <td>negative</td>\n",
       "    </tr>\n",
       "    <tr>\n",
       "      <th>freq</th>\n",
       "      <td>6</td>\n",
       "      <td>9080</td>\n",
       "    </tr>\n",
       "  </tbody>\n",
       "</table>\n",
       "</div>"
      ],
      "text/plain": [
       "               Comment Sentiment\n",
       "count            14477     14477\n",
       "unique           14401         3\n",
       "top     @united thanks  negative\n",
       "freq                 6      9080"
      ]
     },
     "execution_count": 17,
     "metadata": {},
     "output_type": "execute_result"
    }
   ],
   "source": [
    "data_comment.describe()"
   ]
  },
  {
   "cell_type": "code",
   "execution_count": 18,
   "id": "8d1a1914",
   "metadata": {},
   "outputs": [
    {
     "data": {
      "text/plain": [
       "count        14477\n",
       "unique           3\n",
       "top       negative\n",
       "freq          9080\n",
       "Name: Sentiment, dtype: object"
      ]
     },
     "execution_count": 18,
     "metadata": {},
     "output_type": "execute_result"
    }
   ],
   "source": [
    "data_comment['Sentiment'].describe()"
   ]
  },
  {
   "cell_type": "code",
   "execution_count": 19,
   "id": "5604060c",
   "metadata": {},
   "outputs": [
    {
     "data": {
      "text/plain": [
       "negative    9080\n",
       "neutral     3060\n",
       "positive    2337\n",
       "Name: Sentiment, dtype: int64"
      ]
     },
     "execution_count": 19,
     "metadata": {},
     "output_type": "execute_result"
    }
   ],
   "source": [
    "data_comment['Sentiment'].value_counts()"
   ]
  },
  {
   "cell_type": "markdown",
   "id": "dab5e76f",
   "metadata": {},
   "source": [
    "**XÁC ĐỊNH BIẾN ĐẦU VÀO (X) VÀ BIẾN ĐẦU RA (y)**\n",
    "\n",
    "---\n",
    "- Biến đầu vào X (Biến độc lập): gồm 1 thuộc tính\n",
    "    * Comment: các kiểu comment\n",
    " - Biến đầu ra y (Biến phụ thuộc): Gồm 1 thuộc tính\n",
    "    * Sentiment: Cho biết kiểu comment đấy là kiểu comment gì\n",
    " --> Tập dữ liệu là tập dữ liệu có gán nhãn (Nhãn y - Thuộc tính Sentiment)"
   ]
  },
  {
   "cell_type": "markdown",
   "id": "69057d47",
   "metadata": {},
   "source": [
    "**KẾT LUẬN:**\n",
    "- Data_Comment là kiểu tập dữ liệu học có giám sát\n",
    "- Trong đó biến đầu ra - biến phụ thuộc y là biến Hữu hạn và Rời rạc\n",
    "\n",
    "--> Bài toán học có giám sát: Phân loại đa lớp"
   ]
  },
  {
   "cell_type": "markdown",
   "id": "e5a22931",
   "metadata": {},
   "source": [
    "## Bài toán số 5: dữ liệu Data_Housing.csv"
   ]
  },
  {
   "cell_type": "code",
   "execution_count": 21,
   "id": "b9bf49ae",
   "metadata": {},
   "outputs": [],
   "source": [
    "data_house = pd.read_csv('Data/Data_Housing.csv')"
   ]
  },
  {
   "cell_type": "code",
   "execution_count": 22,
   "id": "37854010",
   "metadata": {},
   "outputs": [
    {
     "data": {
      "text/html": [
       "<div>\n",
       "<style scoped>\n",
       "    .dataframe tbody tr th:only-of-type {\n",
       "        vertical-align: middle;\n",
       "    }\n",
       "\n",
       "    .dataframe tbody tr th {\n",
       "        vertical-align: top;\n",
       "    }\n",
       "\n",
       "    .dataframe thead th {\n",
       "        text-align: right;\n",
       "    }\n",
       "</style>\n",
       "<table border=\"1\" class=\"dataframe\">\n",
       "  <thead>\n",
       "    <tr style=\"text-align: right;\">\n",
       "      <th></th>\n",
       "      <th>area</th>\n",
       "      <th>bedrooms</th>\n",
       "      <th>bathrooms</th>\n",
       "      <th>mainroad</th>\n",
       "      <th>guestroom</th>\n",
       "      <th>basement</th>\n",
       "      <th>parking</th>\n",
       "      <th>furnishingstatus</th>\n",
       "      <th>price</th>\n",
       "    </tr>\n",
       "  </thead>\n",
       "  <tbody>\n",
       "    <tr>\n",
       "      <th>0</th>\n",
       "      <td>7420</td>\n",
       "      <td>4</td>\n",
       "      <td>2</td>\n",
       "      <td>yes</td>\n",
       "      <td>no</td>\n",
       "      <td>no</td>\n",
       "      <td>2</td>\n",
       "      <td>furnished</td>\n",
       "      <td>13300000</td>\n",
       "    </tr>\n",
       "    <tr>\n",
       "      <th>1</th>\n",
       "      <td>8960</td>\n",
       "      <td>4</td>\n",
       "      <td>4</td>\n",
       "      <td>yes</td>\n",
       "      <td>no</td>\n",
       "      <td>no</td>\n",
       "      <td>3</td>\n",
       "      <td>furnished</td>\n",
       "      <td>12250000</td>\n",
       "    </tr>\n",
       "    <tr>\n",
       "      <th>2</th>\n",
       "      <td>9960</td>\n",
       "      <td>3</td>\n",
       "      <td>2</td>\n",
       "      <td>yes</td>\n",
       "      <td>no</td>\n",
       "      <td>yes</td>\n",
       "      <td>2</td>\n",
       "      <td>semi-furnished</td>\n",
       "      <td>12250000</td>\n",
       "    </tr>\n",
       "    <tr>\n",
       "      <th>3</th>\n",
       "      <td>7500</td>\n",
       "      <td>4</td>\n",
       "      <td>2</td>\n",
       "      <td>yes</td>\n",
       "      <td>no</td>\n",
       "      <td>yes</td>\n",
       "      <td>3</td>\n",
       "      <td>furnished</td>\n",
       "      <td>12215000</td>\n",
       "    </tr>\n",
       "    <tr>\n",
       "      <th>4</th>\n",
       "      <td>7420</td>\n",
       "      <td>4</td>\n",
       "      <td>1</td>\n",
       "      <td>yes</td>\n",
       "      <td>yes</td>\n",
       "      <td>yes</td>\n",
       "      <td>2</td>\n",
       "      <td>furnished</td>\n",
       "      <td>11410000</td>\n",
       "    </tr>\n",
       "  </tbody>\n",
       "</table>\n",
       "</div>"
      ],
      "text/plain": [
       "   area  bedrooms  bathrooms mainroad guestroom basement  parking  \\\n",
       "0  7420         4          2      yes        no       no        2   \n",
       "1  8960         4          4      yes        no       no        3   \n",
       "2  9960         3          2      yes        no      yes        2   \n",
       "3  7500         4          2      yes        no      yes        3   \n",
       "4  7420         4          1      yes       yes      yes        2   \n",
       "\n",
       "  furnishingstatus     price  \n",
       "0        furnished  13300000  \n",
       "1        furnished  12250000  \n",
       "2   semi-furnished  12250000  \n",
       "3        furnished  12215000  \n",
       "4        furnished  11410000  "
      ]
     },
     "execution_count": 22,
     "metadata": {},
     "output_type": "execute_result"
    }
   ],
   "source": [
    "data_house.head(5)"
   ]
  },
  {
   "cell_type": "markdown",
   "id": "e2c02e1f",
   "metadata": {},
   "source": [
    "**XÁC ĐỊNH BIẾN ĐẦU VÀO X VÀ BIẾN ĐẦU RA y**\n",
    "\n",
    "---\n",
    "- Biến đầu vào X (Biến độc lập): gồm 8 thuộc tính\n",
    "    * area: diện tích căn hộ\n",
    "    * bedrooms: số phòng ngủ\n",
    "    * bathrooms: số phòng tắm \n",
    "    * mainroad: có gần đường chính không\n",
    "    * guestroom: Có phòng khách không\n",
    "    * basement: Có tầng hầm không\n",
    "    * parking: chỗ đỗ xe có thể để tối đa là bao nhiêu\n",
    "    * furnishingstatus: Tình trạng nội thất\n",
    " - Biến đầu ra y (Biến phụ thuộc): Gồm 1 thuộc tính\n",
    "  * price: Giá bán của căn hộ đấy\n",
    " --> Tập dữ liệu là tập dữ liệu có gán nhãn (Nhãn y - Thuộc tính species)\n",
    " "
   ]
  },
  {
   "cell_type": "markdown",
   "id": "deb0f9c5",
   "metadata": {},
   "source": [
    "**Nhận xét**\n",
    "\n",
    "- do biến đầu vào X là biến rời rạc và hữu hạn nên đây là mô hình học máy có giám sát.\n",
    "- Và thuộc kiểu biến đa tầng"
   ]
  }
 ],
 "metadata": {
  "kernelspec": {
   "display_name": "Python 3 (ipykernel)",
   "language": "python",
   "name": "python3"
  },
  "language_info": {
   "codemirror_mode": {
    "name": "ipython",
    "version": 3
   },
   "file_extension": ".py",
   "mimetype": "text/x-python",
   "name": "python",
   "nbconvert_exporter": "python",
   "pygments_lexer": "ipython3",
   "version": "3.10.9"
  }
 },
 "nbformat": 4,
 "nbformat_minor": 5
}
