{
 "cells": [
  {
   "cell_type": "markdown",
   "metadata": {
    "id": "vBBD9wNIHyp7"
   },
   "source": [
    "<h2 align='center'> MÔN HỌC: <br> HỌC MÁY (MACHINE LEARNING) </h2>\n",
    "\n",
    "---\n",
    "\n",
    "### CHƯƠNG 5: HỆ THỐNG GỢI Ý (RECOMMENDER SYSTEMS)\n",
    "---\n",
    "**NỘI DUNG BÀI HỌC:**\n",
    "1. Giới thiệu chung\n",
    "2. Phân loại hệ thống đề xuất\n",
    "3. Các phương pháp tính toán độ tương đồng\n",
    "4. Sơ đồ tổng quan và Thách thức\n",
    "5. Ví dụ minh họa\n",
    "---\n",
    "dangvannam@Department of Computer Science@2020"
   ]
  },
  {
   "cell_type": "markdown",
   "metadata": {},
   "source": [
    "---\n",
    "### XÂY DỰNG HỆ THỐNG GỢI Ý MOVIES\n",
    "Dự án này sẽ xây dựng một hệ thống đề xuất dựa trên tập dữ liệu Movies.\n",
    "\n",
    "<img src='Pic/pic1.png' width='500px'>\n",
    "\n",
    "Dựa vào dữ liệu của trên 12 182 bộ films, xây dựng hệ thống đề xuất đưa ra danh sách 15 bộ film liên quan. Có hai loại Recommender system được xây dựng trong project này:\n",
    "\n",
    "\n",
    "*   Simple Recommender\n",
    "*   Content-Based Recommender\n",
    "\n",
    "Các file dữ liệu sử dụng bao gồm:\n",
    "\n",
    "**Data_Movies.csv:** File này chứa thông tin tổng hợp của ~ 12 000 bộ film, mỗi bộ film có 24 thuộc tính khác nhau, một số thuộc tính chính bao gồm:\n",
    "\n",
    "1. adult: Bộ film dành cho người lớn hay không. Dữ liệu boolean (True - Flase)\n",
    "2. original_language: Ngôn ngữ ban đầu; dữ liệu categorical\n",
    "3. genres: Thể loại film\n",
    "4. original_title: Tiêu đề của film, dữ liệu text\n",
    "5. overview: Tóm tắt nội dung của film; Dữ liệu text\n",
    "6. release_date: Ngày phát hành films\n",
    "7. vote_average: Điểm đánh giá trung bình cho bộ phim [0: dở tệ - 10: Xuất sắc]\n",
    "8. vote_count: Số lượt xem đánh giá bộ phim"
   ]
  },
  {
   "cell_type": "markdown",
   "metadata": {
    "id": "0WVHxEbMLjw7"
   },
   "source": [
    "## I) Đọc tập dữ liệu Movie\n",
    "---"
   ]
  },
  {
   "cell_type": "code",
   "execution_count": 1,
   "metadata": {
    "colab": {
     "base_uri": "https://localhost:8080/"
    },
    "id": "Agee35H2JZg0",
    "outputId": "866a7dd6-0130-4019-e4c1-44a3d792dec0"
   },
   "outputs": [
    {
     "name": "stdout",
     "output_type": "stream",
     "text": [
      "<class 'pandas.core.frame.DataFrame'>\n",
      "RangeIndex: 12182 entries, 0 to 12181\n",
      "Data columns (total 24 columns):\n",
      " #   Column                 Non-Null Count  Dtype  \n",
      "---  ------                 --------------  -----  \n",
      " 0   adult                  12182 non-null  bool   \n",
      " 1   belongs_to_collection  2409 non-null   object \n",
      " 2   budget                 12182 non-null  int64  \n",
      " 3   genres                 12182 non-null  object \n",
      " 4   homepage               3330 non-null   object \n",
      " 5   id                     12182 non-null  int64  \n",
      " 6   imdb_id                12180 non-null  object \n",
      " 7   original_language      12182 non-null  object \n",
      " 8   original_title         12182 non-null  object \n",
      " 9   overview               12119 non-null  object \n",
      " 10  popularity             12182 non-null  float64\n",
      " 11  poster_path            12182 non-null  object \n",
      " 12  production_companies   12182 non-null  object \n",
      " 13  production_countries   12182 non-null  object \n",
      " 14  release_date           12180 non-null  object \n",
      " 15  revenue                12182 non-null  float64\n",
      " 16  runtime                12178 non-null  float64\n",
      " 17  spoken_languages       12182 non-null  object \n",
      " 18  status                 12181 non-null  object \n",
      " 19  tagline                8782 non-null   object \n",
      " 20  title                  12182 non-null  object \n",
      " 21  video                  12182 non-null  bool   \n",
      " 22  vote_average           12182 non-null  float64\n",
      " 23  vote_count             12182 non-null  float64\n",
      "dtypes: bool(2), float64(5), int64(2), object(15)\n",
      "memory usage: 2.1+ MB\n"
     ]
    }
   ],
   "source": [
    "import pandas as pd\n",
    "import warnings\n",
    "warnings.filterwarnings('ignore')\n",
    "\n",
    "#Đọc tập dữ liệu thông tin của các film\n",
    "data_movies = pd.read_csv('data/Data_Movies.csv')\n",
    "\n",
    "#Hiển thị thông tin tập dữ liệu\n",
    "data_movies.info()"
   ]
  },
  {
   "cell_type": "code",
   "execution_count": 2,
   "metadata": {
    "colab": {
     "base_uri": "https://localhost:8080/",
     "height": 666
    },
    "id": "De82EJthJrEM",
    "outputId": "e5e96513-60a4-459d-df6a-2882b4426d93"
   },
   "outputs": [
    {
     "data": {
      "text/html": [
       "<div>\n",
       "<style scoped>\n",
       "    .dataframe tbody tr th:only-of-type {\n",
       "        vertical-align: middle;\n",
       "    }\n",
       "\n",
       "    .dataframe tbody tr th {\n",
       "        vertical-align: top;\n",
       "    }\n",
       "\n",
       "    .dataframe thead th {\n",
       "        text-align: right;\n",
       "    }\n",
       "</style>\n",
       "<table border=\"1\" class=\"dataframe\">\n",
       "  <thead>\n",
       "    <tr style=\"text-align: right;\">\n",
       "      <th></th>\n",
       "      <th>adult</th>\n",
       "      <th>belongs_to_collection</th>\n",
       "      <th>budget</th>\n",
       "      <th>genres</th>\n",
       "      <th>homepage</th>\n",
       "      <th>id</th>\n",
       "      <th>imdb_id</th>\n",
       "      <th>original_language</th>\n",
       "      <th>original_title</th>\n",
       "      <th>overview</th>\n",
       "      <th>...</th>\n",
       "      <th>release_date</th>\n",
       "      <th>revenue</th>\n",
       "      <th>runtime</th>\n",
       "      <th>spoken_languages</th>\n",
       "      <th>status</th>\n",
       "      <th>tagline</th>\n",
       "      <th>title</th>\n",
       "      <th>video</th>\n",
       "      <th>vote_average</th>\n",
       "      <th>vote_count</th>\n",
       "    </tr>\n",
       "  </thead>\n",
       "  <tbody>\n",
       "    <tr>\n",
       "      <th>0</th>\n",
       "      <td>False</td>\n",
       "      <td>{'id': 10194, 'name': 'Toy Story Collection', ...</td>\n",
       "      <td>30000000</td>\n",
       "      <td>[{'id': 16, 'name': 'Animation'}, {'id': 35, '...</td>\n",
       "      <td>http://toystory.disney.com/toy-story</td>\n",
       "      <td>862</td>\n",
       "      <td>tt0114709</td>\n",
       "      <td>en</td>\n",
       "      <td>Toy Story</td>\n",
       "      <td>Led by Woody, Andy's toys live happily in his ...</td>\n",
       "      <td>...</td>\n",
       "      <td>1995-10-30</td>\n",
       "      <td>373554033.0</td>\n",
       "      <td>81.0</td>\n",
       "      <td>[{'iso_639_1': 'en', 'name': 'English'}]</td>\n",
       "      <td>Released</td>\n",
       "      <td>NaN</td>\n",
       "      <td>Toy Story</td>\n",
       "      <td>False</td>\n",
       "      <td>7.7</td>\n",
       "      <td>5415.0</td>\n",
       "    </tr>\n",
       "    <tr>\n",
       "      <th>1</th>\n",
       "      <td>False</td>\n",
       "      <td>NaN</td>\n",
       "      <td>65000000</td>\n",
       "      <td>[{'id': 12, 'name': 'Adventure'}, {'id': 14, '...</td>\n",
       "      <td>NaN</td>\n",
       "      <td>8844</td>\n",
       "      <td>tt0113497</td>\n",
       "      <td>en</td>\n",
       "      <td>Jumanji</td>\n",
       "      <td>When siblings Judy and Peter discover an encha...</td>\n",
       "      <td>...</td>\n",
       "      <td>1995-12-15</td>\n",
       "      <td>262797249.0</td>\n",
       "      <td>104.0</td>\n",
       "      <td>[{'iso_639_1': 'en', 'name': 'English'}, {'iso...</td>\n",
       "      <td>Released</td>\n",
       "      <td>Roll the dice and unleash the excitement!</td>\n",
       "      <td>Jumanji</td>\n",
       "      <td>False</td>\n",
       "      <td>6.9</td>\n",
       "      <td>2413.0</td>\n",
       "    </tr>\n",
       "    <tr>\n",
       "      <th>2</th>\n",
       "      <td>False</td>\n",
       "      <td>{'id': 119050, 'name': 'Grumpy Old Men Collect...</td>\n",
       "      <td>0</td>\n",
       "      <td>[{'id': 10749, 'name': 'Romance'}, {'id': 35, ...</td>\n",
       "      <td>NaN</td>\n",
       "      <td>15602</td>\n",
       "      <td>tt0113228</td>\n",
       "      <td>en</td>\n",
       "      <td>Grumpier Old Men</td>\n",
       "      <td>A family wedding reignites the ancient feud be...</td>\n",
       "      <td>...</td>\n",
       "      <td>1995-12-22</td>\n",
       "      <td>0.0</td>\n",
       "      <td>101.0</td>\n",
       "      <td>[{'iso_639_1': 'en', 'name': 'English'}]</td>\n",
       "      <td>Released</td>\n",
       "      <td>Still Yelling. Still Fighting. Still Ready for...</td>\n",
       "      <td>Grumpier Old Men</td>\n",
       "      <td>False</td>\n",
       "      <td>6.5</td>\n",
       "      <td>92.0</td>\n",
       "    </tr>\n",
       "    <tr>\n",
       "      <th>3</th>\n",
       "      <td>False</td>\n",
       "      <td>NaN</td>\n",
       "      <td>16000000</td>\n",
       "      <td>[{'id': 35, 'name': 'Comedy'}, {'id': 18, 'nam...</td>\n",
       "      <td>NaN</td>\n",
       "      <td>31357</td>\n",
       "      <td>tt0114885</td>\n",
       "      <td>en</td>\n",
       "      <td>Waiting to Exhale</td>\n",
       "      <td>Cheated on, mistreated and stepped on, the wom...</td>\n",
       "      <td>...</td>\n",
       "      <td>1995-12-22</td>\n",
       "      <td>81452156.0</td>\n",
       "      <td>127.0</td>\n",
       "      <td>[{'iso_639_1': 'en', 'name': 'English'}]</td>\n",
       "      <td>Released</td>\n",
       "      <td>Friends are the people who let you be yourself...</td>\n",
       "      <td>Waiting to Exhale</td>\n",
       "      <td>False</td>\n",
       "      <td>6.1</td>\n",
       "      <td>34.0</td>\n",
       "    </tr>\n",
       "    <tr>\n",
       "      <th>4</th>\n",
       "      <td>False</td>\n",
       "      <td>{'id': 96871, 'name': 'Father of the Bride Col...</td>\n",
       "      <td>0</td>\n",
       "      <td>[{'id': 35, 'name': 'Comedy'}]</td>\n",
       "      <td>NaN</td>\n",
       "      <td>11862</td>\n",
       "      <td>tt0113041</td>\n",
       "      <td>en</td>\n",
       "      <td>Father of the Bride Part II</td>\n",
       "      <td>Just when George Banks has recovered from his ...</td>\n",
       "      <td>...</td>\n",
       "      <td>1995-02-10</td>\n",
       "      <td>76578911.0</td>\n",
       "      <td>106.0</td>\n",
       "      <td>[{'iso_639_1': 'en', 'name': 'English'}]</td>\n",
       "      <td>Released</td>\n",
       "      <td>Just When His World Is Back To Normal... He's ...</td>\n",
       "      <td>Father of the Bride Part II</td>\n",
       "      <td>False</td>\n",
       "      <td>5.7</td>\n",
       "      <td>173.0</td>\n",
       "    </tr>\n",
       "  </tbody>\n",
       "</table>\n",
       "<p>5 rows × 24 columns</p>\n",
       "</div>"
      ],
      "text/plain": [
       "   adult                              belongs_to_collection    budget  \\\n",
       "0  False  {'id': 10194, 'name': 'Toy Story Collection', ...  30000000   \n",
       "1  False                                                NaN  65000000   \n",
       "2  False  {'id': 119050, 'name': 'Grumpy Old Men Collect...         0   \n",
       "3  False                                                NaN  16000000   \n",
       "4  False  {'id': 96871, 'name': 'Father of the Bride Col...         0   \n",
       "\n",
       "                                              genres  \\\n",
       "0  [{'id': 16, 'name': 'Animation'}, {'id': 35, '...   \n",
       "1  [{'id': 12, 'name': 'Adventure'}, {'id': 14, '...   \n",
       "2  [{'id': 10749, 'name': 'Romance'}, {'id': 35, ...   \n",
       "3  [{'id': 35, 'name': 'Comedy'}, {'id': 18, 'nam...   \n",
       "4                     [{'id': 35, 'name': 'Comedy'}]   \n",
       "\n",
       "                               homepage     id    imdb_id original_language  \\\n",
       "0  http://toystory.disney.com/toy-story    862  tt0114709                en   \n",
       "1                                   NaN   8844  tt0113497                en   \n",
       "2                                   NaN  15602  tt0113228                en   \n",
       "3                                   NaN  31357  tt0114885                en   \n",
       "4                                   NaN  11862  tt0113041                en   \n",
       "\n",
       "                original_title  \\\n",
       "0                    Toy Story   \n",
       "1                      Jumanji   \n",
       "2             Grumpier Old Men   \n",
       "3            Waiting to Exhale   \n",
       "4  Father of the Bride Part II   \n",
       "\n",
       "                                            overview  ...  release_date  \\\n",
       "0  Led by Woody, Andy's toys live happily in his ...  ...    1995-10-30   \n",
       "1  When siblings Judy and Peter discover an encha...  ...    1995-12-15   \n",
       "2  A family wedding reignites the ancient feud be...  ...    1995-12-22   \n",
       "3  Cheated on, mistreated and stepped on, the wom...  ...    1995-12-22   \n",
       "4  Just when George Banks has recovered from his ...  ...    1995-02-10   \n",
       "\n",
       "       revenue runtime                                   spoken_languages  \\\n",
       "0  373554033.0    81.0           [{'iso_639_1': 'en', 'name': 'English'}]   \n",
       "1  262797249.0   104.0  [{'iso_639_1': 'en', 'name': 'English'}, {'iso...   \n",
       "2          0.0   101.0           [{'iso_639_1': 'en', 'name': 'English'}]   \n",
       "3   81452156.0   127.0           [{'iso_639_1': 'en', 'name': 'English'}]   \n",
       "4   76578911.0   106.0           [{'iso_639_1': 'en', 'name': 'English'}]   \n",
       "\n",
       "     status                                            tagline  \\\n",
       "0  Released                                                NaN   \n",
       "1  Released          Roll the dice and unleash the excitement!   \n",
       "2  Released  Still Yelling. Still Fighting. Still Ready for...   \n",
       "3  Released  Friends are the people who let you be yourself...   \n",
       "4  Released  Just When His World Is Back To Normal... He's ...   \n",
       "\n",
       "                         title  video vote_average vote_count  \n",
       "0                    Toy Story  False          7.7     5415.0  \n",
       "1                      Jumanji  False          6.9     2413.0  \n",
       "2             Grumpier Old Men  False          6.5       92.0  \n",
       "3            Waiting to Exhale  False          6.1       34.0  \n",
       "4  Father of the Bride Part II  False          5.7      173.0  \n",
       "\n",
       "[5 rows x 24 columns]"
      ]
     },
     "execution_count": 2,
     "metadata": {},
     "output_type": "execute_result"
    }
   ],
   "source": [
    "#Hiển thị dữ liệu 5 dòng đầu tiên\n",
    "data_movies.head()"
   ]
  },
  {
   "cell_type": "markdown",
   "metadata": {
    "id": "eJFNsjDQ6G-5"
   },
   "source": [
    "**Lọc dữ liệu thô ban đầu chỉ lấy các cột quan trọng sử dụng để xây dựng hệ thống gợi ý:**\n",
    "* adult: Bộ film dành cho người lớn hay không. Dữ liệu boolean (True - Flase)\n",
    "* original_language: Ngôn ngữ ban đầu; dữ liệu categorical\n",
    "* original_title: Tiêu đề của film, dữ liệu text\n",
    "* overview: Tóm tắt nội dung của film; Dữ liệu text\n",
    "* release_date: Ngày phát hành film\n",
    "* vote_average: Tỷ lệ vote trung bình [0-10]\n",
    "* vote_count: Số lượt vote"
   ]
  },
  {
   "cell_type": "code",
   "execution_count": 48,
   "metadata": {},
   "outputs": [
    {
     "name": "stdout",
     "output_type": "stream",
     "text": [
      "<class 'pandas.core.frame.DataFrame'>\n",
      "RangeIndex: 12182 entries, 0 to 12181\n",
      "Data columns (total 6 columns):\n",
      " #   Column             Non-Null Count  Dtype  \n",
      "---  ------             --------------  -----  \n",
      " 0   original_title     12182 non-null  object \n",
      " 1   original_language  12182 non-null  object \n",
      " 2   overview           12119 non-null  object \n",
      " 3   release_date       12180 non-null  object \n",
      " 4   vote_average       12182 non-null  float64\n",
      " 5   vote_count         12182 non-null  float64\n",
      "dtypes: float64(2), object(4)\n",
      "memory usage: 571.2+ KB\n"
     ]
    }
   ],
   "source": [
    "data = data_movies[['original_title',\n",
    "                    'original_language',\n",
    "                      'overview',\n",
    "                      'release_date',\n",
    "                      'vote_average',\n",
    "                      'vote_count']]\n",
    "data.info()"
   ]
  },
  {
   "cell_type": "markdown",
   "metadata": {
    "colab": {
     "base_uri": "https://localhost:8080/"
    },
    "id": "H4lQuUW_57qq",
    "outputId": "ef2b6308-f6d9-49fe-8509-057f98c8c0a6"
   },
   "source": [
    "data = data_movies.loc[:,['adult',\n",
    "                          'original_title',\n",
    "                          'overview',\n",
    "                          'release_date',\n",
    "                          'vote_average',\n",
    "                          'vote_count']].copy()\n",
    "data.info()"
   ]
  },
  {
   "cell_type": "code",
   "execution_count": 49,
   "metadata": {},
   "outputs": [
    {
     "data": {
      "text/html": [
       "<div>\n",
       "<style scoped>\n",
       "    .dataframe tbody tr th:only-of-type {\n",
       "        vertical-align: middle;\n",
       "    }\n",
       "\n",
       "    .dataframe tbody tr th {\n",
       "        vertical-align: top;\n",
       "    }\n",
       "\n",
       "    .dataframe thead th {\n",
       "        text-align: right;\n",
       "    }\n",
       "</style>\n",
       "<table border=\"1\" class=\"dataframe\">\n",
       "  <thead>\n",
       "    <tr style=\"text-align: right;\">\n",
       "      <th></th>\n",
       "      <th>original_title</th>\n",
       "      <th>original_language</th>\n",
       "      <th>overview</th>\n",
       "      <th>release_date</th>\n",
       "      <th>vote_average</th>\n",
       "      <th>vote_count</th>\n",
       "    </tr>\n",
       "  </thead>\n",
       "  <tbody>\n",
       "    <tr>\n",
       "      <th>0</th>\n",
       "      <td>Toy Story</td>\n",
       "      <td>en</td>\n",
       "      <td>Led by Woody, Andy's toys live happily in his ...</td>\n",
       "      <td>1995-10-30</td>\n",
       "      <td>7.7</td>\n",
       "      <td>5415.0</td>\n",
       "    </tr>\n",
       "    <tr>\n",
       "      <th>1</th>\n",
       "      <td>Jumanji</td>\n",
       "      <td>en</td>\n",
       "      <td>When siblings Judy and Peter discover an encha...</td>\n",
       "      <td>1995-12-15</td>\n",
       "      <td>6.9</td>\n",
       "      <td>2413.0</td>\n",
       "    </tr>\n",
       "    <tr>\n",
       "      <th>2</th>\n",
       "      <td>Grumpier Old Men</td>\n",
       "      <td>en</td>\n",
       "      <td>A family wedding reignites the ancient feud be...</td>\n",
       "      <td>1995-12-22</td>\n",
       "      <td>6.5</td>\n",
       "      <td>92.0</td>\n",
       "    </tr>\n",
       "    <tr>\n",
       "      <th>3</th>\n",
       "      <td>Waiting to Exhale</td>\n",
       "      <td>en</td>\n",
       "      <td>Cheated on, mistreated and stepped on, the wom...</td>\n",
       "      <td>1995-12-22</td>\n",
       "      <td>6.1</td>\n",
       "      <td>34.0</td>\n",
       "    </tr>\n",
       "    <tr>\n",
       "      <th>4</th>\n",
       "      <td>Father of the Bride Part II</td>\n",
       "      <td>en</td>\n",
       "      <td>Just when George Banks has recovered from his ...</td>\n",
       "      <td>1995-02-10</td>\n",
       "      <td>5.7</td>\n",
       "      <td>173.0</td>\n",
       "    </tr>\n",
       "  </tbody>\n",
       "</table>\n",
       "</div>"
      ],
      "text/plain": [
       "                original_title original_language  \\\n",
       "0                    Toy Story                en   \n",
       "1                      Jumanji                en   \n",
       "2             Grumpier Old Men                en   \n",
       "3            Waiting to Exhale                en   \n",
       "4  Father of the Bride Part II                en   \n",
       "\n",
       "                                            overview release_date  \\\n",
       "0  Led by Woody, Andy's toys live happily in his ...   1995-10-30   \n",
       "1  When siblings Judy and Peter discover an encha...   1995-12-15   \n",
       "2  A family wedding reignites the ancient feud be...   1995-12-22   \n",
       "3  Cheated on, mistreated and stepped on, the wom...   1995-12-22   \n",
       "4  Just when George Banks has recovered from his ...   1995-02-10   \n",
       "\n",
       "   vote_average  vote_count  \n",
       "0           7.7      5415.0  \n",
       "1           6.9      2413.0  \n",
       "2           6.5        92.0  \n",
       "3           6.1        34.0  \n",
       "4           5.7       173.0  "
      ]
     },
     "execution_count": 49,
     "metadata": {},
     "output_type": "execute_result"
    }
   ],
   "source": [
    "data.head()"
   ]
  },
  {
   "cell_type": "code",
   "execution_count": 50,
   "metadata": {},
   "outputs": [
    {
     "data": {
      "text/html": [
       "<div>\n",
       "<style scoped>\n",
       "    .dataframe tbody tr th:only-of-type {\n",
       "        vertical-align: middle;\n",
       "    }\n",
       "\n",
       "    .dataframe tbody tr th {\n",
       "        vertical-align: top;\n",
       "    }\n",
       "\n",
       "    .dataframe thead th {\n",
       "        text-align: right;\n",
       "    }\n",
       "</style>\n",
       "<table border=\"1\" class=\"dataframe\">\n",
       "  <thead>\n",
       "    <tr style=\"text-align: right;\">\n",
       "      <th></th>\n",
       "      <th>original_title</th>\n",
       "      <th>original_language</th>\n",
       "      <th>overview</th>\n",
       "      <th>release_date</th>\n",
       "      <th>vote_average</th>\n",
       "      <th>vote_count</th>\n",
       "    </tr>\n",
       "  </thead>\n",
       "  <tbody>\n",
       "    <tr>\n",
       "      <th>12177</th>\n",
       "      <td>Frankenstein Created Woman</td>\n",
       "      <td>en</td>\n",
       "      <td>A deformed tormented girl drowns herself after...</td>\n",
       "      <td>1967-03-15</td>\n",
       "      <td>5.9</td>\n",
       "      <td>33.0</td>\n",
       "    </tr>\n",
       "    <tr>\n",
       "      <th>12178</th>\n",
       "      <td>Take Me</td>\n",
       "      <td>en</td>\n",
       "      <td>Ray is a fledgling entrepreneur who specialize...</td>\n",
       "      <td>2017-05-05</td>\n",
       "      <td>6.0</td>\n",
       "      <td>38.0</td>\n",
       "    </tr>\n",
       "    <tr>\n",
       "      <th>12179</th>\n",
       "      <td>The Incredible Jessica James</td>\n",
       "      <td>en</td>\n",
       "      <td>Burned by a bad breakup, a struggling New York...</td>\n",
       "      <td>2017-01-27</td>\n",
       "      <td>6.2</td>\n",
       "      <td>37.0</td>\n",
       "    </tr>\n",
       "    <tr>\n",
       "      <th>12180</th>\n",
       "      <td>In a Heartbeat</td>\n",
       "      <td>en</td>\n",
       "      <td>A closeted boy runs the risk of being outed by...</td>\n",
       "      <td>2017-06-01</td>\n",
       "      <td>8.3</td>\n",
       "      <td>146.0</td>\n",
       "    </tr>\n",
       "    <tr>\n",
       "      <th>12181</th>\n",
       "      <td>Cadet Kelly</td>\n",
       "      <td>en</td>\n",
       "      <td>Hyperactive teenager Kelly is enrolled into a ...</td>\n",
       "      <td>2002-03-07</td>\n",
       "      <td>5.2</td>\n",
       "      <td>145.0</td>\n",
       "    </tr>\n",
       "  </tbody>\n",
       "</table>\n",
       "</div>"
      ],
      "text/plain": [
       "                     original_title original_language  \\\n",
       "12177    Frankenstein Created Woman                en   \n",
       "12178                       Take Me                en   \n",
       "12179  The Incredible Jessica James                en   \n",
       "12180                In a Heartbeat                en   \n",
       "12181                   Cadet Kelly                en   \n",
       "\n",
       "                                                overview release_date  \\\n",
       "12177  A deformed tormented girl drowns herself after...   1967-03-15   \n",
       "12178  Ray is a fledgling entrepreneur who specialize...   2017-05-05   \n",
       "12179  Burned by a bad breakup, a struggling New York...   2017-01-27   \n",
       "12180  A closeted boy runs the risk of being outed by...   2017-06-01   \n",
       "12181  Hyperactive teenager Kelly is enrolled into a ...   2002-03-07   \n",
       "\n",
       "       vote_average  vote_count  \n",
       "12177           5.9        33.0  \n",
       "12178           6.0        38.0  \n",
       "12179           6.2        37.0  \n",
       "12180           8.3       146.0  \n",
       "12181           5.2       145.0  "
      ]
     },
     "execution_count": 50,
     "metadata": {},
     "output_type": "execute_result"
    }
   ],
   "source": [
    "data.tail()"
   ]
  },
  {
   "cell_type": "code",
   "execution_count": 51,
   "metadata": {},
   "outputs": [
    {
     "data": {
      "text/html": [
       "<div>\n",
       "<style scoped>\n",
       "    .dataframe tbody tr th:only-of-type {\n",
       "        vertical-align: middle;\n",
       "    }\n",
       "\n",
       "    .dataframe tbody tr th {\n",
       "        vertical-align: top;\n",
       "    }\n",
       "\n",
       "    .dataframe thead th {\n",
       "        text-align: right;\n",
       "    }\n",
       "</style>\n",
       "<table border=\"1\" class=\"dataframe\">\n",
       "  <thead>\n",
       "    <tr style=\"text-align: right;\">\n",
       "      <th></th>\n",
       "      <th>original_title</th>\n",
       "      <th>original_language</th>\n",
       "      <th>overview</th>\n",
       "      <th>release_date</th>\n",
       "      <th>vote_average</th>\n",
       "      <th>vote_count</th>\n",
       "    </tr>\n",
       "  </thead>\n",
       "  <tbody>\n",
       "    <tr>\n",
       "      <th>980</th>\n",
       "      <td>Titanic</td>\n",
       "      <td>en</td>\n",
       "      <td>84 years later, a 101-year-old woman named Ros...</td>\n",
       "      <td>1997-11-18</td>\n",
       "      <td>7.5</td>\n",
       "      <td>7770.0</td>\n",
       "    </tr>\n",
       "    <tr>\n",
       "      <th>9646</th>\n",
       "      <td>Titanic</td>\n",
       "      <td>en</td>\n",
       "      <td>A story of the romances of two couples upon th...</td>\n",
       "      <td>1996-11-17</td>\n",
       "      <td>6.3</td>\n",
       "      <td>45.0</td>\n",
       "    </tr>\n",
       "  </tbody>\n",
       "</table>\n",
       "</div>"
      ],
      "text/plain": [
       "     original_title original_language  \\\n",
       "980         Titanic                en   \n",
       "9646        Titanic                en   \n",
       "\n",
       "                                               overview release_date  \\\n",
       "980   84 years later, a 101-year-old woman named Ros...   1997-11-18   \n",
       "9646  A story of the romances of two couples upon th...   1996-11-17   \n",
       "\n",
       "      vote_average  vote_count  \n",
       "980            7.5      7770.0  \n",
       "9646           6.3        45.0  "
      ]
     },
     "execution_count": 51,
     "metadata": {},
     "output_type": "execute_result"
    }
   ],
   "source": [
    "#Tìm kiếm film theo tên:\n",
    "data[data.original_title=='Titanic']"
   ]
  },
  {
   "cell_type": "code",
   "execution_count": null,
   "metadata": {},
   "outputs": [],
   "source": []
  },
  {
   "cell_type": "code",
   "execution_count": 52,
   "metadata": {
    "colab": {
     "base_uri": "https://localhost:8080/",
     "height": 297
    },
    "id": "wiE7pLPiJ1R1",
    "outputId": "16615b25-e78e-4f2a-8940-53134a83c728"
   },
   "outputs": [
    {
     "data": {
      "text/html": [
       "<div>\n",
       "<style scoped>\n",
       "    .dataframe tbody tr th:only-of-type {\n",
       "        vertical-align: middle;\n",
       "    }\n",
       "\n",
       "    .dataframe tbody tr th {\n",
       "        vertical-align: top;\n",
       "    }\n",
       "\n",
       "    .dataframe thead th {\n",
       "        text-align: right;\n",
       "    }\n",
       "</style>\n",
       "<table border=\"1\" class=\"dataframe\">\n",
       "  <thead>\n",
       "    <tr style=\"text-align: right;\">\n",
       "      <th></th>\n",
       "      <th>vote_average</th>\n",
       "      <th>vote_count</th>\n",
       "    </tr>\n",
       "  </thead>\n",
       "  <tbody>\n",
       "    <tr>\n",
       "      <th>count</th>\n",
       "      <td>12182.000000</td>\n",
       "      <td>12182.000000</td>\n",
       "    </tr>\n",
       "    <tr>\n",
       "      <th>mean</th>\n",
       "      <td>6.308644</td>\n",
       "      <td>388.224594</td>\n",
       "    </tr>\n",
       "    <tr>\n",
       "      <th>std</th>\n",
       "      <td>0.919185</td>\n",
       "      <td>891.546891</td>\n",
       "    </tr>\n",
       "    <tr>\n",
       "      <th>min</th>\n",
       "      <td>0.000000</td>\n",
       "      <td>31.000000</td>\n",
       "    </tr>\n",
       "    <tr>\n",
       "      <th>25%</th>\n",
       "      <td>5.700000</td>\n",
       "      <td>50.000000</td>\n",
       "    </tr>\n",
       "    <tr>\n",
       "      <th>50%</th>\n",
       "      <td>6.400000</td>\n",
       "      <td>99.000000</td>\n",
       "    </tr>\n",
       "    <tr>\n",
       "      <th>75%</th>\n",
       "      <td>7.000000</td>\n",
       "      <td>299.000000</td>\n",
       "    </tr>\n",
       "    <tr>\n",
       "      <th>max</th>\n",
       "      <td>9.500000</td>\n",
       "      <td>14075.000000</td>\n",
       "    </tr>\n",
       "  </tbody>\n",
       "</table>\n",
       "</div>"
      ],
      "text/plain": [
       "       vote_average    vote_count\n",
       "count  12182.000000  12182.000000\n",
       "mean       6.308644    388.224594\n",
       "std        0.919185    891.546891\n",
       "min        0.000000     31.000000\n",
       "25%        5.700000     50.000000\n",
       "50%        6.400000     99.000000\n",
       "75%        7.000000    299.000000\n",
       "max        9.500000  14075.000000"
      ]
     },
     "execution_count": 52,
     "metadata": {},
     "output_type": "execute_result"
    }
   ],
   "source": [
    "#Đặc trưng thống kê các thuôc tính số\n",
    "data.describe()"
   ]
  },
  {
   "cell_type": "code",
   "execution_count": 53,
   "metadata": {},
   "outputs": [
    {
     "data": {
      "text/html": [
       "<div>\n",
       "<style scoped>\n",
       "    .dataframe tbody tr th:only-of-type {\n",
       "        vertical-align: middle;\n",
       "    }\n",
       "\n",
       "    .dataframe tbody tr th {\n",
       "        vertical-align: top;\n",
       "    }\n",
       "\n",
       "    .dataframe thead th {\n",
       "        text-align: right;\n",
       "    }\n",
       "</style>\n",
       "<table border=\"1\" class=\"dataframe\">\n",
       "  <thead>\n",
       "    <tr style=\"text-align: right;\">\n",
       "      <th></th>\n",
       "      <th>original_title</th>\n",
       "      <th>original_language</th>\n",
       "      <th>overview</th>\n",
       "      <th>release_date</th>\n",
       "      <th>vote_average</th>\n",
       "      <th>vote_count</th>\n",
       "    </tr>\n",
       "  </thead>\n",
       "  <tbody>\n",
       "    <tr>\n",
       "      <th>11991</th>\n",
       "      <td>Planet Earth II</td>\n",
       "      <td>en</td>\n",
       "      <td>David Attenborough presents a documentary seri...</td>\n",
       "      <td>2016-11-06</td>\n",
       "      <td>9.5</td>\n",
       "      <td>50.0</td>\n",
       "    </tr>\n",
       "  </tbody>\n",
       "</table>\n",
       "</div>"
      ],
      "text/plain": [
       "        original_title original_language  \\\n",
       "11991  Planet Earth II                en   \n",
       "\n",
       "                                                overview release_date  \\\n",
       "11991  David Attenborough presents a documentary seri...   2016-11-06   \n",
       "\n",
       "       vote_average  vote_count  \n",
       "11991           9.5        50.0  "
      ]
     },
     "execution_count": 53,
     "metadata": {},
     "output_type": "execute_result"
    }
   ],
   "source": [
    "# view data\n",
    "data[data['vote_average']>=9.5]"
   ]
  },
  {
   "cell_type": "code",
   "execution_count": 54,
   "metadata": {},
   "outputs": [
    {
     "data": {
      "text/html": [
       "<div>\n",
       "<style scoped>\n",
       "    .dataframe tbody tr th:only-of-type {\n",
       "        vertical-align: middle;\n",
       "    }\n",
       "\n",
       "    .dataframe tbody tr th {\n",
       "        vertical-align: top;\n",
       "    }\n",
       "\n",
       "    .dataframe thead th {\n",
       "        text-align: right;\n",
       "    }\n",
       "</style>\n",
       "<table border=\"1\" class=\"dataframe\">\n",
       "  <thead>\n",
       "    <tr style=\"text-align: right;\">\n",
       "      <th></th>\n",
       "      <th>original_title</th>\n",
       "      <th>original_language</th>\n",
       "      <th>overview</th>\n",
       "      <th>release_date</th>\n",
       "      <th>vote_average</th>\n",
       "      <th>vote_count</th>\n",
       "    </tr>\n",
       "  </thead>\n",
       "  <tbody>\n",
       "    <tr>\n",
       "      <th>9820</th>\n",
       "      <td>Avatar 2</td>\n",
       "      <td>en</td>\n",
       "      <td>A sequel to Avatar (2009).</td>\n",
       "      <td>2020-12-16</td>\n",
       "      <td>0.0</td>\n",
       "      <td>58.0</td>\n",
       "    </tr>\n",
       "  </tbody>\n",
       "</table>\n",
       "</div>"
      ],
      "text/plain": [
       "     original_title original_language                    overview  \\\n",
       "9820       Avatar 2                en  A sequel to Avatar (2009).   \n",
       "\n",
       "     release_date  vote_average  vote_count  \n",
       "9820   2020-12-16           0.0        58.0  "
      ]
     },
     "execution_count": 54,
     "metadata": {},
     "output_type": "execute_result"
    }
   ],
   "source": [
    "data[data['vote_average']<=0]"
   ]
  },
  {
   "cell_type": "code",
   "execution_count": 55,
   "metadata": {},
   "outputs": [
    {
     "data": {
      "text/html": [
       "<div>\n",
       "<style scoped>\n",
       "    .dataframe tbody tr th:only-of-type {\n",
       "        vertical-align: middle;\n",
       "    }\n",
       "\n",
       "    .dataframe tbody tr th {\n",
       "        vertical-align: top;\n",
       "    }\n",
       "\n",
       "    .dataframe thead th {\n",
       "        text-align: right;\n",
       "    }\n",
       "</style>\n",
       "<table border=\"1\" class=\"dataframe\">\n",
       "  <thead>\n",
       "    <tr style=\"text-align: right;\">\n",
       "      <th></th>\n",
       "      <th>original_title</th>\n",
       "      <th>original_language</th>\n",
       "      <th>overview</th>\n",
       "      <th>release_date</th>\n",
       "      <th>vote_average</th>\n",
       "      <th>vote_count</th>\n",
       "    </tr>\n",
       "  </thead>\n",
       "  <tbody>\n",
       "    <tr>\n",
       "      <th>7116</th>\n",
       "      <td>Inception</td>\n",
       "      <td>en</td>\n",
       "      <td>Cobb, a skilled thief who commits corporate es...</td>\n",
       "      <td>2010-07-14</td>\n",
       "      <td>8.1</td>\n",
       "      <td>14075.0</td>\n",
       "    </tr>\n",
       "  </tbody>\n",
       "</table>\n",
       "</div>"
      ],
      "text/plain": [
       "     original_title original_language  \\\n",
       "7116      Inception                en   \n",
       "\n",
       "                                               overview release_date  \\\n",
       "7116  Cobb, a skilled thief who commits corporate es...   2010-07-14   \n",
       "\n",
       "      vote_average  vote_count  \n",
       "7116           8.1     14075.0  "
      ]
     },
     "execution_count": 55,
     "metadata": {},
     "output_type": "execute_result"
    }
   ],
   "source": [
    "data[data['vote_count']>=14000]"
   ]
  },
  {
   "cell_type": "code",
   "execution_count": 56,
   "metadata": {
    "colab": {
     "base_uri": "https://localhost:8080/",
     "height": 173
    },
    "id": "9vntmqMANsae",
    "outputId": "49025477-f37f-4603-8e2c-3727a7c2c186",
    "scrolled": true
   },
   "outputs": [
    {
     "data": {
      "text/html": [
       "<div>\n",
       "<style scoped>\n",
       "    .dataframe tbody tr th:only-of-type {\n",
       "        vertical-align: middle;\n",
       "    }\n",
       "\n",
       "    .dataframe tbody tr th {\n",
       "        vertical-align: top;\n",
       "    }\n",
       "\n",
       "    .dataframe thead th {\n",
       "        text-align: right;\n",
       "    }\n",
       "</style>\n",
       "<table border=\"1\" class=\"dataframe\">\n",
       "  <thead>\n",
       "    <tr style=\"text-align: right;\">\n",
       "      <th></th>\n",
       "      <th>original_title</th>\n",
       "      <th>original_language</th>\n",
       "      <th>overview</th>\n",
       "      <th>release_date</th>\n",
       "    </tr>\n",
       "  </thead>\n",
       "  <tbody>\n",
       "    <tr>\n",
       "      <th>count</th>\n",
       "      <td>12182</td>\n",
       "      <td>12182</td>\n",
       "      <td>12119</td>\n",
       "      <td>12180</td>\n",
       "    </tr>\n",
       "    <tr>\n",
       "      <th>unique</th>\n",
       "      <td>11828</td>\n",
       "      <td>48</td>\n",
       "      <td>12099</td>\n",
       "      <td>6884</td>\n",
       "    </tr>\n",
       "    <tr>\n",
       "      <th>top</th>\n",
       "      <td>Life</td>\n",
       "      <td>en</td>\n",
       "      <td>No overview found.</td>\n",
       "      <td>2009-01-01</td>\n",
       "    </tr>\n",
       "    <tr>\n",
       "      <th>freq</th>\n",
       "      <td>4</td>\n",
       "      <td>9598</td>\n",
       "      <td>8</td>\n",
       "      <td>19</td>\n",
       "    </tr>\n",
       "  </tbody>\n",
       "</table>\n",
       "</div>"
      ],
      "text/plain": [
       "       original_title original_language            overview release_date\n",
       "count           12182             12182               12119        12180\n",
       "unique          11828                48               12099         6884\n",
       "top              Life                en  No overview found.   2009-01-01\n",
       "freq                4              9598                   8           19"
      ]
     },
     "execution_count": 56,
     "metadata": {},
     "output_type": "execute_result"
    }
   ],
   "source": [
    "#Đặc trưng thống kê dữ liệu Object\n",
    "data.describe(include=['O'])"
   ]
  },
  {
   "cell_type": "code",
   "execution_count": 57,
   "metadata": {},
   "outputs": [
    {
     "data": {
      "text/html": [
       "<div>\n",
       "<style scoped>\n",
       "    .dataframe tbody tr th:only-of-type {\n",
       "        vertical-align: middle;\n",
       "    }\n",
       "\n",
       "    .dataframe tbody tr th {\n",
       "        vertical-align: top;\n",
       "    }\n",
       "\n",
       "    .dataframe thead th {\n",
       "        text-align: right;\n",
       "    }\n",
       "</style>\n",
       "<table border=\"1\" class=\"dataframe\">\n",
       "  <thead>\n",
       "    <tr style=\"text-align: right;\">\n",
       "      <th></th>\n",
       "      <th>original_title</th>\n",
       "      <th>original_language</th>\n",
       "      <th>overview</th>\n",
       "      <th>release_date</th>\n",
       "      <th>vote_average</th>\n",
       "      <th>vote_count</th>\n",
       "    </tr>\n",
       "  </thead>\n",
       "  <tbody>\n",
       "    <tr>\n",
       "      <th>1540</th>\n",
       "      <td>Life</td>\n",
       "      <td>en</td>\n",
       "      <td>Two men in 1930s Mississippi become friends af...</td>\n",
       "      <td>1999-04-16</td>\n",
       "      <td>6.4</td>\n",
       "      <td>179.0</td>\n",
       "    </tr>\n",
       "    <tr>\n",
       "      <th>10751</th>\n",
       "      <td>Life</td>\n",
       "      <td>en</td>\n",
       "      <td>In 1955, young photographer Dennis Stock devel...</td>\n",
       "      <td>2015-07-24</td>\n",
       "      <td>5.9</td>\n",
       "      <td>128.0</td>\n",
       "    </tr>\n",
       "    <tr>\n",
       "      <th>11387</th>\n",
       "      <td>Life</td>\n",
       "      <td>en</td>\n",
       "      <td>David Attenborough's legendary BBC crew explai...</td>\n",
       "      <td>2009-12-14</td>\n",
       "      <td>8.5</td>\n",
       "      <td>65.0</td>\n",
       "    </tr>\n",
       "    <tr>\n",
       "      <th>11903</th>\n",
       "      <td>Life</td>\n",
       "      <td>en</td>\n",
       "      <td>The six-member crew of the International Space...</td>\n",
       "      <td>2017-03-22</td>\n",
       "      <td>6.3</td>\n",
       "      <td>1959.0</td>\n",
       "    </tr>\n",
       "  </tbody>\n",
       "</table>\n",
       "</div>"
      ],
      "text/plain": [
       "      original_title original_language  \\\n",
       "1540            Life                en   \n",
       "10751           Life                en   \n",
       "11387           Life                en   \n",
       "11903           Life                en   \n",
       "\n",
       "                                                overview release_date  \\\n",
       "1540   Two men in 1930s Mississippi become friends af...   1999-04-16   \n",
       "10751  In 1955, young photographer Dennis Stock devel...   2015-07-24   \n",
       "11387  David Attenborough's legendary BBC crew explai...   2009-12-14   \n",
       "11903  The six-member crew of the International Space...   2017-03-22   \n",
       "\n",
       "       vote_average  vote_count  \n",
       "1540            6.4       179.0  \n",
       "10751           5.9       128.0  \n",
       "11387           8.5        65.0  \n",
       "11903           6.3      1959.0  "
      ]
     },
     "execution_count": 57,
     "metadata": {},
     "output_type": "execute_result"
    }
   ],
   "source": [
    "data[data['original_title']=='Life']"
   ]
  },
  {
   "cell_type": "code",
   "execution_count": 9,
   "metadata": {},
   "outputs": [
    {
     "data": {
      "text/html": [
       "<div>\n",
       "<style scoped>\n",
       "    .dataframe tbody tr th:only-of-type {\n",
       "        vertical-align: middle;\n",
       "    }\n",
       "\n",
       "    .dataframe tbody tr th {\n",
       "        vertical-align: top;\n",
       "    }\n",
       "\n",
       "    .dataframe thead th {\n",
       "        text-align: right;\n",
       "    }\n",
       "</style>\n",
       "<table border=\"1\" class=\"dataframe\">\n",
       "  <thead>\n",
       "    <tr style=\"text-align: right;\">\n",
       "      <th></th>\n",
       "      <th>adult</th>\n",
       "      <th>original_title</th>\n",
       "      <th>overview</th>\n",
       "      <th>release_date</th>\n",
       "      <th>vote_average</th>\n",
       "      <th>vote_count</th>\n",
       "    </tr>\n",
       "  </thead>\n",
       "  <tbody>\n",
       "    <tr>\n",
       "      <th>5024</th>\n",
       "      <td>False</td>\n",
       "      <td>Tanguy</td>\n",
       "      <td>No overview found.</td>\n",
       "      <td>2001-11-21</td>\n",
       "      <td>5.8</td>\n",
       "      <td>70.0</td>\n",
       "    </tr>\n",
       "    <tr>\n",
       "      <th>8078</th>\n",
       "      <td>False</td>\n",
       "      <td>Mais qui a tué Pamela Rose ?</td>\n",
       "      <td>No overview found.</td>\n",
       "      <td>2003-06-04</td>\n",
       "      <td>6.6</td>\n",
       "      <td>62.0</td>\n",
       "    </tr>\n",
       "    <tr>\n",
       "      <th>9721</th>\n",
       "      <td>False</td>\n",
       "      <td>Grande, grosso e Verdone</td>\n",
       "      <td>No overview found.</td>\n",
       "      <td>2008-03-07</td>\n",
       "      <td>5.6</td>\n",
       "      <td>78.0</td>\n",
       "    </tr>\n",
       "    <tr>\n",
       "      <th>10103</th>\n",
       "      <td>False</td>\n",
       "      <td>7 Zwerge - Der Wald ist nicht genug</td>\n",
       "      <td>No overview found.</td>\n",
       "      <td>2006-10-25</td>\n",
       "      <td>4.9</td>\n",
       "      <td>44.0</td>\n",
       "    </tr>\n",
       "    <tr>\n",
       "      <th>10516</th>\n",
       "      <td>False</td>\n",
       "      <td>Lezioni di cioccolato</td>\n",
       "      <td>No overview found.</td>\n",
       "      <td>2007-11-23</td>\n",
       "      <td>5.8</td>\n",
       "      <td>42.0</td>\n",
       "    </tr>\n",
       "    <tr>\n",
       "      <th>10566</th>\n",
       "      <td>False</td>\n",
       "      <td>Il cosmo sul comò</td>\n",
       "      <td>No overview found.</td>\n",
       "      <td>2008-12-19</td>\n",
       "      <td>5.0</td>\n",
       "      <td>156.0</td>\n",
       "    </tr>\n",
       "    <tr>\n",
       "      <th>10612</th>\n",
       "      <td>False</td>\n",
       "      <td>Fantozzi subisce ancora</td>\n",
       "      <td>No overview found.</td>\n",
       "      <td>1983-01-01</td>\n",
       "      <td>6.4</td>\n",
       "      <td>77.0</td>\n",
       "    </tr>\n",
       "    <tr>\n",
       "      <th>11093</th>\n",
       "      <td>False</td>\n",
       "      <td>Jean-Philippe</td>\n",
       "      <td>No overview found.</td>\n",
       "      <td>2006-04-05</td>\n",
       "      <td>5.4</td>\n",
       "      <td>48.0</td>\n",
       "    </tr>\n",
       "  </tbody>\n",
       "</table>\n",
       "</div>"
      ],
      "text/plain": [
       "       adult                       original_title            overview  \\\n",
       "5024   False                               Tanguy  No overview found.   \n",
       "8078   False         Mais qui a tué Pamela Rose ?  No overview found.   \n",
       "9721   False             Grande, grosso e Verdone  No overview found.   \n",
       "10103  False  7 Zwerge - Der Wald ist nicht genug  No overview found.   \n",
       "10516  False                Lezioni di cioccolato  No overview found.   \n",
       "10566  False                    Il cosmo sul comò  No overview found.   \n",
       "10612  False              Fantozzi subisce ancora  No overview found.   \n",
       "11093  False                        Jean-Philippe  No overview found.   \n",
       "\n",
       "      release_date  vote_average  vote_count  \n",
       "5024    2001-11-21           5.8        70.0  \n",
       "8078    2003-06-04           6.6        62.0  \n",
       "9721    2008-03-07           5.6        78.0  \n",
       "10103   2006-10-25           4.9        44.0  \n",
       "10516   2007-11-23           5.8        42.0  \n",
       "10566   2008-12-19           5.0       156.0  \n",
       "10612   1983-01-01           6.4        77.0  \n",
       "11093   2006-04-05           5.4        48.0  "
      ]
     },
     "execution_count": 9,
     "metadata": {},
     "output_type": "execute_result"
    }
   ],
   "source": [
    "data[data.overview=='No overview found.']"
   ]
  },
  {
   "cell_type": "markdown",
   "metadata": {
    "id": "0Ew3T6ZIZVWs"
   },
   "source": [
    "# **2) Tiền xử lý dữ liệu tập Movies**\n",
    "---"
   ]
  },
  {
   "cell_type": "markdown",
   "metadata": {
    "id": "3dBFzSbb9rHM"
   },
   "source": [
    "## **2.1) Chuẩn hóa dữ liệu:**\n",
    "---\n",
    "* Kiểm tra dữ liệu null của các thuộc tính\n",
    "* Loại bỏ các bộ film có thuộc tín null\n",
    "* Sắp xếp lại các bộ film theo ngày phát hành"
   ]
  },
  {
   "cell_type": "code",
   "execution_count": 58,
   "metadata": {
    "colab": {
     "base_uri": "https://localhost:8080/"
    },
    "id": "ceRi0y6m9qtV",
    "outputId": "08c22543-06d8-4098-d1bf-daf33de2c716"
   },
   "outputs": [
    {
     "name": "stdout",
     "output_type": "stream",
     "text": [
      "Số lượng missing data trong file dữ liệu:\n",
      "original_title        0\n",
      "original_language     0\n",
      "overview             63\n",
      "release_date          2\n",
      "vote_average          0\n",
      "vote_count            0\n",
      "dtype: int64\n"
     ]
    }
   ],
   "source": [
    "#Thống kê số liệu missing trong Data frame\n",
    "#Theo từng cột\n",
    "print('Số lượng missing data trong file dữ liệu:')\n",
    "print(data.isnull().sum())"
   ]
  },
  {
   "cell_type": "code",
   "execution_count": 59,
   "metadata": {},
   "outputs": [
    {
     "data": {
      "text/html": [
       "<div>\n",
       "<style scoped>\n",
       "    .dataframe tbody tr th:only-of-type {\n",
       "        vertical-align: middle;\n",
       "    }\n",
       "\n",
       "    .dataframe tbody tr th {\n",
       "        vertical-align: top;\n",
       "    }\n",
       "\n",
       "    .dataframe thead th {\n",
       "        text-align: right;\n",
       "    }\n",
       "</style>\n",
       "<table border=\"1\" class=\"dataframe\">\n",
       "  <thead>\n",
       "    <tr style=\"text-align: right;\">\n",
       "      <th></th>\n",
       "      <th>original_title</th>\n",
       "      <th>original_language</th>\n",
       "      <th>overview</th>\n",
       "      <th>release_date</th>\n",
       "      <th>vote_average</th>\n",
       "      <th>vote_count</th>\n",
       "    </tr>\n",
       "  </thead>\n",
       "  <tbody>\n",
       "    <tr>\n",
       "      <th>6728</th>\n",
       "      <td>Fuga de Cerebros</td>\n",
       "      <td>es</td>\n",
       "      <td>NaN</td>\n",
       "      <td>2009-01-01</td>\n",
       "      <td>5.5</td>\n",
       "      <td>42.0</td>\n",
       "    </tr>\n",
       "    <tr>\n",
       "      <th>8983</th>\n",
       "      <td>Les trois frères : Le retour</td>\n",
       "      <td>fr</td>\n",
       "      <td>NaN</td>\n",
       "      <td>2014-02-12</td>\n",
       "      <td>5.0</td>\n",
       "      <td>110.0</td>\n",
       "    </tr>\n",
       "    <tr>\n",
       "      <th>9017</th>\n",
       "      <td>Prêt à tout</td>\n",
       "      <td>fr</td>\n",
       "      <td>NaN</td>\n",
       "      <td>2014-01-21</td>\n",
       "      <td>5.4</td>\n",
       "      <td>55.0</td>\n",
       "    </tr>\n",
       "    <tr>\n",
       "      <th>9282</th>\n",
       "      <td>L'Italien</td>\n",
       "      <td>fr</td>\n",
       "      <td>NaN</td>\n",
       "      <td>2010-07-07</td>\n",
       "      <td>5.5</td>\n",
       "      <td>53.0</td>\n",
       "    </tr>\n",
       "    <tr>\n",
       "      <th>9626</th>\n",
       "      <td>Ricky e Barabba</td>\n",
       "      <td>it</td>\n",
       "      <td>NaN</td>\n",
       "      <td>1992-12-19</td>\n",
       "      <td>5.7</td>\n",
       "      <td>41.0</td>\n",
       "    </tr>\n",
       "    <tr>\n",
       "      <th>...</th>\n",
       "      <td>...</td>\n",
       "      <td>...</td>\n",
       "      <td>...</td>\n",
       "      <td>...</td>\n",
       "      <td>...</td>\n",
       "      <td>...</td>\n",
       "    </tr>\n",
       "    <tr>\n",
       "      <th>12014</th>\n",
       "      <td>Omicidio all'italiana</td>\n",
       "      <td>it</td>\n",
       "      <td>NaN</td>\n",
       "      <td>2017-03-02</td>\n",
       "      <td>6.3</td>\n",
       "      <td>69.0</td>\n",
       "    </tr>\n",
       "    <tr>\n",
       "      <th>12074</th>\n",
       "      <td>Halal Police d'Etat</td>\n",
       "      <td>fr</td>\n",
       "      <td>NaN</td>\n",
       "      <td>2011-02-16</td>\n",
       "      <td>4.5</td>\n",
       "      <td>35.0</td>\n",
       "    </tr>\n",
       "    <tr>\n",
       "      <th>12123</th>\n",
       "      <td>Viva l'Italia</td>\n",
       "      <td>it</td>\n",
       "      <td>NaN</td>\n",
       "      <td>2012-10-25</td>\n",
       "      <td>6.1</td>\n",
       "      <td>57.0</td>\n",
       "    </tr>\n",
       "    <tr>\n",
       "      <th>12127</th>\n",
       "      <td>Notte prima degli esami - Oggi</td>\n",
       "      <td>it</td>\n",
       "      <td>NaN</td>\n",
       "      <td>2007-02-14</td>\n",
       "      <td>5.0</td>\n",
       "      <td>137.0</td>\n",
       "    </tr>\n",
       "    <tr>\n",
       "      <th>12155</th>\n",
       "      <td>Questa notte è ancora nostra</td>\n",
       "      <td>it</td>\n",
       "      <td>NaN</td>\n",
       "      <td>2008-03-19</td>\n",
       "      <td>5.5</td>\n",
       "      <td>31.0</td>\n",
       "    </tr>\n",
       "  </tbody>\n",
       "</table>\n",
       "<p>63 rows × 6 columns</p>\n",
       "</div>"
      ],
      "text/plain": [
       "                       original_title original_language overview release_date  \\\n",
       "6728                 Fuga de Cerebros                es      NaN   2009-01-01   \n",
       "8983     Les trois frères : Le retour                fr      NaN   2014-02-12   \n",
       "9017                      Prêt à tout                fr      NaN   2014-01-21   \n",
       "9282                        L'Italien                fr      NaN   2010-07-07   \n",
       "9626                  Ricky e Barabba                it      NaN   1992-12-19   \n",
       "...                               ...               ...      ...          ...   \n",
       "12014           Omicidio all'italiana                it      NaN   2017-03-02   \n",
       "12074             Halal Police d'Etat                fr      NaN   2011-02-16   \n",
       "12123                   Viva l'Italia                it      NaN   2012-10-25   \n",
       "12127  Notte prima degli esami - Oggi                it      NaN   2007-02-14   \n",
       "12155    Questa notte è ancora nostra                it      NaN   2008-03-19   \n",
       "\n",
       "       vote_average  vote_count  \n",
       "6728            5.5        42.0  \n",
       "8983            5.0       110.0  \n",
       "9017            5.4        55.0  \n",
       "9282            5.5        53.0  \n",
       "9626            5.7        41.0  \n",
       "...             ...         ...  \n",
       "12014           6.3        69.0  \n",
       "12074           4.5        35.0  \n",
       "12123           6.1        57.0  \n",
       "12127           5.0       137.0  \n",
       "12155           5.5        31.0  \n",
       "\n",
       "[63 rows x 6 columns]"
      ]
     },
     "execution_count": 59,
     "metadata": {},
     "output_type": "execute_result"
    }
   ],
   "source": [
    "#Liệt kê các bộ phim có thuộc tính tóm tắt là rỗng:\n",
    "data[data['overview'].isnull()==True]"
   ]
  },
  {
   "cell_type": "code",
   "execution_count": null,
   "metadata": {},
   "outputs": [],
   "source": []
  },
  {
   "cell_type": "code",
   "execution_count": 60,
   "metadata": {
    "colab": {
     "base_uri": "https://localhost:8080/"
    },
    "id": "Rtca35At-rau",
    "outputId": "003c578b-8b95-4c60-fd83-6e7fe6eaf6f8"
   },
   "outputs": [
    {
     "name": "stdout",
     "output_type": "stream",
     "text": [
      "<class 'pandas.core.frame.DataFrame'>\n",
      "Int64Index: 12117 entries, 0 to 12181\n",
      "Data columns (total 6 columns):\n",
      " #   Column             Non-Null Count  Dtype  \n",
      "---  ------             --------------  -----  \n",
      " 0   original_title     12117 non-null  object \n",
      " 1   original_language  12117 non-null  object \n",
      " 2   overview           12117 non-null  object \n",
      " 3   release_date       12117 non-null  object \n",
      " 4   vote_average       12117 non-null  float64\n",
      " 5   vote_count         12117 non-null  float64\n",
      "dtypes: float64(2), object(4)\n",
      "memory usage: 662.6+ KB\n"
     ]
    }
   ],
   "source": [
    "#Xóa tất cả các bộ film có chứa thuộc tính null\n",
    "data.dropna(axis=0,how='any',inplace=True)\n",
    "data.info()"
   ]
  },
  {
   "cell_type": "code",
   "execution_count": 61,
   "metadata": {
    "colab": {
     "base_uri": "https://localhost:8080/",
     "height": 204
    },
    "id": "pdR6J3KKYAQQ",
    "outputId": "f1aaf46c-901b-4031-a864-d0cc7ddb9bfe"
   },
   "outputs": [
    {
     "data": {
      "text/html": [
       "<div>\n",
       "<style scoped>\n",
       "    .dataframe tbody tr th:only-of-type {\n",
       "        vertical-align: middle;\n",
       "    }\n",
       "\n",
       "    .dataframe tbody tr th {\n",
       "        vertical-align: top;\n",
       "    }\n",
       "\n",
       "    .dataframe thead th {\n",
       "        text-align: right;\n",
       "    }\n",
       "</style>\n",
       "<table border=\"1\" class=\"dataframe\">\n",
       "  <thead>\n",
       "    <tr style=\"text-align: right;\">\n",
       "      <th></th>\n",
       "      <th>original_title</th>\n",
       "      <th>original_language</th>\n",
       "      <th>overview</th>\n",
       "      <th>release_date</th>\n",
       "      <th>vote_average</th>\n",
       "      <th>vote_count</th>\n",
       "    </tr>\n",
       "  </thead>\n",
       "  <tbody>\n",
       "    <tr>\n",
       "      <th>9712</th>\n",
       "      <td>La Sortie de l'Usine Lumière à Lyon</td>\n",
       "      <td>fr</td>\n",
       "      <td>Working men and women leave the Lumière factor...</td>\n",
       "      <td>1895-06-10</td>\n",
       "      <td>6.2</td>\n",
       "      <td>52.0</td>\n",
       "    </tr>\n",
       "    <tr>\n",
       "      <th>9272</th>\n",
       "      <td>Arroseur et arrosé</td>\n",
       "      <td>fr</td>\n",
       "      <td>A gardener is watering his flowers, when a mis...</td>\n",
       "      <td>1895-12-27</td>\n",
       "      <td>7.0</td>\n",
       "      <td>44.0</td>\n",
       "    </tr>\n",
       "    <tr>\n",
       "      <th>8291</th>\n",
       "      <td>L'arrivée d'un train en gare de La Ciotat</td>\n",
       "      <td>es</td>\n",
       "      <td>A group of people are standing along the platf...</td>\n",
       "      <td>1896-01-25</td>\n",
       "      <td>6.9</td>\n",
       "      <td>87.0</td>\n",
       "    </tr>\n",
       "    <tr>\n",
       "      <th>5035</th>\n",
       "      <td>Le Voyage dans la Lune</td>\n",
       "      <td>fr</td>\n",
       "      <td>A Trip to The Moon is a science fiction film f...</td>\n",
       "      <td>1902-09-01</td>\n",
       "      <td>7.9</td>\n",
       "      <td>314.0</td>\n",
       "    </tr>\n",
       "    <tr>\n",
       "      <th>5634</th>\n",
       "      <td>The Great Train Robbery</td>\n",
       "      <td>en</td>\n",
       "      <td>The clerk at the train station is assaulted an...</td>\n",
       "      <td>1903-12-01</td>\n",
       "      <td>7.1</td>\n",
       "      <td>116.0</td>\n",
       "    </tr>\n",
       "  </tbody>\n",
       "</table>\n",
       "</div>"
      ],
      "text/plain": [
       "                                 original_title original_language  \\\n",
       "9712        La Sortie de l'Usine Lumière à Lyon                fr   \n",
       "9272                         Arroseur et arrosé                fr   \n",
       "8291  L'arrivée d'un train en gare de La Ciotat                es   \n",
       "5035                     Le Voyage dans la Lune                fr   \n",
       "5634                    The Great Train Robbery                en   \n",
       "\n",
       "                                               overview release_date  \\\n",
       "9712  Working men and women leave the Lumière factor...   1895-06-10   \n",
       "9272  A gardener is watering his flowers, when a mis...   1895-12-27   \n",
       "8291  A group of people are standing along the platf...   1896-01-25   \n",
       "5035  A Trip to The Moon is a science fiction film f...   1902-09-01   \n",
       "5634  The clerk at the train station is assaulted an...   1903-12-01   \n",
       "\n",
       "      vote_average  vote_count  \n",
       "9712           6.2        52.0  \n",
       "9272           7.0        44.0  \n",
       "8291           6.9        87.0  \n",
       "5035           7.9       314.0  \n",
       "5634           7.1       116.0  "
      ]
     },
     "execution_count": 61,
     "metadata": {},
     "output_type": "execute_result"
    }
   ],
   "source": [
    "#Sắp xếp lại dữ liệu theo ngày phát hành\n",
    "data.sort_values('release_date',axis=0,inplace=True)\n",
    "data.head()"
   ]
  },
  {
   "cell_type": "code",
   "execution_count": 14,
   "metadata": {
    "colab": {
     "base_uri": "https://localhost:8080/",
     "height": 204
    },
    "id": "wrC3yoaPYXhU",
    "outputId": "6030c8b8-26b8-4505-c028-f77b40a57af5"
   },
   "outputs": [
    {
     "data": {
      "text/html": [
       "<div>\n",
       "<style scoped>\n",
       "    .dataframe tbody tr th:only-of-type {\n",
       "        vertical-align: middle;\n",
       "    }\n",
       "\n",
       "    .dataframe tbody tr th {\n",
       "        vertical-align: top;\n",
       "    }\n",
       "\n",
       "    .dataframe thead th {\n",
       "        text-align: right;\n",
       "    }\n",
       "</style>\n",
       "<table border=\"1\" class=\"dataframe\">\n",
       "  <thead>\n",
       "    <tr style=\"text-align: right;\">\n",
       "      <th></th>\n",
       "      <th>adult</th>\n",
       "      <th>original_title</th>\n",
       "      <th>overview</th>\n",
       "      <th>release_date</th>\n",
       "      <th>vote_average</th>\n",
       "      <th>vote_count</th>\n",
       "    </tr>\n",
       "  </thead>\n",
       "  <tbody>\n",
       "    <tr>\n",
       "      <th>12129</th>\n",
       "      <td>False</td>\n",
       "      <td>Good Time</td>\n",
       "      <td>A bank robber tries to avoid the law closing i...</td>\n",
       "      <td>2017-08-11</td>\n",
       "      <td>7.3</td>\n",
       "      <td>46.0</td>\n",
       "    </tr>\n",
       "    <tr>\n",
       "      <th>12106</th>\n",
       "      <td>False</td>\n",
       "      <td>What Happened to Monday</td>\n",
       "      <td>In a world where families are limited to one c...</td>\n",
       "      <td>2017-08-18</td>\n",
       "      <td>7.3</td>\n",
       "      <td>598.0</td>\n",
       "    </tr>\n",
       "    <tr>\n",
       "      <th>11826</th>\n",
       "      <td>False</td>\n",
       "      <td>Science Fiction Volume One: The Osiris Child</td>\n",
       "      <td>Set in the future in a time of interplanetary ...</td>\n",
       "      <td>2017-08-31</td>\n",
       "      <td>5.4</td>\n",
       "      <td>55.0</td>\n",
       "    </tr>\n",
       "    <tr>\n",
       "      <th>11338</th>\n",
       "      <td>False</td>\n",
       "      <td>Leatherface</td>\n",
       "      <td>A young nurse is kidnapped by a group of viole...</td>\n",
       "      <td>2017-09-14</td>\n",
       "      <td>5.7</td>\n",
       "      <td>62.0</td>\n",
       "    </tr>\n",
       "    <tr>\n",
       "      <th>9820</th>\n",
       "      <td>False</td>\n",
       "      <td>Avatar 2</td>\n",
       "      <td>A sequel to Avatar (2009).</td>\n",
       "      <td>2020-12-16</td>\n",
       "      <td>0.0</td>\n",
       "      <td>58.0</td>\n",
       "    </tr>\n",
       "  </tbody>\n",
       "</table>\n",
       "</div>"
      ],
      "text/plain": [
       "       adult                                original_title  \\\n",
       "12129  False                                     Good Time   \n",
       "12106  False                       What Happened to Monday   \n",
       "11826  False  Science Fiction Volume One: The Osiris Child   \n",
       "11338  False                                   Leatherface   \n",
       "9820   False                                      Avatar 2   \n",
       "\n",
       "                                                overview release_date  \\\n",
       "12129  A bank robber tries to avoid the law closing i...   2017-08-11   \n",
       "12106  In a world where families are limited to one c...   2017-08-18   \n",
       "11826  Set in the future in a time of interplanetary ...   2017-08-31   \n",
       "11338  A young nurse is kidnapped by a group of viole...   2017-09-14   \n",
       "9820                          A sequel to Avatar (2009).   2020-12-16   \n",
       "\n",
       "       vote_average  vote_count  \n",
       "12129           7.3        46.0  \n",
       "12106           7.3       598.0  \n",
       "11826           5.4        55.0  \n",
       "11338           5.7        62.0  \n",
       "9820            0.0        58.0  "
      ]
     },
     "execution_count": 14,
     "metadata": {},
     "output_type": "execute_result"
    }
   ],
   "source": [
    "data.tail()"
   ]
  },
  {
   "cell_type": "markdown",
   "metadata": {
    "id": "P005jCFUaCqX"
   },
   "source": [
    "## **2.2) Loại bỏ các bộ film trùng tên trong tập dữ liệu**\n",
    "---\n",
    "Thực hiện xóa các bộ film trùng tên trong tập dữ liệu chỉ giữ lại bộ film có số lượng vote cao nhất"
   ]
  },
  {
   "cell_type": "code",
   "execution_count": 62,
   "metadata": {
    "colab": {
     "base_uri": "https://localhost:8080/"
    },
    "id": "CRZkxdx4aBxW",
    "outputId": "b593ba2c-0c25-48db-b893-1831adea42ee"
   },
   "outputs": [
    {
     "data": {
      "text/plain": [
       "Wuthering Heights                       4\n",
       "A Christmas Carol                       4\n",
       "Hamlet                                  4\n",
       "The Mummy                               4\n",
       "Frankenstein                            4\n",
       "                                       ..\n",
       "The Lion King 2: Simba's Pride          1\n",
       "La leggenda del pianista sull'oceano    1\n",
       "Still Crazy                             1\n",
       "American History X                      1\n",
       "Avatar 2                                1\n",
       "Name: original_title, Length: 11764, dtype: int64"
      ]
     },
     "execution_count": 62,
     "metadata": {},
     "output_type": "execute_result"
    }
   ],
   "source": [
    "#Thống kê các bộ film trùng tên trong tập dữ liệu\n",
    "data['original_title'].value_counts()"
   ]
  },
  {
   "cell_type": "code",
   "execution_count": 63,
   "metadata": {
    "colab": {
     "base_uri": "https://localhost:8080/",
     "height": 297
    },
    "id": "YeFpN2KbagtA",
    "outputId": "62051ff3-b1f8-4583-ebd5-34f43b577ddd"
   },
   "outputs": [
    {
     "data": {
      "text/html": [
       "<div>\n",
       "<style scoped>\n",
       "    .dataframe tbody tr th:only-of-type {\n",
       "        vertical-align: middle;\n",
       "    }\n",
       "\n",
       "    .dataframe tbody tr th {\n",
       "        vertical-align: top;\n",
       "    }\n",
       "\n",
       "    .dataframe thead th {\n",
       "        text-align: right;\n",
       "    }\n",
       "</style>\n",
       "<table border=\"1\" class=\"dataframe\">\n",
       "  <thead>\n",
       "    <tr style=\"text-align: right;\">\n",
       "      <th></th>\n",
       "      <th>original_title</th>\n",
       "      <th>original_language</th>\n",
       "      <th>overview</th>\n",
       "      <th>release_date</th>\n",
       "      <th>vote_average</th>\n",
       "      <th>vote_count</th>\n",
       "    </tr>\n",
       "  </thead>\n",
       "  <tbody>\n",
       "    <tr>\n",
       "      <th>1075</th>\n",
       "      <td>Hamlet</td>\n",
       "      <td>en</td>\n",
       "      <td>Winner of four Academy Awards, including Best ...</td>\n",
       "      <td>1948-03-25</td>\n",
       "      <td>7.1</td>\n",
       "      <td>48.0</td>\n",
       "    </tr>\n",
       "    <tr>\n",
       "      <th>2192</th>\n",
       "      <td>Hamlet</td>\n",
       "      <td>en</td>\n",
       "      <td>Hamlet, Prince of Denmark, finds out that his ...</td>\n",
       "      <td>1990-12-19</td>\n",
       "      <td>6.7</td>\n",
       "      <td>95.0</td>\n",
       "    </tr>\n",
       "    <tr>\n",
       "      <th>843</th>\n",
       "      <td>Hamlet</td>\n",
       "      <td>en</td>\n",
       "      <td>Hamlet, Prince of Denmark, returns home to fin...</td>\n",
       "      <td>1996-12-25</td>\n",
       "      <td>7.3</td>\n",
       "      <td>118.0</td>\n",
       "    </tr>\n",
       "    <tr>\n",
       "      <th>2122</th>\n",
       "      <td>Hamlet</td>\n",
       "      <td>en</td>\n",
       "      <td>Modern day adaptation of Shakespeare's immorta...</td>\n",
       "      <td>2000-05-12</td>\n",
       "      <td>6.0</td>\n",
       "      <td>35.0</td>\n",
       "    </tr>\n",
       "  </tbody>\n",
       "</table>\n",
       "</div>"
      ],
      "text/plain": [
       "     original_title original_language  \\\n",
       "1075         Hamlet                en   \n",
       "2192         Hamlet                en   \n",
       "843          Hamlet                en   \n",
       "2122         Hamlet                en   \n",
       "\n",
       "                                               overview release_date  \\\n",
       "1075  Winner of four Academy Awards, including Best ...   1948-03-25   \n",
       "2192  Hamlet, Prince of Denmark, finds out that his ...   1990-12-19   \n",
       "843   Hamlet, Prince of Denmark, returns home to fin...   1996-12-25   \n",
       "2122  Modern day adaptation of Shakespeare's immorta...   2000-05-12   \n",
       "\n",
       "      vote_average  vote_count  \n",
       "1075           7.1        48.0  \n",
       "2192           6.7        95.0  \n",
       "843            7.3       118.0  \n",
       "2122           6.0        35.0  "
      ]
     },
     "execution_count": 63,
     "metadata": {},
     "output_type": "execute_result"
    }
   ],
   "source": [
    "data.loc[data['original_title']=='Hamlet']"
   ]
  },
  {
   "cell_type": "code",
   "execution_count": 64,
   "metadata": {
    "colab": {
     "base_uri": "https://localhost:8080/"
    },
    "id": "K39M6JnGbr6J",
    "outputId": "52de88b3-b30b-410e-ab8c-e2e5414bd921"
   },
   "outputs": [
    {
     "name": "stdout",
     "output_type": "stream",
     "text": [
      "<class 'pandas.core.frame.DataFrame'>\n",
      "Int64Index: 11764 entries, 5351 to 7116\n",
      "Data columns (total 6 columns):\n",
      " #   Column             Non-Null Count  Dtype  \n",
      "---  ------             --------------  -----  \n",
      " 0   original_title     11764 non-null  object \n",
      " 1   original_language  11764 non-null  object \n",
      " 2   overview           11764 non-null  object \n",
      " 3   release_date       11764 non-null  object \n",
      " 4   vote_average       11764 non-null  float64\n",
      " 5   vote_count         11764 non-null  float64\n",
      "dtypes: float64(2), object(4)\n",
      "memory usage: 643.3+ KB\n"
     ]
    }
   ],
   "source": [
    "#Sắp xếp film theo thuộc tính vote_count và xóa các film trùng tên, \n",
    "#giữ lại film có lượt vote lớn hơn\n",
    "data.sort_values('vote_count',ascending=True,inplace=True)\n",
    "data.drop_duplicates(['original_title'],keep='last',inplace=True)\n",
    "data.info()"
   ]
  },
  {
   "cell_type": "code",
   "execution_count": 65,
   "metadata": {
    "colab": {
     "base_uri": "https://localhost:8080/",
     "height": 80
    },
    "id": "6keRGB3wcQ_K",
    "outputId": "0ca8955a-86b8-4608-8d3d-b957a6e4a96b"
   },
   "outputs": [
    {
     "data": {
      "text/html": [
       "<div>\n",
       "<style scoped>\n",
       "    .dataframe tbody tr th:only-of-type {\n",
       "        vertical-align: middle;\n",
       "    }\n",
       "\n",
       "    .dataframe tbody tr th {\n",
       "        vertical-align: top;\n",
       "    }\n",
       "\n",
       "    .dataframe thead th {\n",
       "        text-align: right;\n",
       "    }\n",
       "</style>\n",
       "<table border=\"1\" class=\"dataframe\">\n",
       "  <thead>\n",
       "    <tr style=\"text-align: right;\">\n",
       "      <th></th>\n",
       "      <th>original_title</th>\n",
       "      <th>original_language</th>\n",
       "      <th>overview</th>\n",
       "      <th>release_date</th>\n",
       "      <th>vote_average</th>\n",
       "      <th>vote_count</th>\n",
       "    </tr>\n",
       "  </thead>\n",
       "  <tbody>\n",
       "    <tr>\n",
       "      <th>843</th>\n",
       "      <td>Hamlet</td>\n",
       "      <td>en</td>\n",
       "      <td>Hamlet, Prince of Denmark, returns home to fin...</td>\n",
       "      <td>1996-12-25</td>\n",
       "      <td>7.3</td>\n",
       "      <td>118.0</td>\n",
       "    </tr>\n",
       "  </tbody>\n",
       "</table>\n",
       "</div>"
      ],
      "text/plain": [
       "    original_title original_language  \\\n",
       "843         Hamlet                en   \n",
       "\n",
       "                                              overview release_date  \\\n",
       "843  Hamlet, Prince of Denmark, returns home to fin...   1996-12-25   \n",
       "\n",
       "     vote_average  vote_count  \n",
       "843           7.3       118.0  "
      ]
     },
     "execution_count": 65,
     "metadata": {},
     "output_type": "execute_result"
    }
   ],
   "source": [
    "#check lại dữ liệu sau khi xử lý:\n",
    "data.loc[data['original_title']=='Hamlet']"
   ]
  },
  {
   "cell_type": "code",
   "execution_count": 66,
   "metadata": {
    "colab": {
     "base_uri": "https://localhost:8080/"
    },
    "id": "JUBlX7L7cV5s",
    "outputId": "1f90af49-e0a0-4b50-8fc0-0fe44b2e7194"
   },
   "outputs": [
    {
     "data": {
      "text/plain": [
       "Panic in Year Zero!                1\n",
       "Hot Girls Wanted                   1\n",
       "Behaving Badly                     1\n",
       "Død Snø 2                          1\n",
       "Les seigneurs                      1\n",
       "                                  ..\n",
       "Atlas Shrugged Part I              1\n",
       "Scooby-Doo! and the Cyber Chase    1\n",
       "I'm Gonna Git You Sucka            1\n",
       "Sex Ed                             1\n",
       "Inception                          1\n",
       "Name: original_title, Length: 11764, dtype: int64"
      ]
     },
     "execution_count": 66,
     "metadata": {},
     "output_type": "execute_result"
    }
   ],
   "source": [
    "#Thống kê các bộ film trùng tên trong tập dữ liệu sau xử lý\n",
    "data['original_title'].value_counts()"
   ]
  },
  {
   "cell_type": "markdown",
   "metadata": {
    "id": "XvgTl-Excfxt"
   },
   "source": [
    "## **2.3) Xử lý các bộ film không có tóm tắt film**\n",
    "---"
   ]
  },
  {
   "cell_type": "code",
   "execution_count": 67,
   "metadata": {
    "colab": {
     "base_uri": "https://localhost:8080/"
    },
    "id": "zIHAZtoVdGue",
    "outputId": "3de8fc8c-57a6-4495-ff0f-6c1844438847"
   },
   "outputs": [
    {
     "data": {
      "text/plain": [
       "No overview found.                                                                                                                                                                                                                                                                                                                                                                                                                                                                                                                                                                                                                                                               8\n",
       "A few funny little novels about different aspects of life.                                                                                                                                                                                                                                                                                                                                                                                                                                                                                                                                                                                                                       3\n",
       "While on a fishing trip, Harry Baldwin (Ray Milland) and his family hear an explosion and realize that Los Angeles has been leveled by a nuclear attack. Looters and killers are everywhere. Escaping to the hills with his family, he sets about the business of surviving in a world where, he knows, the old ideals of humanity will be first casualties.                                                                                                                                                                                                                                                                                                                     1\n",
       "A little girl discovers dreams can come true if you really believe. Six-year-old Susan Walker has doubts about childhood's most enduring miracle - Santa Claus. Her mother told her the 'secret' about Santa a long time ago. But after meeting a special department store Santa who's convinced he's the real thing, Susan is given the most precious gift of all something to believe in.                                                                                                                                                                                                                                                                                      1\n",
       "A young prosecutor in postwar West Germany investigates a massive conspiracy to cover up the Nazi pasts of prominent public figures.                                                                                                                                                                                                                                                                                                                                                                                                                                                                                                                                             1\n",
       "                                                                                                                                                                                                                                                                                                                                                                                                                                                                                                                                                                                                                                                                                ..\n",
       "A traumatized young man abducts Korean leaders, believing they're toxic reptilian aliens - a fifth column launching a takeover of beloved Earth. Stumped law enforcement geniuses half-seriously hire a disgraced, disheveled private detective with a long-ago history of super-crime solving. The alienated South Korean youngster Lee Byeong-gu builds an isolated basement command post/torture chamber/film studio to force the awful truth out of the slimy, uncooperative politicians and businesspeople, then alert the public. Byeong-gu is helped by his devoted girlfriend, who buys his theories, but wonders if his horrible childhood has colored his thinking.    1\n",
       "After his family is killed by a Serbian gangster with international interests. NYC detective Nick goes to S.E. Asia and teams up with a Thai detective to get revenge and destroy the syndicates human trafficking network.                                                                                                                                                                                                                                                                                                                                                                                                                                                      1\n",
       "Nicole and Chase live next door to each other but are worlds apart. However, they plot a scheme to date each other in order to attract the interest and jealousy of their respective romantic prey. But in the mist of planning a gala centennial celebration, Nicole and Chase find that the one they always wanted was closer than they ever thought.                                                                                                                                                                                                                                                                                                                          1\n",
       "The true story of the \"Flying Sikh\" world champion runner and Olympian Milkha Singh who overcame the massacre of his family, civil war during the India-Pakistan partition, and homelessness to become one of India's most iconic athletes.                                                                                                                                                                                                                                                                                                                                                                                                                                      1\n",
       "Cobb, a skilled thief who commits corporate espionage by infiltrating the subconscious of his targets is offered a chance to regain his old life as payment for a task considered to be impossible: \"inception\", the implantation of another person's idea into a target's subconscious.                                                                                                                                                                                                                                                                                                                                                                                         1\n",
       "Name: overview, Length: 11755, dtype: int64"
      ]
     },
     "execution_count": 67,
     "metadata": {},
     "output_type": "execute_result"
    }
   ],
   "source": [
    "#Thống kê các dữ liệu trùng nhau\n",
    "data['overview'].value_counts()"
   ]
  },
  {
   "cell_type": "code",
   "execution_count": 68,
   "metadata": {
    "colab": {
     "base_uri": "https://localhost:8080/",
     "height": 419
    },
    "id": "b-pzalLndG89",
    "outputId": "b768859f-9a5d-437a-8d92-f49452a5085c"
   },
   "outputs": [
    {
     "data": {
      "text/html": [
       "<div>\n",
       "<style scoped>\n",
       "    .dataframe tbody tr th:only-of-type {\n",
       "        vertical-align: middle;\n",
       "    }\n",
       "\n",
       "    .dataframe tbody tr th {\n",
       "        vertical-align: top;\n",
       "    }\n",
       "\n",
       "    .dataframe thead th {\n",
       "        text-align: right;\n",
       "    }\n",
       "</style>\n",
       "<table border=\"1\" class=\"dataframe\">\n",
       "  <thead>\n",
       "    <tr style=\"text-align: right;\">\n",
       "      <th></th>\n",
       "      <th>original_title</th>\n",
       "      <th>original_language</th>\n",
       "      <th>overview</th>\n",
       "      <th>release_date</th>\n",
       "      <th>vote_average</th>\n",
       "      <th>vote_count</th>\n",
       "    </tr>\n",
       "  </thead>\n",
       "  <tbody>\n",
       "    <tr>\n",
       "      <th>10516</th>\n",
       "      <td>Lezioni di cioccolato</td>\n",
       "      <td>en</td>\n",
       "      <td>No overview found.</td>\n",
       "      <td>2007-11-23</td>\n",
       "      <td>5.8</td>\n",
       "      <td>42.0</td>\n",
       "    </tr>\n",
       "    <tr>\n",
       "      <th>10103</th>\n",
       "      <td>7 Zwerge - Der Wald ist nicht genug</td>\n",
       "      <td>de</td>\n",
       "      <td>No overview found.</td>\n",
       "      <td>2006-10-25</td>\n",
       "      <td>4.9</td>\n",
       "      <td>44.0</td>\n",
       "    </tr>\n",
       "    <tr>\n",
       "      <th>11093</th>\n",
       "      <td>Jean-Philippe</td>\n",
       "      <td>fr</td>\n",
       "      <td>No overview found.</td>\n",
       "      <td>2006-04-05</td>\n",
       "      <td>5.4</td>\n",
       "      <td>48.0</td>\n",
       "    </tr>\n",
       "    <tr>\n",
       "      <th>8078</th>\n",
       "      <td>Mais qui a tué Pamela Rose ?</td>\n",
       "      <td>fr</td>\n",
       "      <td>No overview found.</td>\n",
       "      <td>2003-06-04</td>\n",
       "      <td>6.6</td>\n",
       "      <td>62.0</td>\n",
       "    </tr>\n",
       "    <tr>\n",
       "      <th>5024</th>\n",
       "      <td>Tanguy</td>\n",
       "      <td>en</td>\n",
       "      <td>No overview found.</td>\n",
       "      <td>2001-11-21</td>\n",
       "      <td>5.8</td>\n",
       "      <td>70.0</td>\n",
       "    </tr>\n",
       "    <tr>\n",
       "      <th>10612</th>\n",
       "      <td>Fantozzi subisce ancora</td>\n",
       "      <td>it</td>\n",
       "      <td>No overview found.</td>\n",
       "      <td>1983-01-01</td>\n",
       "      <td>6.4</td>\n",
       "      <td>77.0</td>\n",
       "    </tr>\n",
       "    <tr>\n",
       "      <th>9721</th>\n",
       "      <td>Grande, grosso e Verdone</td>\n",
       "      <td>en</td>\n",
       "      <td>No overview found.</td>\n",
       "      <td>2008-03-07</td>\n",
       "      <td>5.6</td>\n",
       "      <td>78.0</td>\n",
       "    </tr>\n",
       "    <tr>\n",
       "      <th>10566</th>\n",
       "      <td>Il cosmo sul comò</td>\n",
       "      <td>it</td>\n",
       "      <td>No overview found.</td>\n",
       "      <td>2008-12-19</td>\n",
       "      <td>5.0</td>\n",
       "      <td>156.0</td>\n",
       "    </tr>\n",
       "  </tbody>\n",
       "</table>\n",
       "</div>"
      ],
      "text/plain": [
       "                            original_title original_language  \\\n",
       "10516                Lezioni di cioccolato                en   \n",
       "10103  7 Zwerge - Der Wald ist nicht genug                de   \n",
       "11093                        Jean-Philippe                fr   \n",
       "8078          Mais qui a tué Pamela Rose ?                fr   \n",
       "5024                                Tanguy                en   \n",
       "10612              Fantozzi subisce ancora                it   \n",
       "9721              Grande, grosso e Verdone                en   \n",
       "10566                    Il cosmo sul comò                it   \n",
       "\n",
       "                 overview release_date  vote_average  vote_count  \n",
       "10516  No overview found.   2007-11-23           5.8        42.0  \n",
       "10103  No overview found.   2006-10-25           4.9        44.0  \n",
       "11093  No overview found.   2006-04-05           5.4        48.0  \n",
       "8078   No overview found.   2003-06-04           6.6        62.0  \n",
       "5024   No overview found.   2001-11-21           5.8        70.0  \n",
       "10612  No overview found.   1983-01-01           6.4        77.0  \n",
       "9721   No overview found.   2008-03-07           5.6        78.0  \n",
       "10566  No overview found.   2008-12-19           5.0       156.0  "
      ]
     },
     "execution_count": 68,
     "metadata": {},
     "output_type": "execute_result"
    }
   ],
   "source": [
    "#lọc các bộ film có phần tóm tắt là: No overview found, hoặc No Overview, hoặc chuỗi rỗng, hoặc No movie overview available. \n",
    "data.loc[(data['overview']=='No overview found.')].sort_values('overview')"
   ]
  },
  {
   "cell_type": "code",
   "execution_count": 69,
   "metadata": {
    "colab": {
     "base_uri": "https://localhost:8080/"
    },
    "id": "59ZEzOMPeGe0",
    "outputId": "0c507d80-0cf8-437a-e0c8-afb23cade8f3"
   },
   "outputs": [
    {
     "name": "stdout",
     "output_type": "stream",
     "text": [
      "<class 'pandas.core.frame.DataFrame'>\n",
      "Int64Index: 11756 entries, 5351 to 7116\n",
      "Data columns (total 6 columns):\n",
      " #   Column             Non-Null Count  Dtype  \n",
      "---  ------             --------------  -----  \n",
      " 0   original_title     11756 non-null  object \n",
      " 1   original_language  11756 non-null  object \n",
      " 2   overview           11756 non-null  object \n",
      " 3   release_date       11756 non-null  object \n",
      " 4   vote_average       11756 non-null  float64\n",
      " 5   vote_count         11756 non-null  float64\n",
      "dtypes: float64(2), object(4)\n",
      "memory usage: 642.9+ KB\n"
     ]
    }
   ],
   "source": [
    "#Có tất cả 8 bộ film không có dữ liệu tóm tắt film:\n",
    "#Xóa các bộ film này\n",
    "data = data.loc[(data['overview']!='No overview found.')]\n",
    "data.info()"
   ]
  },
  {
   "cell_type": "code",
   "execution_count": 23,
   "metadata": {
    "colab": {
     "base_uri": "https://localhost:8080/"
    },
    "id": "vQUGaU2secg2",
    "outputId": "97b69da8-3b77-478d-d3be-a35c3162bce0"
   },
   "outputs": [
    {
     "data": {
      "text/plain": [
       "A few funny little novels about different aspects of life.                                                                                                                                                                                                                                                                                                                                                                                                                                                                                                                                                                                                                       3\n",
       "While on a fishing trip, Harry Baldwin (Ray Milland) and his family hear an explosion and realize that Los Angeles has been leveled by a nuclear attack. Looters and killers are everywhere. Escaping to the hills with his family, he sets about the business of surviving in a world where, he knows, the old ideals of humanity will be first casualties.                                                                                                                                                                                                                                                                                                                     1\n",
       "An agoraphobic psychologist and a female detective must work together to take down a serial killer who copies serial killers from the past.                                                                                                                                                                                                                                                                                                                                                                                                                                                                                                                                      1\n",
       "A young prosecutor in postwar West Germany investigates a massive conspiracy to cover up the Nazi pasts of prominent public figures.                                                                                                                                                                                                                                                                                                                                                                                                                                                                                                                                             1\n",
       "A woman suffers from an unusual illness caused by a flower growing in her lungs.                                                                                                                                                                                                                                                                                                                                                                                                                                                                                                                                                                                                 1\n",
       "                                                                                                                                                                                                                                                                                                                                                                                                                                                                                                                                                                                                                                                                                ..\n",
       "A traumatized young man abducts Korean leaders, believing they're toxic reptilian aliens - a fifth column launching a takeover of beloved Earth. Stumped law enforcement geniuses half-seriously hire a disgraced, disheveled private detective with a long-ago history of super-crime solving. The alienated South Korean youngster Lee Byeong-gu builds an isolated basement command post/torture chamber/film studio to force the awful truth out of the slimy, uncooperative politicians and businesspeople, then alert the public. Byeong-gu is helped by his devoted girlfriend, who buys his theories, but wonders if his horrible childhood has colored his thinking.    1\n",
       "After his family is killed by a Serbian gangster with international interests. NYC detective Nick goes to S.E. Asia and teams up with a Thai detective to get revenge and destroy the syndicates human trafficking network.                                                                                                                                                                                                                                                                                                                                                                                                                                                      1\n",
       "Nicole and Chase live next door to each other but are worlds apart. However, they plot a scheme to date each other in order to attract the interest and jealousy of their respective romantic prey. But in the mist of planning a gala centennial celebration, Nicole and Chase find that the one they always wanted was closer than they ever thought.                                                                                                                                                                                                                                                                                                                          1\n",
       "The true story of the \"Flying Sikh\" world champion runner and Olympian Milkha Singh who overcame the massacre of his family, civil war during the India-Pakistan partition, and homelessness to become one of India's most iconic athletes.                                                                                                                                                                                                                                                                                                                                                                                                                                      1\n",
       "Cobb, a skilled thief who commits corporate espionage by infiltrating the subconscious of his targets is offered a chance to regain his old life as payment for a task considered to be impossible: \"inception\", the implantation of another person's idea into a target's subconscious.                                                                                                                                                                                                                                                                                                                                                                                         1\n",
       "Name: overview, Length: 11754, dtype: int64"
      ]
     },
     "execution_count": 23,
     "metadata": {},
     "output_type": "execute_result"
    }
   ],
   "source": [
    "#Check lại dữ liệu sau khi xử lý phần tóm tắt\n",
    "data['overview'].value_counts()"
   ]
  },
  {
   "cell_type": "code",
   "execution_count": 70,
   "metadata": {
    "colab": {
     "base_uri": "https://localhost:8080/",
     "height": 142
    },
    "id": "sPbgIdI4erc6",
    "outputId": "e34feae2-9321-46e7-efda-da0f346ea35a"
   },
   "outputs": [
    {
     "data": {
      "text/html": [
       "<div>\n",
       "<style scoped>\n",
       "    .dataframe tbody tr th:only-of-type {\n",
       "        vertical-align: middle;\n",
       "    }\n",
       "\n",
       "    .dataframe tbody tr th {\n",
       "        vertical-align: top;\n",
       "    }\n",
       "\n",
       "    .dataframe thead th {\n",
       "        text-align: right;\n",
       "    }\n",
       "</style>\n",
       "<table border=\"1\" class=\"dataframe\">\n",
       "  <thead>\n",
       "    <tr style=\"text-align: right;\">\n",
       "      <th></th>\n",
       "      <th>original_title</th>\n",
       "      <th>original_language</th>\n",
       "      <th>overview</th>\n",
       "      <th>release_date</th>\n",
       "      <th>vote_average</th>\n",
       "      <th>vote_count</th>\n",
       "    </tr>\n",
       "  </thead>\n",
       "  <tbody>\n",
       "    <tr>\n",
       "      <th>10298</th>\n",
       "      <td>Le nuove comiche</td>\n",
       "      <td>it</td>\n",
       "      <td>A few funny little novels about different aspe...</td>\n",
       "      <td>1994-01-01</td>\n",
       "      <td>5.0</td>\n",
       "      <td>32.0</td>\n",
       "    </tr>\n",
       "    <tr>\n",
       "      <th>10297</th>\n",
       "      <td>Le comiche 2</td>\n",
       "      <td>it</td>\n",
       "      <td>A few funny little novels about different aspe...</td>\n",
       "      <td>1991-10-19</td>\n",
       "      <td>5.5</td>\n",
       "      <td>47.0</td>\n",
       "    </tr>\n",
       "    <tr>\n",
       "      <th>10296</th>\n",
       "      <td>Le comiche</td>\n",
       "      <td>it</td>\n",
       "      <td>A few funny little novels about different aspe...</td>\n",
       "      <td>1990-01-01</td>\n",
       "      <td>5.7</td>\n",
       "      <td>59.0</td>\n",
       "    </tr>\n",
       "  </tbody>\n",
       "</table>\n",
       "</div>"
      ],
      "text/plain": [
       "         original_title original_language  \\\n",
       "10298  Le nuove comiche                it   \n",
       "10297      Le comiche 2                it   \n",
       "10296        Le comiche                it   \n",
       "\n",
       "                                                overview release_date  \\\n",
       "10298  A few funny little novels about different aspe...   1994-01-01   \n",
       "10297  A few funny little novels about different aspe...   1991-10-19   \n",
       "10296  A few funny little novels about different aspe...   1990-01-01   \n",
       "\n",
       "       vote_average  vote_count  \n",
       "10298           5.0        32.0  \n",
       "10297           5.5        47.0  \n",
       "10296           5.7        59.0  "
      ]
     },
     "execution_count": 70,
     "metadata": {},
     "output_type": "execute_result"
    }
   ],
   "source": [
    "#Có 3 bộ phim tên khác nhau nhưng có cùng tóm tắt phim:\n",
    "data.loc[(data['overview']=='A few funny little novels about different aspects of life.')]"
   ]
  },
  {
   "cell_type": "markdown",
   "metadata": {
    "id": "s23lO1Zne3Vb"
   },
   "source": [
    "## **2.4) Lưu dữ liệu sau khi đã xử lý ra file**\n",
    "---"
   ]
  },
  {
   "cell_type": "code",
   "execution_count": 71,
   "metadata": {
    "id": "FHmP8zbPe-g0"
   },
   "outputs": [],
   "source": [
    "#Lưu dữ liệu ra file Data_Movies_ok.csv\n",
    "data.sort_values(['release_date'],inplace=True)\n",
    "data.reset_index(drop=True,inplace=True)\n",
    "data.to_csv('data/Data_Movies_ok.csv',index=None)"
   ]
  },
  {
   "cell_type": "markdown",
   "metadata": {
    "id": "kOC_WQXXVRb8"
   },
   "source": [
    "# **3) Xây dựng các hệ thống Recommender Systems**\n",
    "---\n",
    "Recommender systems có thể phân thành 3 loại như sau:\n",
    "\n",
    "* **Hệ thống đề xuất dựa trên nội dung (Content-based recommenders):** Hệ thống này sẽ gợi ý các bộ phim tương tự với bộ fim mà người dùng xem. Hệ thống này sử dụng metadata của các bộ film như: Thể loại film, đạo diễn, mô tả film, diễn viên...Ý tưởng chính đằng sau hệ thống đề xuất dựa vào nội dung đó là nếu một người đã thích/xem một bộ film nào đó, thì họ cũng sẽ thích/xem một bộ phim tương tự với bộ phim đã xem. \n",
    "\n",
    "\n",
    "* **Hệ thống lọc cộng tác (Collaborative filtering engines):** Hệ thống này cố gắng dự đoán thông qua đánh giá hoặc ưa thích mà một người dùng đã đưa ra đối với một bộ film dựa trên đánh giá và ưa thích của những người sử dụng khác. Lọc cộng tác không yêu cầu metadata giống như lọc theo nội dung. (Tìm một người xem có các thuộc tính tương đồng với người dùng này và đề xuất các bộ film theo người xem trước đây)\n",
    "\n",
    "* **Hệ thống lai (Hybrid Engine):** Kết hợp các ý tưởng của Content-based recommender và Collaborative filtering để xây dựng một hệ thống đề xuất.\n",
    "\n",
    "<img src='pic/pic4.jpg' width='400px'>"
   ]
  },
  {
   "cell_type": "markdown",
   "metadata": {
    "id": "PSJcbOcPZYa9"
   },
   "source": [
    "## **3.1) Simple Recommenders (Giải quyết trường hợp Cold-Start Problem)**\n",
    "---\n",
    "Lọc ra  10 bộ film (các bộ film nổi bật) theo các tiêu chí khác nhau\n",
    "\n",
    "<img src='pic/pic5.jpg' width='400px'>\n",
    "\n",
    "+ TOP 10 Bộ phim được nhiều người xem nhất:\n",
    "+ TOP 10 Bộ phim có điểm đánh giá cao nhất (Thỏa mã điều kiện từ 1000 người xem trở lên)\n",
    "\n"
   ]
  },
  {
   "cell_type": "code",
   "execution_count": 72,
   "metadata": {
    "id": "plUvGlLoOmCf"
   },
   "outputs": [
    {
     "data": {
      "text/html": [
       "<div>\n",
       "<style scoped>\n",
       "    .dataframe tbody tr th:only-of-type {\n",
       "        vertical-align: middle;\n",
       "    }\n",
       "\n",
       "    .dataframe tbody tr th {\n",
       "        vertical-align: top;\n",
       "    }\n",
       "\n",
       "    .dataframe thead th {\n",
       "        text-align: right;\n",
       "    }\n",
       "</style>\n",
       "<table border=\"1\" class=\"dataframe\">\n",
       "  <thead>\n",
       "    <tr style=\"text-align: right;\">\n",
       "      <th></th>\n",
       "      <th>original_title</th>\n",
       "      <th>original_language</th>\n",
       "      <th>overview</th>\n",
       "      <th>release_date</th>\n",
       "      <th>vote_average</th>\n",
       "      <th>vote_count</th>\n",
       "    </tr>\n",
       "  </thead>\n",
       "  <tbody>\n",
       "    <tr>\n",
       "      <th>0</th>\n",
       "      <td>La Sortie de l'Usine Lumière à Lyon</td>\n",
       "      <td>fr</td>\n",
       "      <td>Working men and women leave the Lumière factor...</td>\n",
       "      <td>1895-06-10</td>\n",
       "      <td>6.2</td>\n",
       "      <td>52.0</td>\n",
       "    </tr>\n",
       "    <tr>\n",
       "      <th>1</th>\n",
       "      <td>Arroseur et arrosé</td>\n",
       "      <td>fr</td>\n",
       "      <td>A gardener is watering his flowers, when a mis...</td>\n",
       "      <td>1895-12-27</td>\n",
       "      <td>7.0</td>\n",
       "      <td>44.0</td>\n",
       "    </tr>\n",
       "    <tr>\n",
       "      <th>2</th>\n",
       "      <td>L'arrivée d'un train en gare de La Ciotat</td>\n",
       "      <td>es</td>\n",
       "      <td>A group of people are standing along the platf...</td>\n",
       "      <td>1896-01-25</td>\n",
       "      <td>6.9</td>\n",
       "      <td>87.0</td>\n",
       "    </tr>\n",
       "    <tr>\n",
       "      <th>3</th>\n",
       "      <td>Le Voyage dans la Lune</td>\n",
       "      <td>fr</td>\n",
       "      <td>A Trip to The Moon is a science fiction film f...</td>\n",
       "      <td>1902-09-01</td>\n",
       "      <td>7.9</td>\n",
       "      <td>314.0</td>\n",
       "    </tr>\n",
       "    <tr>\n",
       "      <th>4</th>\n",
       "      <td>The Great Train Robbery</td>\n",
       "      <td>en</td>\n",
       "      <td>The clerk at the train station is assaulted an...</td>\n",
       "      <td>1903-12-01</td>\n",
       "      <td>7.1</td>\n",
       "      <td>116.0</td>\n",
       "    </tr>\n",
       "    <tr>\n",
       "      <th>...</th>\n",
       "      <td>...</td>\n",
       "      <td>...</td>\n",
       "      <td>...</td>\n",
       "      <td>...</td>\n",
       "      <td>...</td>\n",
       "      <td>...</td>\n",
       "    </tr>\n",
       "    <tr>\n",
       "      <th>11751</th>\n",
       "      <td>Good Time</td>\n",
       "      <td>en</td>\n",
       "      <td>A bank robber tries to avoid the law closing i...</td>\n",
       "      <td>2017-08-11</td>\n",
       "      <td>7.3</td>\n",
       "      <td>46.0</td>\n",
       "    </tr>\n",
       "    <tr>\n",
       "      <th>11752</th>\n",
       "      <td>What Happened to Monday</td>\n",
       "      <td>en</td>\n",
       "      <td>In a world where families are limited to one c...</td>\n",
       "      <td>2017-08-18</td>\n",
       "      <td>7.3</td>\n",
       "      <td>598.0</td>\n",
       "    </tr>\n",
       "    <tr>\n",
       "      <th>11753</th>\n",
       "      <td>Science Fiction Volume One: The Osiris Child</td>\n",
       "      <td>en</td>\n",
       "      <td>Set in the future in a time of interplanetary ...</td>\n",
       "      <td>2017-08-31</td>\n",
       "      <td>5.4</td>\n",
       "      <td>55.0</td>\n",
       "    </tr>\n",
       "    <tr>\n",
       "      <th>11754</th>\n",
       "      <td>Leatherface</td>\n",
       "      <td>en</td>\n",
       "      <td>A young nurse is kidnapped by a group of viole...</td>\n",
       "      <td>2017-09-14</td>\n",
       "      <td>5.7</td>\n",
       "      <td>62.0</td>\n",
       "    </tr>\n",
       "    <tr>\n",
       "      <th>11755</th>\n",
       "      <td>Avatar 2</td>\n",
       "      <td>en</td>\n",
       "      <td>A sequel to Avatar (2009).</td>\n",
       "      <td>2020-12-16</td>\n",
       "      <td>0.0</td>\n",
       "      <td>58.0</td>\n",
       "    </tr>\n",
       "  </tbody>\n",
       "</table>\n",
       "<p>11756 rows × 6 columns</p>\n",
       "</div>"
      ],
      "text/plain": [
       "                                     original_title original_language  \\\n",
       "0               La Sortie de l'Usine Lumière à Lyon                fr   \n",
       "1                                Arroseur et arrosé                fr   \n",
       "2         L'arrivée d'un train en gare de La Ciotat                es   \n",
       "3                            Le Voyage dans la Lune                fr   \n",
       "4                           The Great Train Robbery                en   \n",
       "...                                             ...               ...   \n",
       "11751                                     Good Time                en   \n",
       "11752                       What Happened to Monday                en   \n",
       "11753  Science Fiction Volume One: The Osiris Child                en   \n",
       "11754                                   Leatherface                en   \n",
       "11755                                      Avatar 2                en   \n",
       "\n",
       "                                                overview release_date  \\\n",
       "0      Working men and women leave the Lumière factor...   1895-06-10   \n",
       "1      A gardener is watering his flowers, when a mis...   1895-12-27   \n",
       "2      A group of people are standing along the platf...   1896-01-25   \n",
       "3      A Trip to The Moon is a science fiction film f...   1902-09-01   \n",
       "4      The clerk at the train station is assaulted an...   1903-12-01   \n",
       "...                                                  ...          ...   \n",
       "11751  A bank robber tries to avoid the law closing i...   2017-08-11   \n",
       "11752  In a world where families are limited to one c...   2017-08-18   \n",
       "11753  Set in the future in a time of interplanetary ...   2017-08-31   \n",
       "11754  A young nurse is kidnapped by a group of viole...   2017-09-14   \n",
       "11755                         A sequel to Avatar (2009).   2020-12-16   \n",
       "\n",
       "       vote_average  vote_count  \n",
       "0               6.2        52.0  \n",
       "1               7.0        44.0  \n",
       "2               6.9        87.0  \n",
       "3               7.9       314.0  \n",
       "4               7.1       116.0  \n",
       "...             ...         ...  \n",
       "11751           7.3        46.0  \n",
       "11752           7.3       598.0  \n",
       "11753           5.4        55.0  \n",
       "11754           5.7        62.0  \n",
       "11755           0.0        58.0  \n",
       "\n",
       "[11756 rows x 6 columns]"
      ]
     },
     "execution_count": 72,
     "metadata": {},
     "output_type": "execute_result"
    }
   ],
   "source": [
    "# Đọc dữ liệu đã chuẩn hóa:\n",
    "import pandas as pd\n",
    "import numpy as np\n",
    "data = pd.read_csv('Data/Data_Movies_ok.csv')\n",
    "data"
   ]
  },
  {
   "cell_type": "markdown",
   "metadata": {},
   "source": [
    "### A.TOP 10 BỘ PHIM CÓ SỐ LƯỢT XEM CAO NHẤT\n",
    "---"
   ]
  },
  {
   "cell_type": "code",
   "execution_count": 27,
   "metadata": {
    "colab": {
     "base_uri": "https://localhost:8080/",
     "height": 419
    },
    "id": "RODQOXNKB9Ge",
    "outputId": "9f65a5f4-2f43-4989-dfd2-413fee92353c"
   },
   "outputs": [
    {
     "name": "stdout",
     "output_type": "stream",
     "text": [
      "TOP 10 BỘ FILM CÓ SỐ LƯỢNG XEM CAO NHẤT\n"
     ]
    },
    {
     "data": {
      "text/html": [
       "<div>\n",
       "<style scoped>\n",
       "    .dataframe tbody tr th:only-of-type {\n",
       "        vertical-align: middle;\n",
       "    }\n",
       "\n",
       "    .dataframe tbody tr th {\n",
       "        vertical-align: top;\n",
       "    }\n",
       "\n",
       "    .dataframe thead th {\n",
       "        text-align: right;\n",
       "    }\n",
       "</style>\n",
       "<table border=\"1\" class=\"dataframe\">\n",
       "  <thead>\n",
       "    <tr style=\"text-align: right;\">\n",
       "      <th></th>\n",
       "      <th>original_title</th>\n",
       "      <th>vote_count</th>\n",
       "      <th>vote_average</th>\n",
       "    </tr>\n",
       "  </thead>\n",
       "  <tbody>\n",
       "    <tr>\n",
       "      <th>0</th>\n",
       "      <td>Inception</td>\n",
       "      <td>14075.0</td>\n",
       "      <td>8.1</td>\n",
       "    </tr>\n",
       "    <tr>\n",
       "      <th>1</th>\n",
       "      <td>The Dark Knight</td>\n",
       "      <td>12269.0</td>\n",
       "      <td>8.3</td>\n",
       "    </tr>\n",
       "    <tr>\n",
       "      <th>2</th>\n",
       "      <td>Avatar</td>\n",
       "      <td>12114.0</td>\n",
       "      <td>7.2</td>\n",
       "    </tr>\n",
       "    <tr>\n",
       "      <th>3</th>\n",
       "      <td>The Avengers</td>\n",
       "      <td>12000.0</td>\n",
       "      <td>7.4</td>\n",
       "    </tr>\n",
       "    <tr>\n",
       "      <th>4</th>\n",
       "      <td>Deadpool</td>\n",
       "      <td>11444.0</td>\n",
       "      <td>7.4</td>\n",
       "    </tr>\n",
       "    <tr>\n",
       "      <th>5</th>\n",
       "      <td>Interstellar</td>\n",
       "      <td>11187.0</td>\n",
       "      <td>8.1</td>\n",
       "    </tr>\n",
       "    <tr>\n",
       "      <th>6</th>\n",
       "      <td>Django Unchained</td>\n",
       "      <td>10297.0</td>\n",
       "      <td>7.8</td>\n",
       "    </tr>\n",
       "    <tr>\n",
       "      <th>7</th>\n",
       "      <td>Guardians of the Galaxy</td>\n",
       "      <td>10014.0</td>\n",
       "      <td>7.9</td>\n",
       "    </tr>\n",
       "    <tr>\n",
       "      <th>8</th>\n",
       "      <td>Fight Club</td>\n",
       "      <td>9678.0</td>\n",
       "      <td>8.3</td>\n",
       "    </tr>\n",
       "    <tr>\n",
       "      <th>9</th>\n",
       "      <td>The Hunger Games</td>\n",
       "      <td>9634.0</td>\n",
       "      <td>6.9</td>\n",
       "    </tr>\n",
       "  </tbody>\n",
       "</table>\n",
       "</div>"
      ],
      "text/plain": [
       "            original_title  vote_count  vote_average\n",
       "0                Inception     14075.0           8.1\n",
       "1          The Dark Knight     12269.0           8.3\n",
       "2                   Avatar     12114.0           7.2\n",
       "3             The Avengers     12000.0           7.4\n",
       "4                 Deadpool     11444.0           7.4\n",
       "5             Interstellar     11187.0           8.1\n",
       "6         Django Unchained     10297.0           7.8\n",
       "7  Guardians of the Galaxy     10014.0           7.9\n",
       "8               Fight Club      9678.0           8.3\n",
       "9         The Hunger Games      9634.0           6.9"
      ]
     },
     "execution_count": 27,
     "metadata": {},
     "output_type": "execute_result"
    }
   ],
   "source": [
    "#Sắp xếp lại dữ liệu theo vote_count giảm dần:\n",
    "movies_View=data.copy().sort_values('vote_count',ascending=False)\n",
    "\n",
    "#Lấy 10 film có số lượt xem cao nhất:\n",
    "list10_vote_count = movies_View[['original_title','vote_count','vote_average']].head(10).copy()\n",
    "list10_vote_count.reset_index(drop = True, inplace=True)\n",
    "print('TOP 10 BỘ FILM CÓ SỐ LƯỢNG XEM CAO NHẤT')\n",
    "list10_vote_count"
   ]
  },
  {
   "cell_type": "code",
   "execution_count": null,
   "metadata": {
    "colab": {
     "base_uri": "https://localhost:8080/",
     "height": 531
    },
    "id": "YdykBH6hDiZH",
    "outputId": "d8ce122a-70f5-487e-cd1c-fd2d6de5295e"
   },
   "outputs": [],
   "source": []
  },
  {
   "cell_type": "markdown",
   "metadata": {},
   "source": [
    "### B.TOP 10 BỘ PHIM CÓ ĐIỂM ĐÁNH GIÁ CAO NHẤT VÀ SỐ LƯỢT XEM TỪ 1000 TRỞ LÊN\n",
    "---"
   ]
  },
  {
   "cell_type": "code",
   "execution_count": 73,
   "metadata": {},
   "outputs": [
    {
     "data": {
      "text/html": [
       "<div>\n",
       "<style scoped>\n",
       "    .dataframe tbody tr th:only-of-type {\n",
       "        vertical-align: middle;\n",
       "    }\n",
       "\n",
       "    .dataframe tbody tr th {\n",
       "        vertical-align: top;\n",
       "    }\n",
       "\n",
       "    .dataframe thead th {\n",
       "        text-align: right;\n",
       "    }\n",
       "</style>\n",
       "<table border=\"1\" class=\"dataframe\">\n",
       "  <thead>\n",
       "    <tr style=\"text-align: right;\">\n",
       "      <th></th>\n",
       "      <th>original_title</th>\n",
       "      <th>original_language</th>\n",
       "      <th>overview</th>\n",
       "      <th>release_date</th>\n",
       "      <th>vote_average</th>\n",
       "      <th>vote_count</th>\n",
       "    </tr>\n",
       "  </thead>\n",
       "  <tbody>\n",
       "    <tr>\n",
       "      <th>104</th>\n",
       "      <td>Snow White and the Seven Dwarfs</td>\n",
       "      <td>en</td>\n",
       "      <td>A beautiful girl, Snow White, takes refuge in ...</td>\n",
       "      <td>1937-12-20</td>\n",
       "      <td>6.9</td>\n",
       "      <td>1973.0</td>\n",
       "    </tr>\n",
       "    <tr>\n",
       "      <th>121</th>\n",
       "      <td>The Wizard of Oz</td>\n",
       "      <td>en</td>\n",
       "      <td>Young Dorothy finds herself in a magical world...</td>\n",
       "      <td>1939-08-15</td>\n",
       "      <td>7.4</td>\n",
       "      <td>1689.0</td>\n",
       "    </tr>\n",
       "    <tr>\n",
       "      <th>129</th>\n",
       "      <td>Pinocchio</td>\n",
       "      <td>en</td>\n",
       "      <td>Lonely toymaker Geppetto has his wishes answer...</td>\n",
       "      <td>1940-02-23</td>\n",
       "      <td>6.9</td>\n",
       "      <td>1412.0</td>\n",
       "    </tr>\n",
       "    <tr>\n",
       "      <th>144</th>\n",
       "      <td>Citizen Kane</td>\n",
       "      <td>en</td>\n",
       "      <td>Newspaper magnate, Charles Foster Kane is take...</td>\n",
       "      <td>1941-04-30</td>\n",
       "      <td>8.0</td>\n",
       "      <td>1244.0</td>\n",
       "    </tr>\n",
       "    <tr>\n",
       "      <th>148</th>\n",
       "      <td>Dumbo</td>\n",
       "      <td>en</td>\n",
       "      <td>Dumbo is a baby elephant born with oversized e...</td>\n",
       "      <td>1941-10-22</td>\n",
       "      <td>6.8</td>\n",
       "      <td>1206.0</td>\n",
       "    </tr>\n",
       "  </tbody>\n",
       "</table>\n",
       "</div>"
      ],
      "text/plain": [
       "                      original_title original_language  \\\n",
       "104  Snow White and the Seven Dwarfs                en   \n",
       "121                 The Wizard of Oz                en   \n",
       "129                        Pinocchio                en   \n",
       "144                     Citizen Kane                en   \n",
       "148                            Dumbo                en   \n",
       "\n",
       "                                              overview release_date  \\\n",
       "104  A beautiful girl, Snow White, takes refuge in ...   1937-12-20   \n",
       "121  Young Dorothy finds herself in a magical world...   1939-08-15   \n",
       "129  Lonely toymaker Geppetto has his wishes answer...   1940-02-23   \n",
       "144  Newspaper magnate, Charles Foster Kane is take...   1941-04-30   \n",
       "148  Dumbo is a baby elephant born with oversized e...   1941-10-22   \n",
       "\n",
       "     vote_average  vote_count  \n",
       "104           6.9      1973.0  \n",
       "121           7.4      1689.0  \n",
       "129           6.9      1412.0  \n",
       "144           8.0      1244.0  \n",
       "148           6.8      1206.0  "
      ]
     },
     "execution_count": 73,
     "metadata": {},
     "output_type": "execute_result"
    }
   ],
   "source": [
    "#Sinh viên thực hiện:\n",
    "#Lọc các film có từ 1000 người xem trở lên:\n",
    "movies_vote_1000 = data.loc[data['vote_count']>=1000]\n",
    "movies_vote_1000.head()"
   ]
  },
  {
   "cell_type": "code",
   "execution_count": null,
   "metadata": {},
   "outputs": [],
   "source": [
    "print('Data ban đầu:',data.shape)\n",
    "print('Data film có vote_count>1000:', movies_vote_1000.shape)\n"
   ]
  },
  {
   "cell_type": "markdown",
   "metadata": {
    "id": "OA7ibhaWcPE1"
   },
   "source": [
    "## **3.2) Content-Based Recommender:**\n",
    "---\n",
    "Với hệ thống đề xuất dựa trên nội dung, nhiệm vụ của chúng ta là phải tìm được một bộ film có nội dung tương đồng cao nhất với một bộ film xác định. \n",
    "\n",
    "Chúng ta sẽ phải tính toán số điểm tương đồng theo từng cặp cho tất cả các bộ film và đưa ra bộ film đề xuất có điểm tương đồng cao nhất.\n",
    "\n",
    "<img src='pic/pic2.png' width='200px'>\n"
   ]
  },
  {
   "cell_type": "markdown",
   "metadata": {
    "id": "VWDwQowCl7AE"
   },
   "source": [
    "### A) Dựa vào tóm tắt film (Overview)\n",
    "---\n",
    "Dữ liệu film có thuộc tính \"overview\" đây là thuộc tính tóm tắt nội dung của bộ film. Chúng ta sẽ dựa vào thông tin tóm tắt film để tìm bộ film có nội dung tương tự với bộ film đưa vào.\n"
   ]
  },
  {
   "cell_type": "code",
   "execution_count": 74,
   "metadata": {
    "colab": {
     "base_uri": "https://localhost:8080/"
    },
    "id": "xUqXMlDjTmCh",
    "outputId": "80a7149c-8e50-4839-c2c7-e3ccaa04e4cd"
   },
   "outputs": [
    {
     "name": "stdout",
     "output_type": "stream",
     "text": [
      "<class 'pandas.core.frame.DataFrame'>\n",
      "RangeIndex: 11756 entries, 0 to 11755\n",
      "Data columns (total 6 columns):\n",
      " #   Column             Non-Null Count  Dtype  \n",
      "---  ------             --------------  -----  \n",
      " 0   original_title     11756 non-null  object \n",
      " 1   original_language  11756 non-null  object \n",
      " 2   overview           11756 non-null  object \n",
      " 3   release_date       11756 non-null  object \n",
      " 4   vote_average       11756 non-null  float64\n",
      " 5   vote_count         11756 non-null  float64\n",
      "dtypes: float64(2), object(4)\n",
      "memory usage: 551.2+ KB\n"
     ]
    }
   ],
   "source": [
    "#Dữ liệu các bộ film ban đầu\n",
    "data.info()"
   ]
  },
  {
   "cell_type": "code",
   "execution_count": 75,
   "metadata": {},
   "outputs": [
    {
     "data": {
      "text/html": [
       "<div>\n",
       "<style scoped>\n",
       "    .dataframe tbody tr th:only-of-type {\n",
       "        vertical-align: middle;\n",
       "    }\n",
       "\n",
       "    .dataframe tbody tr th {\n",
       "        vertical-align: top;\n",
       "    }\n",
       "\n",
       "    .dataframe thead th {\n",
       "        text-align: right;\n",
       "    }\n",
       "</style>\n",
       "<table border=\"1\" class=\"dataframe\">\n",
       "  <thead>\n",
       "    <tr style=\"text-align: right;\">\n",
       "      <th></th>\n",
       "      <th>original_title</th>\n",
       "      <th>original_language</th>\n",
       "      <th>overview</th>\n",
       "      <th>release_date</th>\n",
       "      <th>vote_average</th>\n",
       "      <th>vote_count</th>\n",
       "    </tr>\n",
       "  </thead>\n",
       "  <tbody>\n",
       "    <tr>\n",
       "      <th>0</th>\n",
       "      <td>La Sortie de l'Usine Lumière à Lyon</td>\n",
       "      <td>fr</td>\n",
       "      <td>Working men and women leave the Lumière factor...</td>\n",
       "      <td>1895-06-10</td>\n",
       "      <td>6.2</td>\n",
       "      <td>52.0</td>\n",
       "    </tr>\n",
       "    <tr>\n",
       "      <th>1</th>\n",
       "      <td>Arroseur et arrosé</td>\n",
       "      <td>fr</td>\n",
       "      <td>A gardener is watering his flowers, when a mis...</td>\n",
       "      <td>1895-12-27</td>\n",
       "      <td>7.0</td>\n",
       "      <td>44.0</td>\n",
       "    </tr>\n",
       "    <tr>\n",
       "      <th>2</th>\n",
       "      <td>L'arrivée d'un train en gare de La Ciotat</td>\n",
       "      <td>es</td>\n",
       "      <td>A group of people are standing along the platf...</td>\n",
       "      <td>1896-01-25</td>\n",
       "      <td>6.9</td>\n",
       "      <td>87.0</td>\n",
       "    </tr>\n",
       "    <tr>\n",
       "      <th>3</th>\n",
       "      <td>Le Voyage dans la Lune</td>\n",
       "      <td>fr</td>\n",
       "      <td>A Trip to The Moon is a science fiction film f...</td>\n",
       "      <td>1902-09-01</td>\n",
       "      <td>7.9</td>\n",
       "      <td>314.0</td>\n",
       "    </tr>\n",
       "    <tr>\n",
       "      <th>4</th>\n",
       "      <td>The Great Train Robbery</td>\n",
       "      <td>en</td>\n",
       "      <td>The clerk at the train station is assaulted an...</td>\n",
       "      <td>1903-12-01</td>\n",
       "      <td>7.1</td>\n",
       "      <td>116.0</td>\n",
       "    </tr>\n",
       "  </tbody>\n",
       "</table>\n",
       "</div>"
      ],
      "text/plain": [
       "                              original_title original_language  \\\n",
       "0        La Sortie de l'Usine Lumière à Lyon                fr   \n",
       "1                         Arroseur et arrosé                fr   \n",
       "2  L'arrivée d'un train en gare de La Ciotat                es   \n",
       "3                     Le Voyage dans la Lune                fr   \n",
       "4                    The Great Train Robbery                en   \n",
       "\n",
       "                                            overview release_date  \\\n",
       "0  Working men and women leave the Lumière factor...   1895-06-10   \n",
       "1  A gardener is watering his flowers, when a mis...   1895-12-27   \n",
       "2  A group of people are standing along the platf...   1896-01-25   \n",
       "3  A Trip to The Moon is a science fiction film f...   1902-09-01   \n",
       "4  The clerk at the train station is assaulted an...   1903-12-01   \n",
       "\n",
       "   vote_average  vote_count  \n",
       "0           6.2        52.0  \n",
       "1           7.0        44.0  \n",
       "2           6.9        87.0  \n",
       "3           7.9       314.0  \n",
       "4           7.1       116.0  "
      ]
     },
     "execution_count": 75,
     "metadata": {},
     "output_type": "execute_result"
    }
   ],
   "source": [
    "data.head()"
   ]
  },
  {
   "cell_type": "markdown",
   "metadata": {
    "id": "szA66RumrqW1"
   },
   "source": [
    "### 1. Chuyển đổi dữ liệu\n",
    "---\n",
    "Thuộc tính tóm tắt phim 'overview' có kiểu dữ liệu dạng chuỗi, cần phải biến đổi về dữ liệu dạng số.\n",
    "\n",
    "**Phương pháp 1: Túi đựng từ (Bag of Word):**\n",
    "\n",
    "Bag of Words (BOW) là một phương pháp để trích xuất các đặc điểm từ các dữ liệu văn bản. Tạo ra một tập hợp bao gồm các cặp giá trị key và value, giá trị key là từ duy nhất có trong tập dữ liệu, giá trị value là số lần xuất hiện của từ đó trong câu, và BOW hầu như không quan tâm đến thứ tự xuất hiện của các từ đó.\n",
    "\n",
    "**Phương pháp 2 TF-IDF:**\n",
    "\n",
    "TF-IDF xác định trọng số của một từ trong văn bản thu được qua thống kê thể hiện mức độ quan trọng của từ này trong một văn bản, mà bản thân văn bản đang xét nằm trong một tập hợp các văn bản. Giá trị TF-IDF cao thể hiện độ quan trọng cao và nó phụ thuộc vào số lần từ xuất hiện trong văn bản nhưng bù lại bởi tần suất của từ đó trong tập dữ liệu.\n",
    "\n"
   ]
  },
  {
   "cell_type": "code",
   "execution_count": null,
   "metadata": {
    "id": "9N8ON90ldtMu"
   },
   "outputs": [],
   "source": []
  },
  {
   "cell_type": "code",
   "execution_count": 76,
   "metadata": {},
   "outputs": [
    {
     "name": "stdout",
     "output_type": "stream",
     "text": [
      "Danh sách toàn bộ các từ: ['cha' 'cô' 'công' 'mẹ' 'nghĩa' 'thầy' 'ơn']\n",
      "[[1 0 1 1 0 0 0]\n",
      " [1 0 0 1 1 0 0]\n",
      " [0 1 0 0 0 1 2]\n",
      " [1 1 0 1 0 1 0]]\n"
     ]
    }
   ],
   "source": [
    "import numpy as np\n",
    "#Dữ liệu Text ban đầu:\n",
    "st = ['công cha mẹ',\n",
    "      'nghĩa mẹ cha',\n",
    "      'ơn thầy ơn cô',\n",
    "      'cha mẹ thầy cô']\n",
    "\n",
    "#Phương pháp 1:  Túi đựng từ (Bag of Word):\n",
    "from sklearn.feature_extraction.text import CountVectorizer\n",
    "#Định nghĩa phương thức\n",
    "bow = CountVectorizer()\n",
    "bow_st = bow.fit_transform(st)\n",
    "print('Danh sách toàn bộ các từ:',bow.get_feature_names_out())\n",
    "print(bow_st.toarray())\n"
   ]
  },
  {
   "cell_type": "code",
   "execution_count": 77,
   "metadata": {},
   "outputs": [
    {
     "name": "stdout",
     "output_type": "stream",
     "text": [
      "Danh sách toàn bộ các từ: ['cha' 'cô' 'công' 'mẹ' 'nghĩa' 'thầy' 'ơn']\n",
      "[[0.474 0.    0.742 0.474 0.    0.    0.   ]\n",
      " [0.474 0.    0.    0.474 0.742 0.    0.   ]\n",
      " [0.    0.344 0.    0.    0.    0.344 0.873]\n",
      " [0.445 0.55  0.    0.445 0.    0.55  0.   ]]\n"
     ]
    }
   ],
   "source": [
    "#Phương pháp 2: TF-IDF:\n",
    "from sklearn.feature_extraction.text import TfidfVectorizer\n",
    "#Định nghĩa một vector TF-IDF:\n",
    "tfidf = TfidfVectorizer()\n",
    "#Tính toán cho danh sách st:\n",
    "tfidf_st = tfidf.fit_transform(st)\n",
    "print('Danh sách toàn bộ các từ:',tfidf.get_feature_names_out())\n",
    "print(np.round(tfidf_st.toarray(),3))"
   ]
  },
  {
   "cell_type": "code",
   "execution_count": null,
   "metadata": {},
   "outputs": [],
   "source": []
  },
  {
   "cell_type": "code",
   "execution_count": null,
   "metadata": {},
   "outputs": [],
   "source": []
  },
  {
   "cell_type": "code",
   "execution_count": 78,
   "metadata": {
    "colab": {
     "base_uri": "https://localhost:8080/"
    },
    "id": "Sxw9Bd8Xt39_",
    "outputId": "e85ecf63-82f4-487d-b6e3-973b7cac43e0"
   },
   "outputs": [
    {
     "data": {
      "text/plain": [
       "(11756, 34131)"
      ]
     },
     "execution_count": 78,
     "metadata": {},
     "output_type": "execute_result"
    }
   ],
   "source": [
    "#Sử dụng phương pháp TF-IDF cho bài toán\n",
    "#Xây dựng ma trận TF-IDF cho thuộc tính tóm tắt phim (Overview)\n",
    "tfidf_matrix = tfidf.fit_transform(data['overview'])\n",
    "\n",
    "# ma trận corpus của TFIDF\n",
    "tfidf_matrix.shape"
   ]
  },
  {
   "cell_type": "code",
   "execution_count": 79,
   "metadata": {},
   "outputs": [
    {
     "name": "stdout",
     "output_type": "stream",
     "text": [
      "1. Tóm tắt phim của bộ phim có chỉ số 2503:\n",
      "A few funny little novels about different aspects of life.\n",
      "2. Dữ liệu sau khi đã chuyển đổi thành dạng số:\n"
     ]
    },
    {
     "data": {
      "text/plain": [
       "array([[0., 0., 0., ..., 0., 0., 0.]])"
      ]
     },
     "execution_count": 79,
     "metadata": {},
     "output_type": "execute_result"
    }
   ],
   "source": [
    "#So sánh kết quả chuyển đổi từ Chuỗi --> Số:\n",
    "\n",
    "print('1. Tóm tắt phim của bộ phim có chỉ số 2503:')\n",
    "print(data.loc[2503,'overview'])\n",
    "\n",
    "print('2. Dữ liệu sau khi đã chuyển đổi thành dạng số:')\n",
    "tfidf_matrix[2503,:].toarray()"
   ]
  },
  {
   "cell_type": "code",
   "execution_count": 80,
   "metadata": {},
   "outputs": [
    {
     "name": "stdout",
     "output_type": "stream",
     "text": [
      "  (0, 21311)\t0.47236976234782746\n",
      "  (0, 2150)\t0.48118958936459233\n",
      "  (0, 12218)\t0.4033036391274821\n",
      "  (0, 8545)\t0.3220179126911202\n",
      "  (0, 11316)\t0.3325425196765458\n",
      "  (0, 17838)\t0.17847450847599497\n",
      "  (0, 18010)\t0.286109822363684\n",
      "  (0, 566)\t0.21866573085888144\n",
      "  (0, 21521)\t0.08284211130562813\n"
     ]
    }
   ],
   "source": [
    "print(tfidf_matrix[2503,:])"
   ]
  },
  {
   "cell_type": "code",
   "execution_count": 81,
   "metadata": {},
   "outputs": [
    {
     "data": {
      "text/plain": [
       "array([[0.        , 0.        , 0.17776174, 0.        , 0.        ,\n",
       "        0.        , 0.        , 0.        , 0.        , 0.        ],\n",
       "       [0.        , 0.        , 0.        , 0.        , 0.        ,\n",
       "        0.        , 0.        , 0.        , 0.        , 0.        ],\n",
       "       [0.        , 0.        , 0.        , 0.        , 0.        ,\n",
       "        0.        , 0.        , 0.        , 0.        , 0.        ],\n",
       "       [0.        , 0.        , 0.        , 0.        , 0.        ,\n",
       "        0.        , 0.        , 0.        , 0.        , 0.        ],\n",
       "       [0.        , 0.        , 0.        , 0.        , 0.        ,\n",
       "        0.        , 0.        , 0.        , 0.        , 0.        ],\n",
       "       [0.        , 0.        , 0.        , 0.        , 0.        ,\n",
       "        0.        , 0.        , 0.        , 0.        , 0.        ],\n",
       "       [0.        , 0.        , 0.        , 0.        , 0.        ,\n",
       "        0.        , 0.        , 0.        , 0.        , 0.        ],\n",
       "       [0.        , 0.        , 0.        , 0.        , 0.        ,\n",
       "        0.        , 0.        , 0.        , 0.        , 0.        ],\n",
       "       [0.        , 0.        , 0.        , 0.        , 0.        ,\n",
       "        0.        , 0.        , 0.        , 0.        , 0.        ],\n",
       "       [0.        , 0.        , 0.        , 0.        , 0.        ,\n",
       "        0.        , 0.        , 0.        , 0.        , 0.        ]])"
      ]
     },
     "execution_count": 81,
     "metadata": {},
     "output_type": "execute_result"
    }
   ],
   "source": [
    "#Hiển thị dữ liệu ma trân thưa\n",
    "tfidf_matrix[0:10,130:140].toarray()"
   ]
  },
  {
   "cell_type": "markdown",
   "metadata": {
    "id": "HFZN7K8RudGM"
   },
   "source": [
    "### 2. Tính toán độ tương đồng của các bộ phim\n",
    "---\n",
    "Có tất cả 34 131 từ khác nhau được sử dụng để tóm tắt nội dung của 11 756 bộ film --> tạo ra một ma trận 11 756 hàng (mỗi hàng tương ứng với một bộ phim) và 34 131 cột (mỗi cột tương ứng với 1 từ trong toàn bộ các từ có trong tóm tắt phim)\n",
    "\n",
    "Dựa vào dữ liệu số hóa của các tóm tắt phim, chúng ta sẽ thực hiện việc tính toán độ tương đồng giữa các bộ phim với nhau. Có thể sử dụng các độ đo như:\n",
    "* Euclidean distance. \n",
    "* Cosine distance.\n",
    "\n",
    "Câu hỏi đặt ra là độ đo tương đồng nào là tốt nhất? ko có độ đo nào là tốt nhất nó phụ thuộc vào từng loại dữ liệu và bài toán cụ thể. \n",
    "\n",
    "Chúng ta sẽ sử dụng độ đo Cosine để tính độ tương đồng:\n",
    "<img src='pic/pic_cosine.png' width=300px>"
   ]
  },
  {
   "cell_type": "code",
   "execution_count": 82,
   "metadata": {
    "colab": {
     "base_uri": "https://localhost:8080/"
    },
    "id": "eBuu3Be-uXpP",
    "outputId": "f3cb9886-7c6e-4a67-816c-0f5bf7ffd77f"
   },
   "outputs": [
    {
     "name": "stdout",
     "output_type": "stream",
     "text": [
      "Kích thước ma trận tương đồng: (11756, 11756)\n",
      "[[1.         0.12908469 0.07708216 ... 0.0333334  0.04234766 0.00226308]\n",
      " [0.12908469 1.         0.07043302 ... 0.02921038 0.0515163  0.00163968]\n",
      " [0.07708216 0.07043302 1.         ... 0.04251051 0.0533426  0.00206891]\n",
      " ...\n",
      " [0.0333334  0.02921038 0.04251051 ... 1.         0.03833577 0.        ]\n",
      " [0.04234766 0.0515163  0.0533426  ... 0.03833577 1.         0.        ]\n",
      " [0.00226308 0.00163968 0.00206891 ... 0.         0.         1.        ]]\n"
     ]
    }
   ],
   "source": [
    "from sklearn.metrics.pairwise import linear_kernel\n",
    "\n",
    "#Tính độ tương tự cosine giữa các bộ film với nhau dựa vào \n",
    "#tóm tắt film ở dạng số\n",
    "cosine_sim = linear_kernel(tfidf_matrix,tfidf_matrix)\n",
    "print('Kích thước ma trận tương đồng:', cosine_sim.shape)\n",
    "print(cosine_sim)"
   ]
  },
  {
   "cell_type": "code",
   "execution_count": 83,
   "metadata": {},
   "outputs": [
    {
     "data": {
      "text/plain": [
       "0.0"
      ]
     },
     "execution_count": 83,
     "metadata": {},
     "output_type": "execute_result"
    }
   ],
   "source": [
    "#Giá trị nhỏ nhất:\n",
    "cosine_sim.min()"
   ]
  },
  {
   "cell_type": "code",
   "execution_count": 84,
   "metadata": {},
   "outputs": [
    {
     "data": {
      "text/plain": [
       "1.0"
      ]
     },
     "execution_count": 84,
     "metadata": {},
     "output_type": "execute_result"
    }
   ],
   "source": [
    "#Giá trị nhỏ nhất:\n",
    "round(cosine_sim.max(),2)"
   ]
  },
  {
   "cell_type": "markdown",
   "metadata": {},
   "source": [
    "**GHI CHÚ:**\n",
    "\n",
    "Có 11 756 bộ phim sẽ tính tương đồng giữa chúng với nhau theo độ đo cosine; Độ tương đồng theo cosine có giá trị từ [0-1] thể hiện mức tương đồng từ thấp đến cao.\n",
    "\n",
    "<img src='pic/cosine_sim.png' width='400px'>\n",
    "\n",
    "Giá trị càng gần 1 độ tương đồng càng cao (nghĩa là tóm tắt phim --> nội dung phim càng giống nhau), trường hợp bằng 1 có nghĩa là 2 bộ phim có tóm tắt phim giống hệt nhau."
   ]
  },
  {
   "cell_type": "code",
   "execution_count": 85,
   "metadata": {
    "colab": {
     "base_uri": "https://localhost:8080/",
     "height": 504
    },
    "id": "IZfFoAc6y9Od",
    "outputId": "d5f97c34-0343-484c-c061-9b159c6a967e"
   },
   "outputs": [
    {
     "data": {
      "image/png": "[encoded data removed]",
      "text/plain": [
       "<Figure size 2000x1000 with 2 Axes>"
      ]
     },
     "metadata": {},
     "output_type": "display_data"
    }
   ],
   "source": [
    "#Trực quan hóa độ tương đồng của 100 bộ phim đầu tiên với nhau:\n",
    "import matplotlib.pyplot as plt\n",
    "import numpy as np\n",
    "import seaborn as sns\n",
    "plt.figure(figsize=(20,10))\n",
    "\n",
    "ax = sns.heatmap(cosine_sim[0:100,0:100],\n",
    "                 cmap='bwr' )\n",
    "plt.grid(ls='--')\n",
    "plt.show()"
   ]
  },
  {
   "cell_type": "markdown",
   "metadata": {},
   "source": [
    "### 3.Tích hợp hệ thống đề xuất\n",
    "---"
   ]
  },
  {
   "cell_type": "code",
   "execution_count": 86,
   "metadata": {
    "colab": {
     "base_uri": "https://localhost:8080/"
    },
    "id": "7j5m4H4rYBwQ",
    "outputId": "177ab8da-5049-4279-d9eb-4210614596c9"
   },
   "outputs": [
    {
     "data": {
      "text/plain": [
       "original_title\n",
       "La Sortie de l'Usine Lumière à Lyon                 0\n",
       "Arroseur et arrosé                                  1\n",
       "L'arrivée d'un train en gare de La Ciotat           2\n",
       "Le Voyage dans la Lune                              3\n",
       "The Great Train Robbery                             4\n",
       "                                                ...  \n",
       "Good Time                                       11751\n",
       "What Happened to Monday                         11752\n",
       "Science Fiction Volume One: The Osiris Child    11753\n",
       "Leatherface                                     11754\n",
       "Avatar 2                                        11755\n",
       "Length: 11756, dtype: int64"
      ]
     },
     "execution_count": 86,
     "metadata": {},
     "output_type": "execute_result"
    }
   ],
   "source": [
    "#Tạo một biến Series Lấy danh sách tên các bộ film \n",
    "#và index tương ứng\n",
    "indices = pd.Series(data.index,index=data['original_title'])\n",
    "indices"
   ]
  },
  {
   "cell_type": "markdown",
   "metadata": {
    "id": "4O1XlvUqa54b"
   },
   "source": [
    "**Xây dựng hàm: get_recommend_movies**\n",
    "\n",
    "đầu vào là tên của một bộ film sau đó dựa vào ma trận cosine_sim để xác định 8 bộ film có độ tương đồng cao theo thứ tự giảm dần.\n",
    "\n",
    "* input: title, cosine_sim\n",
    "* output: list 8 film similarity\n"
   ]
  },
  {
   "cell_type": "code",
   "execution_count": 87,
   "metadata": {
    "id": "fBWQxp0oaa1J"
   },
   "outputs": [],
   "source": [
    "def get_recommend_movies(title,cosine_sim=cosine_sim):\n",
    "    #Lấy index của bộ film theo tiêu đề đưa vào\n",
    "    idx=indices[title]\n",
    "    \n",
    "    #Lấy điểm tương đồng theo cặp của tất cả các movies theo tiêu đề bộ film đưa vào\n",
    "    sim_scores = list(enumerate(cosine_sim[idx]))\n",
    "    \n",
    "    #Sắp xếp các bộ film dựa theo điểm tương đồng giảm dần\n",
    "    sim_scores = sorted(sim_scores, key=lambda x: x[1], reverse=True)\n",
    "    \n",
    "    #Lấy điểm của 8 bộ film có độ tương đồng cao nhất\n",
    "    #Và bao gồm cả bộ phim đưa vào \n",
    "    sim_scores_8 = sim_scores[0:9]\n",
    "    \n",
    "    #Lấy index tương ứng với bộ film này:\n",
    "    movies_index = [i[0] for i in sim_scores_8]\n",
    "    \n",
    "    #Xóa index của bộ phim đầu vào khỏi danh sách kết quả:\n",
    "    movies_index.remove(idx)\n",
    "    \n",
    "    #trả ra tiêu đề và tóm tắt của 8 bộ film ứng với index\n",
    "    return data[['original_title','overview','release_date']].iloc[movies_index]"
   ]
  },
  {
   "cell_type": "markdown",
   "metadata": {},
   "source": [
    "### 4. Sử dụng hệ thống gợi ý:\n",
    "---\n",
    "Khi người dùng xem một bộ phim bất kỳ hệ thống sẽ dựa vào tóm tắt của bộ phim người dùng xem để tìm trong CSDL những bộ phim có tóm tắt phim tương tự (nội dung phim giống nhau) nhất để đưa ra gợi ý cho người xem"
   ]
  },
  {
   "cell_type": "code",
   "execution_count": 88,
   "metadata": {},
   "outputs": [
    {
     "data": {
      "text/html": [
       "<div>\n",
       "<style scoped>\n",
       "    .dataframe tbody tr th:only-of-type {\n",
       "        vertical-align: middle;\n",
       "    }\n",
       "\n",
       "    .dataframe tbody tr th {\n",
       "        vertical-align: top;\n",
       "    }\n",
       "\n",
       "    .dataframe thead th {\n",
       "        text-align: right;\n",
       "    }\n",
       "</style>\n",
       "<table border=\"1\" class=\"dataframe\">\n",
       "  <thead>\n",
       "    <tr style=\"text-align: right;\">\n",
       "      <th></th>\n",
       "      <th>original_title</th>\n",
       "      <th>original_language</th>\n",
       "      <th>overview</th>\n",
       "      <th>release_date</th>\n",
       "      <th>vote_average</th>\n",
       "      <th>vote_count</th>\n",
       "    </tr>\n",
       "  </thead>\n",
       "  <tbody>\n",
       "    <tr>\n",
       "      <th>2503</th>\n",
       "      <td>Le comiche</td>\n",
       "      <td>it</td>\n",
       "      <td>A few funny little novels about different aspe...</td>\n",
       "      <td>1990-01-01</td>\n",
       "      <td>5.7</td>\n",
       "      <td>59.0</td>\n",
       "    </tr>\n",
       "    <tr>\n",
       "      <th>2738</th>\n",
       "      <td>Le comiche 2</td>\n",
       "      <td>it</td>\n",
       "      <td>A few funny little novels about different aspe...</td>\n",
       "      <td>1991-10-19</td>\n",
       "      <td>5.5</td>\n",
       "      <td>47.0</td>\n",
       "    </tr>\n",
       "    <tr>\n",
       "      <th>3066</th>\n",
       "      <td>Le nuove comiche</td>\n",
       "      <td>it</td>\n",
       "      <td>A few funny little novels about different aspe...</td>\n",
       "      <td>1994-01-01</td>\n",
       "      <td>5.0</td>\n",
       "      <td>32.0</td>\n",
       "    </tr>\n",
       "  </tbody>\n",
       "</table>\n",
       "</div>"
      ],
      "text/plain": [
       "        original_title original_language  \\\n",
       "2503        Le comiche                it   \n",
       "2738      Le comiche 2                it   \n",
       "3066  Le nuove comiche                it   \n",
       "\n",
       "                                               overview release_date  \\\n",
       "2503  A few funny little novels about different aspe...   1990-01-01   \n",
       "2738  A few funny little novels about different aspe...   1991-10-19   \n",
       "3066  A few funny little novels about different aspe...   1994-01-01   \n",
       "\n",
       "      vote_average  vote_count  \n",
       "2503           5.7        59.0  \n",
       "2738           5.5        47.0  \n",
       "3066           5.0        32.0  "
      ]
     },
     "execution_count": 88,
     "metadata": {},
     "output_type": "execute_result"
    }
   ],
   "source": [
    "#Thử với bộ phim có Tóm tắt phim giống nhau:\n",
    "#Có 3 bộ phim tên khác nhau nhưng có cùng tóm tắt phim:\n",
    "data.loc[(data['overview']=='A few funny little novels about different aspects of life.')]"
   ]
  },
  {
   "cell_type": "code",
   "execution_count": 89,
   "metadata": {},
   "outputs": [
    {
     "data": {
      "text/html": [
       "<div>\n",
       "<style scoped>\n",
       "    .dataframe tbody tr th:only-of-type {\n",
       "        vertical-align: middle;\n",
       "    }\n",
       "\n",
       "    .dataframe tbody tr th {\n",
       "        vertical-align: top;\n",
       "    }\n",
       "\n",
       "    .dataframe thead th {\n",
       "        text-align: right;\n",
       "    }\n",
       "</style>\n",
       "<table border=\"1\" class=\"dataframe\">\n",
       "  <thead>\n",
       "    <tr style=\"text-align: right;\">\n",
       "      <th></th>\n",
       "      <th>original_title</th>\n",
       "      <th>overview</th>\n",
       "      <th>release_date</th>\n",
       "    </tr>\n",
       "  </thead>\n",
       "  <tbody>\n",
       "    <tr>\n",
       "      <th>2503</th>\n",
       "      <td>Le comiche</td>\n",
       "      <td>A few funny little novels about different aspe...</td>\n",
       "      <td>1990-01-01</td>\n",
       "    </tr>\n",
       "    <tr>\n",
       "      <th>2738</th>\n",
       "      <td>Le comiche 2</td>\n",
       "      <td>A few funny little novels about different aspe...</td>\n",
       "      <td>1991-10-19</td>\n",
       "    </tr>\n",
       "    <tr>\n",
       "      <th>1109</th>\n",
       "      <td>Le Magnifique</td>\n",
       "      <td>François Merlin (Belmondo) is a Jean Bruce typ...</td>\n",
       "      <td>1973-11-23</td>\n",
       "    </tr>\n",
       "    <tr>\n",
       "      <th>7074</th>\n",
       "      <td>Italians</td>\n",
       "      <td>The film consists of two episodes, telling two...</td>\n",
       "      <td>2009-01-01</td>\n",
       "    </tr>\n",
       "    <tr>\n",
       "      <th>9684</th>\n",
       "      <td>Nymphomaniac: Vol. II</td>\n",
       "      <td>The continuation of Joe's sexually dictated li...</td>\n",
       "      <td>2013-12-25</td>\n",
       "    </tr>\n",
       "    <tr>\n",
       "      <th>6316</th>\n",
       "      <td>Northanger Abbey</td>\n",
       "      <td>A young woman's penchant for sensational Gothi...</td>\n",
       "      <td>2007-03-25</td>\n",
       "    </tr>\n",
       "    <tr>\n",
       "      <th>3357</th>\n",
       "      <td>La flor de mi secreto</td>\n",
       "      <td>Marisa Paredes is Leocadia (\"Leo\") Macias, a w...</td>\n",
       "      <td>1995-09-22</td>\n",
       "    </tr>\n",
       "    <tr>\n",
       "      <th>10876</th>\n",
       "      <td>Hyena Road</td>\n",
       "      <td>Three different men, three different worlds, t...</td>\n",
       "      <td>2015-10-09</td>\n",
       "    </tr>\n",
       "  </tbody>\n",
       "</table>\n",
       "</div>"
      ],
      "text/plain": [
       "              original_title  \\\n",
       "2503              Le comiche   \n",
       "2738            Le comiche 2   \n",
       "1109           Le Magnifique   \n",
       "7074                Italians   \n",
       "9684   Nymphomaniac: Vol. II   \n",
       "6316        Northanger Abbey   \n",
       "3357   La flor de mi secreto   \n",
       "10876             Hyena Road   \n",
       "\n",
       "                                                overview release_date  \n",
       "2503   A few funny little novels about different aspe...   1990-01-01  \n",
       "2738   A few funny little novels about different aspe...   1991-10-19  \n",
       "1109   François Merlin (Belmondo) is a Jean Bruce typ...   1973-11-23  \n",
       "7074   The film consists of two episodes, telling two...   2009-01-01  \n",
       "9684   The continuation of Joe's sexually dictated li...   2013-12-25  \n",
       "6316   A young woman's penchant for sensational Gothi...   2007-03-25  \n",
       "3357   Marisa Paredes is Leocadia (\"Leo\") Macias, a w...   1995-09-22  \n",
       "10876  Three different men, three different worlds, t...   2015-10-09  "
      ]
     },
     "execution_count": 89,
     "metadata": {},
     "output_type": "execute_result"
    }
   ],
   "source": [
    "#Khi đưa vào hệ thống đề xuất để gợi ý, nếu đầu vào là 1 trong 3 bộ phim\n",
    "#này thì đầu ra phải chứa 2 bộ phim còn lại vì có cùng tóm tắt phim\n",
    "#nên độ tương đồng sẽ cao nhất (=1)\n",
    "#Check:\n",
    "get_recommend_movies('Le nuove comiche')"
   ]
  },
  {
   "cell_type": "code",
   "execution_count": null,
   "metadata": {},
   "outputs": [],
   "source": []
  },
  {
   "cell_type": "code",
   "execution_count": 90,
   "metadata": {
    "colab": {
     "base_uri": "https://localhost:8080/"
    },
    "id": "0K44PBpbeW1v",
    "outputId": "c2299ec2-9509-4138-fba7-0898ce3c8e33"
   },
   "outputs": [
    {
     "data": {
      "text/html": [
       "<div>\n",
       "<style scoped>\n",
       "    .dataframe tbody tr th:only-of-type {\n",
       "        vertical-align: middle;\n",
       "    }\n",
       "\n",
       "    .dataframe tbody tr th {\n",
       "        vertical-align: top;\n",
       "    }\n",
       "\n",
       "    .dataframe thead th {\n",
       "        text-align: right;\n",
       "    }\n",
       "</style>\n",
       "<table border=\"1\" class=\"dataframe\">\n",
       "  <thead>\n",
       "    <tr style=\"text-align: right;\">\n",
       "      <th></th>\n",
       "      <th>original_title</th>\n",
       "      <th>overview</th>\n",
       "      <th>release_date</th>\n",
       "    </tr>\n",
       "  </thead>\n",
       "  <tbody>\n",
       "    <tr>\n",
       "      <th>8776</th>\n",
       "      <td>The Dark Knight Rises</td>\n",
       "      <td>Following the death of District Attorney Harve...</td>\n",
       "      <td>2012-07-16</td>\n",
       "    </tr>\n",
       "    <tr>\n",
       "      <th>11111</th>\n",
       "      <td>Batman: Bad Blood</td>\n",
       "      <td>Bruce Wayne is missing. Alfred covers for him ...</td>\n",
       "      <td>2016-03-22</td>\n",
       "    </tr>\n",
       "    <tr>\n",
       "      <th>11430</th>\n",
       "      <td>Batman: Return of the Caped Crusaders</td>\n",
       "      <td>Adam West and Burt Ward returns to their iconi...</td>\n",
       "      <td>2016-10-08</td>\n",
       "    </tr>\n",
       "    <tr>\n",
       "      <th>6826</th>\n",
       "      <td>The Dark Knight</td>\n",
       "      <td>Batman raises the stakes in his war on crime. ...</td>\n",
       "      <td>2008-07-16</td>\n",
       "    </tr>\n",
       "    <tr>\n",
       "      <th>3060</th>\n",
       "      <td>Batman: Mask of the Phantasm</td>\n",
       "      <td>An old flame of Bruce Wayne's strolls into tow...</td>\n",
       "      <td>1993-12-25</td>\n",
       "    </tr>\n",
       "    <tr>\n",
       "      <th>5632</th>\n",
       "      <td>Batman Begins</td>\n",
       "      <td>Driven by tragedy, billionaire Bruce Wayne ded...</td>\n",
       "      <td>2005-06-10</td>\n",
       "    </tr>\n",
       "    <tr>\n",
       "      <th>8854</th>\n",
       "      <td>Batman: The Dark Knight Returns, Part 1</td>\n",
       "      <td>Batman has not been seen for ten years. A new ...</td>\n",
       "      <td>2012-09-06</td>\n",
       "    </tr>\n",
       "    <tr>\n",
       "      <th>3975</th>\n",
       "      <td>Batman Beyond: The Movie</td>\n",
       "      <td>Fueled by remorse and vengeance, a high school...</td>\n",
       "      <td>1999-01-10</td>\n",
       "    </tr>\n",
       "  </tbody>\n",
       "</table>\n",
       "</div>"
      ],
      "text/plain": [
       "                                original_title  \\\n",
       "8776                     The Dark Knight Rises   \n",
       "11111                        Batman: Bad Blood   \n",
       "11430    Batman: Return of the Caped Crusaders   \n",
       "6826                           The Dark Knight   \n",
       "3060              Batman: Mask of the Phantasm   \n",
       "5632                             Batman Begins   \n",
       "8854   Batman: The Dark Knight Returns, Part 1   \n",
       "3975                  Batman Beyond: The Movie   \n",
       "\n",
       "                                                overview release_date  \n",
       "8776   Following the death of District Attorney Harve...   2012-07-16  \n",
       "11111  Bruce Wayne is missing. Alfred covers for him ...   2016-03-22  \n",
       "11430  Adam West and Burt Ward returns to their iconi...   2016-10-08  \n",
       "6826   Batman raises the stakes in his war on crime. ...   2008-07-16  \n",
       "3060   An old flame of Bruce Wayne's strolls into tow...   1993-12-25  \n",
       "5632   Driven by tragedy, billionaire Bruce Wayne ded...   2005-06-10  \n",
       "8854   Batman has not been seen for ten years. A new ...   2012-09-06  \n",
       "3975   Fueled by remorse and vengeance, a high school...   1999-01-10  "
      ]
     },
     "execution_count": 90,
     "metadata": {},
     "output_type": "execute_result"
    }
   ],
   "source": [
    "#Thử đề xuất với tên bộ film bất kỳ\n",
    "#1. Bộ film: Batman Forever\n",
    "get_recommend_movies('Batman Forever')"
   ]
  },
  {
   "cell_type": "code",
   "execution_count": 91,
   "metadata": {
    "colab": {
     "base_uri": "https://localhost:8080/"
    },
    "id": "ziTODbQre1qc",
    "outputId": "dc2a9113-8396-4aa0-f22c-956f9b175904"
   },
   "outputs": [
    {
     "data": {
      "text/html": [
       "<div>\n",
       "<style scoped>\n",
       "    .dataframe tbody tr th:only-of-type {\n",
       "        vertical-align: middle;\n",
       "    }\n",
       "\n",
       "    .dataframe tbody tr th {\n",
       "        vertical-align: top;\n",
       "    }\n",
       "\n",
       "    .dataframe thead th {\n",
       "        text-align: right;\n",
       "    }\n",
       "</style>\n",
       "<table border=\"1\" class=\"dataframe\">\n",
       "  <thead>\n",
       "    <tr style=\"text-align: right;\">\n",
       "      <th></th>\n",
       "      <th>original_title</th>\n",
       "      <th>overview</th>\n",
       "      <th>release_date</th>\n",
       "    </tr>\n",
       "  </thead>\n",
       "  <tbody>\n",
       "    <tr>\n",
       "      <th>1474</th>\n",
       "      <td>The Empire Strikes Back</td>\n",
       "      <td>The epic saga continues as Luke Skywalker, in ...</td>\n",
       "      <td>1980-05-17</td>\n",
       "    </tr>\n",
       "    <tr>\n",
       "      <th>1384</th>\n",
       "      <td>The Star Wars Holiday Special</td>\n",
       "      <td>Luke Skywalker and Han Solo battle evil Imperi...</td>\n",
       "      <td>1978-12-01</td>\n",
       "    </tr>\n",
       "    <tr>\n",
       "      <th>10977</th>\n",
       "      <td>Star Wars: The Force Awakens</td>\n",
       "      <td>Thirty years after defeating the Galactic Empi...</td>\n",
       "      <td>2015-12-15</td>\n",
       "    </tr>\n",
       "    <tr>\n",
       "      <th>1723</th>\n",
       "      <td>Return of the Jedi</td>\n",
       "      <td>As Rebel leaders map their strategy for an all...</td>\n",
       "      <td>1983-05-23</td>\n",
       "    </tr>\n",
       "    <tr>\n",
       "      <th>7043</th>\n",
       "      <td>1½ Ritter - Auf der Suche nach der hinreißende...</td>\n",
       "      <td>The story of Lanze who is in love with the pri...</td>\n",
       "      <td>2008-12-17</td>\n",
       "    </tr>\n",
       "    <tr>\n",
       "      <th>6550</th>\n",
       "      <td>Lissi und der wilde Kaiser</td>\n",
       "      <td>The plot concerns a yeti who makes a pact with...</td>\n",
       "      <td>2007-10-24</td>\n",
       "    </tr>\n",
       "    <tr>\n",
       "      <th>3217</th>\n",
       "      <td>The Swan Princess</td>\n",
       "      <td>The beautiful princess Odette is transformed i...</td>\n",
       "      <td>1994-11-18</td>\n",
       "    </tr>\n",
       "    <tr>\n",
       "      <th>11278</th>\n",
       "      <td>キングスグレイブ ファイナルファンタジーXV</td>\n",
       "      <td>The magical kingdom of Lucis is home to the wo...</td>\n",
       "      <td>2016-07-09</td>\n",
       "    </tr>\n",
       "  </tbody>\n",
       "</table>\n",
       "</div>"
      ],
      "text/plain": [
       "                                          original_title  \\\n",
       "1474                             The Empire Strikes Back   \n",
       "1384                       The Star Wars Holiday Special   \n",
       "10977                       Star Wars: The Force Awakens   \n",
       "1723                                  Return of the Jedi   \n",
       "7043   1½ Ritter - Auf der Suche nach der hinreißende...   \n",
       "6550                          Lissi und der wilde Kaiser   \n",
       "3217                                   The Swan Princess   \n",
       "11278                             キングスグレイブ ファイナルファンタジーXV   \n",
       "\n",
       "                                                overview release_date  \n",
       "1474   The epic saga continues as Luke Skywalker, in ...   1980-05-17  \n",
       "1384   Luke Skywalker and Han Solo battle evil Imperi...   1978-12-01  \n",
       "10977  Thirty years after defeating the Galactic Empi...   2015-12-15  \n",
       "1723   As Rebel leaders map their strategy for an all...   1983-05-23  \n",
       "7043   The story of Lanze who is in love with the pri...   2008-12-17  \n",
       "6550   The plot concerns a yeti who makes a pact with...   2007-10-24  \n",
       "3217   The beautiful princess Odette is transformed i...   1994-11-18  \n",
       "11278  The magical kingdom of Lucis is home to the wo...   2016-07-09  "
      ]
     },
     "execution_count": 91,
     "metadata": {},
     "output_type": "execute_result"
    }
   ],
   "source": [
    "#Thử đề xuất với tên bộ film bất kỳ\n",
    "#2. Bộ film: Star Wars\n",
    "get_recommend_movies('Star Wars')"
   ]
  },
  {
   "cell_type": "code",
   "execution_count": 92,
   "metadata": {
    "colab": {
     "base_uri": "https://localhost:8080/"
    },
    "id": "bQYcLV2fdwgd",
    "outputId": "2a4cff22-1d7b-491f-e2d1-7536017a6fa1"
   },
   "outputs": [
    {
     "data": {
      "text/html": [
       "<div>\n",
       "<style scoped>\n",
       "    .dataframe tbody tr th:only-of-type {\n",
       "        vertical-align: middle;\n",
       "    }\n",
       "\n",
       "    .dataframe tbody tr th {\n",
       "        vertical-align: top;\n",
       "    }\n",
       "\n",
       "    .dataframe thead th {\n",
       "        text-align: right;\n",
       "    }\n",
       "</style>\n",
       "<table border=\"1\" class=\"dataframe\">\n",
       "  <thead>\n",
       "    <tr style=\"text-align: right;\">\n",
       "      <th></th>\n",
       "      <th>original_title</th>\n",
       "      <th>overview</th>\n",
       "      <th>release_date</th>\n",
       "    </tr>\n",
       "  </thead>\n",
       "  <tbody>\n",
       "    <tr>\n",
       "      <th>3936</th>\n",
       "      <td>La leggenda del pianista sull'oceano</td>\n",
       "      <td>The story of a virtuoso piano player who lives...</td>\n",
       "      <td>1998-10-28</td>\n",
       "    </tr>\n",
       "    <tr>\n",
       "      <th>7785</th>\n",
       "      <td>Titanic II</td>\n",
       "      <td>On the 100th anniversary of the original voyag...</td>\n",
       "      <td>2010-08-07</td>\n",
       "    </tr>\n",
       "    <tr>\n",
       "      <th>7382</th>\n",
       "      <td>I Can Do Bad All By Myself</td>\n",
       "      <td>When Madea catches sixteen-year-old Jennifer a...</td>\n",
       "      <td>2009-09-11</td>\n",
       "    </tr>\n",
       "    <tr>\n",
       "      <th>4930</th>\n",
       "      <td>Pieces of April</td>\n",
       "      <td>Quirky and rebellious April Burns lives with h...</td>\n",
       "      <td>2003-01-19</td>\n",
       "    </tr>\n",
       "    <tr>\n",
       "      <th>3695</th>\n",
       "      <td>Event Horizon</td>\n",
       "      <td>In the year 2047 a group of astronauts are sen...</td>\n",
       "      <td>1997-08-15</td>\n",
       "    </tr>\n",
       "    <tr>\n",
       "      <th>10695</th>\n",
       "      <td>3-Headed Shark Attack</td>\n",
       "      <td>The world’s greatest killing machine is three ...</td>\n",
       "      <td>2015-07-20</td>\n",
       "    </tr>\n",
       "    <tr>\n",
       "      <th>2702</th>\n",
       "      <td>おもひでぽろぽろ</td>\n",
       "      <td>It’s 1982, and Taeko is 27 years old, unmarrie...</td>\n",
       "      <td>1991-07-20</td>\n",
       "    </tr>\n",
       "    <tr>\n",
       "      <th>2758</th>\n",
       "      <td>Fantaghirò</td>\n",
       "      <td>In the middle of a war between two kingdoms qu...</td>\n",
       "      <td>1991-12-22</td>\n",
       "    </tr>\n",
       "  </tbody>\n",
       "</table>\n",
       "</div>"
      ],
      "text/plain": [
       "                             original_title  \\\n",
       "3936   La leggenda del pianista sull'oceano   \n",
       "7785                             Titanic II   \n",
       "7382             I Can Do Bad All By Myself   \n",
       "4930                        Pieces of April   \n",
       "3695                          Event Horizon   \n",
       "10695                 3-Headed Shark Attack   \n",
       "2702                               おもひでぽろぽろ   \n",
       "2758                             Fantaghirò   \n",
       "\n",
       "                                                overview release_date  \n",
       "3936   The story of a virtuoso piano player who lives...   1998-10-28  \n",
       "7785   On the 100th anniversary of the original voyag...   2010-08-07  \n",
       "7382   When Madea catches sixteen-year-old Jennifer a...   2009-09-11  \n",
       "4930   Quirky and rebellious April Burns lives with h...   2003-01-19  \n",
       "3695   In the year 2047 a group of astronauts are sen...   1997-08-15  \n",
       "10695  The world’s greatest killing machine is three ...   2015-07-20  \n",
       "2702   It’s 1982, and Taeko is 27 years old, unmarrie...   1991-07-20  \n",
       "2758   In the middle of a war between two kingdoms qu...   1991-12-22  "
      ]
     },
     "execution_count": 92,
     "metadata": {},
     "output_type": "execute_result"
    }
   ],
   "source": [
    "#Thử đề xuất với tên bộ film bất kỳ\n",
    "#3. Bộ film: Titanic\n",
    "get_recommend_movies('Titanic')"
   ]
  },
  {
   "cell_type": "code",
   "execution_count": null,
   "metadata": {},
   "outputs": [],
   "source": []
  },
  {
   "cell_type": "markdown",
   "metadata": {},
   "source": [
    "## THỰC HÀNH:\n",
    "----\n",
    "1. Sinh viên đọc file dữ liệu Data_VN_2021.xlsx, lưu trữ thông tin của 63 tỉnh, thành phố của Việt Nam\n",
    "2. Sử dụng phương pháp trích chọn đặc trưng TF-IDF để vector hóa dữ liệu tên các tỉnh/thành phố\n",
    "3. Sử dụng độ đo cosine để tính toán độ tương đồng giữa các tên từ vector TF-IDF, trực quan hóa kết quả \n",
    "4. Xây dựng hàm trả về tên 5 tỉnh/thành phố gần nhất với tên một tỉnh/thành phố đưa vào?"
   ]
  },
  {
   "cell_type": "code",
   "execution_count": null,
   "metadata": {},
   "outputs": [],
   "source": []
  },
  {
   "cell_type": "code",
   "execution_count": null,
   "metadata": {},
   "outputs": [],
   "source": []
  },
  {
   "cell_type": "code",
   "execution_count": null,
   "metadata": {},
   "outputs": [],
   "source": []
  }
 ],
 "metadata": {
  "accelerator": "TPU",
  "colab": {
   "collapsed_sections": [],
   "machine_shape": "hm",
   "name": "Project6_RecommenderSystem_Movie.ipynb",
   "provenance": [],
   "toc_visible": true
  },
  "kernelspec": {
   "display_name": "Python 3 (ipykernel)",
   "language": "python",
   "name": "python3"
  },
  "language_info": {
   "codemirror_mode": {
    "name": "ipython",
    "version": 3
   },
   "file_extension": ".py",
   "mimetype": "text/x-python",
   "name": "python",
   "nbconvert_exporter": "python",
   "pygments_lexer": "ipython3",
   "version": "3.10.9"
  }
 },
 "nbformat": 4,
 "nbformat_minor": 1
}
