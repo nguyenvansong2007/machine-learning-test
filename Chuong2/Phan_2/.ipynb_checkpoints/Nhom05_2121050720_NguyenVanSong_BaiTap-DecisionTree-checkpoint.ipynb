{
 "cells": [
  {
   "cell_type": "markdown",
   "metadata": {},
   "source": [
    "<center>\n",
    "    \n",
    "<h2>BÀI TẬP MÔN HỌC </h2>\n",
    "    \n",
    "</center>\n",
    " \n",
    "---\n",
    "**Thông tin sinh viên:**\n",
    "1. Họ tên SV: Nguyễn Văn Sông\n",
    "2. Mã Sinh viên: 2121050720\n",
    "3. Lớp: DCCTCT66-07A\n",
    "4. Nhóm môn học: 05\n",
    "\n",
    "\n",
    "---\n",
    "\n",
    "**Mô tả tập dữ liệu:**\n",
    "\n",
    "Tập dữ liệu Data_Practice_ML.xlsx chứa dữ liệu của các bệnh nhân bị u vú. (chi tiết trong slide bài giảng)\n",
    "\n",
    "<img src='Pic/Practice.jpg' width='800px'>\n",
    "\n",
    "Mỗi bản ghi tương ứng với một bệnh nhân, Bao gồm 8 thuộc tính:\n",
    "1. PatienID: Thuộc tính cho biết mã số của bệnh nhân\n",
    "2. Sex: Thuộc tính cho biết giới tính bệnh nhân\n",
    "3. Age: Thuộc tính cho biết tuổi của bệnh nhân, dữ liệu số\n",
    "4. Weight: Thuộc tính cho biết cân nặng của bệnh nhân (Kg)\n",
    "5. Shape: Thuộc tính cho biết hình dạng của khối u, bao gồm 4 giá trị: Round, Oval, Lobular, Irregular\n",
    "6. Margin: Thuộc tính cho biết dạng đường biên của khối u, bao gồm 5 giá trị: Circumscribed, Microlobulated, Obscured, ill-defined, Spiculated\n",
    "7. Density: Thuộc tính cho biết mật độ của khối u, bao gồm 4 giá trị: High, Iso, Low, Fat-containing\n",
    "8. Target: Thuộc tính cho biết khối u là lành tính (0) - hay ác tính (1)\n",
    "\n",
    " "
   ]
  },
  {
   "cell_type": "markdown",
   "metadata": {},
   "source": [
    "## PHẦN I: CHUẨN BỊ DỮ LIỆU\n",
    "---"
   ]
  },
  {
   "cell_type": "markdown",
   "metadata": {},
   "source": [
    "**Yêu cầu 1:**\n",
    "Đọc tập dữ liệu Data_Practice_ML.xlsx vào biến DataFrame,\n",
    "- Hiển thị thông tin của biến,\n",
    "- Hiển thị dữ liệu 5 bản ghi đầu tiên; 5 bản ghi cuối cùng, 5 bản ghi ngẫu nhiên\n",
    "- Thống kê dữ liệu các thuộc tính số, các thuộc tính Object; đưa ra các nhận xét về dữ liệu; Có thể sử dụng các biểu đồ để thể hiện trực quan"
   ]
  },
  {
   "cell_type": "code",
   "execution_count": 1,
   "metadata": {},
   "outputs": [],
   "source": [
    "#{HỌC VIÊN VIẾT CODE VÀO ĐÂY!}\n",
    "#Gọi các thư viện sử dụng cho Project:\n",
    "# Data analysis and wrangling:\n",
    "import pandas as pd\n",
    "import numpy as np\n",
    "\n",
    "# visualization:\n",
    "import matplotlib.pyplot as plt\n",
    "import seaborn as sns\n",
    "%matplotlib inline\n",
    "#---------------------------------------\n",
    "import warnings\n",
    "warnings.filterwarnings('ignore')"
   ]
  },
  {
   "cell_type": "code",
   "execution_count": 2,
   "metadata": {},
   "outputs": [
    {
     "data": {
      "text/html": [
       "<div>\n",
       "<style scoped>\n",
       "    .dataframe tbody tr th:only-of-type {\n",
       "        vertical-align: middle;\n",
       "    }\n",
       "\n",
       "    .dataframe tbody tr th {\n",
       "        vertical-align: top;\n",
       "    }\n",
       "\n",
       "    .dataframe thead th {\n",
       "        text-align: right;\n",
       "    }\n",
       "</style>\n",
       "<table border=\"1\" class=\"dataframe\">\n",
       "  <thead>\n",
       "    <tr style=\"text-align: right;\">\n",
       "      <th></th>\n",
       "      <th>PatientID</th>\n",
       "      <th>Sex</th>\n",
       "      <th>Age</th>\n",
       "      <th>Weight</th>\n",
       "      <th>Shape</th>\n",
       "      <th>Margin</th>\n",
       "      <th>Density</th>\n",
       "      <th>Target</th>\n",
       "    </tr>\n",
       "  </thead>\n",
       "  <tbody>\n",
       "    <tr>\n",
       "      <th>0</th>\n",
       "      <td>P1</td>\n",
       "      <td>Female</td>\n",
       "      <td>67.0</td>\n",
       "      <td>46</td>\n",
       "      <td>Lobular</td>\n",
       "      <td>Spiculated</td>\n",
       "      <td>Low</td>\n",
       "      <td>1</td>\n",
       "    </tr>\n",
       "    <tr>\n",
       "      <th>1</th>\n",
       "      <td>P2</td>\n",
       "      <td>Female</td>\n",
       "      <td>43.0</td>\n",
       "      <td>66</td>\n",
       "      <td>Round</td>\n",
       "      <td>Circumscribed</td>\n",
       "      <td>NaN</td>\n",
       "      <td>1</td>\n",
       "    </tr>\n",
       "    <tr>\n",
       "      <th>2</th>\n",
       "      <td>P3</td>\n",
       "      <td>Female</td>\n",
       "      <td>58.0</td>\n",
       "      <td>80</td>\n",
       "      <td>Irregular</td>\n",
       "      <td>Spiculated</td>\n",
       "      <td>Low</td>\n",
       "      <td>1</td>\n",
       "    </tr>\n",
       "    <tr>\n",
       "      <th>3</th>\n",
       "      <td>P4</td>\n",
       "      <td>Female</td>\n",
       "      <td>28.0</td>\n",
       "      <td>51</td>\n",
       "      <td>Round</td>\n",
       "      <td>Circumscribed</td>\n",
       "      <td>Low</td>\n",
       "      <td>0</td>\n",
       "    </tr>\n",
       "    <tr>\n",
       "      <th>4</th>\n",
       "      <td>P5</td>\n",
       "      <td>Female</td>\n",
       "      <td>74.0</td>\n",
       "      <td>46</td>\n",
       "      <td>Round</td>\n",
       "      <td>Spiculated</td>\n",
       "      <td>NaN</td>\n",
       "      <td>1</td>\n",
       "    </tr>\n",
       "    <tr>\n",
       "      <th>...</th>\n",
       "      <td>...</td>\n",
       "      <td>...</td>\n",
       "      <td>...</td>\n",
       "      <td>...</td>\n",
       "      <td>...</td>\n",
       "      <td>...</td>\n",
       "      <td>...</td>\n",
       "      <td>...</td>\n",
       "    </tr>\n",
       "    <tr>\n",
       "      <th>956</th>\n",
       "      <td>P957</td>\n",
       "      <td>Female</td>\n",
       "      <td>47.0</td>\n",
       "      <td>72</td>\n",
       "      <td>Oval</td>\n",
       "      <td>Circumscribed</td>\n",
       "      <td>Low</td>\n",
       "      <td>0</td>\n",
       "    </tr>\n",
       "    <tr>\n",
       "      <th>957</th>\n",
       "      <td>P958</td>\n",
       "      <td>Female</td>\n",
       "      <td>56.0</td>\n",
       "      <td>64</td>\n",
       "      <td>Irregular</td>\n",
       "      <td>Spiculated</td>\n",
       "      <td>Low</td>\n",
       "      <td>1</td>\n",
       "    </tr>\n",
       "    <tr>\n",
       "      <th>958</th>\n",
       "      <td>P959</td>\n",
       "      <td>Female</td>\n",
       "      <td>64.0</td>\n",
       "      <td>75</td>\n",
       "      <td>Irregular</td>\n",
       "      <td>Spiculated</td>\n",
       "      <td>Low</td>\n",
       "      <td>0</td>\n",
       "    </tr>\n",
       "    <tr>\n",
       "      <th>959</th>\n",
       "      <td>P960</td>\n",
       "      <td>Female</td>\n",
       "      <td>66.0</td>\n",
       "      <td>56</td>\n",
       "      <td>Irregular</td>\n",
       "      <td>Spiculated</td>\n",
       "      <td>Low</td>\n",
       "      <td>1</td>\n",
       "    </tr>\n",
       "    <tr>\n",
       "      <th>960</th>\n",
       "      <td>P961</td>\n",
       "      <td>Female</td>\n",
       "      <td>62.0</td>\n",
       "      <td>51</td>\n",
       "      <td>Lobular</td>\n",
       "      <td>Obscured</td>\n",
       "      <td>Low</td>\n",
       "      <td>0</td>\n",
       "    </tr>\n",
       "  </tbody>\n",
       "</table>\n",
       "<p>961 rows × 8 columns</p>\n",
       "</div>"
      ],
      "text/plain": [
       "    PatientID     Sex   Age  Weight      Shape         Margin Density  Target\n",
       "0          P1  Female  67.0      46    Lobular     Spiculated     Low       1\n",
       "1          P2  Female  43.0      66      Round  Circumscribed     NaN       1\n",
       "2          P3  Female  58.0      80  Irregular     Spiculated     Low       1\n",
       "3          P4  Female  28.0      51      Round  Circumscribed     Low       0\n",
       "4          P5  Female  74.0      46      Round     Spiculated     NaN       1\n",
       "..        ...     ...   ...     ...        ...            ...     ...     ...\n",
       "956      P957  Female  47.0      72       Oval  Circumscribed     Low       0\n",
       "957      P958  Female  56.0      64  Irregular     Spiculated     Low       1\n",
       "958      P959  Female  64.0      75  Irregular     Spiculated     Low       0\n",
       "959      P960  Female  66.0      56  Irregular     Spiculated     Low       1\n",
       "960      P961  Female  62.0      51    Lobular       Obscured     Low       0\n",
       "\n",
       "[961 rows x 8 columns]"
      ]
     },
     "execution_count": 2,
     "metadata": {},
     "output_type": "execute_result"
    }
   ],
   "source": [
    "# Đọc dữ liệu từ file Data_Practice_ML.xlsx\n",
    "df_practice = pd.read_excel('Data/Data_Practice_ML.xlsx')\n",
    "df_practice"
   ]
  },
  {
   "cell_type": "code",
   "execution_count": 3,
   "metadata": {},
   "outputs": [
    {
     "data": {
      "text/html": [
       "<div>\n",
       "<style scoped>\n",
       "    .dataframe tbody tr th:only-of-type {\n",
       "        vertical-align: middle;\n",
       "    }\n",
       "\n",
       "    .dataframe tbody tr th {\n",
       "        vertical-align: top;\n",
       "    }\n",
       "\n",
       "    .dataframe thead th {\n",
       "        text-align: right;\n",
       "    }\n",
       "</style>\n",
       "<table border=\"1\" class=\"dataframe\">\n",
       "  <thead>\n",
       "    <tr style=\"text-align: right;\">\n",
       "      <th></th>\n",
       "      <th>PatientID</th>\n",
       "      <th>Sex</th>\n",
       "      <th>Age</th>\n",
       "      <th>Weight</th>\n",
       "      <th>Shape</th>\n",
       "      <th>Margin</th>\n",
       "      <th>Density</th>\n",
       "      <th>Target</th>\n",
       "    </tr>\n",
       "  </thead>\n",
       "  <tbody>\n",
       "    <tr>\n",
       "      <th>0</th>\n",
       "      <td>P1</td>\n",
       "      <td>Female</td>\n",
       "      <td>67.0</td>\n",
       "      <td>46</td>\n",
       "      <td>Lobular</td>\n",
       "      <td>Spiculated</td>\n",
       "      <td>Low</td>\n",
       "      <td>1</td>\n",
       "    </tr>\n",
       "    <tr>\n",
       "      <th>1</th>\n",
       "      <td>P2</td>\n",
       "      <td>Female</td>\n",
       "      <td>43.0</td>\n",
       "      <td>66</td>\n",
       "      <td>Round</td>\n",
       "      <td>Circumscribed</td>\n",
       "      <td>NaN</td>\n",
       "      <td>1</td>\n",
       "    </tr>\n",
       "    <tr>\n",
       "      <th>2</th>\n",
       "      <td>P3</td>\n",
       "      <td>Female</td>\n",
       "      <td>58.0</td>\n",
       "      <td>80</td>\n",
       "      <td>Irregular</td>\n",
       "      <td>Spiculated</td>\n",
       "      <td>Low</td>\n",
       "      <td>1</td>\n",
       "    </tr>\n",
       "    <tr>\n",
       "      <th>3</th>\n",
       "      <td>P4</td>\n",
       "      <td>Female</td>\n",
       "      <td>28.0</td>\n",
       "      <td>51</td>\n",
       "      <td>Round</td>\n",
       "      <td>Circumscribed</td>\n",
       "      <td>Low</td>\n",
       "      <td>0</td>\n",
       "    </tr>\n",
       "    <tr>\n",
       "      <th>4</th>\n",
       "      <td>P5</td>\n",
       "      <td>Female</td>\n",
       "      <td>74.0</td>\n",
       "      <td>46</td>\n",
       "      <td>Round</td>\n",
       "      <td>Spiculated</td>\n",
       "      <td>NaN</td>\n",
       "      <td>1</td>\n",
       "    </tr>\n",
       "  </tbody>\n",
       "</table>\n",
       "</div>"
      ],
      "text/plain": [
       "  PatientID     Sex   Age  Weight      Shape         Margin Density  Target\n",
       "0        P1  Female  67.0      46    Lobular     Spiculated     Low       1\n",
       "1        P2  Female  43.0      66      Round  Circumscribed     NaN       1\n",
       "2        P3  Female  58.0      80  Irregular     Spiculated     Low       1\n",
       "3        P4  Female  28.0      51      Round  Circumscribed     Low       0\n",
       "4        P5  Female  74.0      46      Round     Spiculated     NaN       1"
      ]
     },
     "execution_count": 3,
     "metadata": {},
     "output_type": "execute_result"
    }
   ],
   "source": [
    "# hiển thị 5 bản ghi đầu tiên\n",
    "df_practice.head(5)"
   ]
  },
  {
   "cell_type": "code",
   "execution_count": 4,
   "metadata": {},
   "outputs": [
    {
     "data": {
      "text/html": [
       "<div>\n",
       "<style scoped>\n",
       "    .dataframe tbody tr th:only-of-type {\n",
       "        vertical-align: middle;\n",
       "    }\n",
       "\n",
       "    .dataframe tbody tr th {\n",
       "        vertical-align: top;\n",
       "    }\n",
       "\n",
       "    .dataframe thead th {\n",
       "        text-align: right;\n",
       "    }\n",
       "</style>\n",
       "<table border=\"1\" class=\"dataframe\">\n",
       "  <thead>\n",
       "    <tr style=\"text-align: right;\">\n",
       "      <th></th>\n",
       "      <th>PatientID</th>\n",
       "      <th>Sex</th>\n",
       "      <th>Age</th>\n",
       "      <th>Weight</th>\n",
       "      <th>Shape</th>\n",
       "      <th>Margin</th>\n",
       "      <th>Density</th>\n",
       "      <th>Target</th>\n",
       "    </tr>\n",
       "  </thead>\n",
       "  <tbody>\n",
       "    <tr>\n",
       "      <th>956</th>\n",
       "      <td>P957</td>\n",
       "      <td>Female</td>\n",
       "      <td>47.0</td>\n",
       "      <td>72</td>\n",
       "      <td>Oval</td>\n",
       "      <td>Circumscribed</td>\n",
       "      <td>Low</td>\n",
       "      <td>0</td>\n",
       "    </tr>\n",
       "    <tr>\n",
       "      <th>957</th>\n",
       "      <td>P958</td>\n",
       "      <td>Female</td>\n",
       "      <td>56.0</td>\n",
       "      <td>64</td>\n",
       "      <td>Irregular</td>\n",
       "      <td>Spiculated</td>\n",
       "      <td>Low</td>\n",
       "      <td>1</td>\n",
       "    </tr>\n",
       "    <tr>\n",
       "      <th>958</th>\n",
       "      <td>P959</td>\n",
       "      <td>Female</td>\n",
       "      <td>64.0</td>\n",
       "      <td>75</td>\n",
       "      <td>Irregular</td>\n",
       "      <td>Spiculated</td>\n",
       "      <td>Low</td>\n",
       "      <td>0</td>\n",
       "    </tr>\n",
       "    <tr>\n",
       "      <th>959</th>\n",
       "      <td>P960</td>\n",
       "      <td>Female</td>\n",
       "      <td>66.0</td>\n",
       "      <td>56</td>\n",
       "      <td>Irregular</td>\n",
       "      <td>Spiculated</td>\n",
       "      <td>Low</td>\n",
       "      <td>1</td>\n",
       "    </tr>\n",
       "    <tr>\n",
       "      <th>960</th>\n",
       "      <td>P961</td>\n",
       "      <td>Female</td>\n",
       "      <td>62.0</td>\n",
       "      <td>51</td>\n",
       "      <td>Lobular</td>\n",
       "      <td>Obscured</td>\n",
       "      <td>Low</td>\n",
       "      <td>0</td>\n",
       "    </tr>\n",
       "  </tbody>\n",
       "</table>\n",
       "</div>"
      ],
      "text/plain": [
       "    PatientID     Sex   Age  Weight      Shape         Margin Density  Target\n",
       "956      P957  Female  47.0      72       Oval  Circumscribed     Low       0\n",
       "957      P958  Female  56.0      64  Irregular     Spiculated     Low       1\n",
       "958      P959  Female  64.0      75  Irregular     Spiculated     Low       0\n",
       "959      P960  Female  66.0      56  Irregular     Spiculated     Low       1\n",
       "960      P961  Female  62.0      51    Lobular       Obscured     Low       0"
      ]
     },
     "execution_count": 4,
     "metadata": {},
     "output_type": "execute_result"
    }
   ],
   "source": [
    "# Hiển thị 5 bản ghi cuối cùng\n",
    "df_practice.tail(5)"
   ]
  },
  {
   "cell_type": "code",
   "execution_count": 5,
   "metadata": {},
   "outputs": [
    {
     "data": {
      "text/html": [
       "<div>\n",
       "<style scoped>\n",
       "    .dataframe tbody tr th:only-of-type {\n",
       "        vertical-align: middle;\n",
       "    }\n",
       "\n",
       "    .dataframe tbody tr th {\n",
       "        vertical-align: top;\n",
       "    }\n",
       "\n",
       "    .dataframe thead th {\n",
       "        text-align: right;\n",
       "    }\n",
       "</style>\n",
       "<table border=\"1\" class=\"dataframe\">\n",
       "  <thead>\n",
       "    <tr style=\"text-align: right;\">\n",
       "      <th></th>\n",
       "      <th>PatientID</th>\n",
       "      <th>Sex</th>\n",
       "      <th>Age</th>\n",
       "      <th>Weight</th>\n",
       "      <th>Shape</th>\n",
       "      <th>Margin</th>\n",
       "      <th>Density</th>\n",
       "      <th>Target</th>\n",
       "    </tr>\n",
       "  </thead>\n",
       "  <tbody>\n",
       "    <tr>\n",
       "      <th>281</th>\n",
       "      <td>P282</td>\n",
       "      <td>Female</td>\n",
       "      <td>41.0</td>\n",
       "      <td>73</td>\n",
       "      <td>Round</td>\n",
       "      <td>Circumscribed</td>\n",
       "      <td>Low</td>\n",
       "      <td>0</td>\n",
       "    </tr>\n",
       "    <tr>\n",
       "      <th>134</th>\n",
       "      <td>P135</td>\n",
       "      <td>Female</td>\n",
       "      <td>66.0</td>\n",
       "      <td>57</td>\n",
       "      <td>Irregular</td>\n",
       "      <td>ill-defined</td>\n",
       "      <td>Low</td>\n",
       "      <td>1</td>\n",
       "    </tr>\n",
       "    <tr>\n",
       "      <th>562</th>\n",
       "      <td>P563</td>\n",
       "      <td>Female</td>\n",
       "      <td>53.0</td>\n",
       "      <td>60</td>\n",
       "      <td>Lobular</td>\n",
       "      <td>ill-defined</td>\n",
       "      <td>Low</td>\n",
       "      <td>0</td>\n",
       "    </tr>\n",
       "    <tr>\n",
       "      <th>210</th>\n",
       "      <td>P211</td>\n",
       "      <td>Female</td>\n",
       "      <td>46.0</td>\n",
       "      <td>65</td>\n",
       "      <td>Round</td>\n",
       "      <td>Circumscribed</td>\n",
       "      <td>High</td>\n",
       "      <td>0</td>\n",
       "    </tr>\n",
       "    <tr>\n",
       "      <th>115</th>\n",
       "      <td>P116</td>\n",
       "      <td>Female</td>\n",
       "      <td>56.0</td>\n",
       "      <td>53</td>\n",
       "      <td>Round</td>\n",
       "      <td>Circumscribed</td>\n",
       "      <td>Low</td>\n",
       "      <td>0</td>\n",
       "    </tr>\n",
       "  </tbody>\n",
       "</table>\n",
       "</div>"
      ],
      "text/plain": [
       "    PatientID     Sex   Age  Weight      Shape         Margin Density  Target\n",
       "281      P282  Female  41.0      73      Round  Circumscribed     Low       0\n",
       "134      P135  Female  66.0      57  Irregular    ill-defined     Low       1\n",
       "562      P563  Female  53.0      60    Lobular    ill-defined     Low       0\n",
       "210      P211  Female  46.0      65      Round  Circumscribed    High       0\n",
       "115      P116  Female  56.0      53      Round  Circumscribed     Low       0"
      ]
     },
     "execution_count": 5,
     "metadata": {},
     "output_type": "execute_result"
    }
   ],
   "source": [
    "# Hiển thị 5 bản ghi ngẫu nhiên\n",
    "df_practice.sample(5)"
   ]
  },
  {
   "cell_type": "code",
   "execution_count": 6,
   "metadata": {},
   "outputs": [
    {
     "name": "stdout",
     "output_type": "stream",
     "text": [
      "<class 'pandas.core.frame.DataFrame'>\n",
      "RangeIndex: 961 entries, 0 to 960\n",
      "Data columns (total 8 columns):\n",
      " #   Column     Non-Null Count  Dtype  \n",
      "---  ------     --------------  -----  \n",
      " 0   PatientID  961 non-null    object \n",
      " 1   Sex        961 non-null    object \n",
      " 2   Age        956 non-null    float64\n",
      " 3   Weight     961 non-null    int64  \n",
      " 4   Shape      930 non-null    object \n",
      " 5   Margin     913 non-null    object \n",
      " 6   Density    885 non-null    object \n",
      " 7   Target     961 non-null    int64  \n",
      "dtypes: float64(1), int64(2), object(5)\n",
      "memory usage: 60.2+ KB\n"
     ]
    }
   ],
   "source": [
    "# Hiển thị thông tin cơ bản về các dữ liệu\n",
    "df_practice.info()"
   ]
  },
  {
   "cell_type": "code",
   "execution_count": 7,
   "metadata": {},
   "outputs": [
    {
     "data": {
      "text/plain": [
       "PatientID     0\n",
       "Sex           0\n",
       "Age           5\n",
       "Weight        0\n",
       "Shape        31\n",
       "Margin       48\n",
       "Density      76\n",
       "Target        0\n",
       "dtype: int64"
      ]
     },
     "execution_count": 7,
     "metadata": {},
     "output_type": "execute_result"
    }
   ],
   "source": [
    "df_practice.isnull().sum()"
   ]
  },
  {
   "cell_type": "code",
   "execution_count": 8,
   "metadata": {},
   "outputs": [
    {
     "data": {
      "text/html": [
       "<div>\n",
       "<style scoped>\n",
       "    .dataframe tbody tr th:only-of-type {\n",
       "        vertical-align: middle;\n",
       "    }\n",
       "\n",
       "    .dataframe tbody tr th {\n",
       "        vertical-align: top;\n",
       "    }\n",
       "\n",
       "    .dataframe thead th {\n",
       "        text-align: right;\n",
       "    }\n",
       "</style>\n",
       "<table border=\"1\" class=\"dataframe\">\n",
       "  <thead>\n",
       "    <tr style=\"text-align: right;\">\n",
       "      <th></th>\n",
       "      <th>PatientID</th>\n",
       "      <th>Sex</th>\n",
       "      <th>Shape</th>\n",
       "      <th>Margin</th>\n",
       "      <th>Density</th>\n",
       "    </tr>\n",
       "  </thead>\n",
       "  <tbody>\n",
       "    <tr>\n",
       "      <th>count</th>\n",
       "      <td>961</td>\n",
       "      <td>961</td>\n",
       "      <td>930</td>\n",
       "      <td>913</td>\n",
       "      <td>885</td>\n",
       "    </tr>\n",
       "    <tr>\n",
       "      <th>unique</th>\n",
       "      <td>961</td>\n",
       "      <td>2</td>\n",
       "      <td>5</td>\n",
       "      <td>6</td>\n",
       "      <td>5</td>\n",
       "    </tr>\n",
       "    <tr>\n",
       "      <th>top</th>\n",
       "      <td>P1</td>\n",
       "      <td>Female</td>\n",
       "      <td>Irregular</td>\n",
       "      <td>Circumscribed</td>\n",
       "      <td>Low</td>\n",
       "    </tr>\n",
       "    <tr>\n",
       "      <th>freq</th>\n",
       "      <td>1</td>\n",
       "      <td>960</td>\n",
       "      <td>399</td>\n",
       "      <td>357</td>\n",
       "      <td>797</td>\n",
       "    </tr>\n",
       "  </tbody>\n",
       "</table>\n",
       "</div>"
      ],
      "text/plain": [
       "       PatientID     Sex      Shape         Margin Density\n",
       "count        961     961        930            913     885\n",
       "unique       961       2          5              6       5\n",
       "top           P1  Female  Irregular  Circumscribed     Low\n",
       "freq           1     960        399            357     797"
      ]
     },
     "execution_count": 8,
     "metadata": {},
     "output_type": "execute_result"
    }
   ],
   "source": [
    "#Thông kê tập dữ liệu Train các thuộc tính có dtype: Object\n",
    "df_practice.describe(include=['O'])"
   ]
  },
  {
   "cell_type": "code",
   "execution_count": 9,
   "metadata": {},
   "outputs": [
    {
     "data": {
      "text/html": [
       "<div>\n",
       "<style scoped>\n",
       "    .dataframe tbody tr th:only-of-type {\n",
       "        vertical-align: middle;\n",
       "    }\n",
       "\n",
       "    .dataframe tbody tr th {\n",
       "        vertical-align: top;\n",
       "    }\n",
       "\n",
       "    .dataframe thead th {\n",
       "        text-align: right;\n",
       "    }\n",
       "</style>\n",
       "<table border=\"1\" class=\"dataframe\">\n",
       "  <thead>\n",
       "    <tr style=\"text-align: right;\">\n",
       "      <th></th>\n",
       "      <th>Age</th>\n",
       "      <th>Weight</th>\n",
       "      <th>Target</th>\n",
       "    </tr>\n",
       "  </thead>\n",
       "  <tbody>\n",
       "    <tr>\n",
       "      <th>count</th>\n",
       "      <td>956.000000</td>\n",
       "      <td>961.000000</td>\n",
       "      <td>961.000000</td>\n",
       "    </tr>\n",
       "    <tr>\n",
       "      <th>mean</th>\n",
       "      <td>56.306485</td>\n",
       "      <td>62.609781</td>\n",
       "      <td>0.463059</td>\n",
       "    </tr>\n",
       "    <tr>\n",
       "      <th>std</th>\n",
       "      <td>30.044212</td>\n",
       "      <td>10.440240</td>\n",
       "      <td>0.498893</td>\n",
       "    </tr>\n",
       "    <tr>\n",
       "      <th>min</th>\n",
       "      <td>18.000000</td>\n",
       "      <td>45.000000</td>\n",
       "      <td>0.000000</td>\n",
       "    </tr>\n",
       "    <tr>\n",
       "      <th>25%</th>\n",
       "      <td>45.000000</td>\n",
       "      <td>53.000000</td>\n",
       "      <td>0.000000</td>\n",
       "    </tr>\n",
       "    <tr>\n",
       "      <th>50%</th>\n",
       "      <td>57.000000</td>\n",
       "      <td>62.000000</td>\n",
       "      <td>0.000000</td>\n",
       "    </tr>\n",
       "    <tr>\n",
       "      <th>75%</th>\n",
       "      <td>66.000000</td>\n",
       "      <td>71.000000</td>\n",
       "      <td>1.000000</td>\n",
       "    </tr>\n",
       "    <tr>\n",
       "      <th>max</th>\n",
       "      <td>870.000000</td>\n",
       "      <td>80.000000</td>\n",
       "      <td>1.000000</td>\n",
       "    </tr>\n",
       "  </tbody>\n",
       "</table>\n",
       "</div>"
      ],
      "text/plain": [
       "              Age      Weight      Target\n",
       "count  956.000000  961.000000  961.000000\n",
       "mean    56.306485   62.609781    0.463059\n",
       "std     30.044212   10.440240    0.498893\n",
       "min     18.000000   45.000000    0.000000\n",
       "25%     45.000000   53.000000    0.000000\n",
       "50%     57.000000   62.000000    0.000000\n",
       "75%     66.000000   71.000000    1.000000\n",
       "max    870.000000   80.000000    1.000000"
      ]
     },
     "execution_count": 9,
     "metadata": {},
     "output_type": "execute_result"
    }
   ],
   "source": [
    "df_practice.describe()"
   ]
  },
  {
   "cell_type": "code",
   "execution_count": 10,
   "metadata": {},
   "outputs": [
    {
     "data": {
      "image/png": "[encoded data removed]",
      "text/plain": [
       "<Figure size 640x480 with 1 Axes>"
      ]
     },
     "metadata": {},
     "output_type": "display_data"
    }
   ],
   "source": [
    "df_practice['Weight'].plot(kind='hist', rwidth=0.9)\n",
    "\n",
    "plt.title('Biểu đồ phân bố cân nặng')\n",
    "plt.xlabel('Cân nặng')\n",
    "plt.ylabel('Số lượng')\n",
    "\n",
    "plt.show()\n",
    "\n"
   ]
  },
  {
   "cell_type": "code",
   "execution_count": null,
   "metadata": {},
   "outputs": [],
   "source": []
  },
  {
   "cell_type": "code",
   "execution_count": null,
   "metadata": {},
   "outputs": [],
   "source": []
  },
  {
   "cell_type": "code",
   "execution_count": null,
   "metadata": {},
   "outputs": [],
   "source": []
  },
  {
   "cell_type": "code",
   "execution_count": null,
   "metadata": {},
   "outputs": [],
   "source": []
  },
  {
   "cell_type": "markdown",
   "metadata": {},
   "source": [
    "**Yêu cầu 2:**\n",
    "\n",
    "- Kiểm tra các bản ghi trùng lặp, các thông số bất thường trong tập dữ liệu nếu có\n",
    "- Thống kê dữ liệu thiếu (missing) cho từng thuộc tính, và liệt kê ra các bản ghi bị missing tương ứng với thuộc tính đó."
   ]
  },
  {
   "cell_type": "code",
   "execution_count": 11,
   "metadata": {},
   "outputs": [
    {
     "name": "stdout",
     "output_type": "stream",
     "text": [
      "<class 'pandas.core.frame.DataFrame'>\n",
      "RangeIndex: 961 entries, 0 to 960\n",
      "Data columns (total 8 columns):\n",
      " #   Column     Non-Null Count  Dtype  \n",
      "---  ------     --------------  -----  \n",
      " 0   PatientID  961 non-null    object \n",
      " 1   Sex        961 non-null    object \n",
      " 2   Age        956 non-null    float64\n",
      " 3   Weight     961 non-null    int64  \n",
      " 4   Shape      930 non-null    object \n",
      " 5   Margin     913 non-null    object \n",
      " 6   Density    885 non-null    object \n",
      " 7   Target     961 non-null    int64  \n",
      "dtypes: float64(1), int64(2), object(5)\n",
      "memory usage: 60.2+ KB\n"
     ]
    }
   ],
   "source": [
    "#{HỌC VIÊN VIẾT CODE VÀO ĐÂY!}\n",
    "# hiển thị thông tin tổng quan của dữ liệu\n",
    "df_practice.info()"
   ]
  },
  {
   "cell_type": "markdown",
   "metadata": {},
   "source": [
    "### Trực quan hóa các dữ liệu missing trong data"
   ]
  },
  {
   "cell_type": "code",
   "execution_count": 12,
   "metadata": {},
   "outputs": [
    {
     "data": {
      "text/plain": [
       "PatientID     0\n",
       "Sex           0\n",
       "Age           5\n",
       "Weight        0\n",
       "Shape        31\n",
       "Margin       48\n",
       "Density      76\n",
       "Target        0\n",
       "dtype: int64"
      ]
     },
     "execution_count": 12,
     "metadata": {},
     "output_type": "execute_result"
    }
   ],
   "source": [
    "# tổng các dữ liệu null\n",
    "df_practice.isnull().sum()"
   ]
  },
  {
   "cell_type": "code",
   "execution_count": 13,
   "metadata": {},
   "outputs": [],
   "source": [
    "#Xây dựng hàm thống kê dữ liệu missing trong dataframe:\n",
    "#-----------------------------------------------------\n",
    "#Đầu vào của hàm là 1 biến Dataframe\n",
    "#Đầu ra bao gồm các thông số:\n",
    "#Tổng số cột của file dữ liệu\n",
    "#Tổng số cột có chứa dữ liệu missing\n",
    "#Danh sách các cột chứa dữ liệu missing với 2 thống số:\n",
    "#Tổng số giá trị missing tương ứng với cột đó\n",
    "#Tỷ lệ % dữ liệu missing trên tổng số dữ liệu của cột\n",
    "def missing_values(df):\n",
    "        mis_val = df.isnull().sum()\n",
    "        mis_val_percent = 100 * df.isnull().sum() / len(df)\n",
    "        mis_val_table = pd.concat([mis_val, mis_val_percent], axis=1)\n",
    "        mis_val_table_ren_columns = mis_val_table.rename(\n",
    "        columns = {0 : 'Số giá trị Missing', 1 : 'Tỷ lệ % missing'})\n",
    "        mis_val_table_ren_columns = mis_val_table_ren_columns[\n",
    "            mis_val_table_ren_columns.iloc[:,1] != 0].sort_values(\n",
    "        'Tỷ lệ % missing', ascending=False).round(2)\n",
    "        print (\"File dữ liệu bao gồm có: \" + str(df.shape[1]) + \" cột.\\n\"      \n",
    "            \"Có \" + str(mis_val_table_ren_columns.shape[0]) +\n",
    "              \" cột chứa missing values.\")\n",
    "        return mis_val_table_ren_columns"
   ]
  },
  {
   "cell_type": "code",
   "execution_count": 14,
   "metadata": {},
   "outputs": [
    {
     "name": "stdout",
     "output_type": "stream",
     "text": [
      "Số lượng missing data trong tập Train: \n",
      "\n",
      "File dữ liệu bao gồm có: 8 cột.\n",
      "Có 4 cột chứa missing values.\n"
     ]
    },
    {
     "data": {
      "text/html": [
       "<div>\n",
       "<style scoped>\n",
       "    .dataframe tbody tr th:only-of-type {\n",
       "        vertical-align: middle;\n",
       "    }\n",
       "\n",
       "    .dataframe tbody tr th {\n",
       "        vertical-align: top;\n",
       "    }\n",
       "\n",
       "    .dataframe thead th {\n",
       "        text-align: right;\n",
       "    }\n",
       "</style>\n",
       "<table border=\"1\" class=\"dataframe\">\n",
       "  <thead>\n",
       "    <tr style=\"text-align: right;\">\n",
       "      <th></th>\n",
       "      <th>Số giá trị Missing</th>\n",
       "      <th>Tỷ lệ % missing</th>\n",
       "    </tr>\n",
       "  </thead>\n",
       "  <tbody>\n",
       "    <tr>\n",
       "      <th>Density</th>\n",
       "      <td>76</td>\n",
       "      <td>7.91</td>\n",
       "    </tr>\n",
       "    <tr>\n",
       "      <th>Margin</th>\n",
       "      <td>48</td>\n",
       "      <td>4.99</td>\n",
       "    </tr>\n",
       "    <tr>\n",
       "      <th>Shape</th>\n",
       "      <td>31</td>\n",
       "      <td>3.23</td>\n",
       "    </tr>\n",
       "    <tr>\n",
       "      <th>Age</th>\n",
       "      <td>5</td>\n",
       "      <td>0.52</td>\n",
       "    </tr>\n",
       "  </tbody>\n",
       "</table>\n",
       "</div>"
      ],
      "text/plain": [
       "         Số giá trị Missing  Tỷ lệ % missing\n",
       "Density                  76             7.91\n",
       "Margin                   48             4.99\n",
       "Shape                    31             3.23\n",
       "Age                       5             0.52"
      ]
     },
     "execution_count": 14,
     "metadata": {},
     "output_type": "execute_result"
    }
   ],
   "source": [
    "print('Số lượng missing data trong tập Train: \\n')\n",
    "missing_values(df_practice)"
   ]
  },
  {
   "cell_type": "markdown",
   "metadata": {},
   "source": [
    "**Nhận xét:**\n",
    "Do tỷ lệ giá trị missing không cao nên ta có thể thực hiện thao thay thế các bản ghi missing bằng cách lấy giá trị có tần suất xuất hiện cao nhất để thực hiện thay thế các bản ghi bị missing mà không ảnh hưởng quá nhiều đến độ chính xác của mô hình dự đoán"
   ]
  },
  {
   "cell_type": "code",
   "execution_count": 15,
   "metadata": {},
   "outputs": [
    {
     "data": {
      "text/plain": [
       "<Axes: >"
      ]
     },
     "execution_count": 15,
     "metadata": {},
     "output_type": "execute_result"
    },
    {
     "data": {
      "image/png": "[encoded data removed]",
      "text/plain": [
       "<Figure size 2500x1000 with 2 Axes>"
      ]
     },
     "metadata": {},
     "output_type": "display_data"
    }
   ],
   "source": [
    "#Trực quan hóa missing:\n",
    "import missingno as mn\n",
    "mn.matrix(df_practice)"
   ]
  },
  {
   "cell_type": "markdown",
   "metadata": {},
   "source": [
    "#### Xử lý thuộc tính Age"
   ]
  },
  {
   "cell_type": "code",
   "execution_count": 16,
   "metadata": {},
   "outputs": [
    {
     "data": {
      "text/html": [
       "<div>\n",
       "<style scoped>\n",
       "    .dataframe tbody tr th:only-of-type {\n",
       "        vertical-align: middle;\n",
       "    }\n",
       "\n",
       "    .dataframe tbody tr th {\n",
       "        vertical-align: top;\n",
       "    }\n",
       "\n",
       "    .dataframe thead th {\n",
       "        text-align: right;\n",
       "    }\n",
       "</style>\n",
       "<table border=\"1\" class=\"dataframe\">\n",
       "  <thead>\n",
       "    <tr style=\"text-align: right;\">\n",
       "      <th></th>\n",
       "      <th>PatientID</th>\n",
       "      <th>Sex</th>\n",
       "      <th>Age</th>\n",
       "      <th>Weight</th>\n",
       "      <th>Shape</th>\n",
       "      <th>Margin</th>\n",
       "      <th>Density</th>\n",
       "      <th>Target</th>\n",
       "    </tr>\n",
       "  </thead>\n",
       "  <tbody>\n",
       "    <tr>\n",
       "      <th>443</th>\n",
       "      <td>P444</td>\n",
       "      <td>Female</td>\n",
       "      <td>NaN</td>\n",
       "      <td>48</td>\n",
       "      <td>Irregular</td>\n",
       "      <td>Spiculated</td>\n",
       "      <td>Low</td>\n",
       "      <td>1</td>\n",
       "    </tr>\n",
       "    <tr>\n",
       "      <th>453</th>\n",
       "      <td>P454</td>\n",
       "      <td>Female</td>\n",
       "      <td>NaN</td>\n",
       "      <td>64</td>\n",
       "      <td>Irregular</td>\n",
       "      <td>ill-defined</td>\n",
       "      <td>Low</td>\n",
       "      <td>1</td>\n",
       "    </tr>\n",
       "    <tr>\n",
       "      <th>683</th>\n",
       "      <td>P684</td>\n",
       "      <td>Female</td>\n",
       "      <td>NaN</td>\n",
       "      <td>53</td>\n",
       "      <td>Lobular</td>\n",
       "      <td>Obscured</td>\n",
       "      <td>Low</td>\n",
       "      <td>1</td>\n",
       "    </tr>\n",
       "    <tr>\n",
       "      <th>884</th>\n",
       "      <td>P885</td>\n",
       "      <td>Female</td>\n",
       "      <td>NaN</td>\n",
       "      <td>75</td>\n",
       "      <td>Irregular</td>\n",
       "      <td>ill-defined</td>\n",
       "      <td>Low</td>\n",
       "      <td>1</td>\n",
       "    </tr>\n",
       "    <tr>\n",
       "      <th>923</th>\n",
       "      <td>P924</td>\n",
       "      <td>Female</td>\n",
       "      <td>NaN</td>\n",
       "      <td>51</td>\n",
       "      <td>Irregular</td>\n",
       "      <td>Obscured</td>\n",
       "      <td>Low</td>\n",
       "      <td>1</td>\n",
       "    </tr>\n",
       "  </tbody>\n",
       "</table>\n",
       "</div>"
      ],
      "text/plain": [
       "    PatientID     Sex  Age  Weight      Shape       Margin Density  Target\n",
       "443      P444  Female  NaN      48  Irregular   Spiculated     Low       1\n",
       "453      P454  Female  NaN      64  Irregular  ill-defined     Low       1\n",
       "683      P684  Female  NaN      53    Lobular     Obscured     Low       1\n",
       "884      P885  Female  NaN      75  Irregular  ill-defined     Low       1\n",
       "923      P924  Female  NaN      51  Irregular     Obscured     Low       1"
      ]
     },
     "execution_count": 16,
     "metadata": {},
     "output_type": "execute_result"
    }
   ],
   "source": [
    "# Hiển thị các bản ghi bị thiếu dữ liệu tuổi\n",
    "df_practice[df_practice['Age'].isnull()]"
   ]
  },
  {
   "cell_type": "code",
   "execution_count": 17,
   "metadata": {},
   "outputs": [
    {
     "data": {
      "text/plain": [
       "59.0"
      ]
     },
     "execution_count": 17,
     "metadata": {},
     "output_type": "execute_result"
    }
   ],
   "source": [
    "# Xác định giá trị tuổi xuất hiện nhiều nhất\n",
    "most_common_age = df_practice['Age'].mode()[0]\n",
    "most_common_age"
   ]
  },
  {
   "cell_type": "code",
   "execution_count": 18,
   "metadata": {},
   "outputs": [],
   "source": [
    "# Thay thế các bản ghi bị thiếu dữ liệu tuổi bằng giá trị tuổi xuất hiện nhiều nhất\n",
    "df_practice['Age'].fillna(df_practice['Age'].mode()[0], inplace=True)"
   ]
  },
  {
   "cell_type": "code",
   "execution_count": 19,
   "metadata": {},
   "outputs": [
    {
     "data": {
      "text/html": [
       "<div>\n",
       "<style scoped>\n",
       "    .dataframe tbody tr th:only-of-type {\n",
       "        vertical-align: middle;\n",
       "    }\n",
       "\n",
       "    .dataframe tbody tr th {\n",
       "        vertical-align: top;\n",
       "    }\n",
       "\n",
       "    .dataframe thead th {\n",
       "        text-align: right;\n",
       "    }\n",
       "</style>\n",
       "<table border=\"1\" class=\"dataframe\">\n",
       "  <thead>\n",
       "    <tr style=\"text-align: right;\">\n",
       "      <th></th>\n",
       "      <th>PatientID</th>\n",
       "      <th>Sex</th>\n",
       "      <th>Age</th>\n",
       "      <th>Weight</th>\n",
       "      <th>Shape</th>\n",
       "      <th>Margin</th>\n",
       "      <th>Density</th>\n",
       "      <th>Target</th>\n",
       "    </tr>\n",
       "  </thead>\n",
       "  <tbody>\n",
       "  </tbody>\n",
       "</table>\n",
       "</div>"
      ],
      "text/plain": [
       "Empty DataFrame\n",
       "Columns: [PatientID, Sex, Age, Weight, Shape, Margin, Density, Target]\n",
       "Index: []"
      ]
     },
     "execution_count": 19,
     "metadata": {},
     "output_type": "execute_result"
    }
   ],
   "source": [
    "# Kiểm tra lại các bản ghi còn thiếu dữ liệu tuổi không\n",
    "df_practice[df_practice['Age'].isnull()]"
   ]
  },
  {
   "cell_type": "code",
   "execution_count": 20,
   "metadata": {},
   "outputs": [
    {
     "data": {
      "text/html": [
       "<div>\n",
       "<style scoped>\n",
       "    .dataframe tbody tr th:only-of-type {\n",
       "        vertical-align: middle;\n",
       "    }\n",
       "\n",
       "    .dataframe tbody tr th {\n",
       "        vertical-align: top;\n",
       "    }\n",
       "\n",
       "    .dataframe thead th {\n",
       "        text-align: right;\n",
       "    }\n",
       "</style>\n",
       "<table border=\"1\" class=\"dataframe\">\n",
       "  <thead>\n",
       "    <tr style=\"text-align: right;\">\n",
       "      <th></th>\n",
       "      <th>PatientID</th>\n",
       "      <th>Sex</th>\n",
       "      <th>Age</th>\n",
       "      <th>Weight</th>\n",
       "      <th>Shape</th>\n",
       "      <th>Margin</th>\n",
       "      <th>Density</th>\n",
       "      <th>Target</th>\n",
       "    </tr>\n",
       "  </thead>\n",
       "  <tbody>\n",
       "    <tr>\n",
       "      <th>165</th>\n",
       "      <td>P166</td>\n",
       "      <td>Female</td>\n",
       "      <td>870.0</td>\n",
       "      <td>73</td>\n",
       "      <td>Irregular</td>\n",
       "      <td>Spiculated</td>\n",
       "      <td>Low</td>\n",
       "      <td>1</td>\n",
       "    </tr>\n",
       "  </tbody>\n",
       "</table>\n",
       "</div>"
      ],
      "text/plain": [
       "    PatientID     Sex    Age  Weight      Shape      Margin Density  Target\n",
       "165      P166  Female  870.0      73  Irregular  Spiculated     Low       1"
      ]
     },
     "execution_count": 20,
     "metadata": {},
     "output_type": "execute_result"
    }
   ],
   "source": [
    "# kiểm tra bệnh nhân có độ tuổi cao >= 200\n",
    "df_practice[df_practice['Age'] >= 200]"
   ]
  },
  {
   "cell_type": "code",
   "execution_count": 21,
   "metadata": {},
   "outputs": [],
   "source": [
    "# thay thế dữ liệu tuổi bị sai sang dữ liệu tuổi có tần suất xuất hiện nhiều nhất\n",
    "df_practice.loc[df_practice['Age'] > 200, 'Age'] = most_common_age"
   ]
  },
  {
   "cell_type": "code",
   "execution_count": 22,
   "metadata": {},
   "outputs": [],
   "source": [
    "df_practice['Age'].fillna(df_practice['Age'].mode()[0], inplace=True)"
   ]
  },
  {
   "cell_type": "code",
   "execution_count": 23,
   "metadata": {},
   "outputs": [
    {
     "data": {
      "text/html": [
       "<div>\n",
       "<style scoped>\n",
       "    .dataframe tbody tr th:only-of-type {\n",
       "        vertical-align: middle;\n",
       "    }\n",
       "\n",
       "    .dataframe tbody tr th {\n",
       "        vertical-align: top;\n",
       "    }\n",
       "\n",
       "    .dataframe thead th {\n",
       "        text-align: right;\n",
       "    }\n",
       "</style>\n",
       "<table border=\"1\" class=\"dataframe\">\n",
       "  <thead>\n",
       "    <tr style=\"text-align: right;\">\n",
       "      <th></th>\n",
       "      <th>Age</th>\n",
       "      <th>Weight</th>\n",
       "      <th>Target</th>\n",
       "    </tr>\n",
       "  </thead>\n",
       "  <tbody>\n",
       "    <tr>\n",
       "      <th>count</th>\n",
       "      <td>961.000000</td>\n",
       "      <td>961.000000</td>\n",
       "      <td>961.000000</td>\n",
       "    </tr>\n",
       "    <tr>\n",
       "      <th>mean</th>\n",
       "      <td>55.476587</td>\n",
       "      <td>62.609781</td>\n",
       "      <td>0.463059</td>\n",
       "    </tr>\n",
       "    <tr>\n",
       "      <th>std</th>\n",
       "      <td>14.409188</td>\n",
       "      <td>10.440240</td>\n",
       "      <td>0.498893</td>\n",
       "    </tr>\n",
       "    <tr>\n",
       "      <th>min</th>\n",
       "      <td>18.000000</td>\n",
       "      <td>45.000000</td>\n",
       "      <td>0.000000</td>\n",
       "    </tr>\n",
       "    <tr>\n",
       "      <th>25%</th>\n",
       "      <td>45.000000</td>\n",
       "      <td>53.000000</td>\n",
       "      <td>0.000000</td>\n",
       "    </tr>\n",
       "    <tr>\n",
       "      <th>50%</th>\n",
       "      <td>57.000000</td>\n",
       "      <td>62.000000</td>\n",
       "      <td>0.000000</td>\n",
       "    </tr>\n",
       "    <tr>\n",
       "      <th>75%</th>\n",
       "      <td>66.000000</td>\n",
       "      <td>71.000000</td>\n",
       "      <td>1.000000</td>\n",
       "    </tr>\n",
       "    <tr>\n",
       "      <th>max</th>\n",
       "      <td>96.000000</td>\n",
       "      <td>80.000000</td>\n",
       "      <td>1.000000</td>\n",
       "    </tr>\n",
       "  </tbody>\n",
       "</table>\n",
       "</div>"
      ],
      "text/plain": [
       "              Age      Weight      Target\n",
       "count  961.000000  961.000000  961.000000\n",
       "mean    55.476587   62.609781    0.463059\n",
       "std     14.409188   10.440240    0.498893\n",
       "min     18.000000   45.000000    0.000000\n",
       "25%     45.000000   53.000000    0.000000\n",
       "50%     57.000000   62.000000    0.000000\n",
       "75%     66.000000   71.000000    1.000000\n",
       "max     96.000000   80.000000    1.000000"
      ]
     },
     "execution_count": 23,
     "metadata": {},
     "output_type": "execute_result"
    }
   ],
   "source": [
    "df_practice.describe()"
   ]
  },
  {
   "cell_type": "code",
   "execution_count": 24,
   "metadata": {},
   "outputs": [
    {
     "data": {
      "text/html": [
       "<div>\n",
       "<style scoped>\n",
       "    .dataframe tbody tr th:only-of-type {\n",
       "        vertical-align: middle;\n",
       "    }\n",
       "\n",
       "    .dataframe tbody tr th {\n",
       "        vertical-align: top;\n",
       "    }\n",
       "\n",
       "    .dataframe thead th {\n",
       "        text-align: right;\n",
       "    }\n",
       "</style>\n",
       "<table border=\"1\" class=\"dataframe\">\n",
       "  <thead>\n",
       "    <tr style=\"text-align: right;\">\n",
       "      <th></th>\n",
       "      <th>PatientID</th>\n",
       "      <th>Sex</th>\n",
       "      <th>Age</th>\n",
       "      <th>Weight</th>\n",
       "      <th>Shape</th>\n",
       "      <th>Margin</th>\n",
       "      <th>Density</th>\n",
       "      <th>Target</th>\n",
       "    </tr>\n",
       "  </thead>\n",
       "  <tbody>\n",
       "  </tbody>\n",
       "</table>\n",
       "</div>"
      ],
      "text/plain": [
       "Empty DataFrame\n",
       "Columns: [PatientID, Sex, Age, Weight, Shape, Margin, Density, Target]\n",
       "Index: []"
      ]
     },
     "execution_count": 24,
     "metadata": {},
     "output_type": "execute_result"
    }
   ],
   "source": [
    "# kiểm tra bệnh nhân có độ tuổi cao >=140\n",
    "df_practice[df_practice['Age'] >=140]"
   ]
  },
  {
   "cell_type": "code",
   "execution_count": 25,
   "metadata": {},
   "outputs": [
    {
     "data": {
      "image/png": "[encoded data removed]",
      "text/plain": [
       "<Figure size 640x480 with 1 Axes>"
      ]
     },
     "metadata": {},
     "output_type": "display_data"
    }
   ],
   "source": [
    "df_practice['Age'].plot(kind='hist', rwidth=0.9)\n",
    "plt.title('Biểu đồ phân bố độ tuổi')\n",
    "plt.xlabel('Độ tuổi')\n",
    "plt.ylabel('Số lượng')\n",
    "plt.show()"
   ]
  },
  {
   "cell_type": "markdown",
   "metadata": {},
   "source": [
    "#### Nhận xét: \n",
    "Độ tuổi phân bố của bệnh nhân chủ yếu tập trung ở độ tuổi từ 40-80"
   ]
  },
  {
   "cell_type": "code",
   "execution_count": 26,
   "metadata": {},
   "outputs": [
    {
     "data": {
      "text/plain": [
       "0"
      ]
     },
     "execution_count": 26,
     "metadata": {},
     "output_type": "execute_result"
    }
   ],
   "source": [
    "df_practice['Age'].isnull().sum()"
   ]
  },
  {
   "cell_type": "markdown",
   "metadata": {},
   "source": [
    "### Thuộc tính "
   ]
  },
  {
   "cell_type": "code",
   "execution_count": 27,
   "metadata": {},
   "outputs": [],
   "source": [
    "# thay đổi \n",
    "df_practice['Shape'] = df_practice['Shape'].replace('IRREGULAR', 'Irregular')"
   ]
  },
  {
   "cell_type": "code",
   "execution_count": 28,
   "metadata": {},
   "outputs": [
    {
     "name": "stdout",
     "output_type": "stream",
     "text": [
      "Irregular    400\n",
      "Round        224\n",
      "Oval         211\n",
      "Lobular       95\n",
      "Name: Shape, dtype: int64\n"
     ]
    }
   ],
   "source": [
    "# Thực hiện kiểm tra tính thiếu sót của dữ liệu thuộc tính Shape\n",
    "# thống kê tỷ lệ phần trăm (%) của hình dạng khối u\n",
    "#Thống kê số lượng bệnh nhân bị bệnh và không bị bệnh đau tim\n",
    "kq_shape = df_practice['Shape'].value_counts()\n",
    "print(kq_shape)\n"
   ]
  },
  {
   "cell_type": "code",
   "execution_count": 29,
   "metadata": {},
   "outputs": [
    {
     "data": {
      "image/png": "[encoded data removed]",
      "text/plain": [
       "<Figure size 1000x500 with 2 Axes>"
      ]
     },
     "metadata": {},
     "output_type": "display_data"
    }
   ],
   "source": [
    "# Trực quan hóa kết quả:\n",
    "import matplotlib.pyplot as plt\n",
    "plt.figure(figsize=(10,5))\n",
    "plt.subplot(1,2,1)\n",
    "plt.bar(['Irregular','Round', 'Oval', 'Lobular'],kq_shape.values)\n",
    "plt.grid(ls='--')\n",
    "\n",
    "plt.subplot(1,2,2)\n",
    "plt.pie(kq_shape.values, labels=['Irregular','Round', 'Oval', 'Lobular'],\n",
    "       autopct='%.2f%%')\n",
    "plt.show()"
   ]
  },
  {
   "cell_type": "code",
   "execution_count": 30,
   "metadata": {},
   "outputs": [
    {
     "data": {
      "text/plain": [
       "31"
      ]
     },
     "execution_count": 30,
     "metadata": {},
     "output_type": "execute_result"
    }
   ],
   "source": [
    "# kiểm tra số liệu sai lệch trong thuộc tính shape\n",
    "df_practice['Shape'].isnull().sum()"
   ]
  },
  {
   "cell_type": "code",
   "execution_count": 31,
   "metadata": {},
   "outputs": [
    {
     "data": {
      "text/html": [
       "<div>\n",
       "<style scoped>\n",
       "    .dataframe tbody tr th:only-of-type {\n",
       "        vertical-align: middle;\n",
       "    }\n",
       "\n",
       "    .dataframe tbody tr th {\n",
       "        vertical-align: top;\n",
       "    }\n",
       "\n",
       "    .dataframe thead th {\n",
       "        text-align: right;\n",
       "    }\n",
       "</style>\n",
       "<table border=\"1\" class=\"dataframe\">\n",
       "  <thead>\n",
       "    <tr style=\"text-align: right;\">\n",
       "      <th></th>\n",
       "      <th>PatientID</th>\n",
       "      <th>Sex</th>\n",
       "      <th>Age</th>\n",
       "      <th>Weight</th>\n",
       "      <th>Shape</th>\n",
       "      <th>Margin</th>\n",
       "      <th>Density</th>\n",
       "      <th>Target</th>\n",
       "    </tr>\n",
       "  </thead>\n",
       "  <tbody>\n",
       "    <tr>\n",
       "      <th>6</th>\n",
       "      <td>P7</td>\n",
       "      <td>Female</td>\n",
       "      <td>70.0</td>\n",
       "      <td>62</td>\n",
       "      <td>NaN</td>\n",
       "      <td>NaN</td>\n",
       "      <td>Low</td>\n",
       "      <td>0</td>\n",
       "    </tr>\n",
       "    <tr>\n",
       "      <th>9</th>\n",
       "      <td>P10</td>\n",
       "      <td>Female</td>\n",
       "      <td>60.0</td>\n",
       "      <td>77</td>\n",
       "      <td>NaN</td>\n",
       "      <td>Spiculated</td>\n",
       "      <td>High</td>\n",
       "      <td>1</td>\n",
       "    </tr>\n",
       "    <tr>\n",
       "      <th>20</th>\n",
       "      <td>P21</td>\n",
       "      <td>Female</td>\n",
       "      <td>66.0</td>\n",
       "      <td>68</td>\n",
       "      <td>NaN</td>\n",
       "      <td>NaN</td>\n",
       "      <td>High</td>\n",
       "      <td>1</td>\n",
       "    </tr>\n",
       "    <tr>\n",
       "      <th>48</th>\n",
       "      <td>P49</td>\n",
       "      <td>Female</td>\n",
       "      <td>42.0</td>\n",
       "      <td>60</td>\n",
       "      <td>NaN</td>\n",
       "      <td>NaN</td>\n",
       "      <td>Fat-containing</td>\n",
       "      <td>0</td>\n",
       "    </tr>\n",
       "    <tr>\n",
       "      <th>54</th>\n",
       "      <td>P55</td>\n",
       "      <td>Female</td>\n",
       "      <td>53.0</td>\n",
       "      <td>72</td>\n",
       "      <td>NaN</td>\n",
       "      <td>Spiculated</td>\n",
       "      <td>Low</td>\n",
       "      <td>1</td>\n",
       "    </tr>\n",
       "    <tr>\n",
       "      <th>74</th>\n",
       "      <td>P75</td>\n",
       "      <td>Female</td>\n",
       "      <td>70.0</td>\n",
       "      <td>74</td>\n",
       "      <td>NaN</td>\n",
       "      <td>ill-defined</td>\n",
       "      <td>NaN</td>\n",
       "      <td>1</td>\n",
       "    </tr>\n",
       "    <tr>\n",
       "      <th>83</th>\n",
       "      <td>P84</td>\n",
       "      <td>Female</td>\n",
       "      <td>57.0</td>\n",
       "      <td>69</td>\n",
       "      <td>NaN</td>\n",
       "      <td>ill-defined</td>\n",
       "      <td>High</td>\n",
       "      <td>0</td>\n",
       "    </tr>\n",
       "    <tr>\n",
       "      <th>128</th>\n",
       "      <td>P129</td>\n",
       "      <td>Female</td>\n",
       "      <td>52.0</td>\n",
       "      <td>56</td>\n",
       "      <td>NaN</td>\n",
       "      <td>ill-defined</td>\n",
       "      <td>NaN</td>\n",
       "      <td>0</td>\n",
       "    </tr>\n",
       "    <tr>\n",
       "      <th>157</th>\n",
       "      <td>P158</td>\n",
       "      <td>Female</td>\n",
       "      <td>51.0</td>\n",
       "      <td>57</td>\n",
       "      <td>NaN</td>\n",
       "      <td>NaN</td>\n",
       "      <td>Low</td>\n",
       "      <td>0</td>\n",
       "    </tr>\n",
       "    <tr>\n",
       "      <th>163</th>\n",
       "      <td>P164</td>\n",
       "      <td>Female</td>\n",
       "      <td>53.0</td>\n",
       "      <td>46</td>\n",
       "      <td>NaN</td>\n",
       "      <td>ill-defined</td>\n",
       "      <td>Low</td>\n",
       "      <td>0</td>\n",
       "    </tr>\n",
       "    <tr>\n",
       "      <th>236</th>\n",
       "      <td>P237</td>\n",
       "      <td>Female</td>\n",
       "      <td>60.0</td>\n",
       "      <td>63</td>\n",
       "      <td>NaN</td>\n",
       "      <td>Obscured</td>\n",
       "      <td>High</td>\n",
       "      <td>0</td>\n",
       "    </tr>\n",
       "    <tr>\n",
       "      <th>255</th>\n",
       "      <td>P256</td>\n",
       "      <td>Female</td>\n",
       "      <td>76.0</td>\n",
       "      <td>61</td>\n",
       "      <td>NaN</td>\n",
       "      <td>Obscured</td>\n",
       "      <td>Iso</td>\n",
       "      <td>0</td>\n",
       "    </tr>\n",
       "    <tr>\n",
       "      <th>387</th>\n",
       "      <td>P388</td>\n",
       "      <td>Female</td>\n",
       "      <td>64.0</td>\n",
       "      <td>63</td>\n",
       "      <td>NaN</td>\n",
       "      <td>NaN</td>\n",
       "      <td>Low</td>\n",
       "      <td>0</td>\n",
       "    </tr>\n",
       "    <tr>\n",
       "      <th>388</th>\n",
       "      <td>P389</td>\n",
       "      <td>Female</td>\n",
       "      <td>49.0</td>\n",
       "      <td>70</td>\n",
       "      <td>NaN</td>\n",
       "      <td>Obscured</td>\n",
       "      <td>Low</td>\n",
       "      <td>0</td>\n",
       "    </tr>\n",
       "    <tr>\n",
       "      <th>389</th>\n",
       "      <td>P390</td>\n",
       "      <td>Female</td>\n",
       "      <td>44.0</td>\n",
       "      <td>79</td>\n",
       "      <td>NaN</td>\n",
       "      <td>ill-defined</td>\n",
       "      <td>Low</td>\n",
       "      <td>0</td>\n",
       "    </tr>\n",
       "    <tr>\n",
       "      <th>394</th>\n",
       "      <td>P395</td>\n",
       "      <td>Female</td>\n",
       "      <td>34.0</td>\n",
       "      <td>53</td>\n",
       "      <td>NaN</td>\n",
       "      <td>NaN</td>\n",
       "      <td>Fat-containing</td>\n",
       "      <td>0</td>\n",
       "    </tr>\n",
       "    <tr>\n",
       "      <th>476</th>\n",
       "      <td>P477</td>\n",
       "      <td>Female</td>\n",
       "      <td>41.0</td>\n",
       "      <td>48</td>\n",
       "      <td>NaN</td>\n",
       "      <td>NaN</td>\n",
       "      <td>Low</td>\n",
       "      <td>0</td>\n",
       "    </tr>\n",
       "    <tr>\n",
       "      <th>496</th>\n",
       "      <td>P497</td>\n",
       "      <td>Female</td>\n",
       "      <td>82.0</td>\n",
       "      <td>80</td>\n",
       "      <td>NaN</td>\n",
       "      <td>Spiculated</td>\n",
       "      <td>Low</td>\n",
       "      <td>1</td>\n",
       "    </tr>\n",
       "    <tr>\n",
       "      <th>519</th>\n",
       "      <td>P520</td>\n",
       "      <td>Female</td>\n",
       "      <td>68.0</td>\n",
       "      <td>71</td>\n",
       "      <td>NaN</td>\n",
       "      <td>NaN</td>\n",
       "      <td>Low</td>\n",
       "      <td>0</td>\n",
       "    </tr>\n",
       "    <tr>\n",
       "      <th>531</th>\n",
       "      <td>P532</td>\n",
       "      <td>Female</td>\n",
       "      <td>55.0</td>\n",
       "      <td>58</td>\n",
       "      <td>NaN</td>\n",
       "      <td>NaN</td>\n",
       "      <td>Low</td>\n",
       "      <td>0</td>\n",
       "    </tr>\n",
       "    <tr>\n",
       "      <th>537</th>\n",
       "      <td>P538</td>\n",
       "      <td>Female</td>\n",
       "      <td>63.0</td>\n",
       "      <td>71</td>\n",
       "      <td>NaN</td>\n",
       "      <td>ill-defined</td>\n",
       "      <td>Low</td>\n",
       "      <td>1</td>\n",
       "    </tr>\n",
       "    <tr>\n",
       "      <th>554</th>\n",
       "      <td>P555</td>\n",
       "      <td>Female</td>\n",
       "      <td>70.0</td>\n",
       "      <td>63</td>\n",
       "      <td>NaN</td>\n",
       "      <td>Spiculated</td>\n",
       "      <td>Low</td>\n",
       "      <td>1</td>\n",
       "    </tr>\n",
       "    <tr>\n",
       "      <th>561</th>\n",
       "      <td>P562</td>\n",
       "      <td>Female</td>\n",
       "      <td>59.0</td>\n",
       "      <td>53</td>\n",
       "      <td>NaN</td>\n",
       "      <td>ill-defined</td>\n",
       "      <td>Low</td>\n",
       "      <td>0</td>\n",
       "    </tr>\n",
       "    <tr>\n",
       "      <th>581</th>\n",
       "      <td>P582</td>\n",
       "      <td>Female</td>\n",
       "      <td>65.0</td>\n",
       "      <td>54</td>\n",
       "      <td>NaN</td>\n",
       "      <td>Circumscribed</td>\n",
       "      <td>Iso</td>\n",
       "      <td>0</td>\n",
       "    </tr>\n",
       "    <tr>\n",
       "      <th>614</th>\n",
       "      <td>P615</td>\n",
       "      <td>Female</td>\n",
       "      <td>46.0</td>\n",
       "      <td>56</td>\n",
       "      <td>NaN</td>\n",
       "      <td>Spiculated</td>\n",
       "      <td>NaN</td>\n",
       "      <td>1</td>\n",
       "    </tr>\n",
       "    <tr>\n",
       "      <th>660</th>\n",
       "      <td>P661</td>\n",
       "      <td>Female</td>\n",
       "      <td>58.0</td>\n",
       "      <td>57</td>\n",
       "      <td>NaN</td>\n",
       "      <td>ill-defined</td>\n",
       "      <td>Low</td>\n",
       "      <td>1</td>\n",
       "    </tr>\n",
       "    <tr>\n",
       "      <th>661</th>\n",
       "      <td>P662</td>\n",
       "      <td>Female</td>\n",
       "      <td>51.0</td>\n",
       "      <td>60</td>\n",
       "      <td>NaN</td>\n",
       "      <td>ill-defined</td>\n",
       "      <td>Low</td>\n",
       "      <td>0</td>\n",
       "    </tr>\n",
       "    <tr>\n",
       "      <th>662</th>\n",
       "      <td>P663</td>\n",
       "      <td>Female</td>\n",
       "      <td>50.0</td>\n",
       "      <td>58</td>\n",
       "      <td>NaN</td>\n",
       "      <td>NaN</td>\n",
       "      <td>Low</td>\n",
       "      <td>1</td>\n",
       "    </tr>\n",
       "    <tr>\n",
       "      <th>752</th>\n",
       "      <td>P753</td>\n",
       "      <td>Female</td>\n",
       "      <td>48.0</td>\n",
       "      <td>52</td>\n",
       "      <td>NaN</td>\n",
       "      <td>ill-defined</td>\n",
       "      <td>NaN</td>\n",
       "      <td>1</td>\n",
       "    </tr>\n",
       "    <tr>\n",
       "      <th>778</th>\n",
       "      <td>P779</td>\n",
       "      <td>Female</td>\n",
       "      <td>60.0</td>\n",
       "      <td>80</td>\n",
       "      <td>NaN</td>\n",
       "      <td>ill-defined</td>\n",
       "      <td>Low</td>\n",
       "      <td>0</td>\n",
       "    </tr>\n",
       "    <tr>\n",
       "      <th>824</th>\n",
       "      <td>P825</td>\n",
       "      <td>Female</td>\n",
       "      <td>40.0</td>\n",
       "      <td>62</td>\n",
       "      <td>NaN</td>\n",
       "      <td>Obscured</td>\n",
       "      <td>Fat-containing</td>\n",
       "      <td>1</td>\n",
       "    </tr>\n",
       "  </tbody>\n",
       "</table>\n",
       "</div>"
      ],
      "text/plain": [
       "    PatientID     Sex   Age  Weight Shape         Margin         Density  \\\n",
       "6          P7  Female  70.0      62   NaN            NaN             Low   \n",
       "9         P10  Female  60.0      77   NaN     Spiculated            High   \n",
       "20        P21  Female  66.0      68   NaN            NaN            High   \n",
       "48        P49  Female  42.0      60   NaN            NaN  Fat-containing   \n",
       "54        P55  Female  53.0      72   NaN     Spiculated             Low   \n",
       "74        P75  Female  70.0      74   NaN    ill-defined             NaN   \n",
       "83        P84  Female  57.0      69   NaN    ill-defined            High   \n",
       "128      P129  Female  52.0      56   NaN    ill-defined             NaN   \n",
       "157      P158  Female  51.0      57   NaN            NaN             Low   \n",
       "163      P164  Female  53.0      46   NaN    ill-defined             Low   \n",
       "236      P237  Female  60.0      63   NaN       Obscured            High   \n",
       "255      P256  Female  76.0      61   NaN       Obscured             Iso   \n",
       "387      P388  Female  64.0      63   NaN            NaN             Low   \n",
       "388      P389  Female  49.0      70   NaN       Obscured             Low   \n",
       "389      P390  Female  44.0      79   NaN    ill-defined             Low   \n",
       "394      P395  Female  34.0      53   NaN            NaN  Fat-containing   \n",
       "476      P477  Female  41.0      48   NaN            NaN             Low   \n",
       "496      P497  Female  82.0      80   NaN     Spiculated             Low   \n",
       "519      P520  Female  68.0      71   NaN            NaN             Low   \n",
       "531      P532  Female  55.0      58   NaN            NaN             Low   \n",
       "537      P538  Female  63.0      71   NaN    ill-defined             Low   \n",
       "554      P555  Female  70.0      63   NaN     Spiculated             Low   \n",
       "561      P562  Female  59.0      53   NaN    ill-defined             Low   \n",
       "581      P582  Female  65.0      54   NaN  Circumscribed             Iso   \n",
       "614      P615  Female  46.0      56   NaN     Spiculated             NaN   \n",
       "660      P661  Female  58.0      57   NaN    ill-defined             Low   \n",
       "661      P662  Female  51.0      60   NaN    ill-defined             Low   \n",
       "662      P663  Female  50.0      58   NaN            NaN             Low   \n",
       "752      P753  Female  48.0      52   NaN    ill-defined             NaN   \n",
       "778      P779  Female  60.0      80   NaN    ill-defined             Low   \n",
       "824      P825  Female  40.0      62   NaN       Obscured  Fat-containing   \n",
       "\n",
       "     Target  \n",
       "6         0  \n",
       "9         1  \n",
       "20        1  \n",
       "48        0  \n",
       "54        1  \n",
       "74        1  \n",
       "83        0  \n",
       "128       0  \n",
       "157       0  \n",
       "163       0  \n",
       "236       0  \n",
       "255       0  \n",
       "387       0  \n",
       "388       0  \n",
       "389       0  \n",
       "394       0  \n",
       "476       0  \n",
       "496       1  \n",
       "519       0  \n",
       "531       0  \n",
       "537       1  \n",
       "554       1  \n",
       "561       0  \n",
       "581       0  \n",
       "614       1  \n",
       "660       1  \n",
       "661       0  \n",
       "662       1  \n",
       "752       1  \n",
       "778       0  \n",
       "824       1  "
      ]
     },
     "execution_count": 31,
     "metadata": {},
     "output_type": "execute_result"
    }
   ],
   "source": [
    "# Hiển thị các bản ghi của thuộc tính Shape bị null\n",
    "df_practice.loc[df_practice['Shape'].isnull()]"
   ]
  },
  {
   "cell_type": "code",
   "execution_count": 32,
   "metadata": {},
   "outputs": [],
   "source": [
    "# thay thế các bản ghi bị lỗi bằng cách thay thế giá trị null bằng giá trị có tần suất xuất hiện nhiều nhất \n",
    "# --> giá trị: Irregular\n",
    "df_practice['Shape'].fillna(df_practice['Shape'].mode()[0], inplace=True)"
   ]
  },
  {
   "cell_type": "code",
   "execution_count": 33,
   "metadata": {},
   "outputs": [
    {
     "data": {
      "text/html": [
       "<div>\n",
       "<style scoped>\n",
       "    .dataframe tbody tr th:only-of-type {\n",
       "        vertical-align: middle;\n",
       "    }\n",
       "\n",
       "    .dataframe tbody tr th {\n",
       "        vertical-align: top;\n",
       "    }\n",
       "\n",
       "    .dataframe thead th {\n",
       "        text-align: right;\n",
       "    }\n",
       "</style>\n",
       "<table border=\"1\" class=\"dataframe\">\n",
       "  <thead>\n",
       "    <tr style=\"text-align: right;\">\n",
       "      <th></th>\n",
       "      <th>PatientID</th>\n",
       "      <th>Sex</th>\n",
       "      <th>Age</th>\n",
       "      <th>Weight</th>\n",
       "      <th>Shape</th>\n",
       "      <th>Margin</th>\n",
       "      <th>Density</th>\n",
       "      <th>Target</th>\n",
       "    </tr>\n",
       "  </thead>\n",
       "  <tbody>\n",
       "    <tr>\n",
       "      <th>5</th>\n",
       "      <td>P6</td>\n",
       "      <td>Female</td>\n",
       "      <td>65.0</td>\n",
       "      <td>72</td>\n",
       "      <td>Round</td>\n",
       "      <td>NaN</td>\n",
       "      <td>Low</td>\n",
       "      <td>0</td>\n",
       "    </tr>\n",
       "    <tr>\n",
       "      <th>6</th>\n",
       "      <td>P7</td>\n",
       "      <td>Female</td>\n",
       "      <td>70.0</td>\n",
       "      <td>62</td>\n",
       "      <td>Irregular</td>\n",
       "      <td>NaN</td>\n",
       "      <td>Low</td>\n",
       "      <td>0</td>\n",
       "    </tr>\n",
       "    <tr>\n",
       "      <th>7</th>\n",
       "      <td>P8</td>\n",
       "      <td>Female</td>\n",
       "      <td>42.0</td>\n",
       "      <td>51</td>\n",
       "      <td>Round</td>\n",
       "      <td>NaN</td>\n",
       "      <td>Low</td>\n",
       "      <td>0</td>\n",
       "    </tr>\n",
       "    <tr>\n",
       "      <th>12</th>\n",
       "      <td>P13</td>\n",
       "      <td>Female</td>\n",
       "      <td>64.0</td>\n",
       "      <td>67</td>\n",
       "      <td>Round</td>\n",
       "      <td>NaN</td>\n",
       "      <td>Low</td>\n",
       "      <td>0</td>\n",
       "    </tr>\n",
       "    <tr>\n",
       "      <th>19</th>\n",
       "      <td>P20</td>\n",
       "      <td>Female</td>\n",
       "      <td>40.0</td>\n",
       "      <td>67</td>\n",
       "      <td>Round</td>\n",
       "      <td>NaN</td>\n",
       "      <td>NaN</td>\n",
       "      <td>0</td>\n",
       "    </tr>\n",
       "    <tr>\n",
       "      <th>20</th>\n",
       "      <td>P21</td>\n",
       "      <td>Female</td>\n",
       "      <td>66.0</td>\n",
       "      <td>68</td>\n",
       "      <td>Irregular</td>\n",
       "      <td>NaN</td>\n",
       "      <td>High</td>\n",
       "      <td>1</td>\n",
       "    </tr>\n",
       "    <tr>\n",
       "      <th>22</th>\n",
       "      <td>P23</td>\n",
       "      <td>Female</td>\n",
       "      <td>43.0</td>\n",
       "      <td>54</td>\n",
       "      <td>Round</td>\n",
       "      <td>NaN</td>\n",
       "      <td>NaN</td>\n",
       "      <td>0</td>\n",
       "    </tr>\n",
       "    <tr>\n",
       "      <th>27</th>\n",
       "      <td>P28</td>\n",
       "      <td>Female</td>\n",
       "      <td>63.0</td>\n",
       "      <td>47</td>\n",
       "      <td>Lobular</td>\n",
       "      <td>NaN</td>\n",
       "      <td>Low</td>\n",
       "      <td>0</td>\n",
       "    </tr>\n",
       "    <tr>\n",
       "      <th>35</th>\n",
       "      <td>P36</td>\n",
       "      <td>Female</td>\n",
       "      <td>77.0</td>\n",
       "      <td>49</td>\n",
       "      <td>Lobular</td>\n",
       "      <td>NaN</td>\n",
       "      <td>NaN</td>\n",
       "      <td>0</td>\n",
       "    </tr>\n",
       "    <tr>\n",
       "      <th>48</th>\n",
       "      <td>P49</td>\n",
       "      <td>Female</td>\n",
       "      <td>42.0</td>\n",
       "      <td>60</td>\n",
       "      <td>Irregular</td>\n",
       "      <td>NaN</td>\n",
       "      <td>Fat-containing</td>\n",
       "      <td>0</td>\n",
       "    </tr>\n",
       "    <tr>\n",
       "      <th>59</th>\n",
       "      <td>P60</td>\n",
       "      <td>Female</td>\n",
       "      <td>59.0</td>\n",
       "      <td>57</td>\n",
       "      <td>Oval</td>\n",
       "      <td>NaN</td>\n",
       "      <td>NaN</td>\n",
       "      <td>1</td>\n",
       "    </tr>\n",
       "    <tr>\n",
       "      <th>84</th>\n",
       "      <td>P85</td>\n",
       "      <td>Female</td>\n",
       "      <td>51.0</td>\n",
       "      <td>79</td>\n",
       "      <td>Irregular</td>\n",
       "      <td>NaN</td>\n",
       "      <td>NaN</td>\n",
       "      <td>1</td>\n",
       "    </tr>\n",
       "    <tr>\n",
       "      <th>85</th>\n",
       "      <td>P86</td>\n",
       "      <td>Female</td>\n",
       "      <td>33.0</td>\n",
       "      <td>59</td>\n",
       "      <td>Round</td>\n",
       "      <td>NaN</td>\n",
       "      <td>NaN</td>\n",
       "      <td>0</td>\n",
       "    </tr>\n",
       "    <tr>\n",
       "      <th>87</th>\n",
       "      <td>P88</td>\n",
       "      <td>Female</td>\n",
       "      <td>36.0</td>\n",
       "      <td>65</td>\n",
       "      <td>Round</td>\n",
       "      <td>NaN</td>\n",
       "      <td>NaN</td>\n",
       "      <td>0</td>\n",
       "    </tr>\n",
       "    <tr>\n",
       "      <th>94</th>\n",
       "      <td>P95</td>\n",
       "      <td>Female</td>\n",
       "      <td>60.0</td>\n",
       "      <td>48</td>\n",
       "      <td>Round</td>\n",
       "      <td>NaN</td>\n",
       "      <td>Low</td>\n",
       "      <td>0</td>\n",
       "    </tr>\n",
       "    <tr>\n",
       "      <th>100</th>\n",
       "      <td>P101</td>\n",
       "      <td>Female</td>\n",
       "      <td>59.0</td>\n",
       "      <td>53</td>\n",
       "      <td>Oval</td>\n",
       "      <td>NaN</td>\n",
       "      <td>NaN</td>\n",
       "      <td>0</td>\n",
       "    </tr>\n",
       "    <tr>\n",
       "      <th>101</th>\n",
       "      <td>P102</td>\n",
       "      <td>Female</td>\n",
       "      <td>65.0</td>\n",
       "      <td>78</td>\n",
       "      <td>Oval</td>\n",
       "      <td>NaN</td>\n",
       "      <td>NaN</td>\n",
       "      <td>0</td>\n",
       "    </tr>\n",
       "    <tr>\n",
       "      <th>103</th>\n",
       "      <td>P104</td>\n",
       "      <td>Female</td>\n",
       "      <td>29.0</td>\n",
       "      <td>68</td>\n",
       "      <td>Oval</td>\n",
       "      <td>NaN</td>\n",
       "      <td>NaN</td>\n",
       "      <td>0</td>\n",
       "    </tr>\n",
       "    <tr>\n",
       "      <th>133</th>\n",
       "      <td>P134</td>\n",
       "      <td>Female</td>\n",
       "      <td>60.0</td>\n",
       "      <td>48</td>\n",
       "      <td>Oval</td>\n",
       "      <td>NaN</td>\n",
       "      <td>NaN</td>\n",
       "      <td>0</td>\n",
       "    </tr>\n",
       "    <tr>\n",
       "      <th>147</th>\n",
       "      <td>P148</td>\n",
       "      <td>Female</td>\n",
       "      <td>63.0</td>\n",
       "      <td>49</td>\n",
       "      <td>Irregular</td>\n",
       "      <td>NaN</td>\n",
       "      <td>Low</td>\n",
       "      <td>1</td>\n",
       "    </tr>\n",
       "    <tr>\n",
       "      <th>156</th>\n",
       "      <td>P157</td>\n",
       "      <td>Female</td>\n",
       "      <td>55.0</td>\n",
       "      <td>48</td>\n",
       "      <td>Oval</td>\n",
       "      <td>NaN</td>\n",
       "      <td>NaN</td>\n",
       "      <td>1</td>\n",
       "    </tr>\n",
       "    <tr>\n",
       "      <th>157</th>\n",
       "      <td>P158</td>\n",
       "      <td>Female</td>\n",
       "      <td>51.0</td>\n",
       "      <td>57</td>\n",
       "      <td>Irregular</td>\n",
       "      <td>NaN</td>\n",
       "      <td>Low</td>\n",
       "      <td>0</td>\n",
       "    </tr>\n",
       "    <tr>\n",
       "      <th>159</th>\n",
       "      <td>P160</td>\n",
       "      <td>Female</td>\n",
       "      <td>58.0</td>\n",
       "      <td>68</td>\n",
       "      <td>Irregular</td>\n",
       "      <td>NaN</td>\n",
       "      <td>Low</td>\n",
       "      <td>1</td>\n",
       "    </tr>\n",
       "    <tr>\n",
       "      <th>187</th>\n",
       "      <td>P188</td>\n",
       "      <td>Female</td>\n",
       "      <td>67.0</td>\n",
       "      <td>48</td>\n",
       "      <td>Round</td>\n",
       "      <td>NaN</td>\n",
       "      <td>Low</td>\n",
       "      <td>0</td>\n",
       "    </tr>\n",
       "    <tr>\n",
       "      <th>227</th>\n",
       "      <td>P228</td>\n",
       "      <td>Female</td>\n",
       "      <td>55.0</td>\n",
       "      <td>59</td>\n",
       "      <td>Round</td>\n",
       "      <td>NaN</td>\n",
       "      <td>High</td>\n",
       "      <td>0</td>\n",
       "    </tr>\n",
       "    <tr>\n",
       "      <th>278</th>\n",
       "      <td>P279</td>\n",
       "      <td>Female</td>\n",
       "      <td>79.0</td>\n",
       "      <td>63</td>\n",
       "      <td>Round</td>\n",
       "      <td>NaN</td>\n",
       "      <td>Low</td>\n",
       "      <td>1</td>\n",
       "    </tr>\n",
       "    <tr>\n",
       "      <th>298</th>\n",
       "      <td>P299</td>\n",
       "      <td>Female</td>\n",
       "      <td>71.0</td>\n",
       "      <td>65</td>\n",
       "      <td>Round</td>\n",
       "      <td>NaN</td>\n",
       "      <td>Low</td>\n",
       "      <td>0</td>\n",
       "    </tr>\n",
       "    <tr>\n",
       "      <th>305</th>\n",
       "      <td>P306</td>\n",
       "      <td>Female</td>\n",
       "      <td>54.0</td>\n",
       "      <td>78</td>\n",
       "      <td>Round</td>\n",
       "      <td>NaN</td>\n",
       "      <td>NaN</td>\n",
       "      <td>0</td>\n",
       "    </tr>\n",
       "    <tr>\n",
       "      <th>315</th>\n",
       "      <td>P316</td>\n",
       "      <td>Female</td>\n",
       "      <td>71.0</td>\n",
       "      <td>70</td>\n",
       "      <td>Oval</td>\n",
       "      <td>NaN</td>\n",
       "      <td>Low</td>\n",
       "      <td>1</td>\n",
       "    </tr>\n",
       "    <tr>\n",
       "      <th>359</th>\n",
       "      <td>P360</td>\n",
       "      <td>Female</td>\n",
       "      <td>46.0</td>\n",
       "      <td>65</td>\n",
       "      <td>Lobular</td>\n",
       "      <td>NaN</td>\n",
       "      <td>Low</td>\n",
       "      <td>0</td>\n",
       "    </tr>\n",
       "    <tr>\n",
       "      <th>371</th>\n",
       "      <td>P372</td>\n",
       "      <td>Female</td>\n",
       "      <td>46.0</td>\n",
       "      <td>70</td>\n",
       "      <td>Round</td>\n",
       "      <td>NaN</td>\n",
       "      <td>NaN</td>\n",
       "      <td>0</td>\n",
       "    </tr>\n",
       "    <tr>\n",
       "      <th>372</th>\n",
       "      <td>P373</td>\n",
       "      <td>Female</td>\n",
       "      <td>43.0</td>\n",
       "      <td>54</td>\n",
       "      <td>Round</td>\n",
       "      <td>NaN</td>\n",
       "      <td>NaN</td>\n",
       "      <td>0</td>\n",
       "    </tr>\n",
       "    <tr>\n",
       "      <th>387</th>\n",
       "      <td>P388</td>\n",
       "      <td>Female</td>\n",
       "      <td>64.0</td>\n",
       "      <td>63</td>\n",
       "      <td>Irregular</td>\n",
       "      <td>NaN</td>\n",
       "      <td>Low</td>\n",
       "      <td>0</td>\n",
       "    </tr>\n",
       "    <tr>\n",
       "      <th>394</th>\n",
       "      <td>P395</td>\n",
       "      <td>Female</td>\n",
       "      <td>34.0</td>\n",
       "      <td>53</td>\n",
       "      <td>Irregular</td>\n",
       "      <td>NaN</td>\n",
       "      <td>Fat-containing</td>\n",
       "      <td>0</td>\n",
       "    </tr>\n",
       "    <tr>\n",
       "      <th>452</th>\n",
       "      <td>P453</td>\n",
       "      <td>Female</td>\n",
       "      <td>57.0</td>\n",
       "      <td>69</td>\n",
       "      <td>Lobular</td>\n",
       "      <td>NaN</td>\n",
       "      <td>Low</td>\n",
       "      <td>0</td>\n",
       "    </tr>\n",
       "    <tr>\n",
       "      <th>459</th>\n",
       "      <td>P460</td>\n",
       "      <td>Female</td>\n",
       "      <td>40.0</td>\n",
       "      <td>60</td>\n",
       "      <td>Oval</td>\n",
       "      <td>NaN</td>\n",
       "      <td>Low</td>\n",
       "      <td>0</td>\n",
       "    </tr>\n",
       "    <tr>\n",
       "      <th>476</th>\n",
       "      <td>P477</td>\n",
       "      <td>Female</td>\n",
       "      <td>41.0</td>\n",
       "      <td>48</td>\n",
       "      <td>Irregular</td>\n",
       "      <td>NaN</td>\n",
       "      <td>Low</td>\n",
       "      <td>0</td>\n",
       "    </tr>\n",
       "    <tr>\n",
       "      <th>519</th>\n",
       "      <td>P520</td>\n",
       "      <td>Female</td>\n",
       "      <td>68.0</td>\n",
       "      <td>71</td>\n",
       "      <td>Irregular</td>\n",
       "      <td>NaN</td>\n",
       "      <td>Low</td>\n",
       "      <td>0</td>\n",
       "    </tr>\n",
       "    <tr>\n",
       "      <th>520</th>\n",
       "      <td>P521</td>\n",
       "      <td>Female</td>\n",
       "      <td>62.0</td>\n",
       "      <td>60</td>\n",
       "      <td>Irregular</td>\n",
       "      <td>NaN</td>\n",
       "      <td>Low</td>\n",
       "      <td>1</td>\n",
       "    </tr>\n",
       "    <tr>\n",
       "      <th>521</th>\n",
       "      <td>P522</td>\n",
       "      <td>Female</td>\n",
       "      <td>65.0</td>\n",
       "      <td>60</td>\n",
       "      <td>Round</td>\n",
       "      <td>NaN</td>\n",
       "      <td>Low</td>\n",
       "      <td>1</td>\n",
       "    </tr>\n",
       "    <tr>\n",
       "      <th>531</th>\n",
       "      <td>P532</td>\n",
       "      <td>Female</td>\n",
       "      <td>55.0</td>\n",
       "      <td>58</td>\n",
       "      <td>Irregular</td>\n",
       "      <td>NaN</td>\n",
       "      <td>Low</td>\n",
       "      <td>0</td>\n",
       "    </tr>\n",
       "    <tr>\n",
       "      <th>541</th>\n",
       "      <td>P542</td>\n",
       "      <td>Female</td>\n",
       "      <td>49.0</td>\n",
       "      <td>47</td>\n",
       "      <td>Oval</td>\n",
       "      <td>NaN</td>\n",
       "      <td>Low</td>\n",
       "      <td>0</td>\n",
       "    </tr>\n",
       "    <tr>\n",
       "      <th>574</th>\n",
       "      <td>P575</td>\n",
       "      <td>Female</td>\n",
       "      <td>60.0</td>\n",
       "      <td>73</td>\n",
       "      <td>Lobular</td>\n",
       "      <td>NaN</td>\n",
       "      <td>NaN</td>\n",
       "      <td>0</td>\n",
       "    </tr>\n",
       "    <tr>\n",
       "      <th>662</th>\n",
       "      <td>P663</td>\n",
       "      <td>Female</td>\n",
       "      <td>50.0</td>\n",
       "      <td>58</td>\n",
       "      <td>Irregular</td>\n",
       "      <td>NaN</td>\n",
       "      <td>Low</td>\n",
       "      <td>1</td>\n",
       "    </tr>\n",
       "    <tr>\n",
       "      <th>691</th>\n",
       "      <td>P692</td>\n",
       "      <td>Female</td>\n",
       "      <td>72.0</td>\n",
       "      <td>54</td>\n",
       "      <td>Lobular</td>\n",
       "      <td>NaN</td>\n",
       "      <td>Low</td>\n",
       "      <td>0</td>\n",
       "    </tr>\n",
       "    <tr>\n",
       "      <th>723</th>\n",
       "      <td>P724</td>\n",
       "      <td>Female</td>\n",
       "      <td>60.0</td>\n",
       "      <td>55</td>\n",
       "      <td>Lobular</td>\n",
       "      <td>NaN</td>\n",
       "      <td>Fat-containing</td>\n",
       "      <td>0</td>\n",
       "    </tr>\n",
       "    <tr>\n",
       "      <th>745</th>\n",
       "      <td>P746</td>\n",
       "      <td>Female</td>\n",
       "      <td>76.0</td>\n",
       "      <td>51</td>\n",
       "      <td>Lobular</td>\n",
       "      <td>NaN</td>\n",
       "      <td>Low</td>\n",
       "      <td>0</td>\n",
       "    </tr>\n",
       "    <tr>\n",
       "      <th>819</th>\n",
       "      <td>P820</td>\n",
       "      <td>Female</td>\n",
       "      <td>35.0</td>\n",
       "      <td>49</td>\n",
       "      <td>Lobular</td>\n",
       "      <td>NaN</td>\n",
       "      <td>Iso</td>\n",
       "      <td>0</td>\n",
       "    </tr>\n",
       "  </tbody>\n",
       "</table>\n",
       "</div>"
      ],
      "text/plain": [
       "    PatientID     Sex   Age  Weight      Shape Margin         Density  Target\n",
       "5          P6  Female  65.0      72      Round    NaN             Low       0\n",
       "6          P7  Female  70.0      62  Irregular    NaN             Low       0\n",
       "7          P8  Female  42.0      51      Round    NaN             Low       0\n",
       "12        P13  Female  64.0      67      Round    NaN             Low       0\n",
       "19        P20  Female  40.0      67      Round    NaN             NaN       0\n",
       "20        P21  Female  66.0      68  Irregular    NaN            High       1\n",
       "22        P23  Female  43.0      54      Round    NaN             NaN       0\n",
       "27        P28  Female  63.0      47    Lobular    NaN             Low       0\n",
       "35        P36  Female  77.0      49    Lobular    NaN             NaN       0\n",
       "48        P49  Female  42.0      60  Irregular    NaN  Fat-containing       0\n",
       "59        P60  Female  59.0      57       Oval    NaN             NaN       1\n",
       "84        P85  Female  51.0      79  Irregular    NaN             NaN       1\n",
       "85        P86  Female  33.0      59      Round    NaN             NaN       0\n",
       "87        P88  Female  36.0      65      Round    NaN             NaN       0\n",
       "94        P95  Female  60.0      48      Round    NaN             Low       0\n",
       "100      P101  Female  59.0      53       Oval    NaN             NaN       0\n",
       "101      P102  Female  65.0      78       Oval    NaN             NaN       0\n",
       "103      P104  Female  29.0      68       Oval    NaN             NaN       0\n",
       "133      P134  Female  60.0      48       Oval    NaN             NaN       0\n",
       "147      P148  Female  63.0      49  Irregular    NaN             Low       1\n",
       "156      P157  Female  55.0      48       Oval    NaN             NaN       1\n",
       "157      P158  Female  51.0      57  Irregular    NaN             Low       0\n",
       "159      P160  Female  58.0      68  Irregular    NaN             Low       1\n",
       "187      P188  Female  67.0      48      Round    NaN             Low       0\n",
       "227      P228  Female  55.0      59      Round    NaN            High       0\n",
       "278      P279  Female  79.0      63      Round    NaN             Low       1\n",
       "298      P299  Female  71.0      65      Round    NaN             Low       0\n",
       "305      P306  Female  54.0      78      Round    NaN             NaN       0\n",
       "315      P316  Female  71.0      70       Oval    NaN             Low       1\n",
       "359      P360  Female  46.0      65    Lobular    NaN             Low       0\n",
       "371      P372  Female  46.0      70      Round    NaN             NaN       0\n",
       "372      P373  Female  43.0      54      Round    NaN             NaN       0\n",
       "387      P388  Female  64.0      63  Irregular    NaN             Low       0\n",
       "394      P395  Female  34.0      53  Irregular    NaN  Fat-containing       0\n",
       "452      P453  Female  57.0      69    Lobular    NaN             Low       0\n",
       "459      P460  Female  40.0      60       Oval    NaN             Low       0\n",
       "476      P477  Female  41.0      48  Irregular    NaN             Low       0\n",
       "519      P520  Female  68.0      71  Irregular    NaN             Low       0\n",
       "520      P521  Female  62.0      60  Irregular    NaN             Low       1\n",
       "521      P522  Female  65.0      60      Round    NaN             Low       1\n",
       "531      P532  Female  55.0      58  Irregular    NaN             Low       0\n",
       "541      P542  Female  49.0      47       Oval    NaN             Low       0\n",
       "574      P575  Female  60.0      73    Lobular    NaN             NaN       0\n",
       "662      P663  Female  50.0      58  Irregular    NaN             Low       1\n",
       "691      P692  Female  72.0      54    Lobular    NaN             Low       0\n",
       "723      P724  Female  60.0      55    Lobular    NaN  Fat-containing       0\n",
       "745      P746  Female  76.0      51    Lobular    NaN             Low       0\n",
       "819      P820  Female  35.0      49    Lobular    NaN             Iso       0"
      ]
     },
     "execution_count": 33,
     "metadata": {},
     "output_type": "execute_result"
    }
   ],
   "source": [
    "# kiểm tra thuộc tính margin \n",
    "df_practice.loc[df_practice['Margin'].isnull()]"
   ]
  },
  {
   "cell_type": "code",
   "execution_count": 34,
   "metadata": {},
   "outputs": [
    {
     "name": "stdout",
     "output_type": "stream",
     "text": [
      "Circumscribed     357\n",
      "ill-defined       280\n",
      "Spiculated        135\n",
      "Obscured          116\n",
      "Microlobulated     24\n",
      "SPICULATED          1\n",
      "Name: Margin, dtype: int64\n"
     ]
    }
   ],
   "source": [
    "kq_margin = df_practice['Margin'].value_counts()\n",
    "print(kq_margin)"
   ]
  },
  {
   "cell_type": "code",
   "execution_count": 35,
   "metadata": {},
   "outputs": [],
   "source": [
    "df_practice['Margin'] = df_practice['Margin'].replace('SPICULATED', 'Spiculated')"
   ]
  },
  {
   "cell_type": "code",
   "execution_count": 36,
   "metadata": {},
   "outputs": [],
   "source": [
    "# # Trực quan hóa kết quả:\n",
    "# import matplotlib.pyplot as plt\n",
    "# plt.figure(figsize=(5, 10))\n",
    "# # plt.subplot(1,2,1)\n",
    "# plt.bar(['Circumscribed','ill-defined', 'Spiculated', 'Obscured', 'Microlobulated'],kq_margin.values)\n",
    "# plt.grid(ls='--')\n",
    "# plt.title('Biểu đồ mô tả dữ liệu thuộc tính Margin của tập data practice')\n",
    "\n",
    "\n",
    "# # plt.subplot(1,2,2)\n",
    "# # plt.pie(kq_margin.values, labels=['Circumscribed','ill-defined', 'Spiculated', 'Obscured', 'Microlobulated'],\n",
    "# #        autopct='%.2f%%')\n",
    "# plt.show()"
   ]
  },
  {
   "cell_type": "code",
   "execution_count": 37,
   "metadata": {},
   "outputs": [],
   "source": [
    "# plt.pie(kq_margin.values, labels=['Circumscribed','ill-defined', 'Spiculated', 'Obscured', 'Microlobulated'],\n",
    "#        autopct='%.2f%%')\n",
    "# plt.show()\n"
   ]
  },
  {
   "cell_type": "code",
   "execution_count": 38,
   "metadata": {},
   "outputs": [],
   "source": [
    "# thay thế các bản ghi bị lỗi bằng cách thay thế giá trị null bằng giá trị có tần suất xuất hiện nhiều nhất \n",
    "# --> giá trị: Irregular\n",
    "df_practice['Margin'].fillna(df_practice['Margin'].mode()[0], inplace=True)"
   ]
  },
  {
   "cell_type": "markdown",
   "metadata": {},
   "source": [
    "### Kiểm tra thuộc tính Density \n",
    "\n",
    "Thuộc tính cho biết mật độ của khối u, bao gồm 4 giá trị: High, Iso, Low, Fat-containing"
   ]
  },
  {
   "cell_type": "code",
   "execution_count": 39,
   "metadata": {},
   "outputs": [
    {
     "data": {
      "text/html": [
       "<div>\n",
       "<style scoped>\n",
       "    .dataframe tbody tr th:only-of-type {\n",
       "        vertical-align: middle;\n",
       "    }\n",
       "\n",
       "    .dataframe tbody tr th {\n",
       "        vertical-align: top;\n",
       "    }\n",
       "\n",
       "    .dataframe thead th {\n",
       "        text-align: right;\n",
       "    }\n",
       "</style>\n",
       "<table border=\"1\" class=\"dataframe\">\n",
       "  <thead>\n",
       "    <tr style=\"text-align: right;\">\n",
       "      <th></th>\n",
       "      <th>PatientID</th>\n",
       "      <th>Sex</th>\n",
       "      <th>Age</th>\n",
       "      <th>Weight</th>\n",
       "      <th>Shape</th>\n",
       "      <th>Margin</th>\n",
       "      <th>Density</th>\n",
       "      <th>Target</th>\n",
       "    </tr>\n",
       "  </thead>\n",
       "  <tbody>\n",
       "    <tr>\n",
       "      <th>1</th>\n",
       "      <td>P2</td>\n",
       "      <td>Female</td>\n",
       "      <td>43.0</td>\n",
       "      <td>66</td>\n",
       "      <td>Round</td>\n",
       "      <td>Circumscribed</td>\n",
       "      <td>NaN</td>\n",
       "      <td>1</td>\n",
       "    </tr>\n",
       "    <tr>\n",
       "      <th>4</th>\n",
       "      <td>P5</td>\n",
       "      <td>Female</td>\n",
       "      <td>74.0</td>\n",
       "      <td>46</td>\n",
       "      <td>Round</td>\n",
       "      <td>Spiculated</td>\n",
       "      <td>NaN</td>\n",
       "      <td>1</td>\n",
       "    </tr>\n",
       "    <tr>\n",
       "      <th>19</th>\n",
       "      <td>P20</td>\n",
       "      <td>Female</td>\n",
       "      <td>40.0</td>\n",
       "      <td>67</td>\n",
       "      <td>Round</td>\n",
       "      <td>Circumscribed</td>\n",
       "      <td>NaN</td>\n",
       "      <td>0</td>\n",
       "    </tr>\n",
       "    <tr>\n",
       "      <th>22</th>\n",
       "      <td>P23</td>\n",
       "      <td>Female</td>\n",
       "      <td>43.0</td>\n",
       "      <td>54</td>\n",
       "      <td>Round</td>\n",
       "      <td>Circumscribed</td>\n",
       "      <td>NaN</td>\n",
       "      <td>0</td>\n",
       "    </tr>\n",
       "    <tr>\n",
       "      <th>26</th>\n",
       "      <td>P27</td>\n",
       "      <td>Female</td>\n",
       "      <td>66.0</td>\n",
       "      <td>80</td>\n",
       "      <td>Round</td>\n",
       "      <td>Circumscribed</td>\n",
       "      <td>NaN</td>\n",
       "      <td>0</td>\n",
       "    </tr>\n",
       "    <tr>\n",
       "      <th>...</th>\n",
       "      <td>...</td>\n",
       "      <td>...</td>\n",
       "      <td>...</td>\n",
       "      <td>...</td>\n",
       "      <td>...</td>\n",
       "      <td>...</td>\n",
       "      <td>...</td>\n",
       "      <td>...</td>\n",
       "    </tr>\n",
       "    <tr>\n",
       "      <th>614</th>\n",
       "      <td>P615</td>\n",
       "      <td>Female</td>\n",
       "      <td>46.0</td>\n",
       "      <td>56</td>\n",
       "      <td>Irregular</td>\n",
       "      <td>Spiculated</td>\n",
       "      <td>NaN</td>\n",
       "      <td>1</td>\n",
       "    </tr>\n",
       "    <tr>\n",
       "      <th>627</th>\n",
       "      <td>P628</td>\n",
       "      <td>Female</td>\n",
       "      <td>57.0</td>\n",
       "      <td>49</td>\n",
       "      <td>Oval</td>\n",
       "      <td>Circumscribed</td>\n",
       "      <td>NaN</td>\n",
       "      <td>0</td>\n",
       "    </tr>\n",
       "    <tr>\n",
       "      <th>665</th>\n",
       "      <td>P666</td>\n",
       "      <td>Female</td>\n",
       "      <td>27.0</td>\n",
       "      <td>54</td>\n",
       "      <td>Oval</td>\n",
       "      <td>Circumscribed</td>\n",
       "      <td>NaN</td>\n",
       "      <td>0</td>\n",
       "    </tr>\n",
       "    <tr>\n",
       "      <th>677</th>\n",
       "      <td>P678</td>\n",
       "      <td>Female</td>\n",
       "      <td>57.0</td>\n",
       "      <td>58</td>\n",
       "      <td>Irregular</td>\n",
       "      <td>ill-defined</td>\n",
       "      <td>NaN</td>\n",
       "      <td>1</td>\n",
       "    </tr>\n",
       "    <tr>\n",
       "      <th>752</th>\n",
       "      <td>P753</td>\n",
       "      <td>Female</td>\n",
       "      <td>48.0</td>\n",
       "      <td>52</td>\n",
       "      <td>Irregular</td>\n",
       "      <td>ill-defined</td>\n",
       "      <td>NaN</td>\n",
       "      <td>1</td>\n",
       "    </tr>\n",
       "  </tbody>\n",
       "</table>\n",
       "<p>76 rows × 8 columns</p>\n",
       "</div>"
      ],
      "text/plain": [
       "    PatientID     Sex   Age  Weight      Shape         Margin Density  Target\n",
       "1          P2  Female  43.0      66      Round  Circumscribed     NaN       1\n",
       "4          P5  Female  74.0      46      Round     Spiculated     NaN       1\n",
       "19        P20  Female  40.0      67      Round  Circumscribed     NaN       0\n",
       "22        P23  Female  43.0      54      Round  Circumscribed     NaN       0\n",
       "26        P27  Female  66.0      80      Round  Circumscribed     NaN       0\n",
       "..        ...     ...   ...     ...        ...            ...     ...     ...\n",
       "614      P615  Female  46.0      56  Irregular     Spiculated     NaN       1\n",
       "627      P628  Female  57.0      49       Oval  Circumscribed     NaN       0\n",
       "665      P666  Female  27.0      54       Oval  Circumscribed     NaN       0\n",
       "677      P678  Female  57.0      58  Irregular    ill-defined     NaN       1\n",
       "752      P753  Female  48.0      52  Irregular    ill-defined     NaN       1\n",
       "\n",
       "[76 rows x 8 columns]"
      ]
     },
     "execution_count": 39,
     "metadata": {},
     "output_type": "execute_result"
    }
   ],
   "source": [
    "# KIỂM TRA THUỘC TÍNH DENSITY\n",
    "# Hiển thị các bản ghi của thuộc tính Shape bị null\n",
    "df_practice.loc[df_practice['Density'].isnull()]"
   ]
  },
  {
   "cell_type": "code",
   "execution_count": 40,
   "metadata": {},
   "outputs": [
    {
     "data": {
      "text/plain": [
       "Low               797\n",
       "Iso                59\n",
       "High               16\n",
       "Fat-containing     12\n",
       "LOW                 1\n",
       "Name: Density, dtype: int64"
      ]
     },
     "execution_count": 40,
     "metadata": {},
     "output_type": "execute_result"
    }
   ],
   "source": [
    "# Kiểm tra các thuộc tính của Density\n",
    "df_practice['Density'].value_counts()"
   ]
  },
  {
   "cell_type": "markdown",
   "metadata": {},
   "source": [
    "Ta nhận thấy có một thuộc tính LOW có số lượng là 01 cần phải thay đổi\n",
    "-> đổi LOW thành low"
   ]
  },
  {
   "cell_type": "code",
   "execution_count": 41,
   "metadata": {},
   "outputs": [
    {
     "data": {
      "text/html": [
       "<div>\n",
       "<style scoped>\n",
       "    .dataframe tbody tr th:only-of-type {\n",
       "        vertical-align: middle;\n",
       "    }\n",
       "\n",
       "    .dataframe tbody tr th {\n",
       "        vertical-align: top;\n",
       "    }\n",
       "\n",
       "    .dataframe thead th {\n",
       "        text-align: right;\n",
       "    }\n",
       "</style>\n",
       "<table border=\"1\" class=\"dataframe\">\n",
       "  <thead>\n",
       "    <tr style=\"text-align: right;\">\n",
       "      <th></th>\n",
       "      <th>PatientID</th>\n",
       "      <th>Sex</th>\n",
       "      <th>Age</th>\n",
       "      <th>Weight</th>\n",
       "      <th>Shape</th>\n",
       "      <th>Margin</th>\n",
       "      <th>Density</th>\n",
       "      <th>Target</th>\n",
       "    </tr>\n",
       "  </thead>\n",
       "  <tbody>\n",
       "    <tr>\n",
       "      <th>178</th>\n",
       "      <td>P179</td>\n",
       "      <td>FEMALE</td>\n",
       "      <td>71.0</td>\n",
       "      <td>68</td>\n",
       "      <td>Irregular</td>\n",
       "      <td>Spiculated</td>\n",
       "      <td>LOW</td>\n",
       "      <td>0</td>\n",
       "    </tr>\n",
       "  </tbody>\n",
       "</table>\n",
       "</div>"
      ],
      "text/plain": [
       "    PatientID     Sex   Age  Weight      Shape      Margin Density  Target\n",
       "178      P179  FEMALE  71.0      68  Irregular  Spiculated     LOW       0"
      ]
     },
     "execution_count": 41,
     "metadata": {},
     "output_type": "execute_result"
    }
   ],
   "source": [
    "# lọc các thành phần của Density là 'LOW'\n",
    "df_practice.loc[df_practice['Density'] == 'LOW'] "
   ]
  },
  {
   "cell_type": "code",
   "execution_count": 42,
   "metadata": {},
   "outputs": [],
   "source": [
    "# Đổi LOW thành low\n",
    "df_practice['Density'] = df_practice['Density'].replace('LOW', 'Low')"
   ]
  },
  {
   "cell_type": "code",
   "execution_count": 43,
   "metadata": {},
   "outputs": [
    {
     "name": "stdout",
     "output_type": "stream",
     "text": [
      "Low               798\n",
      "Iso                59\n",
      "High               16\n",
      "Fat-containing     12\n",
      "Name: Density, dtype: int64\n"
     ]
    }
   ],
   "source": [
    "# Kiểm tra lại\n",
    "kq_density = df_practice['Density'].value_counts()\n",
    "print(kq_density)"
   ]
  },
  {
   "cell_type": "code",
   "execution_count": 44,
   "metadata": {},
   "outputs": [
    {
     "data": {
      "image/png": "[encoded data removed]",
      "text/plain": [
       "<Figure size 2000x1000 with 1 Axes>"
      ]
     },
     "metadata": {},
     "output_type": "display_data"
    }
   ],
   "source": [
    "# Trực quan hóa kết quả:\n",
    "import matplotlib.pyplot as plt\n",
    "plt.figure(figsize=(20,10))\n",
    "plt.bar(['Low','Iso', 'High', 'Fat-containing'],kq_density.values)\n",
    "plt.grid(ls='--')\n",
    "plt.show()"
   ]
  },
  {
   "cell_type": "code",
   "execution_count": 45,
   "metadata": {},
   "outputs": [
    {
     "data": {
      "text/plain": [
       "76"
      ]
     },
     "execution_count": 45,
     "metadata": {},
     "output_type": "execute_result"
    }
   ],
   "source": [
    "# Kiểm tra các số lượng giá trị null của Density\n",
    "df_practice['Density'].isnull().sum()"
   ]
  },
  {
   "cell_type": "code",
   "execution_count": 46,
   "metadata": {},
   "outputs": [],
   "source": [
    "# Thay thế các giá trị null bằng giá trị có tần suất xuất hiện nhiều nhất\n",
    "df_practice['Density'].fillna(df_practice['Density'].mode()[0], inplace=True)"
   ]
  },
  {
   "cell_type": "code",
   "execution_count": 47,
   "metadata": {},
   "outputs": [
    {
     "data": {
      "text/plain": [
       "PatientID    0\n",
       "Sex          0\n",
       "Age          0\n",
       "Weight       0\n",
       "Shape        0\n",
       "Margin       0\n",
       "Density      0\n",
       "Target       0\n",
       "dtype: int64"
      ]
     },
     "execution_count": 47,
     "metadata": {},
     "output_type": "execute_result"
    }
   ],
   "source": [
    "# kiểm tra lại xem còn giá trị null không \n",
    "df_practice.isnull().sum()"
   ]
  },
  {
   "cell_type": "markdown",
   "metadata": {},
   "source": [
    "**Yêu cầu 3:** \n",
    "\n",
    "- Phân tích, thống kê - xác định mức độ ảnh hưởng của các thuộc tính độc lập [Age, Shape, Margin, Density] tới thuộc tính phụ thuộc [Target]\n",
    "- Xác định thuộc tính quan trọng, không quan trọng ảnh hưởng việc u lành tính hay ác tính của bệnh nhân"
   ]
  },
  {
   "cell_type": "code",
   "execution_count": 48,
   "metadata": {},
   "outputs": [],
   "source": [
    "#{HỌC VIÊN VIẾT CODE VÀO ĐÂY!}\n",
    "\n",
    "\n",
    "\n",
    "\n",
    "\n",
    "\n"
   ]
  },
  {
   "cell_type": "markdown",
   "metadata": {},
   "source": [
    "### 1. Phân tích mức độ ảnh hưởng của thuộc tính độc lập đến thuộc tính Target\n",
    "------\n",
    "#### a. Thuộc tính Age"
   ]
  },
  {
   "cell_type": "code",
   "execution_count": 49,
   "metadata": {},
   "outputs": [
    {
     "data": {
      "image/png": "[encoded data removed]",
      "text/plain": [
       "<Figure size 640x480 with 1 Axes>"
      ]
     },
     "metadata": {},
     "output_type": "display_data"
    }
   ],
   "source": [
    "plt.hist(df_practice.Age,bins=20)\n",
    "plt.grid(True)\n",
    "plt.show()"
   ]
  },
  {
   "cell_type": "code",
   "execution_count": 50,
   "metadata": {},
   "outputs": [
    {
     "data": {
      "image/png": "[encoded data removed]",
      "text/plain": [
       "<Figure size 600x300 with 2 Axes>"
      ]
     },
     "metadata": {},
     "output_type": "display_data"
    }
   ],
   "source": [
    "#Thống kê liệu tuổi bệnh nhân bị mắc bệnh theo độ tuổi\n",
    "import seaborn as sns\n",
    "%matplotlib inline\n",
    "g = sns.FacetGrid(df_practice, col='Target')\n",
    "g.map(plt.hist, 'Age', bins=40)\n",
    "plt.show()"
   ]
  },
  {
   "cell_type": "markdown",
   "metadata": {},
   "source": [
    "Quan sát biểu đồ dữ liệu tuổi ảnh hưởng đến kết quả của các bênh nhân ta thấy\n",
    "- Phần lớn các bệnh nhân bị mắc bệnh nằm trong khoảng độ tuổi từ 40 - 80 tuổi, và nhiều nhất là từ 50 -70 tuổi\n",
    "- ĐỘ tuổi từ 0 - 40 tuổi có tỷ lệ mắc bệnh thấp hơn \n",
    "------\n",
    "\n",
    "***NHẬN XÉT***\n",
    "*  Thuộc tính Age ảnh hưởng tới khả năng mắc bệnh của bệnh nhân --> đưa vào mô hình huấn luyện\n",
    "*  Xử lý một số dữ liệu missing của thuộc tính age\n",
    "*  Nhóm các độ tuổi theo từng group"
   ]
  },
  {
   "cell_type": "code",
   "execution_count": 51,
   "metadata": {},
   "outputs": [
    {
     "data": {
      "text/html": [
       "<div>\n",
       "<style scoped>\n",
       "    .dataframe tbody tr th:only-of-type {\n",
       "        vertical-align: middle;\n",
       "    }\n",
       "\n",
       "    .dataframe tbody tr th {\n",
       "        vertical-align: top;\n",
       "    }\n",
       "\n",
       "    .dataframe thead th {\n",
       "        text-align: right;\n",
       "    }\n",
       "</style>\n",
       "<table border=\"1\" class=\"dataframe\">\n",
       "  <thead>\n",
       "    <tr style=\"text-align: right;\">\n",
       "      <th></th>\n",
       "      <th>Age</th>\n",
       "      <th>Target</th>\n",
       "    </tr>\n",
       "  </thead>\n",
       "  <tbody>\n",
       "    <tr>\n",
       "      <th>72</th>\n",
       "      <td>96.0</td>\n",
       "      <td>1.0</td>\n",
       "    </tr>\n",
       "    <tr>\n",
       "      <th>67</th>\n",
       "      <td>85.0</td>\n",
       "      <td>1.0</td>\n",
       "    </tr>\n",
       "    <tr>\n",
       "      <th>62</th>\n",
       "      <td>80.0</td>\n",
       "      <td>1.0</td>\n",
       "    </tr>\n",
       "    <tr>\n",
       "      <th>64</th>\n",
       "      <td>82.0</td>\n",
       "      <td>1.0</td>\n",
       "    </tr>\n",
       "    <tr>\n",
       "      <th>65</th>\n",
       "      <td>83.0</td>\n",
       "      <td>1.0</td>\n",
       "    </tr>\n",
       "    <tr>\n",
       "      <th>...</th>\n",
       "      <td>...</td>\n",
       "      <td>...</td>\n",
       "    </tr>\n",
       "    <tr>\n",
       "      <th>5</th>\n",
       "      <td>23.0</td>\n",
       "      <td>0.0</td>\n",
       "    </tr>\n",
       "    <tr>\n",
       "      <th>4</th>\n",
       "      <td>22.0</td>\n",
       "      <td>0.0</td>\n",
       "    </tr>\n",
       "    <tr>\n",
       "      <th>3</th>\n",
       "      <td>21.0</td>\n",
       "      <td>0.0</td>\n",
       "    </tr>\n",
       "    <tr>\n",
       "      <th>2</th>\n",
       "      <td>20.0</td>\n",
       "      <td>0.0</td>\n",
       "    </tr>\n",
       "    <tr>\n",
       "      <th>0</th>\n",
       "      <td>18.0</td>\n",
       "      <td>0.0</td>\n",
       "    </tr>\n",
       "  </tbody>\n",
       "</table>\n",
       "<p>73 rows × 2 columns</p>\n",
       "</div>"
      ],
      "text/plain": [
       "     Age  Target\n",
       "72  96.0     1.0\n",
       "67  85.0     1.0\n",
       "62  80.0     1.0\n",
       "64  82.0     1.0\n",
       "65  83.0     1.0\n",
       "..   ...     ...\n",
       "5   23.0     0.0\n",
       "4   22.0     0.0\n",
       "3   21.0     0.0\n",
       "2   20.0     0.0\n",
       "0   18.0     0.0\n",
       "\n",
       "[73 rows x 2 columns]"
      ]
     },
     "execution_count": 51,
     "metadata": {},
     "output_type": "execute_result"
    }
   ],
   "source": [
    "# Đặc tính độ tuổi - Age\n",
    "df_practice[['Age', 'Target']].groupby(['Age'], as_index=False).mean().sort_values(by='Target', ascending=False)"
   ]
  },
  {
   "cell_type": "markdown",
   "metadata": {},
   "source": [
    "#### b.  Thuộc tính Shape\n",
    "Shape: Thuộc tính cho biết hình dạng của khối u, bao gồm 4 giá trị: Round, Oval, Lobular, Irregular"
   ]
  },
  {
   "cell_type": "code",
   "execution_count": 52,
   "metadata": {},
   "outputs": [
    {
     "data": {
      "image/png": "[encoded data removed]",
      "text/plain": [
       "<Figure size 640x480 with 1 Axes>"
      ]
     },
     "metadata": {},
     "output_type": "display_data"
    }
   ],
   "source": [
    "plt.hist(df_practice.Shape)\n",
    "plt.grid(True)\n",
    "plt.show()"
   ]
  },
  {
   "cell_type": "code",
   "execution_count": 53,
   "metadata": {},
   "outputs": [
    {
     "data": {
      "image/png": "[encoded data removed]",
      "text/plain": [
       "<Figure size 600x300 with 2 Axes>"
      ]
     },
     "metadata": {},
     "output_type": "display_data"
    }
   ],
   "source": [
    "#Thống kê liệu hình dáng khối u\n",
    "import seaborn as sns\n",
    "%matplotlib inline\n",
    "g = sns.FacetGrid(df_practice, col='Target')\n",
    "g.map(plt.hist, 'Shape')\n",
    "plt.show()"
   ]
  },
  {
   "cell_type": "code",
   "execution_count": 54,
   "metadata": {},
   "outputs": [
    {
     "data": {
      "text/html": [
       "<div>\n",
       "<style scoped>\n",
       "    .dataframe tbody tr th:only-of-type {\n",
       "        vertical-align: middle;\n",
       "    }\n",
       "\n",
       "    .dataframe tbody tr th {\n",
       "        vertical-align: top;\n",
       "    }\n",
       "\n",
       "    .dataframe thead th {\n",
       "        text-align: right;\n",
       "    }\n",
       "</style>\n",
       "<table border=\"1\" class=\"dataframe\">\n",
       "  <thead>\n",
       "    <tr style=\"text-align: right;\">\n",
       "      <th></th>\n",
       "      <th>Shape</th>\n",
       "      <th>Target</th>\n",
       "    </tr>\n",
       "  </thead>\n",
       "  <tbody>\n",
       "    <tr>\n",
       "      <th>0</th>\n",
       "      <td>Irregular</td>\n",
       "      <td>0.758701</td>\n",
       "    </tr>\n",
       "    <tr>\n",
       "      <th>1</th>\n",
       "      <td>Lobular</td>\n",
       "      <td>0.473684</td>\n",
       "    </tr>\n",
       "    <tr>\n",
       "      <th>3</th>\n",
       "      <td>Round</td>\n",
       "      <td>0.169643</td>\n",
       "    </tr>\n",
       "    <tr>\n",
       "      <th>2</th>\n",
       "      <td>Oval</td>\n",
       "      <td>0.165877</td>\n",
       "    </tr>\n",
       "  </tbody>\n",
       "</table>\n",
       "</div>"
      ],
      "text/plain": [
       "       Shape    Target\n",
       "0  Irregular  0.758701\n",
       "1    Lobular  0.473684\n",
       "3      Round  0.169643\n",
       "2       Oval  0.165877"
      ]
     },
     "execution_count": 54,
     "metadata": {},
     "output_type": "execute_result"
    }
   ],
   "source": [
    "df_practice[['Shape', 'Target']].groupby(['Shape'], as_index=False).mean().sort_values(by='Target', ascending=False)"
   ]
  },
  {
   "cell_type": "markdown",
   "metadata": {},
   "source": [
    "Quan sát biểu đồ ta nhận thấy:\n",
    "- Với hình dạng khối u có hình Irregular thì tỷ lệ mắc bệnh cao nhất xấp xỉ 75.87%\n",
    "- Đối với hình dạng khối u Oval và Round thì tỷ lệ mắc ung thư là thấp hơn cả \n",
    "- Còn với hình dạng khối u hình Lobular thì tỷ lệ mắc và không mắc là tương đương nhau\n",
    "-----\n",
    "\n",
    "\n",
    "***NHẬN XÉT:***\n",
    "- Đây là thuộc tính quan trọng cần phải đưa vào mô hình để phân tích\n"
   ]
  },
  {
   "cell_type": "markdown",
   "metadata": {},
   "source": [
    "#### c. Margin\n",
    "Margin: Thuộc tính cho biết dạng đường biên của khối u, bao gồm 5 giá trị: Circumscribed, Microlobulated, Obscured, ill-defined, Spiculated\n"
   ]
  },
  {
   "cell_type": "code",
   "execution_count": 55,
   "metadata": {},
   "outputs": [
    {
     "data": {
      "image/png": "[encoded data removed]",
      "text/plain": [
       "<Figure size 640x480 with 1 Axes>"
      ]
     },
     "metadata": {},
     "output_type": "display_data"
    }
   ],
   "source": [
    "plt.hist(df_practice.Margin)\n",
    "plt.grid(True)\n",
    "plt.show()"
   ]
  },
  {
   "cell_type": "code",
   "execution_count": 56,
   "metadata": {},
   "outputs": [
    {
     "data": {
      "image/png": "[encoded data removed]",
      "text/plain": [
       "<Figure size 1800x600 with 2 Axes>"
      ]
     },
     "metadata": {},
     "output_type": "display_data"
    }
   ],
   "source": [
    "g = sns.FacetGrid(df_practice, col='Target', height=6, aspect=1.5)\n",
    "g.map(plt.hist, 'Margin')\n",
    "plt.show()"
   ]
  },
  {
   "cell_type": "code",
   "execution_count": 57,
   "metadata": {},
   "outputs": [
    {
     "data": {
      "text/html": [
       "<div>\n",
       "<style scoped>\n",
       "    .dataframe tbody tr th:only-of-type {\n",
       "        vertical-align: middle;\n",
       "    }\n",
       "\n",
       "    .dataframe tbody tr th {\n",
       "        vertical-align: top;\n",
       "    }\n",
       "\n",
       "    .dataframe thead th {\n",
       "        text-align: right;\n",
       "    }\n",
       "</style>\n",
       "<table border=\"1\" class=\"dataframe\">\n",
       "  <thead>\n",
       "    <tr style=\"text-align: right;\">\n",
       "      <th></th>\n",
       "      <th>Margin</th>\n",
       "      <th>Target</th>\n",
       "    </tr>\n",
       "  </thead>\n",
       "  <tbody>\n",
       "    <tr>\n",
       "      <th>3</th>\n",
       "      <td>Spiculated</td>\n",
       "      <td>0.838235</td>\n",
       "    </tr>\n",
       "    <tr>\n",
       "      <th>4</th>\n",
       "      <td>ill-defined</td>\n",
       "      <td>0.682143</td>\n",
       "    </tr>\n",
       "    <tr>\n",
       "      <th>2</th>\n",
       "      <td>Obscured</td>\n",
       "      <td>0.629310</td>\n",
       "    </tr>\n",
       "    <tr>\n",
       "      <th>1</th>\n",
       "      <td>Microlobulated</td>\n",
       "      <td>0.625000</td>\n",
       "    </tr>\n",
       "    <tr>\n",
       "      <th>0</th>\n",
       "      <td>Circumscribed</td>\n",
       "      <td>0.128395</td>\n",
       "    </tr>\n",
       "  </tbody>\n",
       "</table>\n",
       "</div>"
      ],
      "text/plain": [
       "           Margin    Target\n",
       "3      Spiculated  0.838235\n",
       "4     ill-defined  0.682143\n",
       "2        Obscured  0.629310\n",
       "1  Microlobulated  0.625000\n",
       "0   Circumscribed  0.128395"
      ]
     },
     "execution_count": 57,
     "metadata": {},
     "output_type": "execute_result"
    }
   ],
   "source": [
    "df_practice[['Margin', 'Target']].groupby(['Margin'], as_index=False).mean().sort_values(by='Target', ascending=False)"
   ]
  },
  {
   "cell_type": "code",
   "execution_count": 58,
   "metadata": {},
   "outputs": [
    {
     "data": {
      "text/plain": [
       "Circumscribed     405\n",
       "ill-defined       280\n",
       "Spiculated        136\n",
       "Obscured          116\n",
       "Microlobulated     24\n",
       "Name: Margin, dtype: int64"
      ]
     },
     "execution_count": 58,
     "metadata": {},
     "output_type": "execute_result"
    }
   ],
   "source": [
    "df_practice['Margin'].value_counts()"
   ]
  },
  {
   "cell_type": "markdown",
   "metadata": {},
   "source": [
    "### **Nhận xét:**\n",
    "---\n",
    "- Ta thấy thuộc tính Margin ảnh hưởng khá nhiều đến kết quả của các bệnh nhân \n",
    "- Trong đó giá trị Circumscribed có xu hướng cao hơn với các bệnh nhân có u lành tính và thấp ở u ác tính\n",
    "- ill-defined, Spiculated và Obscured thì có xu hướng cao hơn ở các bệnh nhân u ác tính và thấp hơn ở các bệnh nhân u lành tính\n",
    "- Còn Microlobulated thì có tỷ lệ thấp ở cả bệnh nhân u lành và u ác"
   ]
  },
  {
   "cell_type": "code",
   "execution_count": null,
   "metadata": {},
   "outputs": [],
   "source": []
  },
  {
   "cell_type": "markdown",
   "metadata": {},
   "source": [
    "#### d. Density\n",
    "Density: Thuộc tính cho biết mật độ của khối u, bao gồm 4 giá trị: High, Iso, Low, Fat-containing"
   ]
  },
  {
   "cell_type": "code",
   "execution_count": 59,
   "metadata": {},
   "outputs": [
    {
     "data": {
      "image/png": "[encoded data removed]",
      "text/plain": [
       "<Figure size 640x480 with 1 Axes>"
      ]
     },
     "metadata": {},
     "output_type": "display_data"
    }
   ],
   "source": [
    "plt.hist(df_practice.Density)\n",
    "plt.grid(True)\n",
    "plt.show()"
   ]
  },
  {
   "cell_type": "code",
   "execution_count": 60,
   "metadata": {},
   "outputs": [
    {
     "data": {
      "image/png": "[encoded data removed]",
      "text/plain": [
       "<Figure size 600x300 with 2 Axes>"
      ]
     },
     "metadata": {},
     "output_type": "display_data"
    }
   ],
   "source": [
    "#Thống kê liệu mật độ khối u\n",
    "g = sns.FacetGrid(df_practice, col='Target')\n",
    "g.map(plt.hist, 'Density')\n",
    "plt.show()"
   ]
  },
  {
   "cell_type": "code",
   "execution_count": 61,
   "metadata": {},
   "outputs": [
    {
     "data": {
      "text/html": [
       "<div>\n",
       "<style scoped>\n",
       "    .dataframe tbody tr th:only-of-type {\n",
       "        vertical-align: middle;\n",
       "    }\n",
       "\n",
       "    .dataframe tbody tr th {\n",
       "        vertical-align: top;\n",
       "    }\n",
       "\n",
       "    .dataframe thead th {\n",
       "        text-align: right;\n",
       "    }\n",
       "</style>\n",
       "<table border=\"1\" class=\"dataframe\">\n",
       "  <thead>\n",
       "    <tr style=\"text-align: right;\">\n",
       "      <th></th>\n",
       "      <th>Density</th>\n",
       "      <th>Target</th>\n",
       "    </tr>\n",
       "  </thead>\n",
       "  <tbody>\n",
       "    <tr>\n",
       "      <th>3</th>\n",
       "      <td>Low</td>\n",
       "      <td>0.474828</td>\n",
       "    </tr>\n",
       "    <tr>\n",
       "      <th>2</th>\n",
       "      <td>Iso</td>\n",
       "      <td>0.305085</td>\n",
       "    </tr>\n",
       "    <tr>\n",
       "      <th>1</th>\n",
       "      <td>High</td>\n",
       "      <td>0.437500</td>\n",
       "    </tr>\n",
       "    <tr>\n",
       "      <th>0</th>\n",
       "      <td>Fat-containing</td>\n",
       "      <td>0.416667</td>\n",
       "    </tr>\n",
       "  </tbody>\n",
       "</table>\n",
       "</div>"
      ],
      "text/plain": [
       "          Density    Target\n",
       "3             Low  0.474828\n",
       "2             Iso  0.305085\n",
       "1            High  0.437500\n",
       "0  Fat-containing  0.416667"
      ]
     },
     "execution_count": 61,
     "metadata": {},
     "output_type": "execute_result"
    }
   ],
   "source": [
    "df_practice[['Density', 'Target']].groupby(['Density'], as_index=False).mean().sort_values(by='Density', ascending=False)"
   ]
  },
  {
   "cell_type": "markdown",
   "metadata": {},
   "source": [
    "***Nhận xét***\n",
    "- Ta thấy dù mật độ khối u ở giá trị nào thì tỷ lệ mắc ung thư cũng không quá ảnh hưởng.\n",
    "- Giá trị Low luôn cao ở cả bệnh nhân mắc bệnh và không mắc bệnh\n",
    "- Giá trị Iso, High và Fat-containing luôn thấp ở cả người mắc và không mắc\n",
    "-  từ biểu đồ thống kê ta thấy thuộc tính Density không có quá nhiều ảnh hưởng đến tỷ lệ target.\n",
    "-----\n",
    "=> Không lấy thuộc tính Density đưa vào mô hình học máy"
   ]
  },
  {
   "cell_type": "markdown",
   "metadata": {},
   "source": [
    "### 2.Làm sạch dữ liệu\n",
    "#### 2.1. Loại bỏ các dữ liệu không cần thiết\n",
    "----\n",
    "* Loại bỏ các thuộc tính không cần thiết và ít ảnh hưởng tới kết quả của  bài toán\n",
    "\n",
    "----\n",
    "   1. **PatienID:** Thuộc tính này chỉ mà id, đánh số thứ tự của bệnh nhân (Bỏ)\n",
    "   2. **Sex:** Thuộc tính này 100% là female (bỏ)\n"
   ]
  },
  {
   "cell_type": "code",
   "execution_count": 62,
   "metadata": {},
   "outputs": [
    {
     "data": {
      "text/html": [
       "<div>\n",
       "<style scoped>\n",
       "    .dataframe tbody tr th:only-of-type {\n",
       "        vertical-align: middle;\n",
       "    }\n",
       "\n",
       "    .dataframe tbody tr th {\n",
       "        vertical-align: top;\n",
       "    }\n",
       "\n",
       "    .dataframe thead th {\n",
       "        text-align: right;\n",
       "    }\n",
       "</style>\n",
       "<table border=\"1\" class=\"dataframe\">\n",
       "  <thead>\n",
       "    <tr style=\"text-align: right;\">\n",
       "      <th></th>\n",
       "      <th>PatientID</th>\n",
       "      <th>Sex</th>\n",
       "      <th>Age</th>\n",
       "      <th>Weight</th>\n",
       "      <th>Shape</th>\n",
       "      <th>Margin</th>\n",
       "      <th>Density</th>\n",
       "      <th>Target</th>\n",
       "    </tr>\n",
       "  </thead>\n",
       "  <tbody>\n",
       "    <tr>\n",
       "      <th>0</th>\n",
       "      <td>P1</td>\n",
       "      <td>Female</td>\n",
       "      <td>67.0</td>\n",
       "      <td>46</td>\n",
       "      <td>Lobular</td>\n",
       "      <td>Spiculated</td>\n",
       "      <td>Low</td>\n",
       "      <td>1</td>\n",
       "    </tr>\n",
       "    <tr>\n",
       "      <th>1</th>\n",
       "      <td>P2</td>\n",
       "      <td>Female</td>\n",
       "      <td>43.0</td>\n",
       "      <td>66</td>\n",
       "      <td>Round</td>\n",
       "      <td>Circumscribed</td>\n",
       "      <td>Low</td>\n",
       "      <td>1</td>\n",
       "    </tr>\n",
       "    <tr>\n",
       "      <th>2</th>\n",
       "      <td>P3</td>\n",
       "      <td>Female</td>\n",
       "      <td>58.0</td>\n",
       "      <td>80</td>\n",
       "      <td>Irregular</td>\n",
       "      <td>Spiculated</td>\n",
       "      <td>Low</td>\n",
       "      <td>1</td>\n",
       "    </tr>\n",
       "    <tr>\n",
       "      <th>3</th>\n",
       "      <td>P4</td>\n",
       "      <td>Female</td>\n",
       "      <td>28.0</td>\n",
       "      <td>51</td>\n",
       "      <td>Round</td>\n",
       "      <td>Circumscribed</td>\n",
       "      <td>Low</td>\n",
       "      <td>0</td>\n",
       "    </tr>\n",
       "    <tr>\n",
       "      <th>4</th>\n",
       "      <td>P5</td>\n",
       "      <td>Female</td>\n",
       "      <td>74.0</td>\n",
       "      <td>46</td>\n",
       "      <td>Round</td>\n",
       "      <td>Spiculated</td>\n",
       "      <td>Low</td>\n",
       "      <td>1</td>\n",
       "    </tr>\n",
       "    <tr>\n",
       "      <th>...</th>\n",
       "      <td>...</td>\n",
       "      <td>...</td>\n",
       "      <td>...</td>\n",
       "      <td>...</td>\n",
       "      <td>...</td>\n",
       "      <td>...</td>\n",
       "      <td>...</td>\n",
       "      <td>...</td>\n",
       "    </tr>\n",
       "    <tr>\n",
       "      <th>956</th>\n",
       "      <td>P957</td>\n",
       "      <td>Female</td>\n",
       "      <td>47.0</td>\n",
       "      <td>72</td>\n",
       "      <td>Oval</td>\n",
       "      <td>Circumscribed</td>\n",
       "      <td>Low</td>\n",
       "      <td>0</td>\n",
       "    </tr>\n",
       "    <tr>\n",
       "      <th>957</th>\n",
       "      <td>P958</td>\n",
       "      <td>Female</td>\n",
       "      <td>56.0</td>\n",
       "      <td>64</td>\n",
       "      <td>Irregular</td>\n",
       "      <td>Spiculated</td>\n",
       "      <td>Low</td>\n",
       "      <td>1</td>\n",
       "    </tr>\n",
       "    <tr>\n",
       "      <th>958</th>\n",
       "      <td>P959</td>\n",
       "      <td>Female</td>\n",
       "      <td>64.0</td>\n",
       "      <td>75</td>\n",
       "      <td>Irregular</td>\n",
       "      <td>Spiculated</td>\n",
       "      <td>Low</td>\n",
       "      <td>0</td>\n",
       "    </tr>\n",
       "    <tr>\n",
       "      <th>959</th>\n",
       "      <td>P960</td>\n",
       "      <td>Female</td>\n",
       "      <td>66.0</td>\n",
       "      <td>56</td>\n",
       "      <td>Irregular</td>\n",
       "      <td>Spiculated</td>\n",
       "      <td>Low</td>\n",
       "      <td>1</td>\n",
       "    </tr>\n",
       "    <tr>\n",
       "      <th>960</th>\n",
       "      <td>P961</td>\n",
       "      <td>Female</td>\n",
       "      <td>62.0</td>\n",
       "      <td>51</td>\n",
       "      <td>Lobular</td>\n",
       "      <td>Obscured</td>\n",
       "      <td>Low</td>\n",
       "      <td>0</td>\n",
       "    </tr>\n",
       "  </tbody>\n",
       "</table>\n",
       "<p>961 rows × 8 columns</p>\n",
       "</div>"
      ],
      "text/plain": [
       "    PatientID     Sex   Age  Weight      Shape         Margin Density  Target\n",
       "0          P1  Female  67.0      46    Lobular     Spiculated     Low       1\n",
       "1          P2  Female  43.0      66      Round  Circumscribed     Low       1\n",
       "2          P3  Female  58.0      80  Irregular     Spiculated     Low       1\n",
       "3          P4  Female  28.0      51      Round  Circumscribed     Low       0\n",
       "4          P5  Female  74.0      46      Round     Spiculated     Low       1\n",
       "..        ...     ...   ...     ...        ...            ...     ...     ...\n",
       "956      P957  Female  47.0      72       Oval  Circumscribed     Low       0\n",
       "957      P958  Female  56.0      64  Irregular     Spiculated     Low       1\n",
       "958      P959  Female  64.0      75  Irregular     Spiculated     Low       0\n",
       "959      P960  Female  66.0      56  Irregular     Spiculated     Low       1\n",
       "960      P961  Female  62.0      51    Lobular       Obscured     Low       0\n",
       "\n",
       "[961 rows x 8 columns]"
      ]
     },
     "execution_count": 62,
     "metadata": {},
     "output_type": "execute_result"
    }
   ],
   "source": [
    "df_practice"
   ]
  },
  {
   "cell_type": "code",
   "execution_count": 63,
   "metadata": {},
   "outputs": [
    {
     "name": "stdout",
     "output_type": "stream",
     "text": [
      "<class 'pandas.core.frame.DataFrame'>\n",
      "RangeIndex: 961 entries, 0 to 960\n",
      "Data columns (total 6 columns):\n",
      " #   Column   Non-Null Count  Dtype  \n",
      "---  ------   --------------  -----  \n",
      " 0   Age      961 non-null    float64\n",
      " 1   Weight   961 non-null    int64  \n",
      " 2   Shape    961 non-null    object \n",
      " 3   Margin   961 non-null    object \n",
      " 4   Density  961 non-null    object \n",
      " 5   Target   961 non-null    int64  \n",
      "dtypes: float64(1), int64(2), object(3)\n",
      "memory usage: 45.2+ KB\n"
     ]
    }
   ],
   "source": [
    "#Tạo một DataFrame mới df_data loại bỏ đi 2 thuộc tính ko quan trọng\n",
    "df_data = df_practice.drop(['PatientID','Sex'], axis=1)\n",
    "df_data.info()"
   ]
  },
  {
   "cell_type": "code",
   "execution_count": 64,
   "metadata": {},
   "outputs": [
    {
     "data": {
      "text/html": [
       "<div>\n",
       "<style scoped>\n",
       "    .dataframe tbody tr th:only-of-type {\n",
       "        vertical-align: middle;\n",
       "    }\n",
       "\n",
       "    .dataframe tbody tr th {\n",
       "        vertical-align: top;\n",
       "    }\n",
       "\n",
       "    .dataframe thead th {\n",
       "        text-align: right;\n",
       "    }\n",
       "</style>\n",
       "<table border=\"1\" class=\"dataframe\">\n",
       "  <thead>\n",
       "    <tr style=\"text-align: right;\">\n",
       "      <th></th>\n",
       "      <th>Age</th>\n",
       "      <th>Weight</th>\n",
       "      <th>Shape</th>\n",
       "      <th>Margin</th>\n",
       "      <th>Density</th>\n",
       "      <th>Target</th>\n",
       "    </tr>\n",
       "  </thead>\n",
       "  <tbody>\n",
       "    <tr>\n",
       "      <th>0</th>\n",
       "      <td>67.0</td>\n",
       "      <td>46</td>\n",
       "      <td>Lobular</td>\n",
       "      <td>Spiculated</td>\n",
       "      <td>Low</td>\n",
       "      <td>1</td>\n",
       "    </tr>\n",
       "    <tr>\n",
       "      <th>1</th>\n",
       "      <td>43.0</td>\n",
       "      <td>66</td>\n",
       "      <td>Round</td>\n",
       "      <td>Circumscribed</td>\n",
       "      <td>Low</td>\n",
       "      <td>1</td>\n",
       "    </tr>\n",
       "    <tr>\n",
       "      <th>2</th>\n",
       "      <td>58.0</td>\n",
       "      <td>80</td>\n",
       "      <td>Irregular</td>\n",
       "      <td>Spiculated</td>\n",
       "      <td>Low</td>\n",
       "      <td>1</td>\n",
       "    </tr>\n",
       "    <tr>\n",
       "      <th>3</th>\n",
       "      <td>28.0</td>\n",
       "      <td>51</td>\n",
       "      <td>Round</td>\n",
       "      <td>Circumscribed</td>\n",
       "      <td>Low</td>\n",
       "      <td>0</td>\n",
       "    </tr>\n",
       "    <tr>\n",
       "      <th>4</th>\n",
       "      <td>74.0</td>\n",
       "      <td>46</td>\n",
       "      <td>Round</td>\n",
       "      <td>Spiculated</td>\n",
       "      <td>Low</td>\n",
       "      <td>1</td>\n",
       "    </tr>\n",
       "  </tbody>\n",
       "</table>\n",
       "</div>"
      ],
      "text/plain": [
       "    Age  Weight      Shape         Margin Density  Target\n",
       "0  67.0      46    Lobular     Spiculated     Low       1\n",
       "1  43.0      66      Round  Circumscribed     Low       1\n",
       "2  58.0      80  Irregular     Spiculated     Low       1\n",
       "3  28.0      51      Round  Circumscribed     Low       0\n",
       "4  74.0      46      Round     Spiculated     Low       1"
      ]
     },
     "execution_count": 64,
     "metadata": {},
     "output_type": "execute_result"
    }
   ],
   "source": [
    "# dữ liệu mới sau khi đã bỏ các thuộc tính không cần thiết\n",
    "df_data.head(5)"
   ]
  },
  {
   "cell_type": "code",
   "execution_count": null,
   "metadata": {},
   "outputs": [],
   "source": []
  },
  {
   "cell_type": "markdown",
   "metadata": {},
   "source": [
    "#### Ta thấy có sự tương quan giữa hai thuộc tính Margin và Shape đối với Target"
   ]
  },
  {
   "cell_type": "code",
   "execution_count": 65,
   "metadata": {},
   "outputs": [
    {
     "data": {
      "image/png": "[encoded data removed]",
      "text/plain": [
       "<Figure size 1211.11x1500 with 20 Axes>"
      ]
     },
     "metadata": {},
     "output_type": "display_data"
    }
   ],
   "source": [
    "grid = sns.FacetGrid(df_data, row='Margin', col='Shape')\n",
    "grid.map(plt.hist, 'Target', alpha=.5, bins=20)\n",
    "grid.add_legend()\n",
    "plt.show()"
   ]
  },
  {
   "cell_type": "markdown",
   "metadata": {},
   "source": [
    "**NHẬN XÉT:** các cặp giá trị margin - shape\n",
    "\n",
    "- ta thấy ở các cặp: (Spiculated-Irregular), (ill-defined-Irregular), (Obscured--Irregular) thì tỷ lệ mắc u lành tính cao ở các bệnh nhân \n",
    "- Còn các cặp (Circumscribed-Round) và (Circumscribed-Oval) thì có tỷ lệ người bệnh u lành tính cao hơn"
   ]
  },
  {
   "cell_type": "code",
   "execution_count": 66,
   "metadata": {},
   "outputs": [
    {
     "data": {
      "image/png": "[encoded data removed]",
      "text/plain": [
       "<Figure size 1211.11x1200 with 16 Axes>"
      ]
     },
     "metadata": {},
     "output_type": "display_data"
    }
   ],
   "source": [
    "grid = sns.FacetGrid(df_data, row='Density', col='Shape')\n",
    "grid.map(plt.hist, 'Target', alpha=.5, bins=20)\n",
    "grid.add_legend()\n",
    "plt.show()"
   ]
  },
  {
   "cell_type": "code",
   "execution_count": null,
   "metadata": {},
   "outputs": [],
   "source": []
  },
  {
   "cell_type": "markdown",
   "metadata": {},
   "source": [
    "**Yêu cầu 4:** \n",
    "- Đề xuất và Áp dụng các kỹ chuẩn hóa, tiền xử lý dữ liệu phù hợp cho tập dữ liệu này để có thể đưa vào các mô hình học máy\n",
    "- Lưu kết quả dữ liệu sau xử lý ra file Data_Practice_ML_OK.csv"
   ]
  },
  {
   "cell_type": "code",
   "execution_count": 67,
   "metadata": {},
   "outputs": [
    {
     "name": "stdout",
     "output_type": "stream",
     "text": [
      "File dữ liệu bao gồm có: 6 cột.\n",
      "Có 0 cột chứa missing values.\n"
     ]
    },
    {
     "data": {
      "text/html": [
       "<div>\n",
       "<style scoped>\n",
       "    .dataframe tbody tr th:only-of-type {\n",
       "        vertical-align: middle;\n",
       "    }\n",
       "\n",
       "    .dataframe tbody tr th {\n",
       "        vertical-align: top;\n",
       "    }\n",
       "\n",
       "    .dataframe thead th {\n",
       "        text-align: right;\n",
       "    }\n",
       "</style>\n",
       "<table border=\"1\" class=\"dataframe\">\n",
       "  <thead>\n",
       "    <tr style=\"text-align: right;\">\n",
       "      <th></th>\n",
       "      <th>Số giá trị Missing</th>\n",
       "      <th>Tỷ lệ % missing</th>\n",
       "    </tr>\n",
       "  </thead>\n",
       "  <tbody>\n",
       "  </tbody>\n",
       "</table>\n",
       "</div>"
      ],
      "text/plain": [
       "Empty DataFrame\n",
       "Columns: [Số giá trị Missing, Tỷ lệ % missing]\n",
       "Index: []"
      ]
     },
     "execution_count": 67,
     "metadata": {},
     "output_type": "execute_result"
    }
   ],
   "source": [
    "#{HỌC VIÊN VIẾT CODE VÀO ĐÂY!}\n",
    "missing_values(df_data)"
   ]
  },
  {
   "cell_type": "markdown",
   "metadata": {},
   "source": [
    "#### Xử lý thuộc tính Age"
   ]
  },
  {
   "cell_type": "code",
   "execution_count": 68,
   "metadata": {},
   "outputs": [
    {
     "data": {
      "text/html": [
       "<div>\n",
       "<style scoped>\n",
       "    .dataframe tbody tr th:only-of-type {\n",
       "        vertical-align: middle;\n",
       "    }\n",
       "\n",
       "    .dataframe tbody tr th {\n",
       "        vertical-align: top;\n",
       "    }\n",
       "\n",
       "    .dataframe thead th {\n",
       "        text-align: right;\n",
       "    }\n",
       "</style>\n",
       "<table border=\"1\" class=\"dataframe\">\n",
       "  <thead>\n",
       "    <tr style=\"text-align: right;\">\n",
       "      <th></th>\n",
       "      <th>AgeBand</th>\n",
       "      <th>Target</th>\n",
       "    </tr>\n",
       "  </thead>\n",
       "  <tbody>\n",
       "    <tr>\n",
       "      <th>0</th>\n",
       "      <td>(17.922, 33.6]</td>\n",
       "      <td>0.057143</td>\n",
       "    </tr>\n",
       "    <tr>\n",
       "      <th>1</th>\n",
       "      <td>(33.6, 49.2]</td>\n",
       "      <td>0.269076</td>\n",
       "    </tr>\n",
       "    <tr>\n",
       "      <th>2</th>\n",
       "      <td>(49.2, 64.8]</td>\n",
       "      <td>0.461749</td>\n",
       "    </tr>\n",
       "    <tr>\n",
       "      <th>3</th>\n",
       "      <td>(64.8, 80.4]</td>\n",
       "      <td>0.726908</td>\n",
       "    </tr>\n",
       "    <tr>\n",
       "      <th>4</th>\n",
       "      <td>(80.4, 96.0]</td>\n",
       "      <td>0.888889</td>\n",
       "    </tr>\n",
       "  </tbody>\n",
       "</table>\n",
       "</div>"
      ],
      "text/plain": [
       "          AgeBand    Target\n",
       "0  (17.922, 33.6]  0.057143\n",
       "1    (33.6, 49.2]  0.269076\n",
       "2    (49.2, 64.8]  0.461749\n",
       "3    (64.8, 80.4]  0.726908\n",
       "4    (80.4, 96.0]  0.888889"
      ]
     },
     "execution_count": 68,
     "metadata": {},
     "output_type": "execute_result"
    }
   ],
   "source": [
    "#Tính tỷ lệ bệnh nhân theo từng khoảng tuổi:\n",
    "n=5\n",
    "df_temp = df_data.copy()\n",
    "df_temp['AgeBand'] = pd.cut(df_temp['Age'], n)\n",
    "df_temp[['AgeBand', 'Target']].groupby(['AgeBand'], as_index=False).mean().sort_values(by='AgeBand', ascending=True)"
   ]
  },
  {
   "cell_type": "markdown",
   "metadata": {},
   "source": [
    "\n",
    "* Từ 80 --> 96 tuổi:   có tỷ lệ cao nhất (88.88%)\n",
    "* Từ 65 --> 80 tuổi:   có tỷ lệ cao thứ nhì (72.69%)\n",
    "* Từ 50 --> 65 tuổi:   có tỷ lệ cao thứ ba (46.17%)\n",
    "* Từ 34 --> 50 tuổi:   có tỷ lệ cao thứ tư (26.9%)\n",
    "* từ 18 --> 34 tuổi:   có tỷ lệ thấp nhất (5.7%)"
   ]
  },
  {
   "cell_type": "code",
   "execution_count": 69,
   "metadata": {},
   "outputs": [
    {
     "data": {
      "text/html": [
       "<div>\n",
       "<style scoped>\n",
       "    .dataframe tbody tr th:only-of-type {\n",
       "        vertical-align: middle;\n",
       "    }\n",
       "\n",
       "    .dataframe tbody tr th {\n",
       "        vertical-align: top;\n",
       "    }\n",
       "\n",
       "    .dataframe thead th {\n",
       "        text-align: right;\n",
       "    }\n",
       "</style>\n",
       "<table border=\"1\" class=\"dataframe\">\n",
       "  <thead>\n",
       "    <tr style=\"text-align: right;\">\n",
       "      <th></th>\n",
       "      <th>Age</th>\n",
       "      <th>Weight</th>\n",
       "      <th>Shape</th>\n",
       "      <th>Margin</th>\n",
       "      <th>Density</th>\n",
       "      <th>Target</th>\n",
       "      <th>AgeBand</th>\n",
       "    </tr>\n",
       "  </thead>\n",
       "  <tbody>\n",
       "    <tr>\n",
       "      <th>0</th>\n",
       "      <td>67.0</td>\n",
       "      <td>46</td>\n",
       "      <td>Lobular</td>\n",
       "      <td>Spiculated</td>\n",
       "      <td>Low</td>\n",
       "      <td>1</td>\n",
       "      <td>(64.8, 80.4]</td>\n",
       "    </tr>\n",
       "    <tr>\n",
       "      <th>1</th>\n",
       "      <td>43.0</td>\n",
       "      <td>66</td>\n",
       "      <td>Round</td>\n",
       "      <td>Circumscribed</td>\n",
       "      <td>Low</td>\n",
       "      <td>1</td>\n",
       "      <td>(33.6, 49.2]</td>\n",
       "    </tr>\n",
       "    <tr>\n",
       "      <th>2</th>\n",
       "      <td>58.0</td>\n",
       "      <td>80</td>\n",
       "      <td>Irregular</td>\n",
       "      <td>Spiculated</td>\n",
       "      <td>Low</td>\n",
       "      <td>1</td>\n",
       "      <td>(49.2, 64.8]</td>\n",
       "    </tr>\n",
       "    <tr>\n",
       "      <th>3</th>\n",
       "      <td>28.0</td>\n",
       "      <td>51</td>\n",
       "      <td>Round</td>\n",
       "      <td>Circumscribed</td>\n",
       "      <td>Low</td>\n",
       "      <td>0</td>\n",
       "      <td>(17.922, 33.6]</td>\n",
       "    </tr>\n",
       "    <tr>\n",
       "      <th>4</th>\n",
       "      <td>74.0</td>\n",
       "      <td>46</td>\n",
       "      <td>Round</td>\n",
       "      <td>Spiculated</td>\n",
       "      <td>Low</td>\n",
       "      <td>1</td>\n",
       "      <td>(64.8, 80.4]</td>\n",
       "    </tr>\n",
       "  </tbody>\n",
       "</table>\n",
       "</div>"
      ],
      "text/plain": [
       "    Age  Weight      Shape         Margin Density  Target         AgeBand\n",
       "0  67.0      46    Lobular     Spiculated     Low       1    (64.8, 80.4]\n",
       "1  43.0      66      Round  Circumscribed     Low       1    (33.6, 49.2]\n",
       "2  58.0      80  Irregular     Spiculated     Low       1    (49.2, 64.8]\n",
       "3  28.0      51      Round  Circumscribed     Low       0  (17.922, 33.6]\n",
       "4  74.0      46      Round     Spiculated     Low       1    (64.8, 80.4]"
      ]
     },
     "execution_count": 69,
     "metadata": {},
     "output_type": "execute_result"
    }
   ],
   "source": [
    "df_temp.head()"
   ]
  },
  {
   "cell_type": "markdown",
   "metadata": {},
   "source": [
    "**Thay thế tuổi tuyệt đối của các bệnh nhân bằng khoảng mà tuổi thuộc vào:**\n",
    "* Từ 80 --> 96 tuổi:   --> Age = 0\n",
    "* Từ 65 --> 80 tuổi:   --> Age = 1\n",
    "* Từ 49 --> 65 tuổi:   --> Age = 2\n",
    "* Từ 34 --> 49 tuổi:   --> Age = 3\n",
    "* Từ 18 --> 34 tuổi:   --> Age = 4"
   ]
  },
  {
   "cell_type": "code",
   "execution_count": 70,
   "metadata": {},
   "outputs": [],
   "source": [
    "df_data.loc[(df_data['Age'] > 80) & (df_data['Age'] <= 96), 'Age'] = 0\n",
    "df_data.loc[(df_data['Age'] > 65) & (df_data['Age'] <= 80), 'Age'] = 1\n",
    "df_data.loc[(df_data['Age'] > 49) & (df_data['Age'] <= 65), 'Age'] = 2\n",
    "df_data.loc[(df_data['Age'] > 34) & (df_data['Age'] <= 49), 'Age'] = 3\n",
    "df_data.loc[(df_data['Age'] > 18) & (df_data['Age'] <= 34), 'Age'] = 4"
   ]
  },
  {
   "cell_type": "code",
   "execution_count": 71,
   "metadata": {},
   "outputs": [
    {
     "data": {
      "text/html": [
       "<div>\n",
       "<style scoped>\n",
       "    .dataframe tbody tr th:only-of-type {\n",
       "        vertical-align: middle;\n",
       "    }\n",
       "\n",
       "    .dataframe tbody tr th {\n",
       "        vertical-align: top;\n",
       "    }\n",
       "\n",
       "    .dataframe thead th {\n",
       "        text-align: right;\n",
       "    }\n",
       "</style>\n",
       "<table border=\"1\" class=\"dataframe\">\n",
       "  <thead>\n",
       "    <tr style=\"text-align: right;\">\n",
       "      <th></th>\n",
       "      <th>Age</th>\n",
       "      <th>Weight</th>\n",
       "      <th>Shape</th>\n",
       "      <th>Margin</th>\n",
       "      <th>Density</th>\n",
       "      <th>Target</th>\n",
       "    </tr>\n",
       "  </thead>\n",
       "  <tbody>\n",
       "    <tr>\n",
       "      <th>0</th>\n",
       "      <td>1.0</td>\n",
       "      <td>46</td>\n",
       "      <td>Lobular</td>\n",
       "      <td>Spiculated</td>\n",
       "      <td>Low</td>\n",
       "      <td>1</td>\n",
       "    </tr>\n",
       "    <tr>\n",
       "      <th>1</th>\n",
       "      <td>3.0</td>\n",
       "      <td>66</td>\n",
       "      <td>Round</td>\n",
       "      <td>Circumscribed</td>\n",
       "      <td>Low</td>\n",
       "      <td>1</td>\n",
       "    </tr>\n",
       "    <tr>\n",
       "      <th>2</th>\n",
       "      <td>2.0</td>\n",
       "      <td>80</td>\n",
       "      <td>Irregular</td>\n",
       "      <td>Spiculated</td>\n",
       "      <td>Low</td>\n",
       "      <td>1</td>\n",
       "    </tr>\n",
       "    <tr>\n",
       "      <th>3</th>\n",
       "      <td>4.0</td>\n",
       "      <td>51</td>\n",
       "      <td>Round</td>\n",
       "      <td>Circumscribed</td>\n",
       "      <td>Low</td>\n",
       "      <td>0</td>\n",
       "    </tr>\n",
       "    <tr>\n",
       "      <th>4</th>\n",
       "      <td>1.0</td>\n",
       "      <td>46</td>\n",
       "      <td>Round</td>\n",
       "      <td>Spiculated</td>\n",
       "      <td>Low</td>\n",
       "      <td>1</td>\n",
       "    </tr>\n",
       "    <tr>\n",
       "      <th>...</th>\n",
       "      <td>...</td>\n",
       "      <td>...</td>\n",
       "      <td>...</td>\n",
       "      <td>...</td>\n",
       "      <td>...</td>\n",
       "      <td>...</td>\n",
       "    </tr>\n",
       "    <tr>\n",
       "      <th>956</th>\n",
       "      <td>3.0</td>\n",
       "      <td>72</td>\n",
       "      <td>Oval</td>\n",
       "      <td>Circumscribed</td>\n",
       "      <td>Low</td>\n",
       "      <td>0</td>\n",
       "    </tr>\n",
       "    <tr>\n",
       "      <th>957</th>\n",
       "      <td>2.0</td>\n",
       "      <td>64</td>\n",
       "      <td>Irregular</td>\n",
       "      <td>Spiculated</td>\n",
       "      <td>Low</td>\n",
       "      <td>1</td>\n",
       "    </tr>\n",
       "    <tr>\n",
       "      <th>958</th>\n",
       "      <td>2.0</td>\n",
       "      <td>75</td>\n",
       "      <td>Irregular</td>\n",
       "      <td>Spiculated</td>\n",
       "      <td>Low</td>\n",
       "      <td>0</td>\n",
       "    </tr>\n",
       "    <tr>\n",
       "      <th>959</th>\n",
       "      <td>1.0</td>\n",
       "      <td>56</td>\n",
       "      <td>Irregular</td>\n",
       "      <td>Spiculated</td>\n",
       "      <td>Low</td>\n",
       "      <td>1</td>\n",
       "    </tr>\n",
       "    <tr>\n",
       "      <th>960</th>\n",
       "      <td>2.0</td>\n",
       "      <td>51</td>\n",
       "      <td>Lobular</td>\n",
       "      <td>Obscured</td>\n",
       "      <td>Low</td>\n",
       "      <td>0</td>\n",
       "    </tr>\n",
       "  </tbody>\n",
       "</table>\n",
       "<p>961 rows × 6 columns</p>\n",
       "</div>"
      ],
      "text/plain": [
       "     Age  Weight      Shape         Margin Density  Target\n",
       "0    1.0      46    Lobular     Spiculated     Low       1\n",
       "1    3.0      66      Round  Circumscribed     Low       1\n",
       "2    2.0      80  Irregular     Spiculated     Low       1\n",
       "3    4.0      51      Round  Circumscribed     Low       0\n",
       "4    1.0      46      Round     Spiculated     Low       1\n",
       "..   ...     ...        ...            ...     ...     ...\n",
       "956  3.0      72       Oval  Circumscribed     Low       0\n",
       "957  2.0      64  Irregular     Spiculated     Low       1\n",
       "958  2.0      75  Irregular     Spiculated     Low       0\n",
       "959  1.0      56  Irregular     Spiculated     Low       1\n",
       "960  2.0      51    Lobular       Obscured     Low       0\n",
       "\n",
       "[961 rows x 6 columns]"
      ]
     },
     "execution_count": 71,
     "metadata": {},
     "output_type": "execute_result"
    }
   ],
   "source": [
    "df_data"
   ]
  },
  {
   "cell_type": "code",
   "execution_count": 72,
   "metadata": {},
   "outputs": [
    {
     "data": {
      "text/html": [
       "<div>\n",
       "<style scoped>\n",
       "    .dataframe tbody tr th:only-of-type {\n",
       "        vertical-align: middle;\n",
       "    }\n",
       "\n",
       "    .dataframe tbody tr th {\n",
       "        vertical-align: top;\n",
       "    }\n",
       "\n",
       "    .dataframe thead th {\n",
       "        text-align: right;\n",
       "    }\n",
       "</style>\n",
       "<table border=\"1\" class=\"dataframe\">\n",
       "  <thead>\n",
       "    <tr style=\"text-align: right;\">\n",
       "      <th></th>\n",
       "      <th>Age</th>\n",
       "      <th>Weight</th>\n",
       "      <th>Shape</th>\n",
       "      <th>Margin</th>\n",
       "      <th>Density</th>\n",
       "      <th>Target</th>\n",
       "    </tr>\n",
       "  </thead>\n",
       "  <tbody>\n",
       "    <tr>\n",
       "      <th>0</th>\n",
       "      <td>1</td>\n",
       "      <td>46</td>\n",
       "      <td>Lobular</td>\n",
       "      <td>Spiculated</td>\n",
       "      <td>Low</td>\n",
       "      <td>1</td>\n",
       "    </tr>\n",
       "    <tr>\n",
       "      <th>1</th>\n",
       "      <td>3</td>\n",
       "      <td>66</td>\n",
       "      <td>Round</td>\n",
       "      <td>Circumscribed</td>\n",
       "      <td>Low</td>\n",
       "      <td>1</td>\n",
       "    </tr>\n",
       "    <tr>\n",
       "      <th>2</th>\n",
       "      <td>2</td>\n",
       "      <td>80</td>\n",
       "      <td>Irregular</td>\n",
       "      <td>Spiculated</td>\n",
       "      <td>Low</td>\n",
       "      <td>1</td>\n",
       "    </tr>\n",
       "    <tr>\n",
       "      <th>3</th>\n",
       "      <td>4</td>\n",
       "      <td>51</td>\n",
       "      <td>Round</td>\n",
       "      <td>Circumscribed</td>\n",
       "      <td>Low</td>\n",
       "      <td>0</td>\n",
       "    </tr>\n",
       "    <tr>\n",
       "      <th>4</th>\n",
       "      <td>1</td>\n",
       "      <td>46</td>\n",
       "      <td>Round</td>\n",
       "      <td>Spiculated</td>\n",
       "      <td>Low</td>\n",
       "      <td>1</td>\n",
       "    </tr>\n",
       "  </tbody>\n",
       "</table>\n",
       "</div>"
      ],
      "text/plain": [
       "   Age  Weight      Shape         Margin Density  Target\n",
       "0    1      46    Lobular     Spiculated     Low       1\n",
       "1    3      66      Round  Circumscribed     Low       1\n",
       "2    2      80  Irregular     Spiculated     Low       1\n",
       "3    4      51      Round  Circumscribed     Low       0\n",
       "4    1      46      Round     Spiculated     Low       1"
      ]
     },
     "execution_count": 72,
     "metadata": {},
     "output_type": "execute_result"
    }
   ],
   "source": [
    "#Ép Age sang kiểu dữ liệu số nguyên\n",
    "df_data['Age'] = df_data['Age'].astype(int)\n",
    "df_data.head()"
   ]
  },
  {
   "cell_type": "markdown",
   "metadata": {},
   "source": [
    "#### Xử lý thuộc tính Margin"
   ]
  },
  {
   "cell_type": "code",
   "execution_count": null,
   "metadata": {},
   "outputs": [],
   "source": []
  },
  {
   "cell_type": "code",
   "execution_count": 73,
   "metadata": {},
   "outputs": [
    {
     "data": {
      "text/plain": [
       "Circumscribed     405\n",
       "ill-defined       280\n",
       "Spiculated        136\n",
       "Obscured          116\n",
       "Microlobulated     24\n",
       "Name: Margin, dtype: int64"
      ]
     },
     "execution_count": 73,
     "metadata": {},
     "output_type": "execute_result"
    }
   ],
   "source": [
    "# Số liệu của các hình dạng khối u\n",
    "df_data['Margin'].value_counts()"
   ]
  },
  {
   "cell_type": "code",
   "execution_count": 74,
   "metadata": {},
   "outputs": [
    {
     "data": {
      "text/plain": [
       "Circumscribed     0.421436\n",
       "ill-defined       0.291363\n",
       "Spiculated        0.141519\n",
       "Obscured          0.120708\n",
       "Microlobulated    0.024974\n",
       "Name: Margin, dtype: float64"
      ]
     },
     "execution_count": 74,
     "metadata": {},
     "output_type": "execute_result"
    }
   ],
   "source": [
    "# Tỷ lệ phần trăm của các hình dạng khối u\n",
    "df_data['Margin'].value_counts(normalize=True)"
   ]
  },
  {
   "cell_type": "markdown",
   "metadata": {},
   "source": [
    "**Thay thế các dạng đường biên của khối u thành các con số**\n",
    "- Hình Circumscribed: 0\n",
    "- ill-defined       : 1\n",
    "- Spiculated        : 2\n",
    "- Obscured          : 3\n",
    "- Microlobulated    : 4"
   ]
  },
  {
   "cell_type": "code",
   "execution_count": 75,
   "metadata": {},
   "outputs": [],
   "source": [
    "df_data.loc[(df_data['Margin'] == 'Circumscribed'), 'Margin'] = 0\n",
    "df_data.loc[(df_data['Margin'] == 'ill-defined'), 'Margin'] = 1\n",
    "df_data.loc[(df_data['Margin'] == 'Spiculated'), 'Margin'] = 2\n",
    "df_data.loc[(df_data['Margin'] == 'Obscured'), 'Margin'] = 3\n",
    "df_data.loc[(df_data['Margin'] == 'Microlobulated'), 'Margin'] = 4\n"
   ]
  },
  {
   "cell_type": "code",
   "execution_count": 76,
   "metadata": {},
   "outputs": [
    {
     "data": {
      "text/html": [
       "<div>\n",
       "<style scoped>\n",
       "    .dataframe tbody tr th:only-of-type {\n",
       "        vertical-align: middle;\n",
       "    }\n",
       "\n",
       "    .dataframe tbody tr th {\n",
       "        vertical-align: top;\n",
       "    }\n",
       "\n",
       "    .dataframe thead th {\n",
       "        text-align: right;\n",
       "    }\n",
       "</style>\n",
       "<table border=\"1\" class=\"dataframe\">\n",
       "  <thead>\n",
       "    <tr style=\"text-align: right;\">\n",
       "      <th></th>\n",
       "      <th>Age</th>\n",
       "      <th>Weight</th>\n",
       "      <th>Shape</th>\n",
       "      <th>Margin</th>\n",
       "      <th>Density</th>\n",
       "      <th>Target</th>\n",
       "    </tr>\n",
       "  </thead>\n",
       "  <tbody>\n",
       "    <tr>\n",
       "      <th>0</th>\n",
       "      <td>1</td>\n",
       "      <td>46</td>\n",
       "      <td>Lobular</td>\n",
       "      <td>2</td>\n",
       "      <td>Low</td>\n",
       "      <td>1</td>\n",
       "    </tr>\n",
       "    <tr>\n",
       "      <th>1</th>\n",
       "      <td>3</td>\n",
       "      <td>66</td>\n",
       "      <td>Round</td>\n",
       "      <td>0</td>\n",
       "      <td>Low</td>\n",
       "      <td>1</td>\n",
       "    </tr>\n",
       "    <tr>\n",
       "      <th>2</th>\n",
       "      <td>2</td>\n",
       "      <td>80</td>\n",
       "      <td>Irregular</td>\n",
       "      <td>2</td>\n",
       "      <td>Low</td>\n",
       "      <td>1</td>\n",
       "    </tr>\n",
       "    <tr>\n",
       "      <th>3</th>\n",
       "      <td>4</td>\n",
       "      <td>51</td>\n",
       "      <td>Round</td>\n",
       "      <td>0</td>\n",
       "      <td>Low</td>\n",
       "      <td>0</td>\n",
       "    </tr>\n",
       "    <tr>\n",
       "      <th>4</th>\n",
       "      <td>1</td>\n",
       "      <td>46</td>\n",
       "      <td>Round</td>\n",
       "      <td>2</td>\n",
       "      <td>Low</td>\n",
       "      <td>1</td>\n",
       "    </tr>\n",
       "    <tr>\n",
       "      <th>...</th>\n",
       "      <td>...</td>\n",
       "      <td>...</td>\n",
       "      <td>...</td>\n",
       "      <td>...</td>\n",
       "      <td>...</td>\n",
       "      <td>...</td>\n",
       "    </tr>\n",
       "    <tr>\n",
       "      <th>956</th>\n",
       "      <td>3</td>\n",
       "      <td>72</td>\n",
       "      <td>Oval</td>\n",
       "      <td>0</td>\n",
       "      <td>Low</td>\n",
       "      <td>0</td>\n",
       "    </tr>\n",
       "    <tr>\n",
       "      <th>957</th>\n",
       "      <td>2</td>\n",
       "      <td>64</td>\n",
       "      <td>Irregular</td>\n",
       "      <td>2</td>\n",
       "      <td>Low</td>\n",
       "      <td>1</td>\n",
       "    </tr>\n",
       "    <tr>\n",
       "      <th>958</th>\n",
       "      <td>2</td>\n",
       "      <td>75</td>\n",
       "      <td>Irregular</td>\n",
       "      <td>2</td>\n",
       "      <td>Low</td>\n",
       "      <td>0</td>\n",
       "    </tr>\n",
       "    <tr>\n",
       "      <th>959</th>\n",
       "      <td>1</td>\n",
       "      <td>56</td>\n",
       "      <td>Irregular</td>\n",
       "      <td>2</td>\n",
       "      <td>Low</td>\n",
       "      <td>1</td>\n",
       "    </tr>\n",
       "    <tr>\n",
       "      <th>960</th>\n",
       "      <td>2</td>\n",
       "      <td>51</td>\n",
       "      <td>Lobular</td>\n",
       "      <td>3</td>\n",
       "      <td>Low</td>\n",
       "      <td>0</td>\n",
       "    </tr>\n",
       "  </tbody>\n",
       "</table>\n",
       "<p>961 rows × 6 columns</p>\n",
       "</div>"
      ],
      "text/plain": [
       "     Age  Weight      Shape Margin Density  Target\n",
       "0      1      46    Lobular      2     Low       1\n",
       "1      3      66      Round      0     Low       1\n",
       "2      2      80  Irregular      2     Low       1\n",
       "3      4      51      Round      0     Low       0\n",
       "4      1      46      Round      2     Low       1\n",
       "..   ...     ...        ...    ...     ...     ...\n",
       "956    3      72       Oval      0     Low       0\n",
       "957    2      64  Irregular      2     Low       1\n",
       "958    2      75  Irregular      2     Low       0\n",
       "959    1      56  Irregular      2     Low       1\n",
       "960    2      51    Lobular      3     Low       0\n",
       "\n",
       "[961 rows x 6 columns]"
      ]
     },
     "execution_count": 76,
     "metadata": {},
     "output_type": "execute_result"
    }
   ],
   "source": [
    "df_data"
   ]
  },
  {
   "cell_type": "code",
   "execution_count": null,
   "metadata": {},
   "outputs": [],
   "source": []
  },
  {
   "cell_type": "code",
   "execution_count": null,
   "metadata": {},
   "outputs": [],
   "source": []
  },
  {
   "cell_type": "markdown",
   "metadata": {},
   "source": [
    "#### Xử lý thuộc tính Shape"
   ]
  },
  {
   "cell_type": "code",
   "execution_count": 77,
   "metadata": {},
   "outputs": [
    {
     "data": {
      "text/plain": [
       "Irregular    431\n",
       "Round        224\n",
       "Oval         211\n",
       "Lobular       95\n",
       "Name: Shape, dtype: int64"
      ]
     },
     "execution_count": 77,
     "metadata": {},
     "output_type": "execute_result"
    }
   ],
   "source": [
    "df_data['Shape'].value_counts()"
   ]
  },
  {
   "cell_type": "code",
   "execution_count": 78,
   "metadata": {},
   "outputs": [
    {
     "data": {
      "text/plain": [
       "Irregular    0.448491\n",
       "Round        0.233091\n",
       "Oval         0.219563\n",
       "Lobular      0.098855\n",
       "Name: Shape, dtype: float64"
      ]
     },
     "execution_count": 78,
     "metadata": {},
     "output_type": "execute_result"
    }
   ],
   "source": [
    "df_data['Shape'].value_counts(normalize=True)"
   ]
  },
  {
   "cell_type": "markdown",
   "metadata": {},
   "source": [
    "**Thay thế các hình dạng của khối u thành các con số**\n",
    "- Hình Irregular: 0\n",
    "- Round       : 1\n",
    "- Oval        : 2\n",
    "- Lobular     : 3\n"
   ]
  },
  {
   "cell_type": "code",
   "execution_count": 79,
   "metadata": {},
   "outputs": [],
   "source": [
    "df_data.loc[(df_data['Shape'] == 'Irregular'), 'Shape'] = 0\n",
    "df_data.loc[(df_data['Shape'] == 'Round'), 'Shape'] = 1\n",
    "df_data.loc[(df_data['Shape'] == 'Oval'), 'Shape'] = 2\n",
    "df_data.loc[(df_data['Shape'] == 'Lobular'), 'Shape'] = 3"
   ]
  },
  {
   "cell_type": "code",
   "execution_count": 80,
   "metadata": {},
   "outputs": [
    {
     "data": {
      "text/html": [
       "<div>\n",
       "<style scoped>\n",
       "    .dataframe tbody tr th:only-of-type {\n",
       "        vertical-align: middle;\n",
       "    }\n",
       "\n",
       "    .dataframe tbody tr th {\n",
       "        vertical-align: top;\n",
       "    }\n",
       "\n",
       "    .dataframe thead th {\n",
       "        text-align: right;\n",
       "    }\n",
       "</style>\n",
       "<table border=\"1\" class=\"dataframe\">\n",
       "  <thead>\n",
       "    <tr style=\"text-align: right;\">\n",
       "      <th></th>\n",
       "      <th>Age</th>\n",
       "      <th>Weight</th>\n",
       "      <th>Shape</th>\n",
       "      <th>Margin</th>\n",
       "      <th>Density</th>\n",
       "      <th>Target</th>\n",
       "    </tr>\n",
       "  </thead>\n",
       "  <tbody>\n",
       "    <tr>\n",
       "      <th>0</th>\n",
       "      <td>1</td>\n",
       "      <td>46</td>\n",
       "      <td>3</td>\n",
       "      <td>2</td>\n",
       "      <td>Low</td>\n",
       "      <td>1</td>\n",
       "    </tr>\n",
       "    <tr>\n",
       "      <th>1</th>\n",
       "      <td>3</td>\n",
       "      <td>66</td>\n",
       "      <td>1</td>\n",
       "      <td>0</td>\n",
       "      <td>Low</td>\n",
       "      <td>1</td>\n",
       "    </tr>\n",
       "    <tr>\n",
       "      <th>2</th>\n",
       "      <td>2</td>\n",
       "      <td>80</td>\n",
       "      <td>0</td>\n",
       "      <td>2</td>\n",
       "      <td>Low</td>\n",
       "      <td>1</td>\n",
       "    </tr>\n",
       "    <tr>\n",
       "      <th>3</th>\n",
       "      <td>4</td>\n",
       "      <td>51</td>\n",
       "      <td>1</td>\n",
       "      <td>0</td>\n",
       "      <td>Low</td>\n",
       "      <td>0</td>\n",
       "    </tr>\n",
       "    <tr>\n",
       "      <th>4</th>\n",
       "      <td>1</td>\n",
       "      <td>46</td>\n",
       "      <td>1</td>\n",
       "      <td>2</td>\n",
       "      <td>Low</td>\n",
       "      <td>1</td>\n",
       "    </tr>\n",
       "    <tr>\n",
       "      <th>...</th>\n",
       "      <td>...</td>\n",
       "      <td>...</td>\n",
       "      <td>...</td>\n",
       "      <td>...</td>\n",
       "      <td>...</td>\n",
       "      <td>...</td>\n",
       "    </tr>\n",
       "    <tr>\n",
       "      <th>956</th>\n",
       "      <td>3</td>\n",
       "      <td>72</td>\n",
       "      <td>2</td>\n",
       "      <td>0</td>\n",
       "      <td>Low</td>\n",
       "      <td>0</td>\n",
       "    </tr>\n",
       "    <tr>\n",
       "      <th>957</th>\n",
       "      <td>2</td>\n",
       "      <td>64</td>\n",
       "      <td>0</td>\n",
       "      <td>2</td>\n",
       "      <td>Low</td>\n",
       "      <td>1</td>\n",
       "    </tr>\n",
       "    <tr>\n",
       "      <th>958</th>\n",
       "      <td>2</td>\n",
       "      <td>75</td>\n",
       "      <td>0</td>\n",
       "      <td>2</td>\n",
       "      <td>Low</td>\n",
       "      <td>0</td>\n",
       "    </tr>\n",
       "    <tr>\n",
       "      <th>959</th>\n",
       "      <td>1</td>\n",
       "      <td>56</td>\n",
       "      <td>0</td>\n",
       "      <td>2</td>\n",
       "      <td>Low</td>\n",
       "      <td>1</td>\n",
       "    </tr>\n",
       "    <tr>\n",
       "      <th>960</th>\n",
       "      <td>2</td>\n",
       "      <td>51</td>\n",
       "      <td>3</td>\n",
       "      <td>3</td>\n",
       "      <td>Low</td>\n",
       "      <td>0</td>\n",
       "    </tr>\n",
       "  </tbody>\n",
       "</table>\n",
       "<p>961 rows × 6 columns</p>\n",
       "</div>"
      ],
      "text/plain": [
       "     Age  Weight Shape Margin Density  Target\n",
       "0      1      46     3      2     Low       1\n",
       "1      3      66     1      0     Low       1\n",
       "2      2      80     0      2     Low       1\n",
       "3      4      51     1      0     Low       0\n",
       "4      1      46     1      2     Low       1\n",
       "..   ...     ...   ...    ...     ...     ...\n",
       "956    3      72     2      0     Low       0\n",
       "957    2      64     0      2     Low       1\n",
       "958    2      75     0      2     Low       0\n",
       "959    1      56     0      2     Low       1\n",
       "960    2      51     3      3     Low       0\n",
       "\n",
       "[961 rows x 6 columns]"
      ]
     },
     "execution_count": 80,
     "metadata": {},
     "output_type": "execute_result"
    }
   ],
   "source": [
    "df_data"
   ]
  },
  {
   "cell_type": "markdown",
   "metadata": {},
   "source": [
    "#### Xử lý thuộc tính Density"
   ]
  },
  {
   "cell_type": "code",
   "execution_count": 81,
   "metadata": {
    "scrolled": true
   },
   "outputs": [
    {
     "data": {
      "text/plain": [
       "Low               874\n",
       "Iso                59\n",
       "High               16\n",
       "Fat-containing     12\n",
       "Name: Density, dtype: int64"
      ]
     },
     "execution_count": 81,
     "metadata": {},
     "output_type": "execute_result"
    }
   ],
   "source": [
    "# Các giá trị của thuộc tính Density\n",
    "df_data['Density'].value_counts()"
   ]
  },
  {
   "cell_type": "code",
   "execution_count": 82,
   "metadata": {},
   "outputs": [
    {
     "data": {
      "text/plain": [
       "Low               0.909469\n",
       "Iso               0.061394\n",
       "High              0.016649\n",
       "Fat-containing    0.012487\n",
       "Name: Density, dtype: float64"
      ]
     },
     "execution_count": 82,
     "metadata": {},
     "output_type": "execute_result"
    }
   ],
   "source": [
    "# tỷ lệ % của các giá trị của thuộc tính Density\n",
    "df_data['Density'].value_counts(normalize=True)"
   ]
  },
  {
   "cell_type": "markdown",
   "metadata": {},
   "source": [
    "**Nhận xét**\n",
    "\n",
    "- ta thấy giá trị Low chiếm tỷ lệ cao nhất với 90.95%\n",
    "- giá trị Iso là 6.14% và \n",
    "- cuối cùng là Fat-containing và High chiếm tỷ lệ thấp nhất là 1.25% và 1.66%"
   ]
  },
  {
   "cell_type": "markdown",
   "metadata": {},
   "source": [
    "**Quy đổi các giá trị sang dạng số**\n",
    "\n",
    "- Low -> 0\n",
    "- Iso -> 1\n",
    "- High -> 2\n",
    "- Fat-containing -> 3"
   ]
  },
  {
   "cell_type": "code",
   "execution_count": 83,
   "metadata": {},
   "outputs": [],
   "source": [
    "df_data.loc[(df_data['Density'] == 'Low'), 'Density'] = 0\n",
    "df_data.loc[(df_data['Density'] == 'Iso'), 'Density'] = 1\n",
    "df_data.loc[(df_data['Density'] == 'High'), 'Density'] = 2\n",
    "df_data.loc[(df_data['Density'] == 'Fat-containing'), 'Density'] = 3"
   ]
  },
  {
   "cell_type": "code",
   "execution_count": 84,
   "metadata": {},
   "outputs": [
    {
     "data": {
      "text/html": [
       "<div>\n",
       "<style scoped>\n",
       "    .dataframe tbody tr th:only-of-type {\n",
       "        vertical-align: middle;\n",
       "    }\n",
       "\n",
       "    .dataframe tbody tr th {\n",
       "        vertical-align: top;\n",
       "    }\n",
       "\n",
       "    .dataframe thead th {\n",
       "        text-align: right;\n",
       "    }\n",
       "</style>\n",
       "<table border=\"1\" class=\"dataframe\">\n",
       "  <thead>\n",
       "    <tr style=\"text-align: right;\">\n",
       "      <th></th>\n",
       "      <th>Age</th>\n",
       "      <th>Weight</th>\n",
       "      <th>Shape</th>\n",
       "      <th>Margin</th>\n",
       "      <th>Density</th>\n",
       "      <th>Target</th>\n",
       "    </tr>\n",
       "  </thead>\n",
       "  <tbody>\n",
       "    <tr>\n",
       "      <th>0</th>\n",
       "      <td>1</td>\n",
       "      <td>46</td>\n",
       "      <td>3</td>\n",
       "      <td>2</td>\n",
       "      <td>0</td>\n",
       "      <td>1</td>\n",
       "    </tr>\n",
       "    <tr>\n",
       "      <th>1</th>\n",
       "      <td>3</td>\n",
       "      <td>66</td>\n",
       "      <td>1</td>\n",
       "      <td>0</td>\n",
       "      <td>0</td>\n",
       "      <td>1</td>\n",
       "    </tr>\n",
       "    <tr>\n",
       "      <th>2</th>\n",
       "      <td>2</td>\n",
       "      <td>80</td>\n",
       "      <td>0</td>\n",
       "      <td>2</td>\n",
       "      <td>0</td>\n",
       "      <td>1</td>\n",
       "    </tr>\n",
       "    <tr>\n",
       "      <th>3</th>\n",
       "      <td>4</td>\n",
       "      <td>51</td>\n",
       "      <td>1</td>\n",
       "      <td>0</td>\n",
       "      <td>0</td>\n",
       "      <td>0</td>\n",
       "    </tr>\n",
       "    <tr>\n",
       "      <th>4</th>\n",
       "      <td>1</td>\n",
       "      <td>46</td>\n",
       "      <td>1</td>\n",
       "      <td>2</td>\n",
       "      <td>0</td>\n",
       "      <td>1</td>\n",
       "    </tr>\n",
       "  </tbody>\n",
       "</table>\n",
       "</div>"
      ],
      "text/plain": [
       "   Age  Weight Shape Margin Density  Target\n",
       "0    1      46     3      2       0       1\n",
       "1    3      66     1      0       0       1\n",
       "2    2      80     0      2       0       1\n",
       "3    4      51     1      0       0       0\n",
       "4    1      46     1      2       0       1"
      ]
     },
     "execution_count": 84,
     "metadata": {},
     "output_type": "execute_result"
    }
   ],
   "source": [
    "df_data.head()"
   ]
  },
  {
   "cell_type": "code",
   "execution_count": null,
   "metadata": {},
   "outputs": [],
   "source": []
  },
  {
   "cell_type": "markdown",
   "metadata": {},
   "source": [
    "#### Xử lý thuộc tính weight"
   ]
  },
  {
   "cell_type": "code",
   "execution_count": 85,
   "metadata": {},
   "outputs": [
    {
     "data": {
      "text/html": [
       "<div>\n",
       "<style scoped>\n",
       "    .dataframe tbody tr th:only-of-type {\n",
       "        vertical-align: middle;\n",
       "    }\n",
       "\n",
       "    .dataframe tbody tr th {\n",
       "        vertical-align: top;\n",
       "    }\n",
       "\n",
       "    .dataframe thead th {\n",
       "        text-align: right;\n",
       "    }\n",
       "</style>\n",
       "<table border=\"1\" class=\"dataframe\">\n",
       "  <thead>\n",
       "    <tr style=\"text-align: right;\">\n",
       "      <th></th>\n",
       "      <th>WeightBand</th>\n",
       "      <th>Target</th>\n",
       "    </tr>\n",
       "  </thead>\n",
       "  <tbody>\n",
       "    <tr>\n",
       "      <th>0</th>\n",
       "      <td>(44.965, 52.0]</td>\n",
       "      <td>0.437209</td>\n",
       "    </tr>\n",
       "    <tr>\n",
       "      <th>1</th>\n",
       "      <td>(52.0, 59.0]</td>\n",
       "      <td>0.438503</td>\n",
       "    </tr>\n",
       "    <tr>\n",
       "      <th>2</th>\n",
       "      <td>(59.0, 66.0]</td>\n",
       "      <td>0.480663</td>\n",
       "    </tr>\n",
       "    <tr>\n",
       "      <th>3</th>\n",
       "      <td>(66.0, 73.0]</td>\n",
       "      <td>0.462366</td>\n",
       "    </tr>\n",
       "    <tr>\n",
       "      <th>4</th>\n",
       "      <td>(73.0, 80.0]</td>\n",
       "      <td>0.500000</td>\n",
       "    </tr>\n",
       "  </tbody>\n",
       "</table>\n",
       "</div>"
      ],
      "text/plain": [
       "       WeightBand    Target\n",
       "0  (44.965, 52.0]  0.437209\n",
       "1    (52.0, 59.0]  0.438503\n",
       "2    (59.0, 66.0]  0.480663\n",
       "3    (66.0, 73.0]  0.462366\n",
       "4    (73.0, 80.0]  0.500000"
      ]
     },
     "execution_count": 85,
     "metadata": {},
     "output_type": "execute_result"
    }
   ],
   "source": [
    "#Tính tỷ lệ bệnh nhân theo từng khoảng tuổi:\n",
    "n=5\n",
    "df_temp = df_data.copy()\n",
    "df_temp['WeightBand'] = pd.cut(df_temp['Weight'], n)\n",
    "df_temp[['WeightBand', 'Target']].groupby(['WeightBand'], as_index=False).mean().sort_values(by='WeightBand', ascending=True)"
   ]
  },
  {
   "cell_type": "markdown",
   "metadata": {},
   "source": [
    "**Thay thế cân nặng của bệnh nhân bằng khoảng mà cân nặng thuộc vào:**\n",
    "* Từ 45 --> 52 kg:   --> Weight = 0\n",
    "* Từ 52 --> 59 kg:   --> Weight = 1\n",
    "* Từ 59 --> 66 kg:   --> Weight = 2\n",
    "* Từ 66 --> 73 kg:   --> Weight = 3\n",
    "* Từ 73kg trở lên:   --> Weight = 4"
   ]
  },
  {
   "cell_type": "code",
   "execution_count": 86,
   "metadata": {},
   "outputs": [],
   "source": [
    "df_data.loc[(df_data['Weight'] > 45) & (df_data['Weight'] <= 52), 'Weight'] = 0\n",
    "df_data.loc[(df_data['Weight'] > 52) & (df_data['Weight'] <= 59), 'Weight'] = 1\n",
    "df_data.loc[(df_data['Weight'] > 59) & (df_data['Weight'] <= 66), 'Weight'] = 2\n",
    "df_data.loc[(df_data['Weight'] > 66) & (df_data['Weight'] <= 73), 'Weight'] = 3\n",
    "df_data.loc[(df_data['Weight'] > 73), 'Weight'] = 4"
   ]
  },
  {
   "cell_type": "code",
   "execution_count": 87,
   "metadata": {},
   "outputs": [
    {
     "data": {
      "text/html": [
       "<div>\n",
       "<style scoped>\n",
       "    .dataframe tbody tr th:only-of-type {\n",
       "        vertical-align: middle;\n",
       "    }\n",
       "\n",
       "    .dataframe tbody tr th {\n",
       "        vertical-align: top;\n",
       "    }\n",
       "\n",
       "    .dataframe thead th {\n",
       "        text-align: right;\n",
       "    }\n",
       "</style>\n",
       "<table border=\"1\" class=\"dataframe\">\n",
       "  <thead>\n",
       "    <tr style=\"text-align: right;\">\n",
       "      <th></th>\n",
       "      <th>Age</th>\n",
       "      <th>Weight</th>\n",
       "      <th>Shape</th>\n",
       "      <th>Margin</th>\n",
       "      <th>Density</th>\n",
       "      <th>Target</th>\n",
       "    </tr>\n",
       "  </thead>\n",
       "  <tbody>\n",
       "    <tr>\n",
       "      <th>0</th>\n",
       "      <td>1</td>\n",
       "      <td>0</td>\n",
       "      <td>3</td>\n",
       "      <td>2</td>\n",
       "      <td>0</td>\n",
       "      <td>1</td>\n",
       "    </tr>\n",
       "    <tr>\n",
       "      <th>1</th>\n",
       "      <td>3</td>\n",
       "      <td>2</td>\n",
       "      <td>1</td>\n",
       "      <td>0</td>\n",
       "      <td>0</td>\n",
       "      <td>1</td>\n",
       "    </tr>\n",
       "    <tr>\n",
       "      <th>2</th>\n",
       "      <td>2</td>\n",
       "      <td>4</td>\n",
       "      <td>0</td>\n",
       "      <td>2</td>\n",
       "      <td>0</td>\n",
       "      <td>1</td>\n",
       "    </tr>\n",
       "    <tr>\n",
       "      <th>3</th>\n",
       "      <td>4</td>\n",
       "      <td>0</td>\n",
       "      <td>1</td>\n",
       "      <td>0</td>\n",
       "      <td>0</td>\n",
       "      <td>0</td>\n",
       "    </tr>\n",
       "    <tr>\n",
       "      <th>4</th>\n",
       "      <td>1</td>\n",
       "      <td>0</td>\n",
       "      <td>1</td>\n",
       "      <td>2</td>\n",
       "      <td>0</td>\n",
       "      <td>1</td>\n",
       "    </tr>\n",
       "    <tr>\n",
       "      <th>...</th>\n",
       "      <td>...</td>\n",
       "      <td>...</td>\n",
       "      <td>...</td>\n",
       "      <td>...</td>\n",
       "      <td>...</td>\n",
       "      <td>...</td>\n",
       "    </tr>\n",
       "    <tr>\n",
       "      <th>956</th>\n",
       "      <td>3</td>\n",
       "      <td>3</td>\n",
       "      <td>2</td>\n",
       "      <td>0</td>\n",
       "      <td>0</td>\n",
       "      <td>0</td>\n",
       "    </tr>\n",
       "    <tr>\n",
       "      <th>957</th>\n",
       "      <td>2</td>\n",
       "      <td>2</td>\n",
       "      <td>0</td>\n",
       "      <td>2</td>\n",
       "      <td>0</td>\n",
       "      <td>1</td>\n",
       "    </tr>\n",
       "    <tr>\n",
       "      <th>958</th>\n",
       "      <td>2</td>\n",
       "      <td>4</td>\n",
       "      <td>0</td>\n",
       "      <td>2</td>\n",
       "      <td>0</td>\n",
       "      <td>0</td>\n",
       "    </tr>\n",
       "    <tr>\n",
       "      <th>959</th>\n",
       "      <td>1</td>\n",
       "      <td>1</td>\n",
       "      <td>0</td>\n",
       "      <td>2</td>\n",
       "      <td>0</td>\n",
       "      <td>1</td>\n",
       "    </tr>\n",
       "    <tr>\n",
       "      <th>960</th>\n",
       "      <td>2</td>\n",
       "      <td>0</td>\n",
       "      <td>3</td>\n",
       "      <td>3</td>\n",
       "      <td>0</td>\n",
       "      <td>0</td>\n",
       "    </tr>\n",
       "  </tbody>\n",
       "</table>\n",
       "<p>961 rows × 6 columns</p>\n",
       "</div>"
      ],
      "text/plain": [
       "     Age  Weight Shape Margin Density  Target\n",
       "0      1       0     3      2       0       1\n",
       "1      3       2     1      0       0       1\n",
       "2      2       4     0      2       0       1\n",
       "3      4       0     1      0       0       0\n",
       "4      1       0     1      2       0       1\n",
       "..   ...     ...   ...    ...     ...     ...\n",
       "956    3       3     2      0       0       0\n",
       "957    2       2     0      2       0       1\n",
       "958    2       4     0      2       0       0\n",
       "959    1       1     0      2       0       1\n",
       "960    2       0     3      3       0       0\n",
       "\n",
       "[961 rows x 6 columns]"
      ]
     },
     "execution_count": 87,
     "metadata": {},
     "output_type": "execute_result"
    }
   ],
   "source": [
    "df_data"
   ]
  },
  {
   "cell_type": "code",
   "execution_count": 88,
   "metadata": {},
   "outputs": [],
   "source": [
    "# nhiệm vụ là: xây dựng một mô hình học máy dự đoán ung thư vú"
   ]
  },
  {
   "cell_type": "code",
   "execution_count": 89,
   "metadata": {},
   "outputs": [],
   "source": [
    "# Ghi bản phân tích ra một file csv\n",
    "df_data.to_csv('Data_Practice4_ok.csv',index=None)\n"
   ]
  },
  {
   "cell_type": "code",
   "execution_count": 90,
   "metadata": {},
   "outputs": [],
   "source": [
    "#Gọi các thư viện sử dụng cho Project:\n",
    "# Data analysis and wrangling:\n",
    "import pandas as pd\n",
    "import numpy as np\n",
    "\n",
    "# visualization:\n",
    "import matplotlib.pyplot as plt\n",
    "%matplotlib inline\n",
    "#---------------------------------------\n",
    "import warnings\n",
    "warnings.filterwarnings('ignore')"
   ]
  },
  {
   "cell_type": "code",
   "execution_count": 91,
   "metadata": {},
   "outputs": [
    {
     "data": {
      "text/plain": [
       "Age  Weight  Shape  Margin  Density  Target\n",
       "2    0       1      0       0        0         17\n",
       "3    3       1      0       0        0         15\n",
       "2    4       2      0       0        0         14\n",
       "3    4       1      0       0        0         14\n",
       "1    0       0      1       0        1         13\n",
       "                                               ..\n",
       "2    1       0      0       1        0          1\n",
       "                            0        1          1\n",
       "     0       3      2       0        1          1\n",
       "                    1       3        0          1\n",
       "18   2       1      0       0        0          1\n",
       "Length: 379, dtype: int64"
      ]
     },
     "execution_count": 91,
     "metadata": {},
     "output_type": "execute_result"
    }
   ],
   "source": [
    "# Kiểm tra độ cân bằng của dữ liệu\n",
    "df_data.value_counts()"
   ]
  },
  {
   "cell_type": "code",
   "execution_count": 92,
   "metadata": {},
   "outputs": [
    {
     "name": "stdout",
     "output_type": "stream",
     "text": [
      "0    516\n",
      "1    445\n",
      "Name: Target, dtype: int64\n"
     ]
    },
    {
     "data": {
      "image/png": "[encoded data removed]",
      "text/plain": [
       "<Figure size 1000x500 with 2 Axes>"
      ]
     },
     "metadata": {},
     "output_type": "display_data"
    }
   ],
   "source": [
    "#Kiểm tra cân bằng dữ liệu\n",
    "check = df_data['Target'].value_counts()\n",
    "print(check)\n",
    "\n",
    "\n",
    "# trực quan hóa dữ liệu\n",
    "plt.figure(figsize=(10,5))\n",
    "plt.subplot(1,2,1)\n",
    "plt.bar(['0: U lành tính', '1: U ác tính'],\n",
    "       check.values)\n",
    "plt.grid('--')\n",
    "\n",
    "plt.subplot(1,2,2)\n",
    "plt.pie(check.values,\n",
    "       labels=['0: U lành tính', '1: U ác tính'],\n",
    "       autopct='%.1f%%')\n",
    "\n",
    "plt.show()"
   ]
  },
  {
   "cell_type": "markdown",
   "metadata": {},
   "source": [
    "**Nhận xét**\n",
    "\n",
    "- Tập dữ liệu khá cân bằng va lớp 0 (u lành tính) chiếm ưu thế hơn"
   ]
  },
  {
   "cell_type": "markdown",
   "metadata": {},
   "source": [
    "**Phân tách dữ liệu**\n",
    "- ta chia tập dữ liệu thành hai phần : Biến đầu vào X và nhãn dán y\n",
    "- ta có 6 thuộc tính trong đó: \n",
    "    - Biến đầu ra X có 5 thuộc tính độc lập là: Age, Weight, Shape, Margin, Density\n",
    "    - Nhãn dán y có 1 thuộc tính phụ thuộc target"
   ]
  },
  {
   "cell_type": "code",
   "execution_count": 93,
   "metadata": {},
   "outputs": [
    {
     "data": {
      "text/html": [
       "<div>\n",
       "<style scoped>\n",
       "    .dataframe tbody tr th:only-of-type {\n",
       "        vertical-align: middle;\n",
       "    }\n",
       "\n",
       "    .dataframe tbody tr th {\n",
       "        vertical-align: top;\n",
       "    }\n",
       "\n",
       "    .dataframe thead th {\n",
       "        text-align: right;\n",
       "    }\n",
       "</style>\n",
       "<table border=\"1\" class=\"dataframe\">\n",
       "  <thead>\n",
       "    <tr style=\"text-align: right;\">\n",
       "      <th></th>\n",
       "      <th>Age</th>\n",
       "      <th>Weight</th>\n",
       "      <th>Shape</th>\n",
       "      <th>Margin</th>\n",
       "      <th>Density</th>\n",
       "      <th>Target</th>\n",
       "    </tr>\n",
       "  </thead>\n",
       "  <tbody>\n",
       "    <tr>\n",
       "      <th>0</th>\n",
       "      <td>1</td>\n",
       "      <td>0</td>\n",
       "      <td>3</td>\n",
       "      <td>2</td>\n",
       "      <td>0</td>\n",
       "      <td>1</td>\n",
       "    </tr>\n",
       "    <tr>\n",
       "      <th>1</th>\n",
       "      <td>3</td>\n",
       "      <td>2</td>\n",
       "      <td>1</td>\n",
       "      <td>0</td>\n",
       "      <td>0</td>\n",
       "      <td>1</td>\n",
       "    </tr>\n",
       "    <tr>\n",
       "      <th>2</th>\n",
       "      <td>2</td>\n",
       "      <td>4</td>\n",
       "      <td>0</td>\n",
       "      <td>2</td>\n",
       "      <td>0</td>\n",
       "      <td>1</td>\n",
       "    </tr>\n",
       "    <tr>\n",
       "      <th>3</th>\n",
       "      <td>4</td>\n",
       "      <td>0</td>\n",
       "      <td>1</td>\n",
       "      <td>0</td>\n",
       "      <td>0</td>\n",
       "      <td>0</td>\n",
       "    </tr>\n",
       "    <tr>\n",
       "      <th>4</th>\n",
       "      <td>1</td>\n",
       "      <td>0</td>\n",
       "      <td>1</td>\n",
       "      <td>2</td>\n",
       "      <td>0</td>\n",
       "      <td>1</td>\n",
       "    </tr>\n",
       "  </tbody>\n",
       "</table>\n",
       "</div>"
      ],
      "text/plain": [
       "   Age  Weight Shape Margin Density  Target\n",
       "0    1       0     3      2       0       1\n",
       "1    3       2     1      0       0       1\n",
       "2    2       4     0      2       0       1\n",
       "3    4       0     1      0       0       0\n",
       "4    1       0     1      2       0       1"
      ]
     },
     "execution_count": 93,
     "metadata": {},
     "output_type": "execute_result"
    }
   ],
   "source": [
    "df_data.head()"
   ]
  },
  {
   "cell_type": "code",
   "execution_count": 94,
   "metadata": {},
   "outputs": [
    {
     "data": {
      "text/plain": [
       "array([[1, 0, 3, 2, 0],\n",
       "       [3, 2, 1, 0, 0],\n",
       "       [2, 4, 0, 2, 0],\n",
       "       ...,\n",
       "       [2, 4, 0, 2, 0],\n",
       "       [1, 1, 0, 2, 0],\n",
       "       [2, 0, 3, 3, 0]], dtype=object)"
      ]
     },
     "execution_count": 94,
     "metadata": {},
     "output_type": "execute_result"
    }
   ],
   "source": [
    "# tách biến độc lập hay đầu vào của mô hình\n",
    "X = df_data.loc[:,['Age', 'Weight', 'Shape', 'Margin', 'Density']].values\n",
    "X"
   ]
  },
  {
   "cell_type": "code",
   "execution_count": 95,
   "metadata": {},
   "outputs": [
    {
     "data": {
      "text/plain": [
       "(961, 5)"
      ]
     },
     "execution_count": 95,
     "metadata": {},
     "output_type": "execute_result"
    }
   ],
   "source": [
    "# kiểm tra biến có kích thước bao nhiêu\n",
    "X.shape"
   ]
  },
  {
   "cell_type": "code",
   "execution_count": 96,
   "metadata": {},
   "outputs": [
    {
     "data": {
      "text/plain": [
       "array([1, 1, 1, 0, 1, 0, 0, 0, 1, 1, 1, 1, 0, 0, 0, 0, 0, 1, 1, 0, 1, 1,\n",
       "       0, 1, 1, 1, 0, 0, 1, 0, 0, 1, 1, 0, 0, 0, 0, 1, 1, 0, 0, 0, 0, 0,\n",
       "       1, 1, 1, 0, 0, 1, 0, 1, 0, 0, 1, 0, 0, 0, 0, 1, 1, 1, 0, 0, 1, 0,\n",
       "       0, 1, 0, 0, 0, 1, 0, 1, 1, 0, 1, 0, 1, 0, 0, 1, 1, 0, 1, 0, 1, 0,\n",
       "       0, 1, 1, 1, 0, 1, 0, 1, 0, 0, 0, 0, 0, 0, 0, 0, 0, 0, 1, 0, 0, 1,\n",
       "       0, 1, 0, 0, 0, 0, 0, 0, 1, 0, 1, 0, 0, 0, 0, 0, 0, 0, 0, 1, 1, 1,\n",
       "       0, 0, 1, 1, 1, 1, 0, 1, 1, 0, 0, 0, 0, 1, 1, 1, 1, 0, 1, 1, 0, 0,\n",
       "       0, 0, 1, 0, 0, 1, 1, 0, 0, 0, 0, 1, 1, 0, 1, 1, 0, 0, 0, 0, 0, 1,\n",
       "       0, 0, 0, 1, 0, 0, 0, 0, 1, 1, 1, 0, 1, 1, 0, 1, 0, 1, 0, 1, 0, 1,\n",
       "       0, 0, 0, 0, 1, 0, 0, 1, 0, 1, 0, 0, 0, 0, 1, 1, 1, 0, 0, 0, 0, 0,\n",
       "       0, 0, 1, 1, 1, 0, 1, 0, 0, 0, 0, 1, 1, 0, 1, 0, 0, 0, 1, 0, 1, 0,\n",
       "       0, 0, 1, 0, 0, 1, 0, 0, 0, 1, 0, 1, 1, 0, 1, 1, 1, 1, 1, 0, 0, 0,\n",
       "       1, 0, 1, 0, 1, 1, 1, 1, 1, 0, 1, 0, 1, 0, 1, 0, 1, 0, 0, 1, 1, 1,\n",
       "       0, 0, 1, 0, 1, 0, 1, 1, 0, 1, 0, 1, 0, 1, 1, 0, 0, 0, 0, 0, 0, 0,\n",
       "       0, 0, 1, 1, 1, 1, 0, 1, 0, 0, 0, 1, 1, 1, 0, 1, 0, 0, 0, 0, 1, 1,\n",
       "       1, 0, 1, 1, 0, 1, 1, 1, 1, 0, 1, 1, 0, 0, 0, 1, 0, 1, 0, 0, 1, 1,\n",
       "       0, 0, 1, 0, 0, 1, 1, 0, 1, 1, 0, 1, 0, 0, 0, 1, 1, 1, 1, 0, 0, 0,\n",
       "       1, 1, 0, 1, 0, 1, 0, 1, 1, 0, 0, 1, 0, 0, 0, 0, 1, 1, 0, 0, 0, 1,\n",
       "       1, 0, 0, 1, 0, 1, 0, 1, 1, 1, 1, 0, 0, 1, 0, 1, 0, 1, 1, 1, 0, 1,\n",
       "       1, 1, 1, 0, 0, 0, 1, 0, 1, 0, 1, 1, 0, 1, 0, 1, 1, 1, 1, 1, 0, 1,\n",
       "       1, 1, 0, 1, 1, 1, 0, 0, 1, 1, 1, 0, 0, 1, 0, 0, 1, 1, 1, 0, 0, 0,\n",
       "       1, 0, 0, 0, 1, 1, 0, 1, 0, 1, 0, 0, 0, 0, 0, 0, 1, 0, 1, 0, 0, 0,\n",
       "       0, 0, 0, 1, 1, 0, 1, 1, 1, 1, 1, 1, 1, 0, 0, 1, 0, 1, 0, 0, 0, 0,\n",
       "       1, 1, 1, 1, 0, 0, 1, 1, 1, 0, 0, 1, 0, 0, 1, 1, 1, 0, 0, 1, 1, 1,\n",
       "       0, 1, 0, 0, 0, 0, 0, 1, 0, 1, 1, 0, 0, 0, 0, 1, 1, 0, 0, 1, 1, 1,\n",
       "       1, 0, 0, 0, 1, 0, 0, 1, 0, 1, 1, 0, 0, 0, 1, 1, 0, 0, 0, 1, 0, 0,\n",
       "       0, 0, 0, 1, 0, 0, 1, 0, 0, 0, 0, 1, 0, 0, 0, 0, 1, 1, 0, 1, 1, 0,\n",
       "       0, 0, 1, 0, 1, 1, 0, 1, 1, 1, 0, 1, 1, 0, 0, 1, 1, 1, 0, 1, 1, 0,\n",
       "       1, 0, 1, 0, 0, 0, 0, 1, 1, 0, 1, 0, 0, 0, 0, 0, 0, 1, 0, 1, 0, 0,\n",
       "       0, 1, 1, 0, 1, 0, 0, 0, 1, 0, 0, 1, 0, 1, 0, 1, 0, 1, 1, 0, 0, 1,\n",
       "       1, 0, 1, 1, 1, 0, 0, 0, 1, 0, 1, 1, 1, 1, 1, 1, 1, 1, 1, 0, 0, 0,\n",
       "       0, 1, 1, 1, 1, 1, 1, 1, 0, 0, 1, 1, 0, 0, 0, 1, 0, 1, 1, 1, 0, 1,\n",
       "       0, 1, 0, 0, 1, 0, 0, 0, 1, 1, 0, 0, 0, 1, 1, 0, 0, 0, 1, 0, 1, 0,\n",
       "       1, 1, 0, 0, 1, 1, 0, 0, 0, 0, 0, 1, 0, 0, 0, 0, 0, 0, 0, 0, 1, 0,\n",
       "       1, 0, 0, 0, 1, 1, 0, 0, 1, 1, 1, 1, 0, 1, 1, 1, 0, 1, 1, 0, 0, 1,\n",
       "       0, 0, 1, 0, 1, 0, 0, 0, 0, 0, 0, 0, 1, 1, 0, 1, 0, 1, 1, 0, 0, 1,\n",
       "       1, 0, 0, 1, 1, 1, 0, 1, 1, 1, 0, 0, 0, 1, 1, 0, 1, 0, 1, 1, 1, 0,\n",
       "       1, 0, 0, 0, 0, 0, 1, 0, 0, 1, 1, 0, 1, 1, 0, 1, 1, 0, 1, 1, 0, 1,\n",
       "       0, 1, 0, 0, 0, 0, 1, 0, 0, 0, 0, 0, 1, 0, 0, 1, 0, 0, 1, 0, 1, 0,\n",
       "       1, 1, 1, 1, 1, 1, 1, 0, 1, 0, 0, 0, 1, 0, 1, 1, 0, 0, 0, 0, 1, 0,\n",
       "       1, 1, 0, 1, 1, 1, 0, 1, 1, 1, 1, 1, 1, 0, 0, 1, 0, 1, 0, 1, 1, 1,\n",
       "       0, 1, 1, 0, 0, 1, 1, 0, 1, 0, 1, 0, 1, 0, 0, 1, 0, 0, 0, 1, 0, 1,\n",
       "       1, 0, 1, 0, 1, 0, 0, 1, 0, 0, 0, 1, 0, 0, 0, 0, 1, 0, 1, 0, 1, 0,\n",
       "       0, 0, 1, 0, 1, 1, 1, 0, 0, 1, 0, 1, 0, 1, 0], dtype=int64)"
      ]
     },
     "execution_count": 96,
     "metadata": {},
     "output_type": "execute_result"
    }
   ],
   "source": [
    "# lấy biến phụ thuôc - đầu ra của mô hình\n",
    "y = df_data.loc[:, 'Target'].values\n",
    "y"
   ]
  },
  {
   "cell_type": "code",
   "execution_count": 97,
   "metadata": {},
   "outputs": [
    {
     "data": {
      "text/plain": [
       "(961,)"
      ]
     },
     "execution_count": 97,
     "metadata": {},
     "output_type": "execute_result"
    }
   ],
   "source": [
    "# kích thước của biến phụ thuộc y\n",
    "y.shape"
   ]
  },
  {
   "cell_type": "markdown",
   "metadata": {},
   "source": [
    "###  Tách tập dữ liệu ra tập Training - Test: \n",
    "---\n",
    "1. Biến độc lập X --> X_train, X_test\n",
    "2. Biến phụ thuộc y --> y_train, y_test\n",
    "\n",
    "* Tập Training set (X_train, y_train): dùng để huấn luyện mô hình (80%)\n",
    "* Tập Test set (X_test, y_test): dùng để kiểm thử mô hình (20%)"
   ]
  },
  {
   "cell_type": "code",
   "execution_count": 98,
   "metadata": {},
   "outputs": [
    {
     "name": "stdout",
     "output_type": "stream",
     "text": [
      "Tổng số mấu trong dữ liệu:  961\n",
      "Số mẫu trong tập Train:  768\n",
      "Số mẫu trong tập Test:  193\n"
     ]
    }
   ],
   "source": [
    "#Gọi hàm tách dữ liệu train_test_split trong thư viện sklearn.model_selection:\n",
    "from sklearn.model_selection import train_test_split\n",
    "# thực hiện chia tỷ lệ  80:20\n",
    "X_train, X_test, y_train, y_test = train_test_split(X,y,\n",
    "                                                    # test_size=0.2 # kích thước tập test khai báo là 20%\n",
    "                                                   train_size=0.8, # kích thước tập train\n",
    "                                                   test_size=0.2,# kích thược tập test\n",
    "                                                   shuffle=True) \n",
    "\n",
    "print('Tổng số mấu trong dữ liệu: ', len(y))\n",
    "print('Số mẫu trong tập Train: ', len(y_train))\n",
    "print('Số mẫu trong tập Test: ', len(y_test))"
   ]
  },
  {
   "cell_type": "code",
   "execution_count": 99,
   "metadata": {},
   "outputs": [
    {
     "name": "stdout",
     "output_type": "stream",
     "text": [
      "[[3 3 0 1 0]\n",
      " [2 4 2 1 0]\n",
      " [3 1 1 0 0]\n",
      " ...\n",
      " [2 1 0 1 0]\n",
      " [4 4 1 0 0]\n",
      " [3 2 0 3 0]]\n",
      "Kích thước X_train:  (768, 5)\n"
     ]
    }
   ],
   "source": [
    "# Dữ liệu tập Train\n",
    "print(X_train)\n",
    "print('Kích thước X_train: ', X_train.shape)\n"
   ]
  },
  {
   "cell_type": "code",
   "execution_count": 100,
   "metadata": {},
   "outputs": [
    {
     "name": "stdout",
     "output_type": "stream",
     "text": [
      "Kích thước y_train:  (768,)\n",
      "[0 1 0 1 0 1 1 1 1 1 1 1 1 1 0 0 0 1 1 0 1 0 1 0 0 0 0 0 1 0 0 1 0 1 1 1 0\n",
      " 1 1 0 0 0 0 1 1 0 1 1 0 1 0 0 1 0 1 1 0 0 0 1 0 0 1 0 0 1 0 0 1 1 1 1 1 1\n",
      " 0 0 0 1 0 0 1 0 0 1 0 1 0 0 1 0 1 0 1 1 1 0 1 0 0 1 0 0 0 1 1 0 1 1 0 1 1\n",
      " 0 1 1 0 0 1 0 1 0 1 0 1 1 0 1 0 1 1 0 0 0 1 0 1 0 0 0 1 0 1 0 0 1 0 0 0 0\n",
      " 0 1 0 0 0 0 0 0 0 1 0 0 0 1 0 0 1 1 1 0 0 0 0 0 1 1 0 1 0 1 0 0 1 1 1 1 0\n",
      " 0 1 1 0 0 0 0 1 0 1 0 1 0 0 1 1 1 1 1 0 1 0 1 0 0 0 1 1 0 0 0 0 0 0 1 1 0\n",
      " 0 1 0 1 1 0 0 0 0 0 0 1 1 0 1 0 1 1 1 0 0 1 0 1 1 1 0 0 0 1 1 0 0 0 1 1 1\n",
      " 0 0 0 0 1 1 0 1 1 0 1 1 0 1 1 1 0 0 0 1 1 1 0 1 0 1 0 0 0 1 1 0 1 0 0 1 0\n",
      " 1 0 0 1 1 1 0 0 0 1 1 0 1 0 1 0 1 1 1 1 0 1 1 0 0 0 1 1 0 1 0 1 0 1 1 0 0\n",
      " 1 0 1 1 0 0 0 1 0 1 0 0 0 0 0 1 0 1 1 0 1 1 1 0 0 0 0 0 1 1 0 0 0 0 0 0 1\n",
      " 1 0 0 0 0 0 0 1 0 0 1 0 1 1 1 0 0 1 1 0 1 0 0 0 1 0 1 0 0 1 0 1 0 0 1 1 1\n",
      " 0 0 0 1 0 0 0 0 1 1 0 1 0 1 1 1 0 1 1 1 1 0 0 0 1 0 0 1 1 0 1 1 0 0 1 1 0\n",
      " 0 1 0 1 1 0 0 0 1 0 1 0 0 1 1 0 0 0 0 1 1 1 1 0 0 1 0 0 0 1 0 1 0 1 0 1 1\n",
      " 0 0 1 0 0 0 0 0 1 1 1 0 0 1 0 1 1 0 0 0 1 1 1 1 0 1 0 0 1 0 1 1 1 1 1 0 1\n",
      " 1 1 0 1 0 0 0 0 1 0 0 0 1 0 0 0 1 0 0 0 0 1 1 0 0 1 0 1 0 0 0 1 0 1 0 0 1\n",
      " 0 0 0 1 1 0 0 0 0 0 0 1 1 1 0 0 1 0 1 1 1 0 1 0 0 1 0 0 1 0 1 1 1 1 0 0 0\n",
      " 0 1 0 0 1 0 0 0 1 0 0 1 1 0 1 1 1 0 0 0 0 0 1 0 1 1 1 1 1 0 1 0 0 1 1 0 0\n",
      " 1 0 0 1 1 1 0 0 0 1 1 0 1 0 0 1 0 0 1 0 0 1 1 1 0 0 1 1 0 0 0 0 0 0 1 1 0\n",
      " 0 0 0 1 0 0 0 0 0 0 0 1 1 1 0 1 1 1 0 0 0 0 1 0 0 0 0 0 1 0 0 1 1 0 1 0 1\n",
      " 0 1 1 0 1 1 1 0 1 0 1 1 1 0 1 1 1 0 1 0 0 0 0 1 1 1 1 0 0 1 1 0 0 1 1 0 1\n",
      " 0 1 1 1 0 1 0 0 0 1 0 0 0 1 1 0 0 0 1 1 0 0 1 0 0 1 0 1]\n"
     ]
    }
   ],
   "source": [
    "print('Kích thước y_train: ', y_train.shape)\n",
    "print(y_train)\n",
    "\n"
   ]
  },
  {
   "cell_type": "code",
   "execution_count": 101,
   "metadata": {},
   "outputs": [
    {
     "name": "stdout",
     "output_type": "stream",
     "text": [
      "[[3 3 0 1 0]\n",
      " [2 4 2 1 0]\n",
      " [3 1 1 0 0]\n",
      " ...\n",
      " [2 1 0 1 0]\n",
      " [4 4 1 0 0]\n",
      " [3 2 0 3 0]]\n",
      "Kích thước X_test:  (193, 5)\n"
     ]
    }
   ],
   "source": [
    "# Dữ liệu tập Test\n",
    "print(X_train)\n",
    "print('Kích thước X_test: ', X_test.shape)\n"
   ]
  },
  {
   "cell_type": "code",
   "execution_count": 102,
   "metadata": {},
   "outputs": [
    {
     "name": "stdout",
     "output_type": "stream",
     "text": [
      "Kích thước y_test:  (193,)\n",
      "[1 0 0 0 0 0 0 1 1 1 1 0 0 1 0 0 0 1 0 1 1 0 1 1 0 0 0 0 0 0 1 1 1 1 1 0 0\n",
      " 0 1 0 0 1 1 1 0 1 0 1 0 1 1 0 0 1 1 1 0 0 0 1 0 0 1 1 1 1 0 1 0 0 0 0 0 1\n",
      " 0 1 0 1 1 0 0 1 1 1 1 1 0 1 1 1 0 0 1 0 1 0 0 0 0 1 0 1 0 0 0 1 1 0 0 1 0\n",
      " 0 0 0 1 0 0 1 0 1 0 0 0 1 1 1 0 1 1 0 0 0 0 0 1 1 1 0 1 1 0 1 0 1 1 1 0 1\n",
      " 0 0 1 1 1 1 0 0 0 1 1 0 1 0 0 0 0 1 1 1 0 1 1 1 1 1 0 1 1 1 0 0 0 1 0 0 1\n",
      " 0 0 1 1 1 0 1 1]\n"
     ]
    }
   ],
   "source": [
    "print('Kích thước y_test: ', y_test.shape)\n",
    "print(y_test)\n",
    "\n"
   ]
  },
  {
   "cell_type": "markdown",
   "metadata": {},
   "source": [
    "### Xây dựng bài toán Decision Tree cho bài toán phân lớp\n",
    "\n",
    "---\n",
    "\n",
    "Khai báo model Decision Tree sử dụng thư viện sklearn"
   ]
  },
  {
   "cell_type": "code",
   "execution_count": null,
   "metadata": {},
   "outputs": [],
   "source": [
    "#Gọi thư viên thuật toán DecisionTree\n",
    "from sklearn.tree import DecisionTreeClassifier\n",
    "# Khgai báo mô hình : sử dụng các tham số mặc định của mô hình\n",
    "Tree_iris = DecisionTreeClassifier() \n",
    "\n",
    "#Danh sách các tham số của mô hình\n",
    "Tree_iris.get_params()"
   ]
  },
  {
   "cell_type": "code",
   "execution_count": null,
   "metadata": {},
   "outputs": [],
   "source": []
  },
  {
   "cell_type": "code",
   "execution_count": null,
   "metadata": {},
   "outputs": [],
   "source": []
  },
  {
   "cell_type": "code",
   "execution_count": null,
   "metadata": {},
   "outputs": [],
   "source": []
  },
  {
   "cell_type": "code",
   "execution_count": null,
   "metadata": {},
   "outputs": [],
   "source": []
  },
  {
   "cell_type": "code",
   "execution_count": null,
   "metadata": {},
   "outputs": [],
   "source": []
  },
  {
   "cell_type": "markdown",
   "metadata": {},
   "source": [
    "### Huấn luyện mô hình\n"
   ]
  },
  {
   "cell_type": "markdown",
   "metadata": {},
   "source": [
    "### Đánh giá độ chính xác của mô hình trên tập test"
   ]
  },
  {
   "cell_type": "markdown",
   "metadata": {},
   "source": [
    "### Sử dụng Confusion matrix kiểm tra độ chính xác của model\n"
   ]
  },
  {
   "cell_type": "markdown",
   "metadata": {},
   "source": [
    "**NHẬN XÉT:**\n",
    "\n",
    "---\n",
    "- Mô hình rơi vào trạng thai underfitting (Độ chính xác thấp và nghiêng về lớp 0 cao hơn)\n",
    "- Sử dụng các biện pháp để nâng cao độ chính xác: \n",
    "    *\n"
   ]
  },
  {
   "cell_type": "markdown",
   "metadata": {},
   "source": [
    "### Sử dụng mô hình "
   ]
  },
  {
   "cell_type": "markdown",
   "metadata": {},
   "source": [
    "**Thuộc tính Age**\n",
    "* Từ 80 --> 96 tuổi:   --> Age = 0\n",
    "* Từ 65 --> 80 tuổi:   --> Age = 1\n",
    "* Từ 49 --> 65 tuổi:   --> Age = 2\n",
    "* Từ 34 --> 49 tuổi:   --> Age = 3\n",
    "* Từ 18 --> 34 tuổi:   --> Age = 4\n",
    "---\n",
    "**Thuộc tính Weight**\n",
    "* Từ 45 --> 52 kg:   --> Weight = 0\n",
    "* Từ 52 --> 59 kg:   --> Weight = 1\n",
    "* Từ 59 --> 66 kg:   --> Weight = 2\n",
    "* Từ 66 --> 73 kg:   --> Weight = 3\n",
    "* Từ 73kg trở lên:   --> Weight = 4\n",
    "---\n",
    "**Thuộc tính Margin**\n",
    "- Hình Circumscribed: 0\n",
    "- ill-defined       : 1\n",
    "- Spiculated        : 2\n",
    "- Obscured          : 3\n",
    "- Microlobulated    : 4\n",
    "---\n",
    "**Thuộc tính Shape**\n",
    "- Hình Irregular: 0\n",
    "- Round: 1\n",
    "- Oval : 2\n",
    "- Lobular : 3\n",
    "\n",
    "---\n",
    "**Thuộc tính Density**\n",
    "- Low -> 0\n",
    "- Iso -> 1\n",
    "- High -> 2\n",
    "- Fat-containing -> 3\n",
    "---\n"
   ]
  }
 ],
 "metadata": {
  "colab": {
   "collapsed_sections": [
    "tv__XfRLHtBf",
    "Wx9ciaKgyTW5",
    "M7iLGnc4WMs3",
    "Mw03rdzH9GnV",
    "Q3teCO6P_PFX",
    "xuLa3WmifOb0",
    "5dVTHDxJv5JW"
   ],
   "name": "Project2_TitanicDisaster",
   "provenance": [],
   "toc_visible": true
  },
  "kernelspec": {
   "display_name": "Python 3 (ipykernel)",
   "language": "python",
   "name": "python3"
  },
  "language_info": {
   "codemirror_mode": {
    "name": "ipython",
    "version": 3
   },
   "file_extension": ".py",
   "mimetype": "text/x-python",
   "name": "python",
   "nbconvert_exporter": "python",
   "pygments_lexer": "ipython3",
   "version": "3.10.9"
  }
 },
 "nbformat": 4,
 "nbformat_minor": 1
}
