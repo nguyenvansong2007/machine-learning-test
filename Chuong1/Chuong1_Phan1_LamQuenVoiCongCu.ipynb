{
 "cells": [
  {
   "cell_type": "markdown",
   "id": "f275d358",
   "metadata": {},
   "source": [
    "<center>\n",
    "    <h2>CHƯƠNG 1: TỔNG QUAN VỀ HỌC MÁY</h2>\n",
    "</center>\n",
    "\n",
    "**NỘI DUNG BÀI HỌC**\n",
    "1. Trí tuệ nhân tạo (AI)\n",
    "2. Học máy (ML)\n",
    "3. Lịch sử và ứng dụng học máy\n",
    "4. Các thuật toán học máy\n",
    "    * Học có giám sát\n",
    "    * Học không giám sát\n",
    "    * Học bán giám sát\n",
    "    * Học củng cố\n",
    "5. các kiến thức liên quan đến học máy\n",
    "6. Chuẩn bị công cụ và cài đặt môi trường\n",
    "\n",
    "<img src=\"Pic/Logo_Truong_Dai_hoc_Mo_-_Dia_chat.jpg\" width='500px'></img>\n",
    "----\n",
    "***copyright: Nguyễn Văn Sông --- 2121050720***"
   ]
  },
  {
   "cell_type": "markdown",
   "id": "f42baa7c",
   "metadata": {},
   "source": [
    "# 6. CHUẨN BỊ CÔNG CỤ\n",
    "#### 6.1 Kiểm tra bộ công cụ dịch python"
   ]
  },
  {
   "cell_type": "code",
   "execution_count": 4,
   "id": "c8e592fc",
   "metadata": {},
   "outputs": [
    {
     "name": "stdout",
     "output_type": "stream",
     "text": [
      "1 Mọi thứ lớn lao đều bắt đầu từ những điều nhỏ bé!!!\n",
      "2 Mọi thứ lớn lao đều bắt đầu từ những điều nhỏ bé!!!\n",
      "3 Mọi thứ lớn lao đều bắt đầu từ những điều nhỏ bé!!!\n",
      "4 Mọi thứ lớn lao đều bắt đầu từ những điều nhỏ bé!!!\n",
      "5 Mọi thứ lớn lao đều bắt đầu từ những điều nhỏ bé!!!\n",
      "6 Mọi thứ lớn lao đều bắt đầu từ những điều nhỏ bé!!!\n",
      "7 Mọi thứ lớn lao đều bắt đầu từ những điều nhỏ bé!!!\n",
      "8 Mọi thứ lớn lao đều bắt đầu từ những điều nhỏ bé!!!\n",
      "9 Mọi thứ lớn lao đều bắt đầu từ những điều nhỏ bé!!!\n",
      "10 Mọi thứ lớn lao đều bắt đầu từ những điều nhỏ bé!!!\n"
     ]
    }
   ],
   "source": [
    "for i in range(1, 11):\n",
    "    print(i,\"Mọi thứ lớn lao đều bắt đầu từ những điều nhỏ bé!!!\")"
   ]
  },
  {
   "cell_type": "code",
   "execution_count": 2,
   "id": "43b243eb",
   "metadata": {},
   "outputs": [
    {
     "name": "stdout",
     "output_type": "stream",
     "text": [
      "Chào mừng bạn đến với môn học máy - 7080510\n"
     ]
    }
   ],
   "source": [
    "print(\"Chào mừng bạn đến với môn học máy - 7080510\")"
   ]
  },
  {
   "cell_type": "markdown",
   "id": "989f1a5a",
   "metadata": {},
   "source": [
    "yêu cầu: Nhập vào hai số nguyên a và b (<100) liệt kê tất cả các số trong khoảng từ 1 - 100 chia hết cho a thỏa mãn điều kiện và không chia hết cho b"
   ]
  },
  {
   "cell_type": "code",
   "execution_count": 10,
   "id": "89810c59",
   "metadata": {},
   "outputs": [
    {
     "name": "stdout",
     "output_type": "stream",
     "text": [
      "2 \n",
      "4\n",
      "2\n",
      "6\n",
      "10\n",
      "14\n",
      "18\n",
      "22\n",
      "26\n",
      "30\n",
      "34\n",
      "38\n",
      "42\n",
      "46\n",
      "50\n",
      "54\n",
      "58\n",
      "62\n",
      "66\n",
      "70\n",
      "74\n",
      "78\n",
      "82\n",
      "86\n",
      "90\n",
      "94\n",
      "98\n"
     ]
    }
   ],
   "source": [
    "a = int(input())\n",
    "b = int(input())\n",
    "for i in range (1,100):\n",
    "    if (i % a == 0 and i % b != 0):\n",
    "        print(i)"
   ]
  },
  {
   "cell_type": "markdown",
   "id": "26da2bdf",
   "metadata": {},
   "source": [
    "<h2>6.2 Kiểm tra các thư viên quan trọng</h2>"
   ]
  },
  {
   "cell_type": "code",
   "execution_count": 11,
   "id": "ba04fc0c",
   "metadata": {},
   "outputs": [
    {
     "name": "stdout",
     "output_type": "stream",
     "text": [
      "Vesion numpy:  1.23.5\n"
     ]
    }
   ],
   "source": [
    "# kiểm tra thư viện numpy\n",
    "import numpy as np\n",
    "print('Version numpy: ', np.__version__)"
   ]
  },
  {
   "cell_type": "code",
   "execution_count": 12,
   "id": "a479e6d4",
   "metadata": {},
   "outputs": [
    {
     "name": "stdout",
     "output_type": "stream",
     "text": [
      "Vesion pandas:  1.5.3\n"
     ]
    }
   ],
   "source": [
    "# kiểm tra thư viện numpy\n",
    "import pandas as pd\n",
    "print('Version pandas: ', pd.__version__)"
   ]
  },
  {
   "cell_type": "code",
   "execution_count": 13,
   "id": "d7833e47",
   "metadata": {},
   "outputs": [
    {
     "name": "stdout",
     "output_type": "stream",
     "text": [
      "Vesion matplotlib:  3.7.0\n"
     ]
    }
   ],
   "source": [
    "# kiểm tra thư viện numpy\n",
    "import matplotlib as mpl\n",
    "print('Version matplotlib: ', mpl.__version__)"
   ]
  },
  {
   "cell_type": "code",
   "execution_count": 14,
   "id": "bbfc3958",
   "metadata": {},
   "outputs": [
    {
     "name": "stdout",
     "output_type": "stream",
     "text": [
      "Vesion sklearn:  1.2.1\n"
     ]
    }
   ],
   "source": [
    "# kiểm tra thư viện numpy\n",
    "import sklearn as sk\n",
    "print('Version sklearn: ', sk.__version__)"
   ]
  }
 ],
 "metadata": {
  "kernelspec": {
   "display_name": "Python 3 (ipykernel)",
   "language": "python",
   "name": "python3"
  },
  "language_info": {
   "codemirror_mode": {
    "name": "ipython",
    "version": 3
   },
   "file_extension": ".py",
   "mimetype": "text/x-python",
   "name": "python",
   "nbconvert_exporter": "python",
   "pygments_lexer": "ipython3",
   "version": "3.10.9"
  }
 },
 "nbformat": 4,
 "nbformat_minor": 5
}
