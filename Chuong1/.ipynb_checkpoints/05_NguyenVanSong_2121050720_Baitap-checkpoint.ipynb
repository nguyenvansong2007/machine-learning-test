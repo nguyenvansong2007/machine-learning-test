{
 "cells": [
  {
   "cell_type": "markdown",
   "id": "d81dc49b",
   "metadata": {},
   "source": [
    "<h2>BAI TAP MON HOC</h2>\n",
    "\n",
    "----\n",
    "THONG TIN SINH VIEN\n",
    "1. Nguyen Van Song\n",
    "2. 2121050720\n",
    "3. DCCTCT66-07A\n",
    "--- \n",
    "YEU CAU\n"
   ]
  }
 ],
 "metadata": {
  "kernelspec": {
   "display_name": "Python 3 (ipykernel)",
   "language": "python",
   "name": "python3"
  },
  "language_info": {
   "codemirror_mode": {
    "name": "ipython",
    "version": 3
   },
   "file_extension": ".py",
   "mimetype": "text/x-python",
   "name": "python",
   "nbconvert_exporter": "python",
   "pygments_lexer": "ipython3",
   "version": "3.10.9"
  }
 },
 "nbformat": 4,
 "nbformat_minor": 5
}
